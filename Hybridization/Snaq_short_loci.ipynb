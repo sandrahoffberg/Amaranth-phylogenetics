{
 "cells": [
  {
   "cell_type": "markdown",
   "metadata": {},
   "source": [
    "# Snaq with many taxa and window sizes of 500MB and 250MB\n",
    "Last run Sept 25, 2020 <br>"
   ]
  },
  {
   "cell_type": "code",
   "execution_count": 1,
   "metadata": {},
   "outputs": [
    {
     "name": "stdout",
     "output_type": "stream",
     "text": [
      "ipyrad 0.9.57\n"
     ]
    }
   ],
   "source": [
    "import ipyrad as ip\n",
    "import ipyrad.analysis as ipa\n",
    "#import ipyparallel as ipp\n",
    "import toytree\n",
    "import pandas as pd\n",
    "import toyplot.svg\n",
    "\n",
    "# connect to parallel client\n",
    "#ipyclient = ipp.Client()\n",
    "#ip.cluster_info(ipyclient)\n",
    "\n",
    "print('ipyrad', ipa.__version__)"
   ]
  },
  {
   "cell_type": "markdown",
   "metadata": {},
   "source": [
    "Since snaq can only take a few taxa, I will have to run treeslider again. I am trying to run as many species as possible, but not beet  "
   ]
  },
  {
   "cell_type": "code",
   "execution_count": 2,
   "metadata": {},
   "outputs": [],
   "source": [
    "#input data\n",
    "data = \"/rigel/dsi/users/slh2181/tuberculatus_plate/ipyrad/Good_samp_beet_noMaxSNP_outfiles/Good_samp_beet_noMaxSNP.seqs.hdf5\"\n",
    "#set output directory\n",
    "outDIR = \"/rigel/dsi/users/slh2181/tuberculatus_plate/fimbriatus/snaq/\""
   ]
  },
  {
   "cell_type": "code",
   "execution_count": 3,
   "metadata": {},
   "outputs": [],
   "source": [
    "imap={\n",
    " #    \"acanthochiton\": [\"acanthochiton_SLH_AL_0001\",\"acanthochiton_SLH_AL_0002\"],\n",
    "      \"acutilobus\": [\"acutilobus_SLH_AL_0003\",\"acutilobus_SLH_AL_0004\"],\n",
    "      \"albus\": [\"albus_SLH_AL_0006\", \"albus_SLH_AL_0009\", \"albus_SLH_AL_0010\"],\n",
    "      \"arenicola\": [\"arenicola_SLH_AL_0013\",\"arenicola_SLH_AL_0018\",\"arenicola_SLH_AL_0012\",\"arenicola_SLH_AL_0015\"],\n",
    "  #    \"asplundii\": [\"asplundii_SLH_AL_0019\"],\n",
    "  #    \"australis\": [\"australis_SLH_AL_0020\",\"australis_SLH_AL_0021\"],\n",
    "      \"blitoides\": [\"blitoides_SLH_AL_0028\"], #\"blitoides_SLH_AL_0023\",\n",
    "      \"blitum\": [\"blitum-blitum_SLH_AL_0029\", \"blitum-oleraceus_SLH_AL_0034\", \"blitum-pseudogracilis_SLH_AL_0037\"],\n",
    " #     \"californicus\": [\"californicus_SLH_AL_0039\"],\n",
    "      \"cannabinus\": [\"cannabinus_SLH_AL_0040\", \"cannabinus_SLH_AL_0041\"], #\"cannabinus_SLH_AL_0042\"],\n",
    "      \"caudatus\": [\"caudatus_SLH_AL_0102\",\"caudatus_SLH_AL_0110\",\"caudatus_SLH_AL_0116\",\"caudatus_SLH_AL_0322\",\"caudatus_SLH_AL_0540\"],\n",
    " #     \"crassipes\": [\"crassipes_SLH_AL_0599\",\"crassipes_SLH_AL_0600\"],\n",
    "      \"cruentus\": [\"cruentus_SLH_AL_0679\", \"cruentus_SLH_AL_0699\", \"cruentus_SLH_AL_0728\", \"cruentus_SLH_AL_0804\", \n",
    "                   \"cruentus_SLH_AL_0832\", \"hybridus_SLH_AL_1060\", \"hybridus_SLH_AL_1098\",],\n",
    "  #    \"deflexus\": [\"deflexus_SLH_AL_0951\",\"deflexus_SLH_AL_0952\", \"deflexus_SLH_AL_0955\",\"deflexus_SLH_AL_0953\",\"deflexus_SLH_AL_0954\"],\n",
    "      \"dubius\": [\"dubius_SLH_AL_0965\",\"dubius_SLH_AL_0979\",\"dubius_SLH_AL_0992\"],\n",
    "      \"fimbriatus\": [\"fimbriatus_SLH_AL_0998\"], #\"fimbriatus_SLH_AL_0997\", \n",
    "  #    \"floridanus\": [\"floridanus_SLH_AL_1000\"],\n",
    "  #    \"graecizans\": [\"graecizans-aschersonianus_SLH_AL_1009\", \"graecizans-silvestris_SLH_AL_1013\", \"graecizans-thellungianus_SLH_AL_1014\"],\n",
    "  #    \"greggii\": [\"greggii_SLH_AL_1015\", \"greggii_SLH_AL_1016\"],\n",
    "      \"hybridus\": [\"hybridus_SLH_AL_0001-restricted\", \"hybridus_SLH_AL_1117\"], # \"hybridus_SLH_AL_1099\", \n",
    "      \"hypochondriacus\": [\"hypochondriacus_SLH_AL_1178\", \"hypochondriacus_SLH_AL_1197\", \"hypochondriacus_SLH_AL_1264\", \"hypochondriacus_SLH_AL_1285\",\"hypochondriacus_SLH_AL_2282\", \"hypochondriacus_SLH_AL_2436\"],\n",
    "  #    \"muricatus\": [\"muricatus_SLH_AL_2634\"],\n",
    "      \"palmeri\": [\"palmeri-aff_SLH_AL_0017\", \"palmeri_SLH_AL_2637\", \"palmeri_SLH_AL_2644\", \"palmeri_SLH_AL_2647\", \"palmeri_SLH_AL_2649\", \"palmeri_SLH_AL_2650\",\n",
    "                  \"palmeri_SLH_AL_2635\",\"palmeri_SLH_AL_2636\",\"palmeri_SLH_AL_2638\",\"palmeri_SLH_AL_2639\",\"palmeri_SLH_AL_2640\",\"palmeri_SLH_AL_2641\",\"palmeri_SLH_AL_2642\",\"palmeri_SLH_AL_2643\",\"palmeri_SLH_AL_2645\",\"palmeri_SLH_AL_2646\",\n",
    "                  \"palmeri_SLH_AL_159-contemp\",\"palmeri_SLH_AL_163-contemp\",\"palmeri_SLH_AL_173-contemp\",\"palmeri_SLH_AL_174-contemp\",\"palmeri_SLH_AL_235-contemp\"],\n",
    "      \"powellii\": [\"powellii-bouchonii_SLH_AL_2653\", \"powellii-powellii_SLH_AL_2663\", \"powellii-powellii_SLH_AL_2665\"],\n",
    "      \"pumilus\": [\"pumilus_SLH_AL_5-restricted\",\"pumilus_SLH_AL_7-restricted\"],\n",
    "      \"quitensis\": [\"quitensis_SLH_AL_2671\", \"quitensis_SLH_AL_2675\",\"quitensis_SLH_AL_2753\"],\n",
    "      \"retroflexus\": [\"retroflexus_SLH_AL_2770\", \"retroflexus_SLH_AL_2773\", \"retroflexus_SLH_AL_2780\"],\n",
    "      \"spinosus\": [\"spinosus_SLH_AL_2792\", \"spinosus_SLH_AL_2793\", \"spinosus_SLH_AL_2806\", \"spinosus_SLH_AL_2809\", \"spinosus_SLH_AL_2811\"],\n",
    "   #   \"standleyanus\": [\"standleyanus_SLH_AL_2815\",\"standleyanus_SLH_AL_2816\"],\n",
    "  #    \"tamaulipensis\": [\"tamaulipensis_SLH_AL_2817\"],\n",
    "  #    \"torreyi\": [\"torreyi_SLH_AL_2818\"],\n",
    "      \"tricolor\": [\"tricolor_SLH_AL_2869\", \"tricolor_SLH_AL_2940\", \"tricolor_SLH_AL_2953\", \"tricolor_SLH_AL_2978\"],\n",
    "      \"tuberculatus\": [\"tuberculatus_SLH_AL_0009-restricted\", \"tuberculatus_SLH_AL_3003\", \"tuberculatus_SLH_AL_3017\", \"tuberculatus_SLH_AL_3027\", \"tuberculatus_SLH_AL_3045\",\n",
    "                        \"tuberculatus_SLH_AL_2999\",\"tuberculatus_SLH_AL_3000\",\"tuberculatus_SLH_AL_3001\",\"tuberculatus_SLH_AL_3002\",\"tuberculatus_SLH_AL_3004\",\"tuberculatus_SLH_AL_3005\",\n",
    "                        \"tuberculatus_SLH_AL_3006\",\"tuberculatus_SLH_AL_3007\",\"tuberculatus_SLH_AL_3008\",\"tuberculatus_SLH_AL_3009\",\"tuberculatus_SLH_AL_3010\",\n",
    "                        \"tuberculatus_SLH_AL_3011\",\"tuberculatus_SLH_AL_3012\",\"tuberculatus_SLH_AL_3013\",\"tuberculatus_SLH_AL_3014\",\"tuberculatus_SLH_AL_3015\",\n",
    "                        \"tuberculatus_SLH_AL_3016\",\"tuberculatus_SLH_AL_3018\",\"tuberculatus_SLH_AL_3019\",\"tuberculatus_SLH_AL_3020\",\"tuberculatus_SLH_AL_3021\",\n",
    "                        \"tuberculatus_SLH_AL_3022\",\"tuberculatus_SLH_AL_3023\",\"tuberculatus_SLH_AL_3024\",\"tuberculatus_SLH_AL_3025\",\"tuberculatus_SLH_AL_3026\",\n",
    "                        \"tuberculatus_SLH_AL_3028\",\"tuberculatus_SLH_AL_3029\",\"tuberculatus_SLH_AL_3030\",\"tuberculatus_SLH_AL_3031\",\"tuberculatus_SLH_AL_3032\",\n",
    "                        \"tuberculatus_SLH_AL_3033\",\"tuberculatus_SLH_AL_3034\",\"tuberculatus_SLH_AL_3035\",\"tuberculatus_SLH_AL_3036\",#\"tuberculatus_SLH_AL_3037\",\n",
    "                        \"tuberculatus_SLH_AL_3038\",\"tuberculatus_SLH_AL_3039\",\"tuberculatus_SLH_AL_3041\",\"tuberculatus_SLH_AL_3042\",\"tuberculatus_SLH_AL_3043\",\n",
    "                        \"tuberculatus_SLH_AL_3044\",\"tuberculatus_SLH_AL_3046\",\"tuberculatus_SLH_AL_154-contemp\",\"tuberculatus_SLH_AL_155-contemp\",\n",
    "                        \"tuberculatus_SLH_AL_156-contemp\",\"tuberculatus_SLH_AL_157-contemp\",\"tuberculatus_SLH_AL_160-contemp\",\"tuberculatus_SLH_AL_165-contemp\",\n",
    "                        \"tuberculatus_SLH_AL_169-contemp\",\"tuberculatus_SLH_AL_175-contemp\",\"tuberculatus_SLH_AL_176-contemp\",\"tuberculatus_SLH_AL_202-contemp\",\n",
    "                        \"tuberculatus_SLH_AL_206-contemp\",\"tuberculatus_SLH_AL_208-contemp\",\"tuberculatus_SLH_AL_236-contemp\",\"tuberculatus_SLH_AL_237-contemp\"],\n",
    "    #    \"tucsonensis\": [\"tucsonensis_SLH_AL_3068\"],\n",
    "        \"viridis\": [\"viridis_SLH_AL_3047\", \"viridis_SLH_AL_3062\"],\n",
    "        \"watsonii\": [\"watsonii_SLH_AL_3065\"],\n",
    "        \"wrightii\": [\"wrightii_SLH_AL_3066\", \"wrightii_SLH_AL_3067\"],    \n",
    "    #  \"beet\":[\"beet\"],\n",
    "     }"
   ]
  },
  {
   "cell_type": "code",
   "execution_count": 4,
   "metadata": {},
   "outputs": [],
   "source": [
    "#run RAxML on \"genes\" that are 1M bp long in treeslider\n",
    "ts = ipa.treeslider(\n",
    "        name='fimb_fixed_500kb_23spp',  #this name can't end in _2\n",
    "        data=data,\n",
    "        workdir=outDIR,\n",
    "        scaffold_idxs=range(16),\n",
    "        window_size=500000,\n",
    "        slide_size= 500000,  \n",
    "        inference_method=\"raxml\",  #options are raxml and mrbayes\n",
    "      #  inference_args={\"N\": 100, \"T\": 24}, #number of bootstraps and # cores\n",
    "        consensus_reduce=True, # this tells it to make 1 sequence for each key in dictionary\n",
    "        minsnps=50,  #within window_size, it must have at least this much diversity\n",
    "        mincov=4,   #For example, mincov=0.5 will require that 50% of samples contain a site that is not N or - for the site to be included in the alignment. \n",
    "        rmincov=0,\n",
    "        imap=imap,\n",
    "        minmap= {i: 0.1 for i in imap}, #half of each key in imap dictionary\n",
    "        keep_all_files=True,\n",
    ")"
   ]
  },
  {
   "cell_type": "code",
   "execution_count": 5,
   "metadata": {},
   "outputs": [
    {
     "name": "stdout",
     "output_type": "stream",
     "text": [
      "building database: nwindows=785; minsnps=50\n",
      "[####################] 100% 0:54:43 | inferring trees \n",
      "tree_table written to /rigel/dsi/users/slh2181/tuberculatus_plate/fimbriatus/snaq/fimb_fixed_500kb_23spp.tree_table.csv\n"
     ]
    }
   ],
   "source": [
    "# run treeslider/RAxML.  this took 4.5 hr\n",
    "# make sure there is no temp directory existing because then this won't run.\n",
    "ts.run(auto=True, force=True) #use auto=true when you have 24 engines"
   ]
  },
  {
   "cell_type": "code",
   "execution_count": 6,
   "metadata": {
    "scrolled": false
   },
   "outputs": [
    {
     "data": {
      "text/html": [
       "<div>\n",
       "<style scoped>\n",
       "    .dataframe tbody tr th:only-of-type {\n",
       "        vertical-align: middle;\n",
       "    }\n",
       "\n",
       "    .dataframe tbody tr th {\n",
       "        vertical-align: top;\n",
       "    }\n",
       "\n",
       "    .dataframe thead th {\n",
       "        text-align: right;\n",
       "    }\n",
       "</style>\n",
       "<table border=\"1\" class=\"dataframe\">\n",
       "  <thead>\n",
       "    <tr style=\"text-align: right;\">\n",
       "      <th></th>\n",
       "      <th>scaffold</th>\n",
       "      <th>start</th>\n",
       "      <th>end</th>\n",
       "      <th>sites</th>\n",
       "      <th>snps</th>\n",
       "      <th>samples</th>\n",
       "      <th>missing</th>\n",
       "      <th>tree</th>\n",
       "    </tr>\n",
       "  </thead>\n",
       "  <tbody>\n",
       "    <tr>\n",
       "      <th>0</th>\n",
       "      <td>0</td>\n",
       "      <td>0</td>\n",
       "      <td>500000</td>\n",
       "      <td>2718</td>\n",
       "      <td>121</td>\n",
       "      <td>23</td>\n",
       "      <td>0.52</td>\n",
       "      <td>(acutilobus:0.00595824,quitensis:0.00369126,(caudatus:0.000939189,((hypochondriacus:0.000942069,(hybridus:0.00284556,(cruentus:0.00473835,(powellii:0.00484603,(retroflexus:0.001901,wrightii:0.00450574)84:0.00380213)54:1e-06)40:1e-06)66:0.00339685...</td>\n",
       "    </tr>\n",
       "    <tr>\n",
       "      <th>1</th>\n",
       "      <td>0</td>\n",
       "      <td>500000</td>\n",
       "      <td>1000000</td>\n",
       "      <td>2525</td>\n",
       "      <td>105</td>\n",
       "      <td>23</td>\n",
       "      <td>0.56</td>\n",
       "      <td>(powellii:0.0205682,(acutilobus:0.00655095,(cruentus:0.00569886,((caudatus:0.000810726,quitensis:0.00378461)97:0.00680052,(hybridus:0.00563909,(wrightii:1e-06,(hypochondriacus:0.00833771,retroflexus:0.00154479)20:1e-06)39:0.00245641)50:0.00590382...</td>\n",
       "    </tr>\n",
       "    <tr>\n",
       "      <th>2</th>\n",
       "      <td>0</td>\n",
       "      <td>1000000</td>\n",
       "      <td>1500000</td>\n",
       "      <td>3382</td>\n",
       "      <td>176</td>\n",
       "      <td>23</td>\n",
       "      <td>0.63</td>\n",
       "      <td>(palmeri:0.0188872,albus:0.0293465,((dubius:0.0133393,(watsonii:0.00381648,spinosus:0.0234976)69:0.00331209)28:0.00131731,((cannabinus:0.0284604,((blitoides:0.0583412,(arenicola:0.029828,(pumilus:0.0268834,tuberculatus:0.0319822)36:0.00504868)26:...</td>\n",
       "    </tr>\n",
       "    <tr>\n",
       "      <th>3</th>\n",
       "      <td>0</td>\n",
       "      <td>1500000</td>\n",
       "      <td>2000000</td>\n",
       "      <td>1502</td>\n",
       "      <td>110</td>\n",
       "      <td>23</td>\n",
       "      <td>0.51</td>\n",
       "      <td>(hypochondriacus:0.0269886,(cruentus:0.00710243,hybridus:0.00589142)70:0.00681723,(acutilobus:0.00642788,(wrightii:0.0142872,((caudatus:1e-06,quitensis:0.00416641)94:0.00610002,((retroflexus:0.0152148,powellii:1e-06)51:0.00151662,(((dubius:0.0188...</td>\n",
       "    </tr>\n",
       "    <tr>\n",
       "      <th>4</th>\n",
       "      <td>0</td>\n",
       "      <td>2000000</td>\n",
       "      <td>2500000</td>\n",
       "      <td>1476</td>\n",
       "      <td>105</td>\n",
       "      <td>23</td>\n",
       "      <td>0.49</td>\n",
       "      <td>(acutilobus:0.00443614,powellii:0.00760298,((quitensis:1e-06,caudatus:1e-06)39:1e-06,((hypochondriacus:0.00169533,(retroflexus:1e-06,(hybridus:1e-06,(wrightii:0.00254466,cruentus:0.00139488)37:0.00115093)28:1e-06)54:0.00358988)31:0.00150117,((wat...</td>\n",
       "    </tr>\n",
       "    <tr>\n",
       "      <th>...</th>\n",
       "      <td>...</td>\n",
       "      <td>...</td>\n",
       "      <td>...</td>\n",
       "      <td>...</td>\n",
       "      <td>...</td>\n",
       "      <td>...</td>\n",
       "      <td>...</td>\n",
       "      <td>...</td>\n",
       "    </tr>\n",
       "    <tr>\n",
       "      <th>780</th>\n",
       "      <td>15</td>\n",
       "      <td>20000000</td>\n",
       "      <td>20500000</td>\n",
       "      <td>2790</td>\n",
       "      <td>177</td>\n",
       "      <td>23</td>\n",
       "      <td>0.42</td>\n",
       "      <td>(acutilobus:0.00607587,powellii:0.00279372,((cruentus:0.00526952,(hypochondriacus:0.00133497,(hybridus:1e-06,(quitensis:1e-06,caudatus:0.000649286)78:0.00156008)62:0.00205426)53:0.00231795)38:0.000178383,((retroflexus:0.00581859,wrightii:0.002569...</td>\n",
       "    </tr>\n",
       "    <tr>\n",
       "      <th>781</th>\n",
       "      <td>15</td>\n",
       "      <td>20500000</td>\n",
       "      <td>21000000</td>\n",
       "      <td>3628</td>\n",
       "      <td>182</td>\n",
       "      <td>23</td>\n",
       "      <td>0.31</td>\n",
       "      <td>(cruentus:0.00166927,(caudatus:0.000453688,(quitensis:1e-06,dubius:0.0118462)26:0.000670211)21:0.000708236,((hybridus:0.000884766,hypochondriacus:0.0022083)35:1e-06,(acutilobus:0.00360431,((retroflexus:0.00137892,wrightii:0.00133601)93:0.00178964...</td>\n",
       "    </tr>\n",
       "    <tr>\n",
       "      <th>782</th>\n",
       "      <td>15</td>\n",
       "      <td>21000000</td>\n",
       "      <td>21500000</td>\n",
       "      <td>4129</td>\n",
       "      <td>248</td>\n",
       "      <td>23</td>\n",
       "      <td>0.34</td>\n",
       "      <td>(wrightii:0.00157411,retroflexus:0.000908551,(acutilobus:0.00292636,(powellii:0.00751728,((hypochondriacus:0.00336373,(cruentus:0.00366422,(hybridus:0.00144945,(caudatus:0.00217487,quitensis:0.00106061)69:0.00160087)92:0.00264443)99:0.00258065)91...</td>\n",
       "    </tr>\n",
       "    <tr>\n",
       "      <th>783</th>\n",
       "      <td>15</td>\n",
       "      <td>21500000</td>\n",
       "      <td>22000000</td>\n",
       "      <td>5194</td>\n",
       "      <td>278</td>\n",
       "      <td>23</td>\n",
       "      <td>0.41</td>\n",
       "      <td>(powellii:0.00339116,(retroflexus:0.000999197,wrightii:0.00207495)100:0.00307382,(acutilobus:0.00506077,(((hypochondriacus:0.00309801,hybridus:0.0022526)75:0.00180769,(cruentus:0.0041466,(dubius:0.00843581,(caudatus:0.00200003,quitensis:0.0019029...</td>\n",
       "    </tr>\n",
       "    <tr>\n",
       "      <th>784</th>\n",
       "      <td>15</td>\n",
       "      <td>22000000</td>\n",
       "      <td>22500000</td>\n",
       "      <td>6344</td>\n",
       "      <td>354</td>\n",
       "      <td>23</td>\n",
       "      <td>0.38</td>\n",
       "      <td>(hybridus:0.00162817,hypochondriacus:0.0017532,((cruentus:0.00379588,(caudatus:0.000738711,quitensis:0.000328811)97:0.00128226)90:0.00131645,((acutilobus:0.00589476,(powellii:0.00562914,(wrightii:0.00178753,retroflexus:0.00183685)99:0.00439686)55...</td>\n",
       "    </tr>\n",
       "  </tbody>\n",
       "</table>\n",
       "<p>785 rows × 8 columns</p>\n",
       "</div>"
      ],
      "text/plain": [
       "     scaffold     start       end  sites  snps  samples  missing  \\\n",
       "0           0         0    500000   2718   121       23     0.52   \n",
       "1           0    500000   1000000   2525   105       23     0.56   \n",
       "2           0   1000000   1500000   3382   176       23     0.63   \n",
       "3           0   1500000   2000000   1502   110       23     0.51   \n",
       "4           0   2000000   2500000   1476   105       23     0.49   \n",
       "..        ...       ...       ...    ...   ...      ...      ...   \n",
       "780        15  20000000  20500000   2790   177       23     0.42   \n",
       "781        15  20500000  21000000   3628   182       23     0.31   \n",
       "782        15  21000000  21500000   4129   248       23     0.34   \n",
       "783        15  21500000  22000000   5194   278       23     0.41   \n",
       "784        15  22000000  22500000   6344   354       23     0.38   \n",
       "\n",
       "                                                                                                                                                                                                                                                          tree  \n",
       "0    (acutilobus:0.00595824,quitensis:0.00369126,(caudatus:0.000939189,((hypochondriacus:0.000942069,(hybridus:0.00284556,(cruentus:0.00473835,(powellii:0.00484603,(retroflexus:0.001901,wrightii:0.00450574)84:0.00380213)54:1e-06)40:1e-06)66:0.00339685...  \n",
       "1    (powellii:0.0205682,(acutilobus:0.00655095,(cruentus:0.00569886,((caudatus:0.000810726,quitensis:0.00378461)97:0.00680052,(hybridus:0.00563909,(wrightii:1e-06,(hypochondriacus:0.00833771,retroflexus:0.00154479)20:1e-06)39:0.00245641)50:0.00590382...  \n",
       "2    (palmeri:0.0188872,albus:0.0293465,((dubius:0.0133393,(watsonii:0.00381648,spinosus:0.0234976)69:0.00331209)28:0.00131731,((cannabinus:0.0284604,((blitoides:0.0583412,(arenicola:0.029828,(pumilus:0.0268834,tuberculatus:0.0319822)36:0.00504868)26:...  \n",
       "3    (hypochondriacus:0.0269886,(cruentus:0.00710243,hybridus:0.00589142)70:0.00681723,(acutilobus:0.00642788,(wrightii:0.0142872,((caudatus:1e-06,quitensis:0.00416641)94:0.00610002,((retroflexus:0.0152148,powellii:1e-06)51:0.00151662,(((dubius:0.0188...  \n",
       "4    (acutilobus:0.00443614,powellii:0.00760298,((quitensis:1e-06,caudatus:1e-06)39:1e-06,((hypochondriacus:0.00169533,(retroflexus:1e-06,(hybridus:1e-06,(wrightii:0.00254466,cruentus:0.00139488)37:0.00115093)28:1e-06)54:0.00358988)31:0.00150117,((wat...  \n",
       "..                                                                                                                                                                                                                                                         ...  \n",
       "780  (acutilobus:0.00607587,powellii:0.00279372,((cruentus:0.00526952,(hypochondriacus:0.00133497,(hybridus:1e-06,(quitensis:1e-06,caudatus:0.000649286)78:0.00156008)62:0.00205426)53:0.00231795)38:0.000178383,((retroflexus:0.00581859,wrightii:0.002569...  \n",
       "781  (cruentus:0.00166927,(caudatus:0.000453688,(quitensis:1e-06,dubius:0.0118462)26:0.000670211)21:0.000708236,((hybridus:0.000884766,hypochondriacus:0.0022083)35:1e-06,(acutilobus:0.00360431,((retroflexus:0.00137892,wrightii:0.00133601)93:0.00178964...  \n",
       "782  (wrightii:0.00157411,retroflexus:0.000908551,(acutilobus:0.00292636,(powellii:0.00751728,((hypochondriacus:0.00336373,(cruentus:0.00366422,(hybridus:0.00144945,(caudatus:0.00217487,quitensis:0.00106061)69:0.00160087)92:0.00264443)99:0.00258065)91...  \n",
       "783  (powellii:0.00339116,(retroflexus:0.000999197,wrightii:0.00207495)100:0.00307382,(acutilobus:0.00506077,(((hypochondriacus:0.00309801,hybridus:0.0022526)75:0.00180769,(cruentus:0.0041466,(dubius:0.00843581,(caudatus:0.00200003,quitensis:0.0019029...  \n",
       "784  (hybridus:0.00162817,hypochondriacus:0.0017532,((cruentus:0.00379588,(caudatus:0.000738711,quitensis:0.000328811)97:0.00128226)90:0.00131645,((acutilobus:0.00589476,(powellii:0.00562914,(wrightii:0.00178753,retroflexus:0.00183685)99:0.00439686)55...  \n",
       "\n",
       "[785 rows x 8 columns]"
      ]
     },
     "execution_count": 6,
     "metadata": {},
     "output_type": "execute_result"
    }
   ],
   "source": [
    "ts.tree_table"
   ]
  },
  {
   "cell_type": "code",
   "execution_count": 7,
   "metadata": {},
   "outputs": [
    {
     "name": "stdout",
     "output_type": "stream",
     "text": [
      "java -jar /rigel/home/slh2181/miniconda3/bin/astral.5.7.1.jar -i /rigel/dsi/users/slh2181/tuberculatus_plate/fimbriatus/snaq/tmptrees.txt -o /rigel/dsi/users/slh2181/tuberculatus_plate/fimbriatus/snaq/Astral_fimb_fixed_500kb_23spp.tre -t 1\n"
     ]
    }
   ],
   "source": [
    "Ast = ipa.astral(\n",
    "    data = ts.tree_table,\n",
    "#    data = \"/rigel/dsi/users/slh2181/tuberculatus_plate/fimbriatus/snaq/fimb_fixed_23spp.tree_table.csv\",\n",
    "    name='Astral_fimb_fixed_500kb_23spp',\n",
    "    workdir=outDIR,\n",
    "#    bootsfile=\"/rigel/dsi/users/slh2181/tuberculatus_plate/Analysis/snaq/allyrs.bootsfiles.txt\",\n",
    "#    imap=None,\n",
    "    annotation=1,\n",
    "#    gene_resampling=True,\n",
    "#    nboots=75,\n",
    ")\n",
    "\n",
    "Ast.print_command()"
   ]
  },
  {
   "cell_type": "code",
   "execution_count": 8,
   "metadata": {},
   "outputs": [
    {
     "name": "stdout",
     "output_type": "stream",
     "text": [
      "[astral.5.7.1.jar]\n",
      "inferred tree written to (/rigel/dsi/users/slh2181/tuberculatus_plate/fimbriatus/snaq/Astral_fimb_fixed_500kb_23spp.tre)\n"
     ]
    }
   ],
   "source": [
    "Ast.run()"
   ]
  },
  {
   "cell_type": "code",
   "execution_count": 9,
   "metadata": {
    "scrolled": true
   },
   "outputs": [
    {
     "data": {
      "text/plain": [
       "(<toyplot.canvas.Canvas at 0x2aab0df41290>,\n",
       " <toyplot.coordinates.Cartesian at 0x2aab0df41a50>,\n",
       " <toytree.Render.ToytreeMark at 0x2aab0df553d0>)"
      ]
     },
     "execution_count": 9,
     "metadata": {},
     "output_type": "execute_result"
    },
    {
     "data": {
      "text/html": [
       "<div class=\"toyplot\" id=\"t0a9ba9fc251941f4be2ca53515fcdd04\" style=\"text-align:center\"><svg class=\"toyplot-canvas-Canvas\" height=\"414.0px\" id=\"t83495fcdb7b84e708db865b52b5fb40c\" preserveAspectRatio=\"xMidYMid meet\" style=\"background-color:transparent;border-color:#292724;border-style:none;border-width:1.0;fill:rgb(16.1%,15.3%,14.1%);fill-opacity:1.0;font-family:Helvetica;font-size:12px;opacity:1.0;stroke:rgb(16.1%,15.3%,14.1%);stroke-opacity:1.0;stroke-width:1.0\" viewBox=\"0 0 325.0 414.0\" width=\"325.0px\" xmlns=\"http://www.w3.org/2000/svg\" xmlns:toyplot=\"http://www.sandia.gov/toyplot\" xmlns:xlink=\"http://www.w3.org/1999/xlink\"><g class=\"toyplot-coordinates-Cartesian\" id=\"t1b7857e30cfa4e238928b40e28a652ad\"><clipPath id=\"te69e0541021c4b71af5aceb8e32b00c4\"><rect height=\"354.0\" width=\"265.0\" x=\"30.0\" y=\"30.0\"></rect></clipPath><g clip-path=\"url(#te69e0541021c4b71af5aceb8e32b00c4)\"><g class=\"toytree-mark-Toytree\" id=\"t01597a73d15f4e9c9f79e1e78f058545\"><g class=\"toytree-Edges\" style=\"fill:none;stroke:rgb(14.9%,14.9%,14.9%);stroke-linecap:round;stroke-opacity:1;stroke-width:2\"><path d=\"M 51.3 167.0 L 51.3 102.5 L 84.2 102.5\" id=\"44,43\"></path><path d=\"M 51.3 167.0 L 51.3 231.5 L 84.2 231.5\" id=\"44,42\"></path><path d=\"M 84.2 102.5 L 84.2 73.2 L 125.0 73.2\" id=\"43,41\"></path><path d=\"M 84.2 102.5 L 84.2 131.9 L 97.8 131.9\" id=\"43,40\"></path><path d=\"M 84.2 231.5 L 84.2 203.7 L 129.9 203.7\" id=\"42,39\"></path><path d=\"M 84.2 231.5 L 84.2 259.2 L 90.6 259.2\" id=\"42,38\"></path><path d=\"M 125.0 73.2 L 125.0 84.8 L 134.5 84.8\" id=\"41,37\"></path><path d=\"M 97.8 131.9 L 97.8 149.2 L 112.4 149.2\" id=\"40,36\"></path><path d=\"M 129.9 203.7 L 129.9 213.6 L 139.4 213.6\" id=\"39,35\"></path><path d=\"M 90.6 259.2 L 90.6 285.0 L 115.6 285.0\" id=\"38,34\"></path><path d=\"M 134.5 84.8 L 134.5 94.7 L 141.4 94.7\" id=\"37,33\"></path><path d=\"M 112.4 149.2 L 112.4 134.3 L 156.0 134.3\" id=\"36,32\"></path><path d=\"M 112.4 149.2 L 112.4 164.1 L 162.4 164.1\" id=\"36,31\"></path><path d=\"M 115.6 285.0 L 115.6 258.2 L 124.6 258.2\" id=\"34,30\"></path><path d=\"M 115.6 285.0 L 115.6 311.9 L 142.3 311.9\" id=\"34,29\"></path><path d=\"M 162.4 164.1 L 162.4 174.0 L 180.3 174.0\" id=\"31,28\"></path><path d=\"M 124.6 258.2 L 124.6 269.8 L 136.1 269.8\" id=\"30,27\"></path><path d=\"M 142.3 311.9 L 142.3 324.3 L 147.3 324.3\" id=\"29,26\"></path><path d=\"M 136.1 269.8 L 136.1 279.7 L 167.7 279.7\" id=\"27,25\"></path><path d=\"M 147.3 324.3 L 147.3 335.8 L 153.1 335.8\" id=\"26,24\"></path><path d=\"M 153.1 335.8 L 153.1 345.7 L 179.6 345.7\" id=\"24,23\"></path><path d=\"M 125.0 73.2 L 125.0 61.7 L 146.5 61.7\" id=\"41,22\"></path><path d=\"M 134.5 84.8 L 134.5 74.9 L 156.0 74.9\" id=\"37,21\"></path><path d=\"M 141.4 94.7 L 141.4 88.1 L 162.8 88.1\" id=\"33,20\"></path><path d=\"M 141.4 94.7 L 141.4 101.3 L 162.8 101.3\" id=\"33,19\"></path><path d=\"M 97.8 131.9 L 97.8 114.5 L 119.3 114.5\" id=\"40,18\"></path><path d=\"M 156.0 134.3 L 156.0 127.7 L 177.5 127.7\" id=\"32,17\"></path><path d=\"M 156.0 134.3 L 156.0 140.9 L 177.5 140.9\" id=\"32,16\"></path><path d=\"M 162.4 164.1 L 162.4 154.2 L 183.8 154.2\" id=\"31,15\"></path><path d=\"M 180.3 174.0 L 180.3 167.4 L 201.8 167.4\" id=\"28,14\"></path><path d=\"M 180.3 174.0 L 180.3 180.6 L 201.8 180.6\" id=\"28,13\"></path><path d=\"M 129.9 203.7 L 129.9 193.8 L 151.3 193.8\" id=\"39,12\"></path><path d=\"M 139.4 213.6 L 139.4 207.0 L 160.9 207.0\" id=\"35,11\"></path><path d=\"M 139.4 213.6 L 139.4 220.2 L 160.9 220.2\" id=\"35,10\"></path><path d=\"M 90.6 259.2 L 90.6 233.4 L 112.1 233.4\" id=\"38,9\"></path><path d=\"M 124.6 258.2 L 124.6 246.6 L 146.1 246.6\" id=\"30,8\"></path><path d=\"M 136.1 269.8 L 136.1 259.8 L 157.6 259.8\" id=\"27,7\"></path><path d=\"M 167.7 279.7 L 167.7 273.1 L 189.2 273.1\" id=\"25,6\"></path><path d=\"M 167.7 279.7 L 167.7 286.3 L 189.2 286.3\" id=\"25,5\"></path><path d=\"M 142.3 311.9 L 142.3 299.5 L 163.8 299.5\" id=\"29,4\"></path><path d=\"M 147.3 324.3 L 147.3 312.7 L 168.8 312.7\" id=\"26,3\"></path><path d=\"M 153.1 335.8 L 153.1 325.9 L 174.6 325.9\" id=\"24,2\"></path><path d=\"M 179.6 345.7 L 179.6 339.1 L 201.1 339.1\" id=\"23,1\"></path><path d=\"M 179.6 345.7 L 179.6 352.3 L 201.1 352.3\" id=\"23,0\"></path></g><g class=\"toytree-NodeLabels\" style=\"fill:rgb(14.9%,14.9%,14.9%);fill-opacity:1.0;font-size:9px;stroke:none\"><g transform=\"translate(168.33,348.03)\"><text>80.71</text></g><g transform=\"translate(141.81,338.12)\"><text>49.02</text></g><g transform=\"translate(158.91,281.97)\"><text>84.8</text></g><g transform=\"translate(136.08,326.56)\"><text>47.36</text></g><g transform=\"translate(124.82,272.06)\"><text>60.98</text></g><g transform=\"translate(169.08,176.27)\"><text>71.23</text></g><g transform=\"translate(131.03,314.17)\"><text>80.89</text></g><g transform=\"translate(113.35,260.50)\"><text>56.31</text></g><g transform=\"translate(151.10,166.36)\"><text>93.61</text></g><g transform=\"translate(144.73,136.63)\"><text>91.36</text></g><g transform=\"translate(130.10,96.99)\"><text>51.56</text></g><g transform=\"translate(104.31,287.34)\"><text>79.29</text></g><g transform=\"translate(128.13,215.91)\"><text>57.31</text></g><g transform=\"translate(101.14,151.50)\"><text>66.31</text></g><g transform=\"translate(123.27,87.09)\"><text>57.28</text></g><g transform=\"translate(79.31,261.53)\"><text>50.57</text></g><g transform=\"translate(118.59,206.00)\"><text>92.18</text></g><g transform=\"translate(86.53,134.15)\"><text>64.73</text></g><g transform=\"translate(113.75,75.52)\"><text>90.16</text></g><g transform=\"translate(72.91,233.76)\"><text>100.0</text></g><g transform=\"translate(75.41,104.84)\"><text>97.0</text></g></g><g class=\"toytree-TipLabels\" style=\"fill:rgb(14.9%,14.9%,14.9%);fill-opacity:1.0;font-family:helvetica;font-size:11px;font-weight:normal;stroke:none;white-space:pre\"><g transform=\"translate(201.08,352.34)rotate(0)\"><text style=\"\" x=\"15.00\" y=\"2.81\">caudatus</text></g><g transform=\"translate(201.08,339.12)rotate(0)\"><text style=\"\" x=\"15.00\" y=\"2.81\">quitensis</text></g><g transform=\"translate(174.56,325.91)rotate(0)\"><text style=\"\" x=\"15.00\" y=\"2.81\">hybridus</text></g><g transform=\"translate(168.83,312.70)rotate(0)\"><text style=\"\" x=\"15.00\" y=\"2.81\">hypochondriacus</text></g><g transform=\"translate(163.78,299.49)rotate(0)\"><text style=\"\" x=\"15.00\" y=\"2.81\">cruentus</text></g><g transform=\"translate(189.16,286.27)rotate(0)\"><text style=\"\" x=\"15.00\" y=\"2.81\">wrightii</text></g><g transform=\"translate(189.16,273.06)rotate(0)\"><text style=\"\" x=\"15.00\" y=\"2.81\">retroflexus</text></g><g transform=\"translate(157.56,259.85)rotate(0)\"><text style=\"\" x=\"15.00\" y=\"2.81\">powellii</text></g><g transform=\"translate(146.10,246.64)rotate(0)\"><text style=\"\" x=\"15.00\" y=\"2.81\">acutilobus</text></g><g transform=\"translate(112.06,233.42)rotate(0)\"><text style=\"\" x=\"15.00\" y=\"2.81\">dubius</text></g><g transform=\"translate(160.88,220.21)rotate(0)\"><text style=\"\" x=\"15.00\" y=\"2.81\">palmeri</text></g><g transform=\"translate(160.88,207.00)rotate(0)\"><text style=\"\" x=\"15.00\" y=\"2.81\">watsonii</text></g><g transform=\"translate(151.34,193.79)rotate(0)\"><text style=\"\" x=\"15.00\" y=\"2.81\">spinosus</text></g><g transform=\"translate(201.83,180.58)rotate(0)\"><text style=\"\" x=\"15.00\" y=\"2.81\">tricolor</text></g><g transform=\"translate(201.83,167.36)rotate(0)\"><text style=\"\" x=\"15.00\" y=\"2.81\">blitum</text></g><g transform=\"translate(183.85,154.15)rotate(0)\"><text style=\"\" x=\"15.00\" y=\"2.81\">viridis</text></g><g transform=\"translate(177.48,140.94)rotate(0)\"><text style=\"\" x=\"15.00\" y=\"2.81\">blitoides</text></g><g transform=\"translate(177.48,127.73)rotate(0)\"><text style=\"\" x=\"15.00\" y=\"2.81\">albus</text></g><g transform=\"translate(119.28,114.51)rotate(0)\"><text style=\"\" x=\"15.00\" y=\"2.81\">fimbriatus</text></g><g transform=\"translate(162.85,101.30)rotate(0)\"><text style=\"\" x=\"15.00\" y=\"2.81\">arenicola</text></g><g transform=\"translate(162.85,88.09)rotate(0)\"><text style=\"\" x=\"15.00\" y=\"2.81\">tuberculatus</text></g><g transform=\"translate(156.02,74.88)rotate(0)\"><text style=\"\" x=\"15.00\" y=\"2.81\">pumilus</text></g><g transform=\"translate(146.49,61.66)rotate(0)\"><text style=\"\" x=\"15.00\" y=\"2.81\">cannabinus</text></g></g></g></g></g></svg><div class=\"toyplot-behavior\"><script>(function()\n",
       "{\n",
       "var modules={};\n",
       "})();</script></div></div>"
      ]
     },
     "metadata": {},
     "output_type": "display_data"
    }
   ],
   "source": [
    "Ast3 = toytree.tree(\"/rigel/dsi/users/slh2181/tuberculatus_plate/fimbriatus/snaq/Astral_fimb_fixed_500kb_23spp.tre\")\n",
    "Ast3.root([\"palmeri\",\"watsonii\",\"spinosus\",\"dubius\",\"retroflexus\",\"wrightii\",\"powellii\",\"acutilobus\",\n",
    "           \"cruentus\",\"quitensis\",\"caudatus\",\"hybridus\",\"hypochondriacus\"]).draw(node_labels=\"support\")"
   ]
  },
  {
   "cell_type": "markdown",
   "metadata": {},
   "source": [
    "### Snaq input needs the tre  column by itself, so do that here:"
   ]
  },
  {
   "cell_type": "code",
   "execution_count": 10,
   "metadata": {},
   "outputs": [],
   "source": [
    "tree_table = pd.read_csv(\"/rigel/dsi/users/slh2181/tuberculatus_plate/fimbriatus/snaq/fimb_fixed_500kb_23spp.tree_table.csv\", sep=\",\")\n",
    "\n",
    "new = tree_table.tree[tree_table.tree.notna()].reset_index(drop=True)\n",
    "new.to_csv(\"/rigel/dsi/users/slh2181/tuberculatus_plate/fimbriatus/snaq/fimb_fixed_500kb_23spp.tree.csv\",\n",
    "    header=False, encoding='utf-8', index=False, sep=\" \")"
   ]
  },
  {
   "cell_type": "code",
   "execution_count": null,
   "metadata": {},
   "outputs": [],
   "source": []
  },
  {
   "cell_type": "markdown",
   "metadata": {},
   "source": [
    "# Redo with 250kb windows"
   ]
  },
  {
   "cell_type": "code",
   "execution_count": 11,
   "metadata": {},
   "outputs": [],
   "source": [
    "#run RAxML on \"genes\" that are 1M bp long in treeslider\n",
    "ts = ipa.treeslider(\n",
    "        name='fimb_fixed_250kb_23spp',  #this name can't end in _2\n",
    "        data=data,\n",
    "        workdir=outDIR,\n",
    "        scaffold_idxs=range(16),\n",
    "        window_size=250000,\n",
    "        slide_size= 250000,  \n",
    "        inference_method=\"raxml\",  #options are raxml and mrbayes\n",
    "      #  inference_args={\"N\": 100, \"T\": 24}, #number of bootstraps and # cores\n",
    "        consensus_reduce=True, # this tells it to make 1 sequence for each key in dictionary\n",
    "        minsnps=25,  #within window_size, it must have at least this much diversity\n",
    "        mincov=4,   #For example, mincov=0.5 will require that 50% of samples contain a site that is not N or - for the site to be included in the alignment. \n",
    "        rmincov=0,\n",
    "        imap=imap,\n",
    "        minmap= {i: 0.1 for i in imap}, #half of each key in imap dictionary\n",
    "        keep_all_files=True,\n",
    ")"
   ]
  },
  {
   "cell_type": "code",
   "execution_count": null,
   "metadata": {},
   "outputs": [
    {
     "name": "stdout",
     "output_type": "stream",
     "text": [
      "building database: nwindows=1575; minsnps=25\n",
      "[                    ]   4% 0:10:02 | inferring trees "
     ]
    }
   ],
   "source": [
    "# run treeslider/RAxML.  this took 4.5 hr\n",
    "# make sure there is no temp directory existing because then this won't run.\n",
    "ts.run(auto=True, force=True) #use auto=true when you have 24 engines"
   ]
  },
  {
   "cell_type": "code",
   "execution_count": null,
   "metadata": {
    "scrolled": false
   },
   "outputs": [],
   "source": [
    "ts.tree_table"
   ]
  },
  {
   "cell_type": "code",
   "execution_count": null,
   "metadata": {},
   "outputs": [],
   "source": [
    "Ast = ipa.astral(\n",
    "    data = ts.tree_table,\n",
    "#    data = \"/rigel/dsi/users/slh2181/tuberculatus_plate/fimbriatus/snaq/fimb_fixed_23spp.tree_table.csv\",\n",
    "    name='Astral_fimb_fixed_250kb_23spp',\n",
    "    workdir=outDIR,\n",
    "#    bootsfile=\"/rigel/dsi/users/slh2181/tuberculatus_plate/Analysis/snaq/allyrs.bootsfiles.txt\",\n",
    "#    imap=None,\n",
    "    annotation=1,\n",
    "#    gene_resampling=True,\n",
    "#    nboots=75,\n",
    ")\n",
    "\n",
    "Ast.print_command()"
   ]
  },
  {
   "cell_type": "code",
   "execution_count": null,
   "metadata": {},
   "outputs": [],
   "source": [
    "Ast.run()"
   ]
  },
  {
   "cell_type": "code",
   "execution_count": null,
   "metadata": {
    "scrolled": true
   },
   "outputs": [],
   "source": [
    "Ast3 = toytree.tree(\"/rigel/dsi/users/slh2181/tuberculatus_plate/fimbriatus/snaq/Astral_fimb_fixed_250kb_23spp.tre\")\n",
    "Ast3.root([\"palmeri\",\"watsonii\",\"spinosus\",\"dubius\",\"retroflexus\",\"wrightii\",\"powellii\",\"acutilobus\",\n",
    "           \"cruentus\",\"quitensis\",\"caudatus\",\"hybridus\",\"hypochondriacus\"]).draw(node_labels=\"support\")"
   ]
  },
  {
   "cell_type": "markdown",
   "metadata": {},
   "source": [
    "### Snaq input needs the tre  column by itself, so do that here:"
   ]
  },
  {
   "cell_type": "code",
   "execution_count": null,
   "metadata": {},
   "outputs": [],
   "source": [
    "tree_table = pd.read_csv(\"/rigel/dsi/users/slh2181/tuberculatus_plate/fimbriatus/snaq/fimb_fixed_250kb_23spp.tree_table.csv\", sep=\",\")\n",
    "\n",
    "new = tree_table.tree[tree_table.tree.notna()].reset_index(drop=True)\n",
    "new.to_csv(\"/rigel/dsi/users/slh2181/tuberculatus_plate/fimbriatus/snaq/fimb_fixed_250kb_23spp.tree.csv\",\n",
    "    header=False, encoding='utf-8', index=False, sep=\" \")"
   ]
  }
 ],
 "metadata": {
  "kernelspec": {
   "display_name": "Python 3",
   "language": "python",
   "name": "python3"
  },
  "language_info": {
   "codemirror_mode": {
    "name": "ipython",
    "version": 3
   },
   "file_extension": ".py",
   "mimetype": "text/x-python",
   "name": "python",
   "nbconvert_exporter": "python",
   "pygments_lexer": "ipython3",
   "version": "3.7.6"
  }
 },
 "nbformat": 4,
 "nbformat_minor": 2
}
