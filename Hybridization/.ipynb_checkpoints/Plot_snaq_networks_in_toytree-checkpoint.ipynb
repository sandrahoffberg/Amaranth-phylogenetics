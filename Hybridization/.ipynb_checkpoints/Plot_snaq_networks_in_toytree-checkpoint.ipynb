{
 "cells": [
  {
   "cell_type": "markdown",
   "metadata": {},
   "source": [
    "# Compare the snaq networks from the .networks snaq output file\n",
    "\n",
    "Snaq sometimes gets the direction of hybridizationm wrong, and plotting the alternatives will \n",
    "\n",
    "Sept 23, 2020"
   ]
  },
  {
   "cell_type": "code",
   "execution_count": 1,
   "metadata": {},
   "outputs": [
    {
     "name": "stdout",
     "output_type": "stream",
     "text": [
      "toytree 2.0.4\n"
     ]
    }
   ],
   "source": [
    "import toytree\n",
    "import toyplot.svg\n",
    "\n",
    "\n",
    "print('toytree', toytree.__version__)"
   ]
  },
  {
   "cell_type": "code",
   "execution_count": 108,
   "metadata": {},
   "outputs": [],
   "source": [
    "net0 = \"\"\" \n",
    "(arenicola,tuberculatus,(pumilus,((((dubius,((acutilobus,(powellii,(wrightii,retroflexus):1.5972201969180657):0.8081125926896925):0.5587803756620585,(cruentus,(hypochondriacus,(hybridus,(caudatus,quitensis):1.6247146500464362):0.32919262789690235):0.23358213159045713):1.5586433765058871):2.292478085504564):0.32442362182657103,(spinosus,(watsonii,palmeri):0.7452064040694617):2.2992378583423965):3.6478099144700544,(((blitoides,albus):2.5004787420044625,(viridis,(tricolor,blitum):0.8454956089938817):2.2343162363625977):1.2214311195756848,fimbriatus):0.8029654835292327):2.2168706889619,cannabinus):0.45062553289211366):0.49376211436371364); -Ploglik = 18802.075863619622\n",
    "    \"\"\".strip().replace(\"\\n\",\"\")"
   ]
  },
  {
   "cell_type": "code",
   "execution_count": 109,
   "metadata": {},
   "outputs": [
    {
     "data": {
      "text/html": [
       "<div class=\"toyplot\" id=\"t7f8fe5d8839542468e0f569b90fbe96d\" style=\"text-align:center\"><svg class=\"toyplot-canvas-Canvas\" height=\"500.0px\" id=\"ta700c7759fa54d8ebb809f9e007d994d\" preserveAspectRatio=\"xMidYMid meet\" style=\"background-color:transparent;border-color:#292724;border-style:none;border-width:1.0;fill:rgb(16.1%,15.3%,14.1%);fill-opacity:1.0;font-family:Helvetica;font-size:12px;opacity:1.0;stroke:rgb(16.1%,15.3%,14.1%);stroke-opacity:1.0;stroke-width:1.0\" viewBox=\"0 0 325.0 500.0\" width=\"325.0px\" xmlns=\"http://www.w3.org/2000/svg\" xmlns:toyplot=\"http://www.sandia.gov/toyplot\" xmlns:xlink=\"http://www.w3.org/1999/xlink\"><g class=\"toyplot-coordinates-Cartesian\" id=\"tef2592fdb6934b5888621df26680e7f4\"><clipPath id=\"t7bd4ff650eef4e6384c8a93e8a997641\"><rect height=\"440.0\" width=\"265.0\" x=\"30.0\" y=\"30.0\"></rect></clipPath><g clip-path=\"url(#t7bd4ff650eef4e6384c8a93e8a997641)\"><g class=\"toytree-mark-Toytree\" id=\"t5e716abe949f44f29b22d7ebc5c55a21\"><g class=\"toytree-Edges\" style=\"fill:none;stroke:rgb(14.9%,14.9%,14.9%);stroke-linecap:round;stroke-opacity:1;stroke-width:2\"><path d=\"M 51.2 198.2 L 51.2 114.8 L 100.4 114.8\" id=\"44,43\"></path><path d=\"M 51.2 198.2 L 51.2 281.7 L 67.6 281.7\" id=\"44,42\"></path><path d=\"M 100.4 114.8 L 100.4 76.8 L 133.2 76.8\" id=\"43,41\"></path><path d=\"M 100.4 114.8 L 100.4 152.7 L 116.8 152.7\" id=\"43,40\"></path><path d=\"M 67.6 281.7 L 67.6 245.7 L 149.6 245.7\" id=\"42,39\"></path><path d=\"M 67.6 281.7 L 67.6 317.6 L 84.0 317.6\" id=\"42,38\"></path><path d=\"M 133.2 76.8 L 133.2 91.8 L 149.6 91.8\" id=\"41,37\"></path><path d=\"M 116.8 152.7 L 116.8 175.2 L 133.2 175.2\" id=\"40,36\"></path><path d=\"M 149.6 245.7 L 149.6 258.6 L 166.0 258.6\" id=\"39,35\"></path><path d=\"M 84.0 317.6 L 84.0 351.0 L 100.4 351.0\" id=\"38,34\"></path><path d=\"M 149.6 91.8 L 149.6 104.6 L 166.0 104.6\" id=\"37,33\"></path><path d=\"M 133.2 175.2 L 133.2 155.9 L 166.0 155.9\" id=\"36,32\"></path><path d=\"M 133.2 175.2 L 133.2 194.4 L 149.6 194.4\" id=\"36,31\"></path><path d=\"M 100.4 351.0 L 100.4 316.3 L 133.2 316.3\" id=\"34,30\"></path><path d=\"M 100.4 351.0 L 100.4 385.8 L 116.8 385.8\" id=\"34,29\"></path><path d=\"M 149.6 194.4 L 149.6 207.2 L 166.0 207.2\" id=\"31,28\"></path><path d=\"M 133.2 316.3 L 133.2 331.2 L 149.6 331.2\" id=\"30,27\"></path><path d=\"M 116.8 385.8 L 116.8 401.8 L 133.2 401.8\" id=\"29,26\"></path><path d=\"M 149.6 331.2 L 149.6 344.1 L 166.0 344.1\" id=\"27,25\"></path><path d=\"M 133.2 401.8 L 133.2 416.8 L 149.6 416.8\" id=\"26,24\"></path><path d=\"M 149.6 416.8 L 149.6 429.6 L 166.0 429.6\" id=\"24,23\"></path><path d=\"M 133.2 76.8 L 133.2 61.9 L 182.4 61.9\" id=\"41,22\"></path><path d=\"M 149.6 91.8 L 149.6 79.0 L 182.4 79.0\" id=\"37,21\"></path><path d=\"M 166.0 104.6 L 166.0 96.1 L 182.4 96.1\" id=\"33,20\"></path><path d=\"M 166.0 104.6 L 166.0 113.2 L 182.4 113.2\" id=\"33,19\"></path><path d=\"M 116.8 152.7 L 116.8 130.3 L 182.4 130.3\" id=\"40,18\"></path><path d=\"M 166.0 155.9 L 166.0 147.4 L 182.4 147.4\" id=\"32,17\"></path><path d=\"M 166.0 155.9 L 166.0 164.5 L 182.4 164.5\" id=\"32,16\"></path><path d=\"M 149.6 194.4 L 149.6 181.6 L 182.4 181.6\" id=\"31,15\"></path><path d=\"M 166.0 207.2 L 166.0 198.7 L 182.4 198.7\" id=\"28,14\"></path><path d=\"M 166.0 207.2 L 166.0 215.8 L 182.4 215.8\" id=\"28,13\"></path><path d=\"M 149.6 245.7 L 149.6 232.9 L 182.4 232.9\" id=\"39,12\"></path><path d=\"M 166.0 258.6 L 166.0 250.0 L 182.4 250.0\" id=\"35,11\"></path><path d=\"M 166.0 258.6 L 166.0 267.1 L 182.4 267.1\" id=\"35,10\"></path><path d=\"M 84.0 317.6 L 84.0 284.2 L 182.4 284.2\" id=\"38,9\"></path><path d=\"M 133.2 316.3 L 133.2 301.3 L 182.4 301.3\" id=\"30,8\"></path><path d=\"M 149.6 331.2 L 149.6 318.4 L 182.4 318.4\" id=\"27,7\"></path><path d=\"M 166.0 344.1 L 166.0 335.5 L 182.4 335.5\" id=\"25,6\"></path><path d=\"M 166.0 344.1 L 166.0 352.6 L 182.4 352.6\" id=\"25,5\"></path><path d=\"M 116.8 385.8 L 116.8 369.7 L 182.4 369.7\" id=\"29,4\"></path><path d=\"M 133.2 401.8 L 133.2 386.8 L 182.4 386.8\" id=\"26,3\"></path><path d=\"M 149.6 416.8 L 149.6 403.9 L 182.4 403.9\" id=\"24,2\"></path><path d=\"M 166.0 429.6 L 166.0 421.0 L 182.4 421.0\" id=\"23,1\"></path><path d=\"M 166.0 429.6 L 166.0 438.1 L 182.4 438.1\" id=\"23,0\"></path></g><g class=\"toytree-AdmixEdges\" style=\"fill:none;font-size:14px;stroke:rgba(90.6%,54.1%,76.5%,1.000);stroke-linecap:round;stroke-opacity:0.6;stroke-width:5\"></g><g class=\"toytree-TipLabels\" style=\"fill:rgb(14.9%,14.9%,14.9%);fill-opacity:1.0;font-family:helvetica;font-size:11px;font-weight:normal;stroke:none;white-space:pre\"><g transform=\"translate(182.41,438.15)rotate(0)\"><text style=\"\" x=\"15.00\" y=\"2.81\">quitensis</text></g><g transform=\"translate(182.41,421.04)rotate(0)\"><text style=\"\" x=\"15.00\" y=\"2.81\">caudatus</text></g><g transform=\"translate(182.41,403.94)rotate(0)\"><text style=\"\" x=\"15.00\" y=\"2.81\">hybridus</text></g><g transform=\"translate(182.41,386.83)rotate(0)\"><text style=\"\" x=\"15.00\" y=\"2.81\">hypochondriacus</text></g><g transform=\"translate(182.41,369.73)rotate(0)\"><text style=\"\" x=\"15.00\" y=\"2.81\">cruentus</text></g><g transform=\"translate(182.41,352.63)rotate(0)\"><text style=\"\" x=\"15.00\" y=\"2.81\">retroflexus</text></g><g transform=\"translate(182.41,335.52)rotate(0)\"><text style=\"\" x=\"15.00\" y=\"2.81\">wrightii</text></g><g transform=\"translate(182.41,318.42)rotate(0)\"><text style=\"\" x=\"15.00\" y=\"2.81\">powellii</text></g><g transform=\"translate(182.41,301.31)rotate(0)\"><text style=\"\" x=\"15.00\" y=\"2.81\">acutilobus</text></g><g transform=\"translate(182.41,284.21)rotate(0)\"><text style=\"\" x=\"15.00\" y=\"2.81\">dubius</text></g><g transform=\"translate(182.41,267.10)rotate(0)\"><text style=\"\" x=\"15.00\" y=\"2.81\">palmeri</text></g><g transform=\"translate(182.41,250.00)rotate(0)\"><text style=\"\" x=\"15.00\" y=\"2.81\">watsonii</text></g><g transform=\"translate(182.41,232.90)rotate(0)\"><text style=\"\" x=\"15.00\" y=\"2.81\">spinosus</text></g><g transform=\"translate(182.41,215.79)rotate(0)\"><text style=\"\" x=\"15.00\" y=\"2.81\">blitum</text></g><g transform=\"translate(182.41,198.69)rotate(0)\"><text style=\"\" x=\"15.00\" y=\"2.81\">tricolor</text></g><g transform=\"translate(182.41,181.58)rotate(0)\"><text style=\"\" x=\"15.00\" y=\"2.81\">viridis</text></g><g transform=\"translate(182.41,164.48)rotate(0)\"><text style=\"\" x=\"15.00\" y=\"2.81\">albus</text></g><g transform=\"translate(182.41,147.37)rotate(0)\"><text style=\"\" x=\"15.00\" y=\"2.81\">blitoides</text></g><g transform=\"translate(182.41,130.27)rotate(0)\"><text style=\"\" x=\"15.00\" y=\"2.81\">fimbriatus</text></g><g transform=\"translate(182.41,113.17)rotate(0)\"><text style=\"\" x=\"15.00\" y=\"2.81\">tuberculatus</text></g><g transform=\"translate(182.41,96.06)rotate(0)\"><text style=\"\" x=\"15.00\" y=\"2.81\">arenicola</text></g><g transform=\"translate(182.41,78.96)rotate(0)\"><text style=\"\" x=\"15.00\" y=\"2.81\">pumilus</text></g><g transform=\"translate(182.41,61.85)rotate(0)\"><text style=\"\" x=\"15.00\" y=\"2.81\">cannabinus</text></g></g></g></g></g></svg><div class=\"toyplot-behavior\"><script>(function()\n",
       "{\n",
       "var modules={};\n",
       "})();</script></div></div>"
      ]
     },
     "metadata": {},
     "output_type": "display_data"
    }
   ],
   "source": [
    "#get tree and admix scenario\n",
    "tree, admix = toytree.utils.parse_network(net0)\n",
    "\n",
    "#re-root the tree on node 32\n",
    "rtree = tree.root([\"palmeri\",\"watsonii\",\"spinosus\",\"dubius\",\"caudatus\",\"quitensis\",\"hybridus\",\"hypochondriacus\",\n",
    "             \"cruentus\",\"acutilobus\",\"wrightii\",\"retroflexus\",\"powellii\"])\n",
    "\n",
    "#draw network\n",
    "rtree.draw(\n",
    "    #ts='o',\n",
    "    height=500,\n",
    "    use_edge_lengths=False,\n",
    "    admixture_edges=admix.values(),\n",
    ");"
   ]
  },
  {
   "cell_type": "code",
   "execution_count": 110,
   "metadata": {},
   "outputs": [],
   "source": [
    "net1a=\"\"\"\n",
    "(arenicola,tuberculatus,(pumilus,(((((spinosus,(watsonii,palmeri):0.7423108635991968):0.45502271476806816,(dubius)#H24:::0.5114843882753761):2.6266332400536445,((((powellii,(wrightii,retroflexus):1.596846766646376):0.8083860494212156,acutilobus):0.5587056155768638,((hypochondriacus,(hybridus,(quitensis,caudatus):1.6247302222688222):0.3291532502343534):0.2333752999352272,cruentus):1.558340072449533):0.975943491073601,#H24:::0.48851561172462393):2.491403227050747):3.5401253849982677,(((viridis,(tricolor,blitum):0.8454941474764998):2.2340818901715735,(blitoides,albus):2.5003131991095535):1.2225705289554623,fimbriatus):0.8031511731739335):2.21679598186355,cannabinus):0.4506032837809538):0.4937301249687837); -Ploglik = 8602.059805160688\n",
    "        \"\"\".strip().replace(\"\\n\",\"\")\n",
    "\n",
    "net1b=\"\"\"\n",
    "(arenicola,tuberculatus,(pumilus,(((((spinosus,(watsonii,palmeri):0.8202122867374314):2.068319305168909)#H24:2.5897488688926886::0.5298834908230277,((((powellii,(wrightii,retroflexus):1.6125093181302104):0.8081832325373954,acutilobus):0.5588961719035681,((hypochondriacus,(hybridus,(quitensis,caudatus):1.6133162748533958):0.3352349624430604):0.23535473333845516,cruentus):1.5579443115166598):2.0357836231650146,(#H24:0.0::0.4701165091769724,dubius):9.004747468218776):2.607951482614575):2.9079033284478264,(((viridis,(tricolor,blitum):0.805702531402911):2.248905228248458,(blitoides,albus):2.55688194569415):1.2267783866866475,fimbriatus):0.8020795481602552):2.2281737861050774,cannabinus):0.44602233156281895):0.4767616071812933);, with -loglik 9671.990725114572\n",
    "        \"\"\".strip().replace(\"\\n\",\"\")"
   ]
  },
  {
   "cell_type": "markdown",
   "metadata": {},
   "source": [
    "net1a is clearly the best"
   ]
  },
  {
   "cell_type": "code",
   "execution_count": 111,
   "metadata": {},
   "outputs": [
    {
     "data": {
      "text/html": [
       "<div class=\"toyplot\" id=\"ta28723bbf1a64a53a092fb0c60b08124\" style=\"text-align:center\"><svg class=\"toyplot-canvas-Canvas\" height=\"500.0px\" id=\"te3b2c78c55d044abade3998071203dd9\" preserveAspectRatio=\"xMidYMid meet\" style=\"background-color:transparent;border-color:#292724;border-style:none;border-width:1.0;fill:rgb(16.1%,15.3%,14.1%);fill-opacity:1.0;font-family:Helvetica;font-size:12px;opacity:1.0;stroke:rgb(16.1%,15.3%,14.1%);stroke-opacity:1.0;stroke-width:1.0\" viewBox=\"0 0 325.0 500.0\" width=\"325.0px\" xmlns=\"http://www.w3.org/2000/svg\" xmlns:toyplot=\"http://www.sandia.gov/toyplot\" xmlns:xlink=\"http://www.w3.org/1999/xlink\"><g class=\"toyplot-coordinates-Cartesian\" id=\"td45b1eb2660345a9b7c0f01be9c57eed\"><clipPath id=\"t4f23bd277c884aa484cfad68f65c6082\"><rect height=\"440.0\" width=\"265.0\" x=\"30.0\" y=\"30.0\"></rect></clipPath><g clip-path=\"url(#t4f23bd277c884aa484cfad68f65c6082)\"><g class=\"toytree-mark-Toytree\" id=\"tb7e717849c674fe88d84617a3ad7f499\"><g class=\"toytree-Edges\" style=\"fill:none;stroke:rgb(14.9%,14.9%,14.9%);stroke-linecap:round;stroke-opacity:1;stroke-width:2\"><path d=\"M 51.2 207.1 L 51.2 114.8 L 88.7 114.8\" id=\"44,43\"></path><path d=\"M 51.2 207.1 L 51.2 299.4 L 69.9 299.4\" id=\"44,42\"></path><path d=\"M 88.7 114.8 L 88.7 76.8 L 126.2 76.8\" id=\"43,41\"></path><path d=\"M 88.7 114.8 L 88.7 152.7 L 107.4 152.7\" id=\"43,40\"></path><path d=\"M 69.9 299.4 L 69.9 247.9 L 126.2 247.9\" id=\"42,39\"></path><path d=\"M 69.9 299.4 L 69.9 351.0 L 88.7 351.0\" id=\"42,38\"></path><path d=\"M 126.2 76.8 L 126.2 91.8 L 144.9 91.8\" id=\"41,37\"></path><path d=\"M 107.4 152.7 L 107.4 175.2 L 126.2 175.2\" id=\"40,36\"></path><path d=\"M 126.2 247.9 L 126.2 262.8 L 144.9 262.8\" id=\"39,35\"></path><path d=\"M 88.7 351.0 L 88.7 316.3 L 126.2 316.3\" id=\"38,34\"></path><path d=\"M 88.7 351.0 L 88.7 385.8 L 107.4 385.8\" id=\"38,33\"></path><path d=\"M 144.9 91.8 L 144.9 104.6 L 163.7 104.6\" id=\"37,32\"></path><path d=\"M 126.2 175.2 L 126.2 155.9 L 163.7 155.9\" id=\"36,31\"></path><path d=\"M 126.2 175.2 L 126.2 194.4 L 144.9 194.4\" id=\"36,30\"></path><path d=\"M 144.9 262.8 L 144.9 275.7 L 163.7 275.7\" id=\"35,29\"></path><path d=\"M 126.2 316.3 L 126.2 331.2 L 144.9 331.2\" id=\"34,28\"></path><path d=\"M 107.4 385.8 L 107.4 401.8 L 126.2 401.8\" id=\"33,27\"></path><path d=\"M 144.9 194.4 L 144.9 207.2 L 163.7 207.2\" id=\"30,26\"></path><path d=\"M 144.9 331.2 L 144.9 344.1 L 163.7 344.1\" id=\"28,25\"></path><path d=\"M 126.2 401.8 L 126.2 416.8 L 144.9 416.8\" id=\"27,24\"></path><path d=\"M 144.9 416.8 L 144.9 429.6 L 163.7 429.6\" id=\"24,23\"></path><path d=\"M 126.2 76.8 L 126.2 61.9 L 182.4 61.9\" id=\"41,22\"></path><path d=\"M 144.9 91.8 L 144.9 79.0 L 182.4 79.0\" id=\"37,21\"></path><path d=\"M 163.7 104.6 L 163.7 96.1 L 182.4 96.1\" id=\"32,20\"></path><path d=\"M 163.7 104.6 L 163.7 113.2 L 182.4 113.2\" id=\"32,19\"></path><path d=\"M 107.4 152.7 L 107.4 130.3 L 182.4 130.3\" id=\"40,18\"></path><path d=\"M 163.7 155.9 L 163.7 147.4 L 182.4 147.4\" id=\"31,17\"></path><path d=\"M 163.7 155.9 L 163.7 164.5 L 182.4 164.5\" id=\"31,16\"></path><path d=\"M 144.9 194.4 L 144.9 181.6 L 182.4 181.6\" id=\"30,15\"></path><path d=\"M 163.7 207.2 L 163.7 198.7 L 182.4 198.7\" id=\"26,14\"></path><path d=\"M 163.7 207.2 L 163.7 215.8 L 182.4 215.8\" id=\"26,13\"></path><path d=\"M 126.2 247.9 L 126.2 232.9 L 182.4 232.9\" id=\"39,12\"></path><path d=\"M 144.9 262.8 L 144.9 250.0 L 182.4 250.0\" id=\"35,11\"></path><path d=\"M 163.7 275.7 L 163.7 267.1 L 182.4 267.1\" id=\"29,10\"></path><path d=\"M 163.7 275.7 L 163.7 284.2 L 182.4 284.2\" id=\"29,9\"></path><path d=\"M 126.2 316.3 L 126.2 301.3 L 182.4 301.3\" id=\"34,8\"></path><path d=\"M 144.9 331.2 L 144.9 318.4 L 182.4 318.4\" id=\"28,7\"></path><path d=\"M 163.7 344.1 L 163.7 335.5 L 182.4 335.5\" id=\"25,6\"></path><path d=\"M 163.7 344.1 L 163.7 352.6 L 182.4 352.6\" id=\"25,5\"></path><path d=\"M 107.4 385.8 L 107.4 369.7 L 182.4 369.7\" id=\"33,4\"></path><path d=\"M 126.2 401.8 L 126.2 386.8 L 182.4 386.8\" id=\"27,3\"></path><path d=\"M 144.9 416.8 L 144.9 403.9 L 182.4 403.9\" id=\"24,2\"></path><path d=\"M 163.7 429.6 L 163.7 421.0 L 182.4 421.0\" id=\"23,1\"></path><path d=\"M 163.7 429.6 L 163.7 438.1 L 182.4 438.1\" id=\"23,0\"></path></g><g class=\"toytree-AdmixEdges\" style=\"fill:none;font-size:14px;stroke:rgba(90.6%,54.1%,76.5%,1.000);stroke-linecap:round;stroke-opacity:0.6;stroke-width:5\"><path d=\"M 182.4 232.9 L 154.3 232.9 L 79.3 351.0 L 69.9 351.0\" style=\"stroke:rgb(98.8%,55.3%,38.4%);stroke-opacity:0.7\"></path><text style=\"fill:#262626;fill-opacity:1.0;stroke:none;stroke-opacity:0.7;text-anchor:middle\" x=\"116.79\" y=\"303.96\">0.489</text></g><g class=\"toytree-TipLabels\" style=\"fill:rgb(14.9%,14.9%,14.9%);fill-opacity:1.0;font-family:helvetica;font-size:11px;font-weight:normal;stroke:none;white-space:pre\"><g transform=\"translate(182.41,438.15)rotate(0)\"><text style=\"\" x=\"15.00\" y=\"2.81\">caudatus</text></g><g transform=\"translate(182.41,421.04)rotate(0)\"><text style=\"\" x=\"15.00\" y=\"2.81\">quitensis</text></g><g transform=\"translate(182.41,403.94)rotate(0)\"><text style=\"\" x=\"15.00\" y=\"2.81\">hybridus</text></g><g transform=\"translate(182.41,386.83)rotate(0)\"><text style=\"\" x=\"15.00\" y=\"2.81\">hypochondriacus</text></g><g transform=\"translate(182.41,369.73)rotate(0)\"><text style=\"\" x=\"15.00\" y=\"2.81\">cruentus</text></g><g transform=\"translate(182.41,352.63)rotate(0)\"><text style=\"\" x=\"15.00\" y=\"2.81\">retroflexus</text></g><g transform=\"translate(182.41,335.52)rotate(0)\"><text style=\"\" x=\"15.00\" y=\"2.81\">wrightii</text></g><g transform=\"translate(182.41,318.42)rotate(0)\"><text style=\"\" x=\"15.00\" y=\"2.81\">powellii</text></g><g transform=\"translate(182.41,301.31)rotate(0)\"><text style=\"\" x=\"15.00\" y=\"2.81\">acutilobus</text></g><g transform=\"translate(182.41,284.21)rotate(0)\"><text style=\"\" x=\"15.00\" y=\"2.81\">palmeri</text></g><g transform=\"translate(182.41,267.10)rotate(0)\"><text style=\"\" x=\"15.00\" y=\"2.81\">watsonii</text></g><g transform=\"translate(182.41,250.00)rotate(0)\"><text style=\"\" x=\"15.00\" y=\"2.81\">spinosus</text></g><g transform=\"translate(182.41,232.90)rotate(0)\"><text style=\"\" x=\"15.00\" y=\"2.81\">dubius</text></g><g transform=\"translate(182.41,215.79)rotate(0)\"><text style=\"\" x=\"15.00\" y=\"2.81\">blitum</text></g><g transform=\"translate(182.41,198.69)rotate(0)\"><text style=\"\" x=\"15.00\" y=\"2.81\">tricolor</text></g><g transform=\"translate(182.41,181.58)rotate(0)\"><text style=\"\" x=\"15.00\" y=\"2.81\">viridis</text></g><g transform=\"translate(182.41,164.48)rotate(0)\"><text style=\"\" x=\"15.00\" y=\"2.81\">albus</text></g><g transform=\"translate(182.41,147.37)rotate(0)\"><text style=\"\" x=\"15.00\" y=\"2.81\">blitoides</text></g><g transform=\"translate(182.41,130.27)rotate(0)\"><text style=\"\" x=\"15.00\" y=\"2.81\">fimbriatus</text></g><g transform=\"translate(182.41,113.17)rotate(0)\"><text style=\"\" x=\"15.00\" y=\"2.81\">tuberculatus</text></g><g transform=\"translate(182.41,96.06)rotate(0)\"><text style=\"\" x=\"15.00\" y=\"2.81\">arenicola</text></g><g transform=\"translate(182.41,78.96)rotate(0)\"><text style=\"\" x=\"15.00\" y=\"2.81\">pumilus</text></g><g transform=\"translate(182.41,61.85)rotate(0)\"><text style=\"\" x=\"15.00\" y=\"2.81\">cannabinus</text></g></g></g></g></g></svg><div class=\"toyplot-behavior\"><script>(function()\n",
       "{\n",
       "var modules={};\n",
       "})();</script></div></div>"
      ]
     },
     "metadata": {},
     "output_type": "display_data"
    }
   ],
   "source": [
    "#get tree and admix scenario\n",
    "tree, admix = toytree.utils.parse_network(net1a)\n",
    "\n",
    "#re-root the tree on node 32\n",
    "rtree = tree.root([\"palmeri\",\"watsonii\",\"spinosus\",\"dubius\",\"caudatus\",\"quitensis\",\"hybridus\",\"hypochondriacus\",\n",
    "             \"cruentus\",\"acutilobus\",\"wrightii\",\"retroflexus\",\"powellii\"])\n",
    "\n",
    "#draw network\n",
    "rtree.draw(\n",
    "    #ts='o',\n",
    "    height=500,\n",
    "    use_edge_lengths=False,\n",
    "    admixture_edges=admix.values(),\n",
    ");"
   ]
  },
  {
   "cell_type": "code",
   "execution_count": 112,
   "metadata": {},
   "outputs": [],
   "source": [
    "net2a = \"\"\"\n",
    "(arenicola,tuberculatus,(pumilus,(cannabinus,(((((spinosus,(watsonii,palmeri):0.7426542034376311):0.4572142257388765,(dubius)#H24:::0.5115238912037094):2.6250319253508865,((((powellii,(wrightii,retroflexus):1.5948191735429145):0.808642023836672,acutilobus):0.5587431079292837,((hypochondriacus,(hybridus,(quitensis,caudatus):1.6245875908827085):0.32888268884500416):0.2336770865238299,cruentus):1.558072037209277):0.976014358471712,#H24:::0.4884761087962906):2.4910463286092823):3.4116895246080454,(fimbriatus,(((viridis,(tricolor,blitum):0.8455995748168074):2.235147346480098,(blitoides,albus):2.5012315133670353):1.4421156987157215)#H25:0.0::0.8076508181626314):1.4939875152444007):1.199456703487743,#H25:0.010090494564673957::0.19234918183736863):1.3475254306994213):0.45101229839185086):0.49353155436438595); -Ploglik = 7729.682957645549\n",
    "        \"\"\".strip().replace(\"\\n\",\"\")\n",
    "\n",
    "net2b = \"\"\"\n",
    "(watsonii,palmeri,(spinosus,((dubius)#H24:::0.5130591639362121,(((((powellii,(wrightii,retroflexus):1.4515245210046976):0.7878417767937291,acutilobus):0.5833782723877368,((hypochondriacus,(hybridus,(quitensis,caudatus):1.5479513733125827):0.29570660359796425):0.2214719295948326,cruentus):1.600535391354719):0.9914907494219439,#H24:::0.4869408360637879):2.526313751637625,((fimbriatus,(#H25:0.010849483919714135::0.22297233734788913,((viridis,(tricolor,blitum):0.8494165451671142):2.2495383788389955,(blitoides,albus):2.652858710628721):0.9811130911979103):0.4044764279194898):1.3621331506988699,(((pumilus,(arenicola,tuberculatus):0.4529397028654005):0.4414530957792482,cannabinus):1.917068806091024)#H25:1.197187270664577::0.7770276626521109):3.230951468027653):2.6480897350163395):0.4363500505355578):0.6848109925338459);, with -loglik 8138.451209644637\n",
    "        \"\"\".strip().replace(\"\\n\",\"\")\n",
    "\n",
    "net2c = \"\"\"\n",
    "(arenicola,tuberculatus,(pumilus,(cannabinus,(((((spinosus,(watsonii,palmeri):0.6160419557708448):1.9100391210161873,(dubius,#H24:0.0::0.4927151180760303):3.259456746275406):4.3234315242531975,((((powellii,(wrightii,retroflexus):1.6193564262431184):0.8080073187450425,acutilobus):0.5528721771966765,((hypochondriacus,(hybridus,(quitensis,caudatus):1.535972192177311):0.40963942646667645):0.2117334003422114,cruentus):1.5442548567744483):2.3122961688565495)#H24:1.9470860761916922::0.5072848819239697):2.8582275122745733,(fimbriatus,(((viridis,(tricolor,blitum):0.8286743354959965):2.1455910819072157,(blitoides,albus):2.4105817034213963):1.4946473773252957)#H25:0.0::0.76627215019535):1.6735726528119834):0.8061471419380034,#H25:9.025174341202106e-5::0.23372784980465006):1.583819983896532):0.4931266968826935):0.40389573122628386);, with -loglik 8728.701432646514\n",
    "        \"\"\".strip().replace(\"\\n\",\"\")\n",
    "\n",
    "net2d = \"\"\"\n",
    "(arenicola,tuberculatus,(pumilus,(cannabinus,(((((spinosus,(watsonii,palmeri):0.7182468952527837):2.142368159370991)#H24:3.5790049425947417::0.5205363992364898,((((powellii,(wrightii,retroflexus):1.6391456278187568):0.7545348274394735,acutilobus):0.5537059763328198,((hypochondriacus,(hybridus,(quitensis,caudatus):1.5481066129851455):0.31924137723300394):0.26141328525997226,cruentus):1.5400058554993332):2.055538730260044,(dubius,#H24:1.4131392435883596::0.47946360076351024):3.514349634400369):2.6694917869135923):2.704856793212743,(fimbriatus,(((viridis,(tricolor,blitum):0.8555546470129294):2.200842406621326,(blitoides,albus):2.5158988914567395):1.3998103323975146)#H25:0.0::0.8267712170491612):1.4111939826663709):1.3996902314174169,#H25:0.01619380847443342::0.1732287829508387):1.1484437542770611):0.5336278501155467):0.3874332811840529);, with -loglik 9061.153309959074\n",
    "        \"\"\".strip().replace(\"\\n\",\"\")"
   ]
  },
  {
   "cell_type": "markdown",
   "metadata": {},
   "source": [
    "Both net2a and net2b make sense, so net2a is better because of the lower -LL"
   ]
  },
  {
   "cell_type": "code",
   "execution_count": 117,
   "metadata": {},
   "outputs": [
    {
     "data": {
      "text/html": [
       "<div class=\"toyplot\" id=\"tc2da2e990500421da06f01c22dc810fb\" style=\"text-align:center\"><svg class=\"toyplot-canvas-Canvas\" height=\"500.0px\" id=\"t9215a1a5a147484ba37bc1823030d7e9\" preserveAspectRatio=\"xMidYMid meet\" style=\"background-color:transparent;border-color:#292724;border-style:none;border-width:1.0;fill:rgb(16.1%,15.3%,14.1%);fill-opacity:1.0;font-family:Helvetica;font-size:12px;opacity:1.0;stroke:rgb(16.1%,15.3%,14.1%);stroke-opacity:1.0;stroke-width:1.0\" viewBox=\"0 0 325.0 500.0\" width=\"325.0px\" xmlns=\"http://www.w3.org/2000/svg\" xmlns:toyplot=\"http://www.sandia.gov/toyplot\" xmlns:xlink=\"http://www.w3.org/1999/xlink\"><g class=\"toyplot-coordinates-Cartesian\" id=\"tefa8687cfc3d46e39831938d0e1f236b\"><clipPath id=\"t681bc1ea9fb14d9bbd692be9827f8269\"><rect height=\"440.0\" width=\"265.0\" x=\"30.0\" y=\"30.0\"></rect></clipPath><g clip-path=\"url(#t681bc1ea9fb14d9bbd692be9827f8269)\"><g class=\"toytree-mark-Toytree\" id=\"tec5972f6b3f8499ba23acd2879cadccf\"><g class=\"toytree-Edges\" style=\"fill:none;stroke:rgb(14.9%,14.9%,14.9%);stroke-linecap:round;stroke-opacity:1;stroke-width:2\"><path d=\"M 51.2 207.1 L 51.2 114.8 L 88.7 114.8\" id=\"44,43\"></path><path d=\"M 51.2 207.1 L 51.2 299.4 L 69.9 299.4\" id=\"44,42\"></path><path d=\"M 88.7 114.8 L 88.7 76.8 L 126.2 76.8\" id=\"43,41\"></path><path d=\"M 88.7 114.8 L 88.7 152.7 L 107.4 152.7\" id=\"43,40\"></path><path d=\"M 69.9 299.4 L 69.9 247.9 L 126.2 247.9\" id=\"42,39\"></path><path d=\"M 69.9 299.4 L 69.9 351.0 L 88.7 351.0\" id=\"42,38\"></path><path d=\"M 126.2 76.8 L 126.2 91.8 L 144.9 91.8\" id=\"41,37\"></path><path d=\"M 107.4 152.7 L 107.4 175.2 L 126.2 175.2\" id=\"40,36\"></path><path d=\"M 126.2 247.9 L 126.2 262.8 L 144.9 262.8\" id=\"39,35\"></path><path d=\"M 88.7 351.0 L 88.7 316.3 L 126.2 316.3\" id=\"38,34\"></path><path d=\"M 88.7 351.0 L 88.7 385.8 L 107.4 385.8\" id=\"38,33\"></path><path d=\"M 144.9 91.8 L 144.9 104.6 L 163.7 104.6\" id=\"37,32\"></path><path d=\"M 126.2 175.2 L 126.2 155.9 L 163.7 155.9\" id=\"36,31\"></path><path d=\"M 126.2 175.2 L 126.2 194.4 L 144.9 194.4\" id=\"36,30\"></path><path d=\"M 144.9 262.8 L 144.9 275.7 L 163.7 275.7\" id=\"35,29\"></path><path d=\"M 126.2 316.3 L 126.2 331.2 L 144.9 331.2\" id=\"34,28\"></path><path d=\"M 107.4 385.8 L 107.4 401.8 L 126.2 401.8\" id=\"33,27\"></path><path d=\"M 144.9 194.4 L 144.9 207.2 L 163.7 207.2\" id=\"30,26\"></path><path d=\"M 144.9 331.2 L 144.9 344.1 L 163.7 344.1\" id=\"28,25\"></path><path d=\"M 126.2 401.8 L 126.2 416.8 L 144.9 416.8\" id=\"27,24\"></path><path d=\"M 144.9 416.8 L 144.9 429.6 L 163.7 429.6\" id=\"24,23\"></path><path d=\"M 126.2 76.8 L 126.2 61.9 L 182.4 61.9\" id=\"41,22\"></path><path d=\"M 144.9 91.8 L 144.9 79.0 L 182.4 79.0\" id=\"37,21\"></path><path d=\"M 163.7 104.6 L 163.7 96.1 L 182.4 96.1\" id=\"32,20\"></path><path d=\"M 163.7 104.6 L 163.7 113.2 L 182.4 113.2\" id=\"32,19\"></path><path d=\"M 107.4 152.7 L 107.4 130.3 L 182.4 130.3\" id=\"40,18\"></path><path d=\"M 163.7 155.9 L 163.7 147.4 L 182.4 147.4\" id=\"31,17\"></path><path d=\"M 163.7 155.9 L 163.7 164.5 L 182.4 164.5\" id=\"31,16\"></path><path d=\"M 144.9 194.4 L 144.9 181.6 L 182.4 181.6\" id=\"30,15\"></path><path d=\"M 163.7 207.2 L 163.7 198.7 L 182.4 198.7\" id=\"26,14\"></path><path d=\"M 163.7 207.2 L 163.7 215.8 L 182.4 215.8\" id=\"26,13\"></path><path d=\"M 126.2 247.9 L 126.2 232.9 L 182.4 232.9\" id=\"39,12\"></path><path d=\"M 144.9 262.8 L 144.9 250.0 L 182.4 250.0\" id=\"35,11\"></path><path d=\"M 163.7 275.7 L 163.7 267.1 L 182.4 267.1\" id=\"29,10\"></path><path d=\"M 163.7 275.7 L 163.7 284.2 L 182.4 284.2\" id=\"29,9\"></path><path d=\"M 126.2 316.3 L 126.2 301.3 L 182.4 301.3\" id=\"34,8\"></path><path d=\"M 144.9 331.2 L 144.9 318.4 L 182.4 318.4\" id=\"28,7\"></path><path d=\"M 163.7 344.1 L 163.7 335.5 L 182.4 335.5\" id=\"25,6\"></path><path d=\"M 163.7 344.1 L 163.7 352.6 L 182.4 352.6\" id=\"25,5\"></path><path d=\"M 107.4 385.8 L 107.4 369.7 L 182.4 369.7\" id=\"33,4\"></path><path d=\"M 126.2 401.8 L 126.2 386.8 L 182.4 386.8\" id=\"27,3\"></path><path d=\"M 144.9 416.8 L 144.9 403.9 L 182.4 403.9\" id=\"24,2\"></path><path d=\"M 163.7 429.6 L 163.7 421.0 L 182.4 421.0\" id=\"23,1\"></path><path d=\"M 163.7 429.6 L 163.7 438.1 L 182.4 438.1\" id=\"23,0\"></path></g><g class=\"toytree-AdmixEdges\" style=\"fill:none;font-size:14px;stroke:rgba(90.6%,54.1%,76.5%,1.000);stroke-linecap:round;stroke-opacity:0.6;stroke-width:5\"><path d=\"M 182.4 232.9 L 154.3 232.9 L 79.3 351.0 L 69.9 351.0\" style=\"stroke:rgb(98.8%,55.3%,38.4%);stroke-opacity:0.7\"></path><text style=\"fill:#262626;fill-opacity:1.0;stroke:none;stroke-opacity:0.7;text-anchor:middle\" x=\"116.79\" y=\"303.96\">0.488</text><path d=\"M 126.2 175.2 L 116.8 175.2 L 116.8 76.8 L 88.7 76.8\" style=\"stroke:rgb(55.3%,62.7%,79.6%);stroke-opacity:0.7\"></path><text style=\"fill:#262626;fill-opacity:1.0;stroke:none;stroke-opacity:0.7;text-anchor:middle\" x=\"116.79\" y=\"137.99\">0.192</text></g><g class=\"toytree-TipLabels\" style=\"fill:rgb(14.9%,14.9%,14.9%);fill-opacity:1.0;font-family:helvetica;font-size:11px;font-weight:normal;stroke:none;white-space:pre\"><g transform=\"translate(182.41,438.15)rotate(0)\"><text style=\"\" x=\"15.00\" y=\"2.81\">caudatus</text></g><g transform=\"translate(182.41,421.04)rotate(0)\"><text style=\"\" x=\"15.00\" y=\"2.81\">quitensis</text></g><g transform=\"translate(182.41,403.94)rotate(0)\"><text style=\"\" x=\"15.00\" y=\"2.81\">hybridus</text></g><g transform=\"translate(182.41,386.83)rotate(0)\"><text style=\"\" x=\"15.00\" y=\"2.81\">hypochondriacus</text></g><g transform=\"translate(182.41,369.73)rotate(0)\"><text style=\"\" x=\"15.00\" y=\"2.81\">cruentus</text></g><g transform=\"translate(182.41,352.63)rotate(0)\"><text style=\"\" x=\"15.00\" y=\"2.81\">retroflexus</text></g><g transform=\"translate(182.41,335.52)rotate(0)\"><text style=\"\" x=\"15.00\" y=\"2.81\">wrightii</text></g><g transform=\"translate(182.41,318.42)rotate(0)\"><text style=\"\" x=\"15.00\" y=\"2.81\">powellii</text></g><g transform=\"translate(182.41,301.31)rotate(0)\"><text style=\"\" x=\"15.00\" y=\"2.81\">acutilobus</text></g><g transform=\"translate(182.41,284.21)rotate(0)\"><text style=\"\" x=\"15.00\" y=\"2.81\">palmeri</text></g><g transform=\"translate(182.41,267.10)rotate(0)\"><text style=\"\" x=\"15.00\" y=\"2.81\">watsonii</text></g><g transform=\"translate(182.41,250.00)rotate(0)\"><text style=\"\" x=\"15.00\" y=\"2.81\">spinosus</text></g><g transform=\"translate(182.41,232.90)rotate(0)\"><text style=\"\" x=\"15.00\" y=\"2.81\">dubius</text></g><g transform=\"translate(182.41,215.79)rotate(0)\"><text style=\"\" x=\"15.00\" y=\"2.81\">blitum</text></g><g transform=\"translate(182.41,198.69)rotate(0)\"><text style=\"\" x=\"15.00\" y=\"2.81\">tricolor</text></g><g transform=\"translate(182.41,181.58)rotate(0)\"><text style=\"\" x=\"15.00\" y=\"2.81\">viridis</text></g><g transform=\"translate(182.41,164.48)rotate(0)\"><text style=\"\" x=\"15.00\" y=\"2.81\">albus</text></g><g transform=\"translate(182.41,147.37)rotate(0)\"><text style=\"\" x=\"15.00\" y=\"2.81\">blitoides</text></g><g transform=\"translate(182.41,130.27)rotate(0)\"><text style=\"\" x=\"15.00\" y=\"2.81\">fimbriatus</text></g><g transform=\"translate(182.41,113.17)rotate(0)\"><text style=\"\" x=\"15.00\" y=\"2.81\">tuberculatus</text></g><g transform=\"translate(182.41,96.06)rotate(0)\"><text style=\"\" x=\"15.00\" y=\"2.81\">arenicola</text></g><g transform=\"translate(182.41,78.96)rotate(0)\"><text style=\"\" x=\"15.00\" y=\"2.81\">pumilus</text></g><g transform=\"translate(182.41,61.85)rotate(0)\"><text style=\"\" x=\"15.00\" y=\"2.81\">cannabinus</text></g></g></g></g></g></svg><div class=\"toyplot-behavior\"><script>(function()\n",
       "{\n",
       "var modules={};\n",
       "})();</script></div></div>"
      ]
     },
     "metadata": {},
     "output_type": "display_data"
    }
   ],
   "source": [
    "#get tree and admix scenario\n",
    "tree, admix = toytree.utils.parse_network(net2a)\n",
    "\n",
    "#re-root the tree on node 32\n",
    "rtree = tree.root([\"palmeri\",\"watsonii\",\"spinosus\",\"dubius\",\"caudatus\",\"quitensis\",\"hybridus\",\"hypochondriacus\",\n",
    "             \"cruentus\",\"acutilobus\",\"wrightii\",\"retroflexus\",\"powellii\"])\n",
    "\n",
    "#draw network\n",
    "rtree.draw(\n",
    "    #ts='o',\n",
    "    height=500,\n",
    "    use_edge_lengths=False,\n",
    "    admixture_edges=admix.values(),\n",
    ");"
   ]
  },
  {
   "cell_type": "code",
   "execution_count": 118,
   "metadata": {},
   "outputs": [],
   "source": [
    "net3a = \"\"\"\n",
    "(arenicola,(tuberculatus,(cannabinus,(#H26:::0.49312890850099766,((((viridis,(tricolor,blitum):0.8460225503442457):2.2330788613831674,(blitoides,albus):2.4978994828516314):1.0730078439407602,(fimbriatus,#H25:0.0::0.14270343303353747):4.568055204211973):1.3232978091248788,((((spinosus,(watsonii,palmeri):0.7367557286442685):0.4621479356806182,(dubius)#H24:::0.5117870837883807):2.623524367522203,((((powellii,(wrightii,retroflexus):1.5923442790871323):0.8085917195312972,acutilobus):0.5588938246306684,((hypochondriacus,(hybridus,(quitensis,caudatus):1.6269330222341343):0.32590804983493254):0.23583343534994122,cruentus):1.5573802562634735):0.9773816212119872,#H24:::0.4882129162116193):2.4899146095616973):2.6095683154649603)#H25:6.064458356574689::0.8572965669664625):1.693449721738103):0.5806991916724343):1.203149986185998):1.5919144554998557,(pumilus)#H26:::0.5068710914990023); -Ploglik = 6880.791930260083\n",
    "        \"\"\".strip().replace(\"\\n\",\"\")\n",
    "\n",
    "net3b = \"\"\"(arenicola,(tuberculatus,(cannabinus,(#H26:::0.48024466922060816,((((viridis,(tricolor,blitum):0.85922003191155):2.235179007435509,(blitoides,albus):2.4380043935152473):0.8833761976281458,(fimbriatus)#H25:::0.8261007780038925):1.3274542102813842,((((spinosus,(watsonii,palmeri):0.7162812372369256):0.433447474105658,(dubius)#H24:::0.5096990897743874):2.640806943463204,((((powellii,(wrightii,retroflexus):1.534360059069867):0.8077064442804586,acutilobus):0.5596935760075902,((hypochondriacus,(hybridus,(quitensis,caudatus):1.6245488173122637):0.32971314508115607):0.2199512540669409,cruentus):1.5660352385939305):0.9877787758670736,#H24:::0.49030091022561256):2.462148762131635):2.0642652122769096,#H25:::0.17389922199610755):1.6838153350075904):1.749845545148877):0.6688589698499614):1.1754152468812933):1.5846071158192285,(pumilus)#H26:::0.5197553307793918);, with -loglik 6916.390386354089\n",
    " \"\"\".strip().replace(\"\\n\",\"\")\n",
    "\n",
    "net3c = \"\"\"(arenicola,(tuberculatus)#H26:::0.6546314716195396,(pumilus,(((((viridis,(tricolor,blitum):0.818854329304055):2.2547637062176737,(blitoides,albus):2.5034969754086736):1.0680534261915882,(fimbriatus,#H25:0.0831727222975796::0.1432102426541442):5.0506525970312826):1.3288716859675755,((((spinosus,(watsonii,palmeri):0.7877355286336991):0.49596762825006424,(dubius)#H24:::0.513511269836288):2.589820422284031,((((powellii,(wrightii,retroflexus):1.5808038580778387):0.8161967803652728,acutilobus):0.5590029957402004,((hypochondriacus,(hybridus,(quitensis,caudatus):1.6230433598892722):0.33804384192264053):0.21866352139528616,cruentus):1.5603117846734098):0.9610617973682661,#H24:::0.48648873016371197):2.5078766483013957):2.6040238328015364)#H25:5.868503895355257::0.8567897573458558):2.006196776236645,(cannabinus,#H26:::0.34536852838046034):0.8321243522585936):0.7174194711377447):2.1604430924464797);, with -loglik 6959.088053626537\n",
    " \"\"\".strip().replace(\"\\n\",\"\")\n",
    "\n",
    "net3d = \"\"\"(arenicola,(tuberculatus,(cannabinus,((pumilus)#H26:::0.5103449140805995,(#H25:1.4436575451883462::0.18147579583046303,((((spinosus,(watsonii,palmeri):0.7485281683417184):0.4395368354950917,(dubius)#H24:::0.5095245193323612):2.6355886780950826,((((powellii,(wrightii,retroflexus):1.5749262907493555):0.8029033168243929,acutilobus):0.5614407836617524,((hypochondriacus,(hybridus,(quitensis,caudatus):1.6186674386187123):0.3119612198288264):0.27029899203985863,cruentus):1.5439430794783893):0.9803402777966409,#H24:::0.49047548066763885):2.4741954455481525):3.4197309067134274,(fimbriatus,(((viridis,(tricolor,blitum):0.8697582380460168):2.224210698471215,(blitoides,albus):2.528988312100622):1.4111771921729004)#H25:0.0::0.818524204169537):1.4424125768317748):1.353565141860206):0.864788867346949):0.5453404529459777):1.2321955624629195):2.2689646131615073,#H26:::0.48965508591940055);, with -loglik 7156.759849327942\n",
    " \"\"\".strip().replace(\"\\n\",\"\")\n",
    "\n",
    "net3e = \"\"\"(arenicola,(tuberculatus,(cannabinus,(((((viridis,(tricolor,blitum):0.835737141649332):2.212786820752324,(blitoides,albus):2.440614839801982):1.068460888690137,(fimbriatus,#H25:0.005262621091592191::0.14375712158456777):4.566851462856371):1.3352714404036359,((((spinosus,(watsonii,palmeri):0.741584637960891):0.45192574536307345,(dubius)#H24:::0.5108477566231457):2.637903798038831,((((powellii,(wrightii,retroflexus):1.5942881823736714):0.8029159102825636,acutilobus):0.5598017330196313,((hypochondriacus,(hybridus,(quitensis,caudatus):1.6161523292777646):0.3194858750910045):0.2351991560906214,cruentus):1.5627194414533436):0.9674768240210587,#H24:::0.48915224337685426):2.504038683535493):2.6242539877208175)#H25:5.719538308160537::0.8562428784154322):2.036976972054364)#H26:0.6874296967958142::0.6810860791389028):1.446185765214431):0.46591767897473846,(pumilus,#H26:2.240046292730673::0.31891392086109716):1.3528962925633699);, with -loglik 7187.131796155774\n",
    " \"\"\".strip().replace(\"\\n\",\"\")\n",
    "\n",
    "net3f = \"\"\"(tricolor,blitum,(viridis,((blitoides,albus):2.4931314116630365,((((pumilus,#H26:::0.4059719517470778):2.340870862452361,(cannabinus,((arenicola)#H26:::0.5940280482529222,tuberculatus):3.3365111920020176):0.14652823694852246):2.094473844091914,((((spinosus,(watsonii,palmeri):0.7107978136886337):0.46772474819402676,(dubius)#H24:::0.5093219412953133):2.635741690875681,((((powellii,(wrightii,retroflexus):1.6267693853398018):0.8131758875368712,acutilobus):0.5575849810381472,((hypochondriacus,(hybridus,(quitensis,caudatus):1.6253030659721663):0.3279467420669507):0.22954837460002803,cruentus):1.5667733970953193):0.9818255389741115,#H24:::0.4906780587046867):2.4883434021433124):2.657982212342432)#H25:6.010016976653775::0.8534065746853522):1.3360344838570357,(fimbriatus,#H25:0.0::0.14659342531464778):4.370029564816999):1.0734427622458134):2.220246784128457):0.8665000035432401);, with -loglik 7206.842291662783\n",
    " \"\"\".strip().replace(\"\\n\",\"\")\n",
    "\n",
    "net3g = \"\"\"(arenicola,(tuberculatus,#H26:::0.20748909284515527):1.3717793700432375,(pumilus,(((((viridis,(tricolor,blitum):0.8123405062745174):2.2559212106544857,(blitoides,albus):2.4525664342520366):1.0654213617303996,(fimbriatus,#H25:0.07248624473320514::0.14073197804017448):4.7213378128403996):1.319825118381394,((((spinosus,(watsonii,palmeri):0.7328155631455128):0.5066070405577798,(dubius)#H24:::0.5152415754637468):2.5839013814289546,((((powellii,(wrightii,retroflexus):1.569199952694288):0.8334496522267231,acutilobus):0.5587460675184063,((hypochondriacus,(hybridus,(quitensis,caudatus):1.5852160422090416):0.3583803755205918):0.23748131033309983,cruentus):1.5522683434986815):0.9714289913633336,#H24:::0.4847584245362532):2.4935615681291363):2.5779734564692136)#H25:5.502366848415842::0.8592680219598255):1.8652056423409715,(cannabinus)#H26:::0.7925109071548447):0.770994556525407):0.5735860017518583);, with -loglik 7238.623467414929\n",
    " \"\"\".strip().replace(\"\\n\",\"\")"
   ]
  },
  {
   "cell_type": "markdown",
   "metadata": {},
   "source": [
    "net3a has fimb donating to root <br>\n",
    "net3b has fimb receiving from root <br>\n",
    "net3c has fimb donating to root <br>\n",
    "net3d has the same major topology,  1st, and 2nd edges as net1 and net2, so we will go with this! <br>"
   ]
  },
  {
   "cell_type": "code",
   "execution_count": 130,
   "metadata": {},
   "outputs": [
    {
     "data": {
      "text/html": [
       "<div class=\"toyplot\" id=\"t0355ae4dc9534f41ba4468089675b265\" style=\"text-align:center\"><svg class=\"toyplot-canvas-Canvas\" height=\"500.0px\" id=\"t8313d3b5de53473fb40d9fabba196d1f\" preserveAspectRatio=\"xMidYMid meet\" style=\"background-color:transparent;border-color:#292724;border-style:none;border-width:1.0;fill:rgb(16.1%,15.3%,14.1%);fill-opacity:1.0;font-family:Helvetica;font-size:12px;opacity:1.0;stroke:rgb(16.1%,15.3%,14.1%);stroke-opacity:1.0;stroke-width:1.0\" viewBox=\"0 0 325.0 500.0\" width=\"325.0px\" xmlns=\"http://www.w3.org/2000/svg\" xmlns:toyplot=\"http://www.sandia.gov/toyplot\" xmlns:xlink=\"http://www.w3.org/1999/xlink\"><g class=\"toyplot-coordinates-Cartesian\" id=\"t714017c801f74cf4a7ba4c9b4cd31c4f\"><clipPath id=\"t752290876fce4cc4aa1e4b1238e53c02\"><rect height=\"440.0\" width=\"265.0\" x=\"30.0\" y=\"30.0\"></rect></clipPath><g clip-path=\"url(#t752290876fce4cc4aa1e4b1238e53c02)\"><g class=\"toytree-mark-Toytree\" id=\"t135ce7d85dc94642b51468f0fe440350\"><g class=\"toytree-Edges\" style=\"fill:none;stroke:rgb(14.9%,14.9%,14.9%);stroke-linecap:round;stroke-opacity:1;stroke-width:2\"><path d=\"M 51.2 207.1 L 51.2 114.8 L 88.7 114.8\" id=\"44,43\"></path><path d=\"M 51.2 207.1 L 51.2 299.4 L 69.9 299.4\" id=\"44,42\"></path><path d=\"M 88.7 114.8 L 88.7 76.8 L 126.2 76.8\" id=\"43,41\"></path><path d=\"M 88.7 114.8 L 88.7 152.7 L 107.4 152.7\" id=\"43,40\"></path><path d=\"M 69.9 299.4 L 69.9 247.9 L 126.2 247.9\" id=\"42,39\"></path><path d=\"M 69.9 299.4 L 69.9 351.0 L 88.7 351.0\" id=\"42,38\"></path><path d=\"M 126.2 76.8 L 126.2 91.8 L 144.9 91.8\" id=\"41,37\"></path><path d=\"M 107.4 152.7 L 107.4 175.2 L 126.2 175.2\" id=\"40,36\"></path><path d=\"M 126.2 247.9 L 126.2 262.8 L 144.9 262.8\" id=\"39,35\"></path><path d=\"M 88.7 351.0 L 88.7 316.3 L 126.2 316.3\" id=\"38,34\"></path><path d=\"M 88.7 351.0 L 88.7 385.8 L 107.4 385.8\" id=\"38,33\"></path><path d=\"M 144.9 91.8 L 144.9 104.6 L 163.7 104.6\" id=\"37,32\"></path><path d=\"M 126.2 175.2 L 126.2 155.9 L 163.7 155.9\" id=\"36,31\"></path><path d=\"M 126.2 175.2 L 126.2 194.4 L 144.9 194.4\" id=\"36,30\"></path><path d=\"M 144.9 262.8 L 144.9 275.7 L 163.7 275.7\" id=\"35,29\"></path><path d=\"M 126.2 316.3 L 126.2 331.2 L 144.9 331.2\" id=\"34,28\"></path><path d=\"M 107.4 385.8 L 107.4 401.8 L 126.2 401.8\" id=\"33,27\"></path><path d=\"M 144.9 194.4 L 144.9 207.2 L 163.7 207.2\" id=\"30,26\"></path><path d=\"M 144.9 331.2 L 144.9 344.1 L 163.7 344.1\" id=\"28,25\"></path><path d=\"M 126.2 401.8 L 126.2 416.8 L 144.9 416.8\" id=\"27,24\"></path><path d=\"M 144.9 416.8 L 144.9 429.6 L 163.7 429.6\" id=\"24,23\"></path><path d=\"M 126.2 76.8 L 126.2 61.9 L 182.4 61.9\" id=\"41,22\"></path><path d=\"M 144.9 91.8 L 144.9 79.0 L 182.4 79.0\" id=\"37,21\"></path><path d=\"M 163.7 104.6 L 163.7 96.1 L 182.4 96.1\" id=\"32,20\"></path><path d=\"M 163.7 104.6 L 163.7 113.2 L 182.4 113.2\" id=\"32,19\"></path><path d=\"M 107.4 152.7 L 107.4 130.3 L 182.4 130.3\" id=\"40,18\"></path><path d=\"M 163.7 155.9 L 163.7 147.4 L 182.4 147.4\" id=\"31,17\"></path><path d=\"M 163.7 155.9 L 163.7 164.5 L 182.4 164.5\" id=\"31,16\"></path><path d=\"M 144.9 194.4 L 144.9 181.6 L 182.4 181.6\" id=\"30,15\"></path><path d=\"M 163.7 207.2 L 163.7 198.7 L 182.4 198.7\" id=\"26,14\"></path><path d=\"M 163.7 207.2 L 163.7 215.8 L 182.4 215.8\" id=\"26,13\"></path><path d=\"M 126.2 247.9 L 126.2 232.9 L 182.4 232.9\" id=\"39,12\"></path><path d=\"M 144.9 262.8 L 144.9 250.0 L 182.4 250.0\" id=\"35,11\"></path><path d=\"M 163.7 275.7 L 163.7 267.1 L 182.4 267.1\" id=\"29,10\"></path><path d=\"M 163.7 275.7 L 163.7 284.2 L 182.4 284.2\" id=\"29,9\"></path><path d=\"M 126.2 316.3 L 126.2 301.3 L 182.4 301.3\" id=\"34,8\"></path><path d=\"M 144.9 331.2 L 144.9 318.4 L 182.4 318.4\" id=\"28,7\"></path><path d=\"M 163.7 344.1 L 163.7 335.5 L 182.4 335.5\" id=\"25,6\"></path><path d=\"M 163.7 344.1 L 163.7 352.6 L 182.4 352.6\" id=\"25,5\"></path><path d=\"M 107.4 385.8 L 107.4 369.7 L 182.4 369.7\" id=\"33,4\"></path><path d=\"M 126.2 401.8 L 126.2 386.8 L 182.4 386.8\" id=\"27,3\"></path><path d=\"M 144.9 416.8 L 144.9 403.9 L 182.4 403.9\" id=\"24,2\"></path><path d=\"M 163.7 429.6 L 163.7 421.0 L 182.4 421.0\" id=\"23,1\"></path><path d=\"M 163.7 429.6 L 163.7 438.1 L 182.4 438.1\" id=\"23,0\"></path></g><g class=\"toytree-AdmixEdges\" style=\"fill:none;font-size:14px;stroke:rgba(90.6%,54.1%,76.5%,1.000);stroke-linecap:round;stroke-opacity:0.6;stroke-width:5\"><path d=\"M 182.4 61.9 L 173.0 61.9 L 173.0 113.2 L 163.7 113.2\" style=\"stroke:rgb(98.8%,55.3%,38.4%);stroke-opacity:0.7\"></path><text style=\"fill:#262626;fill-opacity:1.0;stroke:none;stroke-opacity:0.7;text-anchor:middle\" x=\"173.03\" y=\"99.51\">0.49</text><path d=\"M 126.2 175.2 L 116.8 175.2 L 116.8 76.8 L 88.7 76.8\" style=\"stroke:rgb(55.3%,62.7%,79.6%);stroke-opacity:0.7\"></path><text style=\"fill:#262626;fill-opacity:1.0;stroke:none;stroke-opacity:0.7;text-anchor:middle\" x=\"116.79\" y=\"137.99\">0.181</text><path d=\"M 182.4 232.9 L 154.3 232.9 L 79.3 351.0 L 69.9 351.0\" style=\"stroke:rgb(90.6%,54.1%,76.5%);stroke-opacity:0.7\"></path><text style=\"fill:#262626;fill-opacity:1.0;stroke:none;stroke-opacity:0.7;text-anchor:middle\" x=\"116.79\" y=\"303.96\">0.49</text></g><g class=\"toytree-TipLabels\" style=\"fill:rgb(14.9%,14.9%,14.9%);fill-opacity:1.0;font-family:helvetica;font-size:11px;font-weight:normal;stroke:none;white-space:pre\"><g transform=\"translate(182.41,438.15)rotate(0)\"><text style=\"\" x=\"15.00\" y=\"2.81\">caudatus</text></g><g transform=\"translate(182.41,421.04)rotate(0)\"><text style=\"\" x=\"15.00\" y=\"2.81\">quitensis</text></g><g transform=\"translate(182.41,403.94)rotate(0)\"><text style=\"\" x=\"15.00\" y=\"2.81\">hybridus</text></g><g transform=\"translate(182.41,386.83)rotate(0)\"><text style=\"\" x=\"15.00\" y=\"2.81\">hypochondriacus</text></g><g transform=\"translate(182.41,369.73)rotate(0)\"><text style=\"\" x=\"15.00\" y=\"2.81\">cruentus</text></g><g transform=\"translate(182.41,352.63)rotate(0)\"><text style=\"\" x=\"15.00\" y=\"2.81\">retroflexus</text></g><g transform=\"translate(182.41,335.52)rotate(0)\"><text style=\"\" x=\"15.00\" y=\"2.81\">wrightii</text></g><g transform=\"translate(182.41,318.42)rotate(0)\"><text style=\"\" x=\"15.00\" y=\"2.81\">powellii</text></g><g transform=\"translate(182.41,301.31)rotate(0)\"><text style=\"\" x=\"15.00\" y=\"2.81\">acutilobus</text></g><g transform=\"translate(182.41,284.21)rotate(0)\"><text style=\"\" x=\"15.00\" y=\"2.81\">palmeri</text></g><g transform=\"translate(182.41,267.10)rotate(0)\"><text style=\"\" x=\"15.00\" y=\"2.81\">watsonii</text></g><g transform=\"translate(182.41,250.00)rotate(0)\"><text style=\"\" x=\"15.00\" y=\"2.81\">spinosus</text></g><g transform=\"translate(182.41,232.90)rotate(0)\"><text style=\"\" x=\"15.00\" y=\"2.81\">dubius</text></g><g transform=\"translate(182.41,215.79)rotate(0)\"><text style=\"\" x=\"15.00\" y=\"2.81\">blitum</text></g><g transform=\"translate(182.41,198.69)rotate(0)\"><text style=\"\" x=\"15.00\" y=\"2.81\">tricolor</text></g><g transform=\"translate(182.41,181.58)rotate(0)\"><text style=\"\" x=\"15.00\" y=\"2.81\">viridis</text></g><g transform=\"translate(182.41,164.48)rotate(0)\"><text style=\"\" x=\"15.00\" y=\"2.81\">albus</text></g><g transform=\"translate(182.41,147.37)rotate(0)\"><text style=\"\" x=\"15.00\" y=\"2.81\">blitoides</text></g><g transform=\"translate(182.41,130.27)rotate(0)\"><text style=\"\" x=\"15.00\" y=\"2.81\">fimbriatus</text></g><g transform=\"translate(182.41,113.17)rotate(0)\"><text style=\"\" x=\"15.00\" y=\"2.81\">arenicola</text></g><g transform=\"translate(182.41,96.06)rotate(0)\"><text style=\"\" x=\"15.00\" y=\"2.81\">tuberculatus</text></g><g transform=\"translate(182.41,78.96)rotate(0)\"><text style=\"\" x=\"15.00\" y=\"2.81\">cannabinus</text></g><g transform=\"translate(182.41,61.85)rotate(0)\"><text style=\"\" x=\"15.00\" y=\"2.81\">pumilus</text></g></g></g></g></g></svg><div class=\"toyplot-behavior\"><script>(function()\n",
       "{\n",
       "var modules={};\n",
       "})();</script></div></div>"
      ]
     },
     "metadata": {},
     "output_type": "display_data"
    }
   ],
   "source": [
    "#get tree and admix scenario\n",
    "tree, admix = toytree.utils.parse_network(net3d)\n",
    "\n",
    "#re-root the tree on node 32\n",
    "rtree = tree.root([\"palmeri\",\"watsonii\",\"spinosus\",\"dubius\",\"caudatus\",\"quitensis\",\"hybridus\",\"hypochondriacus\",\n",
    "             \"cruentus\",\"acutilobus\",\"wrightii\",\"retroflexus\",\"powellii\"])\n",
    "\n",
    "#draw network\n",
    "rtree.draw(\n",
    "    #ts='o',\n",
    "    height=500,\n",
    "    use_edge_lengths=False,\n",
    "    admixture_edges=admix.values(),\n",
    ");"
   ]
  },
  {
   "cell_type": "code",
   "execution_count": 22,
   "metadata": {},
   "outputs": [],
   "source": [
    "color_dict = {\n",
    "\"quitensis\": \"orange\",# 'quitensis',\n",
    "\"caudatus\": \"orange\",# 'caudatus',\n",
    "\"hypochondriacus\": \"orange\",# 'hypochondriacus',\n",
    "\"reference\": \"orange\",\n",
    "\"hybridus\": \"orange\",# 'hybridus',\n",
    "\"cruentus\": \"orange\",# 'cruentus',\n",
    "\"wrightii\": \"orange\",# 'wrightii',\n",
    "\"retroflexus\": \"orange\",# 'retroflexus',\n",
    "\"powellii\": \"orange\",# 'powellii',\n",
    "\"acutilobus\": \"orange\",# 'acutilobus',\n",
    "\"watsonii\": \"orange\",# 'watsonii',\n",
    "\"palmeri\": \"orange\",# 'palmeri',\n",
    "\"spinosus\": \"orange\",# 'spinosus',\n",
    "\"dubius\": \"orange\",# 'dubius',\n",
    "\"arenicola\": \"blue\",# 'arenicola',\n",
    "\"greggii\": \"blue\",# 'greggii',\n",
    "\"acanthochiton\": \"blue\",# 'acanthochiton',\n",
    "\"pumilus\": \"blue\",# 'pumilus',\n",
    "\"floridanus\": \"blue\",# 'floridanus',\n",
    "\"tuberculatus\": \"blue\",# 'tuberculatus',\n",
    "\"cannabinus\": \"blue\",# 'cannabinus',\n",
    "\"australis\": \"blue\",# 'australis',\n",
    "\"viridis\": \"red\",# 'viridis',\n",
    "\"deflexus\": \"red\",# 'deflexus',\n",
    "\"muricatus\": \"red\",# 'muricatus',\n",
    "\"standleyanus\": \"red\",# 'standleyanus',\n",
    "\"asplundii\": \"purple\",# 'asplundii',\n",
    "\"graecizans\": \"purple\",# 'graecizans',\n",
    "\"tricolor\": \"purple\",# 'tricolor',\n",
    "\"blitum\": \"purple\",# 'blitum',\n",
    "\"albus\": \"green\",# 'albus',\n",
    "\"californicus\": \"green\",# 'californicus',\n",
    "\"blitoides\": \"green\",# 'blitoides',\n",
    "\"torreyi\": \"green\",# 'torreyi',\n",
    "\"crassipes\": \"green\",# 'crassipes',\n",
    "\"tamaulipensis\": \"green\",# 'tamaulipensis',\n",
    "\"fimbriatus\": \"green\",# 'fimbriatus',\n",
    "\"tucsonensis\": \"green\",# 'tucsonensis',\n",
    "\"beet\": \"black\",# 'quinoa'\n",
    "\"unknown\": \"black\",\n",
    "}"
   ]
  },
  {
   "cell_type": "code",
   "execution_count": 24,
   "metadata": {},
   "outputs": [
    {
     "data": {
      "text/html": [
       "<div class=\"toyplot\" id=\"t97b9d9d364ed497ba529ffccebafc4c6\" style=\"text-align:center\"><svg class=\"toyplot-canvas-Canvas\" height=\"600.0px\" id=\"t771a9854428d49e096d609b92f8347e7\" preserveAspectRatio=\"xMidYMid meet\" style=\"background-color:transparent;border-color:#292724;border-style:none;border-width:1.0;fill:rgb(16.1%,15.3%,14.1%);fill-opacity:1.0;font-family:Helvetica;font-size:12px;opacity:1.0;stroke:rgb(16.1%,15.3%,14.1%);stroke-opacity:1.0;stroke-width:1.0\" viewBox=\"0 0 400.0 600.0\" width=\"400.0px\" xmlns=\"http://www.w3.org/2000/svg\" xmlns:toyplot=\"http://www.sandia.gov/toyplot\" xmlns:xlink=\"http://www.w3.org/1999/xlink\"><g class=\"toyplot-coordinates-Cartesian\" id=\"ta42afd8fe99643dfa77f25b7ed1e6089\"><clipPath id=\"te0e6438612fe4ee38690e3ad08838d6c\"><rect height=\"540.0\" width=\"340.0\" x=\"30.0\" y=\"30.0\"></rect></clipPath><g clip-path=\"url(#te0e6438612fe4ee38690e3ad08838d6c)\"><g class=\"toytree-mark-Toytree\" id=\"t56081080194c468d8236558162dde993\"><g class=\"toytree-Edges\" style=\"fill:none;stroke:rgb(14.9%,14.9%,14.9%);stroke-linecap:round;stroke-opacity:1;stroke-width:2\"><path d=\"M 51.2 246.4 L 51.2 130.9 L 102.8 130.9\" id=\"44,43\"></path><path d=\"M 51.2 246.4 L 51.2 361.8 L 77.0 361.8\" id=\"44,42\"></path><path d=\"M 102.8 130.9 L 102.8 83.4 L 154.4 83.4\" id=\"43,41\"></path><path d=\"M 102.8 130.9 L 102.8 178.3 L 128.6 178.3\" id=\"43,40\"></path><path d=\"M 77.0 361.8 L 77.0 297.3 L 154.4 297.3\" id=\"42,39\"></path><path d=\"M 77.0 361.8 L 77.0 426.3 L 102.8 426.3\" id=\"42,38\"></path><path d=\"M 154.4 83.4 L 154.4 102.1 L 180.2 102.1\" id=\"41,37\"></path><path d=\"M 128.6 178.3 L 128.6 206.4 L 154.4 206.4\" id=\"40,36\"></path><path d=\"M 154.4 297.3 L 154.4 316.0 L 180.2 316.0\" id=\"39,35\"></path><path d=\"M 102.8 426.3 L 102.8 382.9 L 154.4 382.9\" id=\"38,34\"></path><path d=\"M 102.8 426.3 L 102.8 469.8 L 128.6 469.8\" id=\"38,33\"></path><path d=\"M 180.2 102.1 L 180.2 118.2 L 205.9 118.2\" id=\"37,32\"></path><path d=\"M 154.4 206.4 L 154.4 182.3 L 205.9 182.3\" id=\"36,31\"></path><path d=\"M 154.4 206.4 L 154.4 230.5 L 180.2 230.5\" id=\"36,30\"></path><path d=\"M 180.2 316.0 L 180.2 332.1 L 205.9 332.1\" id=\"35,29\"></path><path d=\"M 154.4 382.9 L 154.4 401.6 L 180.2 401.6\" id=\"34,28\"></path><path d=\"M 128.6 469.8 L 128.6 489.9 L 154.4 489.9\" id=\"33,27\"></path><path d=\"M 180.2 230.5 L 180.2 246.5 L 205.9 246.5\" id=\"30,26\"></path><path d=\"M 180.2 401.6 L 180.2 417.7 L 205.9 417.7\" id=\"28,25\"></path><path d=\"M 154.4 489.9 L 154.4 508.6 L 180.2 508.6\" id=\"27,24\"></path><path d=\"M 180.2 508.6 L 180.2 524.6 L 205.9 524.6\" id=\"24,23\"></path><path d=\"M 154.4 83.4 L 154.4 64.7 L 231.7 64.7\" id=\"41,22\"></path><path d=\"M 180.2 102.1 L 180.2 86.1 L 231.7 86.1\" id=\"37,21\"></path><path d=\"M 205.9 118.2 L 205.9 107.5 L 231.7 107.5\" id=\"32,20\"></path><path d=\"M 205.9 118.2 L 205.9 128.9 L 231.7 128.9\" id=\"32,19\"></path><path d=\"M 128.6 178.3 L 128.6 150.3 L 231.7 150.3\" id=\"40,18\"></path><path d=\"M 205.9 182.3 L 205.9 171.6 L 231.7 171.6\" id=\"31,17\"></path><path d=\"M 205.9 182.3 L 205.9 193.0 L 231.7 193.0\" id=\"31,16\"></path><path d=\"M 180.2 230.5 L 180.2 214.4 L 231.7 214.4\" id=\"30,15\"></path><path d=\"M 205.9 246.5 L 205.9 235.8 L 231.7 235.8\" id=\"26,14\"></path><path d=\"M 205.9 246.5 L 205.9 257.2 L 231.7 257.2\" id=\"26,13\"></path><path d=\"M 154.4 297.3 L 154.4 278.6 L 231.7 278.6\" id=\"39,12\"></path><path d=\"M 180.2 316.0 L 180.2 300.0 L 231.7 300.0\" id=\"35,11\"></path><path d=\"M 205.9 332.1 L 205.9 321.4 L 231.7 321.4\" id=\"29,10\"></path><path d=\"M 205.9 332.1 L 205.9 342.8 L 231.7 342.8\" id=\"29,9\"></path><path d=\"M 154.4 382.9 L 154.4 364.2 L 231.7 364.2\" id=\"34,8\"></path><path d=\"M 180.2 401.6 L 180.2 385.6 L 231.7 385.6\" id=\"28,7\"></path><path d=\"M 205.9 417.7 L 205.9 407.0 L 231.7 407.0\" id=\"25,6\"></path><path d=\"M 205.9 417.7 L 205.9 428.4 L 231.7 428.4\" id=\"25,5\"></path><path d=\"M 128.6 469.8 L 128.6 449.7 L 231.7 449.7\" id=\"33,4\"></path><path d=\"M 154.4 489.9 L 154.4 471.1 L 231.7 471.1\" id=\"27,3\"></path><path d=\"M 180.2 508.6 L 180.2 492.5 L 231.7 492.5\" id=\"24,2\"></path><path d=\"M 205.9 524.6 L 205.9 513.9 L 231.7 513.9\" id=\"23,1\"></path><path d=\"M 205.9 524.6 L 205.9 535.3 L 231.7 535.3\" id=\"23,0\"></path></g><g class=\"toytree-AdmixEdges\" style=\"fill:none;font-size:14px;stroke:rgba(90.6%,54.1%,76.5%,1.000);stroke-linecap:round;stroke-opacity:0.6;stroke-width:5\"><path d=\"M 231.7 64.7 L 218.8 64.7 L 218.8 128.9 L 205.9 128.9\" style=\"stroke:rgb(98.8%,55.3%,38.4%);stroke-opacity:0.7\"></path><text style=\"fill:#262626;fill-opacity:1.0;stroke:none;stroke-opacity:0.7;text-anchor:middle\" x=\"218.84\" y=\"108.77\">0.49</text><path d=\"M 154.4 206.4 L 141.5 206.4 L 141.5 83.4 L 102.8 83.4\" style=\"stroke:rgb(55.3%,62.7%,79.6%);stroke-opacity:0.7\"></path><text style=\"fill:#262626;fill-opacity:1.0;stroke:none;stroke-opacity:0.7;text-anchor:middle\" x=\"141.47\" y=\"156.91\">0.181</text><path d=\"M 231.7 278.6 L 193.0 278.6 L 89.9 426.3 L 77.0 426.3\" style=\"stroke:rgb(90.6%,54.1%,76.5%);stroke-opacity:0.7\"></path><text style=\"fill:#262626;fill-opacity:1.0;stroke:none;stroke-opacity:0.7;text-anchor:middle\" x=\"141.47\" y=\"364.48\">0.49</text></g><g class=\"toytree-TipLabels\" style=\"fill:rgb(14.9%,14.9%,14.9%);fill-opacity:1.0;font-family:helvetica;font-size:16px;font-weight:normal;stroke:none;white-space:pre\"><g transform=\"translate(231.73,535.32)rotate(0)\"><text style=\"fill:rgb(100%,64.7%,0%);fill-opacity:1.0\" x=\"15.00\" y=\"4.09\">caudatus</text></g><g transform=\"translate(231.73,513.92)rotate(0)\"><text style=\"fill:rgb(100%,64.7%,0%);fill-opacity:1.0\" x=\"15.00\" y=\"4.09\">quitensis</text></g><g transform=\"translate(231.73,492.53)rotate(0)\"><text style=\"fill:rgb(100%,64.7%,0%);fill-opacity:1.0\" x=\"15.00\" y=\"4.09\">hybridus</text></g><g transform=\"translate(231.73,471.14)rotate(0)\"><text style=\"fill:rgb(100%,64.7%,0%);fill-opacity:1.0\" x=\"15.00\" y=\"4.09\">hypochondriacus</text></g><g transform=\"translate(231.73,449.75)rotate(0)\"><text style=\"fill:rgb(100%,64.7%,0%);fill-opacity:1.0\" x=\"15.00\" y=\"4.09\">cruentus</text></g><g transform=\"translate(231.73,428.35)rotate(0)\"><text style=\"fill:rgb(100%,64.7%,0%);fill-opacity:1.0\" x=\"15.00\" y=\"4.09\">retroflexus</text></g><g transform=\"translate(231.73,406.96)rotate(0)\"><text style=\"fill:rgb(100%,64.7%,0%);fill-opacity:1.0\" x=\"15.00\" y=\"4.09\">wrightii</text></g><g transform=\"translate(231.73,385.57)rotate(0)\"><text style=\"fill:rgb(100%,64.7%,0%);fill-opacity:1.0\" x=\"15.00\" y=\"4.09\">powellii</text></g><g transform=\"translate(231.73,364.18)rotate(0)\"><text style=\"fill:rgb(100%,64.7%,0%);fill-opacity:1.0\" x=\"15.00\" y=\"4.09\">acutilobus</text></g><g transform=\"translate(231.73,342.78)rotate(0)\"><text style=\"fill:rgb(100%,64.7%,0%);fill-opacity:1.0\" x=\"15.00\" y=\"4.09\">palmeri</text></g><g transform=\"translate(231.73,321.39)rotate(0)\"><text style=\"fill:rgb(100%,64.7%,0%);fill-opacity:1.0\" x=\"15.00\" y=\"4.09\">watsonii</text></g><g transform=\"translate(231.73,300.00)rotate(0)\"><text style=\"fill:rgb(100%,64.7%,0%);fill-opacity:1.0\" x=\"15.00\" y=\"4.09\">spinosus</text></g><g transform=\"translate(231.73,278.61)rotate(0)\"><text style=\"fill:rgb(100%,64.7%,0%);fill-opacity:1.0\" x=\"15.00\" y=\"4.09\">dubius</text></g><g transform=\"translate(231.73,257.22)rotate(0)\"><text style=\"fill:rgb(50.2%,0%,50.2%);fill-opacity:1.0\" x=\"15.00\" y=\"4.09\">blitum</text></g><g transform=\"translate(231.73,235.82)rotate(0)\"><text style=\"fill:rgb(50.2%,0%,50.2%);fill-opacity:1.0\" x=\"15.00\" y=\"4.09\">tricolor</text></g><g transform=\"translate(231.73,214.43)rotate(0)\"><text style=\"fill:rgb(100%,0%,0%);fill-opacity:1.0\" x=\"15.00\" y=\"4.09\">viridis</text></g><g transform=\"translate(231.73,193.04)rotate(0)\"><text style=\"fill:rgb(0%,50.2%,0%);fill-opacity:1.0\" x=\"15.00\" y=\"4.09\">albus</text></g><g transform=\"translate(231.73,171.65)rotate(0)\"><text style=\"fill:rgb(0%,50.2%,0%);fill-opacity:1.0\" x=\"15.00\" y=\"4.09\">blitoides</text></g><g transform=\"translate(231.73,150.25)rotate(0)\"><text style=\"fill:rgb(0%,50.2%,0%);fill-opacity:1.0\" x=\"15.00\" y=\"4.09\">fimbriatus</text></g><g transform=\"translate(231.73,128.86)rotate(0)\"><text style=\"fill:rgb(0%,0%,100%);fill-opacity:1.0\" x=\"15.00\" y=\"4.09\">arenicola</text></g><g transform=\"translate(231.73,107.47)rotate(0)\"><text style=\"fill:rgb(0%,0%,100%);fill-opacity:1.0\" x=\"15.00\" y=\"4.09\">tuberculatus</text></g><g transform=\"translate(231.73,86.08)rotate(0)\"><text style=\"fill:rgb(0%,0%,100%);fill-opacity:1.0\" x=\"15.00\" y=\"4.09\">cannabinus</text></g><g transform=\"translate(231.73,64.68)rotate(0)\"><text style=\"fill:rgb(0%,0%,100%);fill-opacity:1.0\" x=\"15.00\" y=\"4.09\">pumilus</text></g></g></g></g></g></svg><div class=\"toyplot-behavior\"><script>(function()\n",
       "{\n",
       "var modules={};\n",
       "})();</script></div></div>"
      ]
     },
     "metadata": {},
     "output_type": "display_data"
    }
   ],
   "source": [
    "#get tree and admix scenario\n",
    "tree, admix = toytree.utils.parse_network(net3d)\n",
    "\n",
    "#re-root the tree on node 32\n",
    "rtree = tree.root([\"palmeri\",\"watsonii\",\"spinosus\",\"dubius\",\"caudatus\",\"quitensis\",\"hybridus\",\"hypochondriacus\",\n",
    "             \"cruentus\",\"acutilobus\",\"wrightii\",\"retroflexus\",\"powellii\"])\n",
    "\n",
    "\n",
    "our_labels = rtree.get_tip_labels()\n",
    "sp_names= [i.split(\"_\")[0].split(\"-\")[0] for i in our_labels]\n",
    "colors = [color_dict[sp] for sp in sp_names]\n",
    "\n",
    "\n",
    "\n",
    "#draw network\n",
    "canvas, axes, mark = rtree.draw(\n",
    "    #ts='o',\n",
    "    use_edge_lengths=False,\n",
    "    admixture_edges=admix.values(),\n",
    "    tip_labels_colors=colors,\n",
    "    tip_labels_style={\"font-size\":\"16px\"},\n",
    "    width=400, height=600,\n",
    ");"
   ]
  },
  {
   "cell_type": "code",
   "execution_count": 25,
   "metadata": {},
   "outputs": [],
   "source": [
    "toyplot.svg.render(canvas, \"/rigel/dsi/users/slh2181/tuberculatus_plate/fimbriatus/snaq/fimb_net3.svg\")"
   ]
  },
  {
   "cell_type": "code",
   "execution_count": null,
   "metadata": {},
   "outputs": [],
   "source": []
  },
  {
   "cell_type": "code",
   "execution_count": null,
   "metadata": {},
   "outputs": [],
   "source": []
  },
  {
   "cell_type": "code",
   "execution_count": null,
   "metadata": {},
   "outputs": [],
   "source": []
  },
  {
   "cell_type": "markdown",
   "metadata": {},
   "source": [
    "# Now with tucsonensis"
   ]
  },
  {
   "cell_type": "code",
   "execution_count": 2,
   "metadata": {},
   "outputs": [],
   "source": [
    "net0 = \"\"\" \n",
    "(wrightii,retroflexus,(powellii,(acutilobus,((dubius,((spinosus,(watsonii,palmeri):0.6780023688122818):2.3843274569139576,((cannabinus,((arenicola,tuberculatus):0.44401920466141437,pumilus):0.5125615695992222):2.4466883727663395,(tucsonensis,((blitoides,albus):2.5348051427485743,(viridis,(blitum,tricolor):0.9491218677177138):2.265053448645126):1.5567073354717171):0.6173233846907371):4.235232293095993):0.36137734638043933):2.368617922695288,(cruentus,(hypochondriacus,(hybridus,(caudatus,quitensis):1.9498847120924259):0.33368648958307784):0.28065781778990034):1.5140147673718076):0.5887651905604858):0.7921983636607889):1.8159306154224064); -Ploglik = 21333.075102706433\n",
    "    \"\"\".strip().replace(\"\\n\",\"\")"
   ]
  },
  {
   "cell_type": "code",
   "execution_count": 3,
   "metadata": {},
   "outputs": [
    {
     "data": {
      "text/html": [
       "<div class=\"toyplot\" id=\"t52c22156fa57407aab70fffe1049bcae\" style=\"text-align:center\"><svg class=\"toyplot-canvas-Canvas\" height=\"500.0px\" id=\"t0bb861be4da14989a890292fbca4b51f\" preserveAspectRatio=\"xMidYMid meet\" style=\"background-color:transparent;border-color:#292724;border-style:none;border-width:1.0;fill:rgb(16.1%,15.3%,14.1%);fill-opacity:1.0;font-family:Helvetica;font-size:12px;opacity:1.0;stroke:rgb(16.1%,15.3%,14.1%);stroke-opacity:1.0;stroke-width:1.0\" viewBox=\"0 0 325.0 500.0\" width=\"325.0px\" xmlns=\"http://www.w3.org/2000/svg\" xmlns:toyplot=\"http://www.sandia.gov/toyplot\" xmlns:xlink=\"http://www.w3.org/1999/xlink\"><g class=\"toyplot-coordinates-Cartesian\" id=\"tc3067a971b9e4c989e0fe80fcb868af4\"><clipPath id=\"ta8b1730fe1fd4c9c949f650a29fd38ca\"><rect height=\"440.0\" width=\"265.0\" x=\"30.0\" y=\"30.0\"></rect></clipPath><g clip-path=\"url(#ta8b1730fe1fd4c9c949f650a29fd38ca)\"><g class=\"toytree-mark-Toytree\" id=\"t71e93e678b914ce18404bc89a1426f61\"><g class=\"toytree-Edges\" style=\"fill:none;stroke:rgb(14.9%,14.9%,14.9%);stroke-linecap:round;stroke-opacity:1;stroke-width:2\"><path d=\"M 51.2 198.2 L 51.2 114.8 L 100.4 114.8\" id=\"44,43\"></path><path d=\"M 51.2 198.2 L 51.2 281.7 L 67.6 281.7\" id=\"44,42\"></path><path d=\"M 100.4 114.8 L 100.4 76.8 L 133.2 76.8\" id=\"43,41\"></path><path d=\"M 100.4 114.8 L 100.4 152.7 L 116.8 152.7\" id=\"43,40\"></path><path d=\"M 67.6 281.7 L 67.6 245.7 L 149.6 245.7\" id=\"42,39\"></path><path d=\"M 67.6 281.7 L 67.6 317.6 L 84.0 317.6\" id=\"42,38\"></path><path d=\"M 133.2 76.8 L 133.2 91.8 L 149.6 91.8\" id=\"41,37\"></path><path d=\"M 116.8 152.7 L 116.8 175.2 L 133.2 175.2\" id=\"40,36\"></path><path d=\"M 149.6 245.7 L 149.6 258.6 L 166.0 258.6\" id=\"39,35\"></path><path d=\"M 84.0 317.6 L 84.0 351.0 L 100.4 351.0\" id=\"38,34\"></path><path d=\"M 149.6 91.8 L 149.6 104.6 L 166.0 104.6\" id=\"37,33\"></path><path d=\"M 133.2 175.2 L 133.2 155.9 L 166.0 155.9\" id=\"36,32\"></path><path d=\"M 133.2 175.2 L 133.2 194.4 L 149.6 194.4\" id=\"36,31\"></path><path d=\"M 100.4 351.0 L 100.4 316.3 L 133.2 316.3\" id=\"34,30\"></path><path d=\"M 100.4 351.0 L 100.4 385.8 L 116.8 385.8\" id=\"34,29\"></path><path d=\"M 149.6 194.4 L 149.6 207.2 L 166.0 207.2\" id=\"31,28\"></path><path d=\"M 133.2 316.3 L 133.2 331.2 L 149.6 331.2\" id=\"30,27\"></path><path d=\"M 116.8 385.8 L 116.8 401.8 L 133.2 401.8\" id=\"29,26\"></path><path d=\"M 149.6 331.2 L 149.6 344.1 L 166.0 344.1\" id=\"27,25\"></path><path d=\"M 133.2 401.8 L 133.2 416.8 L 149.6 416.8\" id=\"26,24\"></path><path d=\"M 149.6 416.8 L 149.6 429.6 L 166.0 429.6\" id=\"24,23\"></path><path d=\"M 133.2 76.8 L 133.2 61.9 L 182.4 61.9\" id=\"41,22\"></path><path d=\"M 149.6 91.8 L 149.6 79.0 L 182.4 79.0\" id=\"37,21\"></path><path d=\"M 166.0 104.6 L 166.0 96.1 L 182.4 96.1\" id=\"33,20\"></path><path d=\"M 166.0 104.6 L 166.0 113.2 L 182.4 113.2\" id=\"33,19\"></path><path d=\"M 116.8 152.7 L 116.8 130.3 L 182.4 130.3\" id=\"40,18\"></path><path d=\"M 166.0 155.9 L 166.0 147.4 L 182.4 147.4\" id=\"32,17\"></path><path d=\"M 166.0 155.9 L 166.0 164.5 L 182.4 164.5\" id=\"32,16\"></path><path d=\"M 149.6 194.4 L 149.6 181.6 L 182.4 181.6\" id=\"31,15\"></path><path d=\"M 166.0 207.2 L 166.0 198.7 L 182.4 198.7\" id=\"28,14\"></path><path d=\"M 166.0 207.2 L 166.0 215.8 L 182.4 215.8\" id=\"28,13\"></path><path d=\"M 149.6 245.7 L 149.6 232.9 L 182.4 232.9\" id=\"39,12\"></path><path d=\"M 166.0 258.6 L 166.0 250.0 L 182.4 250.0\" id=\"35,11\"></path><path d=\"M 166.0 258.6 L 166.0 267.1 L 182.4 267.1\" id=\"35,10\"></path><path d=\"M 84.0 317.6 L 84.0 284.2 L 182.4 284.2\" id=\"38,9\"></path><path d=\"M 133.2 316.3 L 133.2 301.3 L 182.4 301.3\" id=\"30,8\"></path><path d=\"M 149.6 331.2 L 149.6 318.4 L 182.4 318.4\" id=\"27,7\"></path><path d=\"M 166.0 344.1 L 166.0 335.5 L 182.4 335.5\" id=\"25,6\"></path><path d=\"M 166.0 344.1 L 166.0 352.6 L 182.4 352.6\" id=\"25,5\"></path><path d=\"M 116.8 385.8 L 116.8 369.7 L 182.4 369.7\" id=\"29,4\"></path><path d=\"M 133.2 401.8 L 133.2 386.8 L 182.4 386.8\" id=\"26,3\"></path><path d=\"M 149.6 416.8 L 149.6 403.9 L 182.4 403.9\" id=\"24,2\"></path><path d=\"M 166.0 429.6 L 166.0 421.0 L 182.4 421.0\" id=\"23,1\"></path><path d=\"M 166.0 429.6 L 166.0 438.1 L 182.4 438.1\" id=\"23,0\"></path></g><g class=\"toytree-AdmixEdges\" style=\"fill:none;font-size:14px;stroke:rgba(90.6%,54.1%,76.5%,1.000);stroke-linecap:round;stroke-opacity:0.6;stroke-width:5\"></g><g class=\"toytree-TipLabels\" style=\"fill:rgb(14.9%,14.9%,14.9%);fill-opacity:1.0;font-family:helvetica;font-size:11px;font-weight:normal;stroke:none;white-space:pre\"><g transform=\"translate(182.41,438.15)rotate(0)\"><text style=\"\" x=\"15.00\" y=\"2.81\">quitensis</text></g><g transform=\"translate(182.41,421.04)rotate(0)\"><text style=\"\" x=\"15.00\" y=\"2.81\">caudatus</text></g><g transform=\"translate(182.41,403.94)rotate(0)\"><text style=\"\" x=\"15.00\" y=\"2.81\">hybridus</text></g><g transform=\"translate(182.41,386.83)rotate(0)\"><text style=\"\" x=\"15.00\" y=\"2.81\">hypochondriacus</text></g><g transform=\"translate(182.41,369.73)rotate(0)\"><text style=\"\" x=\"15.00\" y=\"2.81\">cruentus</text></g><g transform=\"translate(182.41,352.63)rotate(0)\"><text style=\"\" x=\"15.00\" y=\"2.81\">retroflexus</text></g><g transform=\"translate(182.41,335.52)rotate(0)\"><text style=\"\" x=\"15.00\" y=\"2.81\">wrightii</text></g><g transform=\"translate(182.41,318.42)rotate(0)\"><text style=\"\" x=\"15.00\" y=\"2.81\">powellii</text></g><g transform=\"translate(182.41,301.31)rotate(0)\"><text style=\"\" x=\"15.00\" y=\"2.81\">acutilobus</text></g><g transform=\"translate(182.41,284.21)rotate(0)\"><text style=\"\" x=\"15.00\" y=\"2.81\">dubius</text></g><g transform=\"translate(182.41,267.10)rotate(0)\"><text style=\"\" x=\"15.00\" y=\"2.81\">palmeri</text></g><g transform=\"translate(182.41,250.00)rotate(0)\"><text style=\"\" x=\"15.00\" y=\"2.81\">watsonii</text></g><g transform=\"translate(182.41,232.90)rotate(0)\"><text style=\"\" x=\"15.00\" y=\"2.81\">spinosus</text></g><g transform=\"translate(182.41,215.79)rotate(0)\"><text style=\"\" x=\"15.00\" y=\"2.81\">tricolor</text></g><g transform=\"translate(182.41,198.69)rotate(0)\"><text style=\"\" x=\"15.00\" y=\"2.81\">blitum</text></g><g transform=\"translate(182.41,181.58)rotate(0)\"><text style=\"\" x=\"15.00\" y=\"2.81\">viridis</text></g><g transform=\"translate(182.41,164.48)rotate(0)\"><text style=\"\" x=\"15.00\" y=\"2.81\">albus</text></g><g transform=\"translate(182.41,147.37)rotate(0)\"><text style=\"\" x=\"15.00\" y=\"2.81\">blitoides</text></g><g transform=\"translate(182.41,130.27)rotate(0)\"><text style=\"\" x=\"15.00\" y=\"2.81\">tucsonensis</text></g><g transform=\"translate(182.41,113.17)rotate(0)\"><text style=\"\" x=\"15.00\" y=\"2.81\">tuberculatus</text></g><g transform=\"translate(182.41,96.06)rotate(0)\"><text style=\"\" x=\"15.00\" y=\"2.81\">arenicola</text></g><g transform=\"translate(182.41,78.96)rotate(0)\"><text style=\"\" x=\"15.00\" y=\"2.81\">pumilus</text></g><g transform=\"translate(182.41,61.85)rotate(0)\"><text style=\"\" x=\"15.00\" y=\"2.81\">cannabinus</text></g></g></g></g></g></svg><div class=\"toyplot-behavior\"><script>(function()\n",
       "{\n",
       "var modules={};\n",
       "})();</script></div></div>"
      ]
     },
     "metadata": {},
     "output_type": "display_data"
    }
   ],
   "source": [
    "#get tree and admix scenario\n",
    "tree, admix = toytree.utils.parse_network(net0)\n",
    "\n",
    "#re-root the tree on node 32\n",
    "rtree = tree.root([\"palmeri\",\"watsonii\",\"spinosus\",\"dubius\",\"caudatus\",\"quitensis\",\"hybridus\",\"hypochondriacus\",\n",
    "             \"cruentus\",\"acutilobus\",\"wrightii\",\"retroflexus\",\"powellii\"])\n",
    "\n",
    "#draw network\n",
    "rtree.draw(\n",
    "    #ts='o',\n",
    "    height=500,\n",
    "    use_edge_lengths=False,\n",
    "    admixture_edges=admix.values(),\n",
    ");"
   ]
  },
  {
   "cell_type": "code",
   "execution_count": 88,
   "metadata": {},
   "outputs": [],
   "source": [
    "net1a=\"\"\"\n",
    "(wrightii,retroflexus,(powellii,(acutilobus,(((((cannabinus,((arenicola,tuberculatus):0.4438962944925298,pumilus):0.5128072993076735):2.4468583331035503,(tucsonensis,((blitoides,albus):2.534187383590977,(viridis,(blitum,tricolor):0.9544994220868226):2.2699588255557566):1.5605537519258745):0.6177476211378912):4.145689466690511,(((watsonii,palmeri):0.68059228332589,spinosus):0.5401447565791647,#H24:::0.4994583368946387):2.586380446835386):2.8483130997430868,(dubius)#H24:::0.5005416631053613):0.9985026717231643,(cruentus,(hypochondriacus,(hybridus,(caudatus,quitensis):1.951824605727329):0.33384980970447775):0.28063239254796263):1.5132950658795898):0.5887792074102867):0.7919737668458235):1.8159073632957285); -Ploglik = 11079.193704750707\n",
    "        \"\"\".strip().replace(\"\\n\",\"\")\n",
    "\n",
    "net1b=\"\"\"\n",
    "(wrightii,retroflexus,(powellii,(acutilobus,(((((cannabinus,((arenicola,tuberculatus):0.5742773138725589,pumilus):0.40789278738765156):2.522177663380704,(tucsonensis,((blitoides,albus):2.440652423770817,(viridis,(blitum,tricolor):0.8783351737630002):2.2916524600442796):1.5218690421135566):0.6417140120136605):3.507014922045521,(((watsonii,palmeri):0.7316269228368952,spinosus):2.2145557937274116)#H24:3.204032497232018::0.5462425514969295):3.178649091020922,(dubius,#H24:0.0::0.45375744850307054):3.4559319221039173):2.104596684498181,(cruentus,(hypochondriacus,(hybridus,(caudatus,quitensis):2.0716030417475935):0.2878408462919312):0.31820197690727836):1.5003113965870494):0.6039091781343708):0.8006044666823744):1.7936754580482788);, with -loglik 12518.679018259709\n",
    "        \"\"\".strip().replace(\"\\n\",\"\")\n",
    "\n",
    "net1c=\"\"\"\n",
    "(watsonii,palmeri,(spinosus,((((cannabinus,((arenicola,tuberculatus):0.5009047660796444,pumilus):0.5966505096193083):2.3549652110114105,(tucsonensis,((blitoides,albus):2.5480635482856737,(viridis,(blitum,tricolor):1.0498952027198092):2.3014754940444018):1.538113064502892):0.6003934353620773):3.5321209992091718,#H24:3.740256213370583::0.4873577069702534):3.5325400193824965,(dubius,(((cruentus,(hypochondriacus,(hybridus,(caudatus,quitensis):2.0827097179116794):0.4067505788835214):0.2621831349116898):1.5057414523990893,(acutilobus,(powellii,(wrightii,retroflexus):2.0296772135843164):0.8285673494740738):0.5874089374526987):2.4041756822607936)#H24:0.0::0.5126422930297466):9.58451668166844):2.010268211972503):0.6414746204202287);, with -loglik 12619.297269605226\n",
    "        \"\"\".strip().replace(\"\\n\",\"\")\n",
    "\n",
    "net1d=\"\"\"\n",
    "(wrightii,retroflexus,(powellii,(acutilobus,((#H24:2.0739108742565113::0.49777774968201405,(dubius,(((watsonii,palmeri):0.7124342454803991,spinosus):1.643275574820858,(((cannabinus,((arenicola,tuberculatus):0.44165211664226695,pumilus):0.5150067705980143):2.4385528212640204,(tucsonensis,((blitoides,albus):2.556228254271382,(viridis,(blitum,tricolor):0.9449300595093922):2.2616054260940452):1.552893409678907):0.618833593217644):4.06847551226493)#H24:3.5750954559015553::0.502222250317986):2.401200663557016):1.6082897699225445):1.9392160043674866,(cruentus,(hypochondriacus,(hybridus,(caudatus,quitensis):1.939124146697867):0.34130550608563076):0.2766538495745906):1.5111936158751913):0.5858506121833789):0.7992093492626822):1.8122558347964395);, with -loglik 15158.105845663145\n",
    "        \"\"\".strip().replace(\"\\n\",\"\")"
   ]
  },
  {
   "cell_type": "markdown",
   "metadata": {},
   "source": [
    "net1a is clearly the best"
   ]
  },
  {
   "cell_type": "code",
   "execution_count": 92,
   "metadata": {},
   "outputs": [
    {
     "data": {
      "text/html": [
       "<div class=\"toyplot\" id=\"t515828c367cc433d96720bf036e41087\" style=\"text-align:center\"><svg class=\"toyplot-canvas-Canvas\" height=\"500.0px\" id=\"tbb1010f2f7684d628275e27bc1f1d235\" preserveAspectRatio=\"xMidYMid meet\" style=\"background-color:transparent;border-color:#292724;border-style:none;border-width:1.0;fill:rgb(16.1%,15.3%,14.1%);fill-opacity:1.0;font-family:Helvetica;font-size:12px;opacity:1.0;stroke:rgb(16.1%,15.3%,14.1%);stroke-opacity:1.0;stroke-width:1.0\" viewBox=\"0 0 325.0 500.0\" width=\"325.0px\" xmlns=\"http://www.w3.org/2000/svg\" xmlns:toyplot=\"http://www.sandia.gov/toyplot\" xmlns:xlink=\"http://www.w3.org/1999/xlink\"><g class=\"toyplot-coordinates-Cartesian\" id=\"tfe3af50ea70c4f1a815f1442cb2bde70\"><clipPath id=\"t203cd3804f9e49758480f6789073d0a4\"><rect height=\"440.0\" width=\"265.0\" x=\"30.0\" y=\"30.0\"></rect></clipPath><g clip-path=\"url(#t203cd3804f9e49758480f6789073d0a4)\"><g class=\"toytree-mark-Toytree\" id=\"te02215beaa6943888c1bec0466ade506\"><g class=\"toytree-Edges\" style=\"fill:none;stroke:rgb(14.9%,14.9%,14.9%);stroke-linecap:round;stroke-opacity:1;stroke-width:2\"><path d=\"M 51.2 198.2 L 51.2 114.8 L 100.4 114.8\" id=\"44,43\"></path><path d=\"M 51.2 198.2 L 51.2 281.7 L 67.6 281.7\" id=\"44,42\"></path><path d=\"M 100.4 114.8 L 100.4 76.8 L 133.2 76.8\" id=\"43,41\"></path><path d=\"M 100.4 114.8 L 100.4 152.7 L 116.8 152.7\" id=\"43,40\"></path><path d=\"M 67.6 281.7 L 67.6 245.7 L 149.6 245.7\" id=\"42,39\"></path><path d=\"M 67.6 281.7 L 67.6 317.6 L 84.0 317.6\" id=\"42,38\"></path><path d=\"M 133.2 76.8 L 133.2 91.8 L 149.6 91.8\" id=\"41,37\"></path><path d=\"M 116.8 152.7 L 116.8 175.2 L 133.2 175.2\" id=\"40,36\"></path><path d=\"M 149.6 245.7 L 149.6 258.6 L 166.0 258.6\" id=\"39,35\"></path><path d=\"M 84.0 317.6 L 84.0 351.0 L 100.4 351.0\" id=\"38,34\"></path><path d=\"M 149.6 91.8 L 149.6 104.6 L 166.0 104.6\" id=\"37,33\"></path><path d=\"M 133.2 175.2 L 133.2 155.9 L 166.0 155.9\" id=\"36,32\"></path><path d=\"M 133.2 175.2 L 133.2 194.4 L 149.6 194.4\" id=\"36,31\"></path><path d=\"M 100.4 351.0 L 100.4 316.3 L 133.2 316.3\" id=\"34,30\"></path><path d=\"M 100.4 351.0 L 100.4 385.8 L 116.8 385.8\" id=\"34,29\"></path><path d=\"M 149.6 194.4 L 149.6 207.2 L 166.0 207.2\" id=\"31,28\"></path><path d=\"M 133.2 316.3 L 133.2 331.2 L 149.6 331.2\" id=\"30,27\"></path><path d=\"M 116.8 385.8 L 116.8 401.8 L 133.2 401.8\" id=\"29,26\"></path><path d=\"M 149.6 331.2 L 149.6 344.1 L 166.0 344.1\" id=\"27,25\"></path><path d=\"M 133.2 401.8 L 133.2 416.8 L 149.6 416.8\" id=\"26,24\"></path><path d=\"M 149.6 416.8 L 149.6 429.6 L 166.0 429.6\" id=\"24,23\"></path><path d=\"M 133.2 76.8 L 133.2 61.9 L 182.4 61.9\" id=\"41,22\"></path><path d=\"M 149.6 91.8 L 149.6 79.0 L 182.4 79.0\" id=\"37,21\"></path><path d=\"M 166.0 104.6 L 166.0 96.1 L 182.4 96.1\" id=\"33,20\"></path><path d=\"M 166.0 104.6 L 166.0 113.2 L 182.4 113.2\" id=\"33,19\"></path><path d=\"M 116.8 152.7 L 116.8 130.3 L 182.4 130.3\" id=\"40,18\"></path><path d=\"M 166.0 155.9 L 166.0 147.4 L 182.4 147.4\" id=\"32,17\"></path><path d=\"M 166.0 155.9 L 166.0 164.5 L 182.4 164.5\" id=\"32,16\"></path><path d=\"M 149.6 194.4 L 149.6 181.6 L 182.4 181.6\" id=\"31,15\"></path><path d=\"M 166.0 207.2 L 166.0 198.7 L 182.4 198.7\" id=\"28,14\"></path><path d=\"M 166.0 207.2 L 166.0 215.8 L 182.4 215.8\" id=\"28,13\"></path><path d=\"M 149.6 245.7 L 149.6 232.9 L 182.4 232.9\" id=\"39,12\"></path><path d=\"M 166.0 258.6 L 166.0 250.0 L 182.4 250.0\" id=\"35,11\"></path><path d=\"M 166.0 258.6 L 166.0 267.1 L 182.4 267.1\" id=\"35,10\"></path><path d=\"M 84.0 317.6 L 84.0 284.2 L 182.4 284.2\" id=\"38,9\"></path><path d=\"M 133.2 316.3 L 133.2 301.3 L 182.4 301.3\" id=\"30,8\"></path><path d=\"M 149.6 331.2 L 149.6 318.4 L 182.4 318.4\" id=\"27,7\"></path><path d=\"M 166.0 344.1 L 166.0 335.5 L 182.4 335.5\" id=\"25,6\"></path><path d=\"M 166.0 344.1 L 166.0 352.6 L 182.4 352.6\" id=\"25,5\"></path><path d=\"M 116.8 385.8 L 116.8 369.7 L 182.4 369.7\" id=\"29,4\"></path><path d=\"M 133.2 401.8 L 133.2 386.8 L 182.4 386.8\" id=\"26,3\"></path><path d=\"M 149.6 416.8 L 149.6 403.9 L 182.4 403.9\" id=\"24,2\"></path><path d=\"M 166.0 429.6 L 166.0 421.0 L 182.4 421.0\" id=\"23,1\"></path><path d=\"M 166.0 429.6 L 166.0 438.1 L 182.4 438.1\" id=\"23,0\"></path></g><g class=\"toytree-AdmixEdges\" style=\"fill:none;font-size:14px;stroke:rgba(90.6%,54.1%,76.5%,1.000);stroke-linecap:round;stroke-opacity:0.6;stroke-width:5\"><path d=\"M 182.4 284.2 L 116.8 284.2 L 116.8 245.7 L 67.6 245.7\" style=\"stroke:rgb(98.8%,55.3%,38.4%);stroke-opacity:0.7\"></path><text style=\"fill:#262626;fill-opacity:1.0;stroke:none;stroke-opacity:0.7;text-anchor:middle\" x=\"116.79\" y=\"276.97\">0.499</text></g><g class=\"toytree-TipLabels\" style=\"fill:rgb(14.9%,14.9%,14.9%);fill-opacity:1.0;font-family:helvetica;font-size:11px;font-weight:normal;stroke:none;white-space:pre\"><g transform=\"translate(182.41,438.15)rotate(0)\"><text style=\"\" x=\"15.00\" y=\"2.81\">quitensis</text></g><g transform=\"translate(182.41,421.04)rotate(0)\"><text style=\"\" x=\"15.00\" y=\"2.81\">caudatus</text></g><g transform=\"translate(182.41,403.94)rotate(0)\"><text style=\"\" x=\"15.00\" y=\"2.81\">hybridus</text></g><g transform=\"translate(182.41,386.83)rotate(0)\"><text style=\"\" x=\"15.00\" y=\"2.81\">hypochondriacus</text></g><g transform=\"translate(182.41,369.73)rotate(0)\"><text style=\"\" x=\"15.00\" y=\"2.81\">cruentus</text></g><g transform=\"translate(182.41,352.63)rotate(0)\"><text style=\"\" x=\"15.00\" y=\"2.81\">retroflexus</text></g><g transform=\"translate(182.41,335.52)rotate(0)\"><text style=\"\" x=\"15.00\" y=\"2.81\">wrightii</text></g><g transform=\"translate(182.41,318.42)rotate(0)\"><text style=\"\" x=\"15.00\" y=\"2.81\">powellii</text></g><g transform=\"translate(182.41,301.31)rotate(0)\"><text style=\"\" x=\"15.00\" y=\"2.81\">acutilobus</text></g><g transform=\"translate(182.41,284.21)rotate(0)\"><text style=\"\" x=\"15.00\" y=\"2.81\">dubius</text></g><g transform=\"translate(182.41,267.10)rotate(0)\"><text style=\"\" x=\"15.00\" y=\"2.81\">palmeri</text></g><g transform=\"translate(182.41,250.00)rotate(0)\"><text style=\"\" x=\"15.00\" y=\"2.81\">watsonii</text></g><g transform=\"translate(182.41,232.90)rotate(0)\"><text style=\"\" x=\"15.00\" y=\"2.81\">spinosus</text></g><g transform=\"translate(182.41,215.79)rotate(0)\"><text style=\"\" x=\"15.00\" y=\"2.81\">tricolor</text></g><g transform=\"translate(182.41,198.69)rotate(0)\"><text style=\"\" x=\"15.00\" y=\"2.81\">blitum</text></g><g transform=\"translate(182.41,181.58)rotate(0)\"><text style=\"\" x=\"15.00\" y=\"2.81\">viridis</text></g><g transform=\"translate(182.41,164.48)rotate(0)\"><text style=\"\" x=\"15.00\" y=\"2.81\">albus</text></g><g transform=\"translate(182.41,147.37)rotate(0)\"><text style=\"\" x=\"15.00\" y=\"2.81\">blitoides</text></g><g transform=\"translate(182.41,130.27)rotate(0)\"><text style=\"\" x=\"15.00\" y=\"2.81\">tucsonensis</text></g><g transform=\"translate(182.41,113.17)rotate(0)\"><text style=\"\" x=\"15.00\" y=\"2.81\">tuberculatus</text></g><g transform=\"translate(182.41,96.06)rotate(0)\"><text style=\"\" x=\"15.00\" y=\"2.81\">arenicola</text></g><g transform=\"translate(182.41,78.96)rotate(0)\"><text style=\"\" x=\"15.00\" y=\"2.81\">pumilus</text></g><g transform=\"translate(182.41,61.85)rotate(0)\"><text style=\"\" x=\"15.00\" y=\"2.81\">cannabinus</text></g></g></g></g></g></svg><div class=\"toyplot-behavior\"><script>(function()\n",
       "{\n",
       "var modules={};\n",
       "})();</script></div></div>"
      ]
     },
     "metadata": {},
     "output_type": "display_data"
    }
   ],
   "source": [
    "#get tree and admix scenario\n",
    "tree, admix = toytree.utils.parse_network(net1a)\n",
    "\n",
    "#re-root the tree on node 32\n",
    "rtree = tree.root([\"palmeri\",\"watsonii\",\"spinosus\",\"dubius\",\"caudatus\",\"quitensis\",\"hybridus\",\"hypochondriacus\",\n",
    "             \"cruentus\",\"acutilobus\",\"wrightii\",\"retroflexus\",\"powellii\"])\n",
    "\n",
    "#draw network\n",
    "rtree.draw(\n",
    "    #ts='o',\n",
    "    height=500,\n",
    "    use_edge_lengths=False,\n",
    "    admixture_edges=admix.values(),\n",
    ");"
   ]
  },
  {
   "cell_type": "code",
   "execution_count": 93,
   "metadata": {},
   "outputs": [],
   "source": [
    "net2a = \"\"\"\n",
    "(arenicola,tuberculatus,(pumilus,(cannabinus,((((blitoides,albus):2.5277658799962626,((blitum,tricolor):0.9499831960931552,viridis):2.2651465122082106):1.250642236499574,(tucsonensis,#H25:0.0::0.306406003963234):7.765498975771667):2.1771675884620953,(((((cruentus,(hypochondriacus,(hybridus,(caudatus,quitensis):1.9534184102721914):0.3352803187149934):0.27946862983839177):1.5146867888985212,(acutilobus,(powellii,(wrightii,retroflexus):1.8154871485366648):0.7926981914428488):0.5880857449399859):0.9970869133883848,(dubius)#H24:::0.500252870645402):2.8536257139081753,(((watsonii,palmeri):0.6902988000449765,spinosus):0.531116682796713,#H24:::0.499747129354598):2.5921375556098174):4.259812367816255)#H25:0.06363983018517276::0.6935939960367661):2.0911784961359436):0.5145717478788463):0.43832371207404647); -Ploglik = 6772.292252312697\n",
    "        \"\"\".strip().replace(\"\\n\",\"\")\n",
    "\n",
    "net2b = \"\"\"\n",
    "(wrightii,retroflexus,(powellii,(acutilobus,((((((watsonii,palmeri):0.6458979419582699,spinosus):0.5407673903372677,#H24:::0.49883883669999535):2.596103115310183,((tucsonensis,(((blitoides,albus):2.523205483094814,((blitum,tricolor):0.9618023454778469,viridis):2.298550514008376):1.7158958982774104)#H25:0.0::0.599249307594581):8.27763689108337,(#H25:4.890908146143341::0.40075069240541905,(cannabinus,((arenicola,tuberculatus):0.41034771545686083,pumilus):0.523921048356656):1.831449511840238):1.2079812395188534):3.8846305926846108):2.840092598934615,(dubius)#H24:::0.5011611633000046):0.9972313221361369,(cruentus,(hypochondriacus,(hybridus,(caudatus,quitensis):1.9224960056301386):0.33954999509372774):0.2886357161170646):1.511473417352892):0.5860001032424733):0.7827170422997257):1.8039197169397971);, with -loglik 6968.5451527205005\n",
    "        \"\"\".strip().replace(\"\\n\",\"\")\n",
    "\n",
    "net2c = \"\"\"\n",
    "(wrightii,retroflexus,(powellii,(acutilobus,((((((watsonii,palmeri):0.6858867824447326,spinosus):0.5582270323733527,(dubius)#H24:::0.500479530802634):2.5611402401694896,(#H25:::0.3450577629197694,((((blitoides,albus):2.547137035145342,((blitum,tricolor):0.9640350151212249,viridis):2.2676247707696318):0.7398786114960512,(tucsonensis)#H25:::0.6549422370802306):1.9123907315273745,(cannabinus,((arenicola,tuberculatus):0.4613843494355874,pumilus):0.503273005365237):2.3854414092385547):1.7379885062874345):2.823691003044737):2.8506544067613175,#H24:::0.49952046919736603):0.9964586685189123,(cruentus,(hypochondriacus,(hybridus,(caudatus,quitensis):1.9575123518102109):0.33810817219293826):0.2764263016610193):1.514757907795508):0.5882975625830952):0.7891813977867439):1.8295335973380917);, with -loglik 6969.773024908952\n",
    "        \"\"\".strip().replace(\"\\n\",\"\")"
   ]
  },
  {
   "cell_type": "markdown",
   "metadata": {},
   "source": [
    "net2a has tucs donating to itself <br>\n",
    "net2b is better and includes same edge as net1, so we'll go with this. <br>\n",
    "net2c has root donating to tucs <br>"
   ]
  },
  {
   "cell_type": "code",
   "execution_count": 99,
   "metadata": {},
   "outputs": [
    {
     "data": {
      "text/html": [
       "<div class=\"toyplot\" id=\"tb599d4bd0d974b1d98b92f0d2d3d0b8b\" style=\"text-align:center\"><svg class=\"toyplot-canvas-Canvas\" height=\"500.0px\" id=\"t28b81e5b641745979c9b074004460ec4\" preserveAspectRatio=\"xMidYMid meet\" style=\"background-color:transparent;border-color:#292724;border-style:none;border-width:1.0;fill:rgb(16.1%,15.3%,14.1%);fill-opacity:1.0;font-family:Helvetica;font-size:12px;opacity:1.0;stroke:rgb(16.1%,15.3%,14.1%);stroke-opacity:1.0;stroke-width:1.0\" viewBox=\"0 0 325.0 500.0\" width=\"325.0px\" xmlns=\"http://www.w3.org/2000/svg\" xmlns:toyplot=\"http://www.sandia.gov/toyplot\" xmlns:xlink=\"http://www.w3.org/1999/xlink\"><g class=\"toyplot-coordinates-Cartesian\" id=\"t110b86e123ec45d1a2d3a166b54076fc\"><clipPath id=\"t3076e77038a047f49cac2764d827bcfe\"><rect height=\"440.0\" width=\"265.0\" x=\"30.0\" y=\"30.0\"></rect></clipPath><g clip-path=\"url(#t3076e77038a047f49cac2764d827bcfe)\"><g class=\"toytree-mark-Toytree\" id=\"t366577a0cf7542ba973d53ced74af73d\"><g class=\"toytree-Edges\" style=\"fill:none;stroke:rgb(14.9%,14.9%,14.9%);stroke-linecap:round;stroke-opacity:1;stroke-width:2\"><path d=\"M 51.2 198.2 L 51.2 114.8 L 100.4 114.8\" id=\"44,43\"></path><path d=\"M 51.2 198.2 L 51.2 281.7 L 67.6 281.7\" id=\"44,42\"></path><path d=\"M 100.4 114.8 L 100.4 76.8 L 133.2 76.8\" id=\"43,41\"></path><path d=\"M 100.4 114.8 L 100.4 152.7 L 116.8 152.7\" id=\"43,40\"></path><path d=\"M 67.6 281.7 L 67.6 245.7 L 149.6 245.7\" id=\"42,39\"></path><path d=\"M 67.6 281.7 L 67.6 317.6 L 84.0 317.6\" id=\"42,38\"></path><path d=\"M 133.2 76.8 L 133.2 91.8 L 149.6 91.8\" id=\"41,37\"></path><path d=\"M 116.8 152.7 L 116.8 175.2 L 133.2 175.2\" id=\"40,36\"></path><path d=\"M 149.6 245.7 L 149.6 258.6 L 166.0 258.6\" id=\"39,35\"></path><path d=\"M 84.0 317.6 L 84.0 351.0 L 100.4 351.0\" id=\"38,34\"></path><path d=\"M 149.6 91.8 L 149.6 104.6 L 166.0 104.6\" id=\"37,33\"></path><path d=\"M 133.2 175.2 L 133.2 155.9 L 166.0 155.9\" id=\"36,32\"></path><path d=\"M 133.2 175.2 L 133.2 194.4 L 149.6 194.4\" id=\"36,31\"></path><path d=\"M 100.4 351.0 L 100.4 316.3 L 133.2 316.3\" id=\"34,30\"></path><path d=\"M 100.4 351.0 L 100.4 385.8 L 116.8 385.8\" id=\"34,29\"></path><path d=\"M 149.6 194.4 L 149.6 207.2 L 166.0 207.2\" id=\"31,28\"></path><path d=\"M 133.2 316.3 L 133.2 331.2 L 149.6 331.2\" id=\"30,27\"></path><path d=\"M 116.8 385.8 L 116.8 401.8 L 133.2 401.8\" id=\"29,26\"></path><path d=\"M 149.6 331.2 L 149.6 344.1 L 166.0 344.1\" id=\"27,25\"></path><path d=\"M 133.2 401.8 L 133.2 416.8 L 149.6 416.8\" id=\"26,24\"></path><path d=\"M 149.6 416.8 L 149.6 429.6 L 166.0 429.6\" id=\"24,23\"></path><path d=\"M 133.2 76.8 L 133.2 61.9 L 182.4 61.9\" id=\"41,22\"></path><path d=\"M 149.6 91.8 L 149.6 79.0 L 182.4 79.0\" id=\"37,21\"></path><path d=\"M 166.0 104.6 L 166.0 96.1 L 182.4 96.1\" id=\"33,20\"></path><path d=\"M 166.0 104.6 L 166.0 113.2 L 182.4 113.2\" id=\"33,19\"></path><path d=\"M 116.8 152.7 L 116.8 130.3 L 182.4 130.3\" id=\"40,18\"></path><path d=\"M 166.0 155.9 L 166.0 147.4 L 182.4 147.4\" id=\"32,17\"></path><path d=\"M 166.0 155.9 L 166.0 164.5 L 182.4 164.5\" id=\"32,16\"></path><path d=\"M 149.6 194.4 L 149.6 181.6 L 182.4 181.6\" id=\"31,15\"></path><path d=\"M 166.0 207.2 L 166.0 198.7 L 182.4 198.7\" id=\"28,14\"></path><path d=\"M 166.0 207.2 L 166.0 215.8 L 182.4 215.8\" id=\"28,13\"></path><path d=\"M 149.6 245.7 L 149.6 232.9 L 182.4 232.9\" id=\"39,12\"></path><path d=\"M 166.0 258.6 L 166.0 250.0 L 182.4 250.0\" id=\"35,11\"></path><path d=\"M 166.0 258.6 L 166.0 267.1 L 182.4 267.1\" id=\"35,10\"></path><path d=\"M 84.0 317.6 L 84.0 284.2 L 182.4 284.2\" id=\"38,9\"></path><path d=\"M 133.2 316.3 L 133.2 301.3 L 182.4 301.3\" id=\"30,8\"></path><path d=\"M 149.6 331.2 L 149.6 318.4 L 182.4 318.4\" id=\"27,7\"></path><path d=\"M 166.0 344.1 L 166.0 335.5 L 182.4 335.5\" id=\"25,6\"></path><path d=\"M 166.0 344.1 L 166.0 352.6 L 182.4 352.6\" id=\"25,5\"></path><path d=\"M 116.8 385.8 L 116.8 369.7 L 182.4 369.7\" id=\"29,4\"></path><path d=\"M 133.2 401.8 L 133.2 386.8 L 182.4 386.8\" id=\"26,3\"></path><path d=\"M 149.6 416.8 L 149.6 403.9 L 182.4 403.9\" id=\"24,2\"></path><path d=\"M 166.0 429.6 L 166.0 421.0 L 182.4 421.0\" id=\"23,1\"></path><path d=\"M 166.0 429.6 L 166.0 438.1 L 182.4 438.1\" id=\"23,0\"></path></g><g class=\"toytree-AdmixEdges\" style=\"fill:none;font-size:14px;stroke:rgba(90.6%,54.1%,76.5%,1.000);stroke-linecap:round;stroke-opacity:0.6;stroke-width:5\"><path d=\"M 133.2 175.2 L 125.0 175.2 L 125.0 76.8 L 100.4 76.8\" style=\"stroke:rgb(98.8%,55.3%,38.4%);stroke-opacity:0.7\"></path><text style=\"fill:#262626;fill-opacity:1.0;stroke:none;stroke-opacity:0.7;text-anchor:middle\" x=\"124.99\" y=\"137.99\">0.401</text><path d=\"M 182.4 284.2 L 116.8 284.2 L 116.8 245.7 L 67.6 245.7\" style=\"stroke:rgb(55.3%,62.7%,79.6%);stroke-opacity:0.7\"></path><text style=\"fill:#262626;fill-opacity:1.0;stroke:none;stroke-opacity:0.7;text-anchor:middle\" x=\"116.79\" y=\"276.97\">0.499</text></g><g class=\"toytree-TipLabels\" style=\"fill:rgb(14.9%,14.9%,14.9%);fill-opacity:1.0;font-family:helvetica;font-size:11px;font-weight:normal;stroke:none;white-space:pre\"><g transform=\"translate(182.41,438.15)rotate(0)\"><text style=\"\" x=\"15.00\" y=\"2.81\">quitensis</text></g><g transform=\"translate(182.41,421.04)rotate(0)\"><text style=\"\" x=\"15.00\" y=\"2.81\">caudatus</text></g><g transform=\"translate(182.41,403.94)rotate(0)\"><text style=\"\" x=\"15.00\" y=\"2.81\">hybridus</text></g><g transform=\"translate(182.41,386.83)rotate(0)\"><text style=\"\" x=\"15.00\" y=\"2.81\">hypochondriacus</text></g><g transform=\"translate(182.41,369.73)rotate(0)\"><text style=\"\" x=\"15.00\" y=\"2.81\">cruentus</text></g><g transform=\"translate(182.41,352.63)rotate(0)\"><text style=\"\" x=\"15.00\" y=\"2.81\">retroflexus</text></g><g transform=\"translate(182.41,335.52)rotate(0)\"><text style=\"\" x=\"15.00\" y=\"2.81\">wrightii</text></g><g transform=\"translate(182.41,318.42)rotate(0)\"><text style=\"\" x=\"15.00\" y=\"2.81\">powellii</text></g><g transform=\"translate(182.41,301.31)rotate(0)\"><text style=\"\" x=\"15.00\" y=\"2.81\">acutilobus</text></g><g transform=\"translate(182.41,284.21)rotate(0)\"><text style=\"\" x=\"15.00\" y=\"2.81\">dubius</text></g><g transform=\"translate(182.41,267.10)rotate(0)\"><text style=\"\" x=\"15.00\" y=\"2.81\">palmeri</text></g><g transform=\"translate(182.41,250.00)rotate(0)\"><text style=\"\" x=\"15.00\" y=\"2.81\">watsonii</text></g><g transform=\"translate(182.41,232.90)rotate(0)\"><text style=\"\" x=\"15.00\" y=\"2.81\">spinosus</text></g><g transform=\"translate(182.41,215.79)rotate(0)\"><text style=\"\" x=\"15.00\" y=\"2.81\">tricolor</text></g><g transform=\"translate(182.41,198.69)rotate(0)\"><text style=\"\" x=\"15.00\" y=\"2.81\">blitum</text></g><g transform=\"translate(182.41,181.58)rotate(0)\"><text style=\"\" x=\"15.00\" y=\"2.81\">viridis</text></g><g transform=\"translate(182.41,164.48)rotate(0)\"><text style=\"\" x=\"15.00\" y=\"2.81\">albus</text></g><g transform=\"translate(182.41,147.37)rotate(0)\"><text style=\"\" x=\"15.00\" y=\"2.81\">blitoides</text></g><g transform=\"translate(182.41,130.27)rotate(0)\"><text style=\"\" x=\"15.00\" y=\"2.81\">tucsonensis</text></g><g transform=\"translate(182.41,113.17)rotate(0)\"><text style=\"\" x=\"15.00\" y=\"2.81\">tuberculatus</text></g><g transform=\"translate(182.41,96.06)rotate(0)\"><text style=\"\" x=\"15.00\" y=\"2.81\">arenicola</text></g><g transform=\"translate(182.41,78.96)rotate(0)\"><text style=\"\" x=\"15.00\" y=\"2.81\">pumilus</text></g><g transform=\"translate(182.41,61.85)rotate(0)\"><text style=\"\" x=\"15.00\" y=\"2.81\">cannabinus</text></g></g></g></g></g></svg><div class=\"toyplot-behavior\"><script>(function()\n",
       "{\n",
       "var modules={};\n",
       "})();</script></div></div>"
      ]
     },
     "metadata": {},
     "output_type": "display_data"
    }
   ],
   "source": [
    "#get tree and admix scenario\n",
    "tree, admix = toytree.utils.parse_network(net2b)\n",
    "\n",
    "#re-root the tree on node 32\n",
    "rtree = tree.root([\"palmeri\",\"watsonii\",\"spinosus\",\"dubius\",\"caudatus\",\"quitensis\",\"hybridus\",\"hypochondriacus\",\n",
    "             \"cruentus\",\"acutilobus\",\"wrightii\",\"retroflexus\",\"powellii\"])\n",
    "\n",
    "#draw network\n",
    "rtree.draw(\n",
    "    #ts='o',\n",
    "    height=500,\n",
    "    use_edge_lengths=False,\n",
    "    admixture_edges=admix.values(),\n",
    ");"
   ]
  },
  {
   "cell_type": "code",
   "execution_count": 107,
   "metadata": {},
   "outputs": [],
   "source": [
    "net3a = \"\"\"\n",
    "(tuberculatus,(arenicola,(pumilus)#H26:::0.5348669268972196):1.189853807664304,(cannabinus,(((((blitoides,albus):2.536060681737311,((blitum,tricolor):0.9568910962321443,viridis):2.2686635573555645):1.2520591578287816,(tucsonensis,#H25:0.0::0.3068750681989505):6.456172061854932):2.171759429622231,(((((cruentus,(hypochondriacus,(hybridus,(caudatus,quitensis):1.949119034861437):0.33409282158558884):0.28076307406856005):1.5127395250793982,(acutilobus,(powellii,(wrightii,retroflexus):1.8128881866064834):0.7930965377202345):0.5891283996409847):0.9993626906537586,(dubius)#H24:::0.5005666882672107):2.8468648136682684,(((watsonii,palmeri):0.680050031124792,spinosus):0.540355764052354,#H24:::0.49943331173278926):2.5829488545643455):4.2495025120333105)#H25:0.09523489788657981::0.6931249318010495):1.7629934740091233,#H26:::0.4651330731027804):0.48431114206953124):1.1353734035845289);, with -loglik 6384.692146659933 (best network found, remaining sorted by log-pseudolik; the smaller, the better)\n",
    "        \"\"\".strip().replace(\"\\n\",\"\")\n",
    "\n",
    "net3b = \"\"\"\n",
    "(blitoides,albus,(((blitum,tricolor):0.9469382578926481,viridis):2.281972633205987,((tucsonensis,#H25:4.2852684034315605::0.3080970392632176):5.387725062726161,((((((cruentus,(hypochondriacus,(hybridus,(caudatus,quitensis):1.9418823366448432):0.32619186593981747):0.28534977583155213):1.5107529869792744,(acutilobus,(powellii,(wrightii,retroflexus):1.8095860882561048):0.7900931962102662):0.5879748294270504):0.9967126308893691,(dubius)#H24:::0.5002610734724178):2.8524528069908346,(((watsonii,palmeri):0.6874087455300052,spinosus):0.5485183758508431,#H24:::0.49973892652758223):2.5886654136864795):4.185768252258555)#H25:0.1999072986073765::0.6919029607367824,((cannabinus,#H26:::0.368646383220669):1.2571659836554168,(pumilus,(arenicola,(tuberculatus)#H26:::0.631353616779331):9.935401806192692):0.8117167044777471):2.0076617577184197):2.180934212842272):1.2533562437556596):2.5226945964794694);, with -loglik 6244.051662035334\n",
    " \"\"\".strip().replace(\"\\n\",\"\")\n",
    "\n",
    "net3c = \"\"\"\n",
    "(tuberculatus,(arenicola,(pumilus,#H26:0.04285885246141973::0.27522915346332005):1.9031920475592519):0.42553915038587353,(cannabinus,(((((blitoides,albus):2.5388397324600556,((blitum,tricolor):0.9294866878029325,viridis):2.2740360993775695):1.2416072090417027,(tucsonensis,#H25:0.8833405858155421::0.30899914747948654):6.830111823699074):2.184608076103999,(((((cruentus,(hypochondriacus,(hybridus,(caudatus,quitensis):1.9737389868302029):0.3280054565997133):0.28772529934183844):1.5094108187140862,(acutilobus,(powellii,(wrightii,retroflexus):1.8240356403141544):0.7861004605120541):0.5884713089687492):1.011700944691565,(dubius)#H24:::0.5017892247049391):2.8405961489010965,(((watsonii,palmeri):0.6916171689306997,spinosus):0.5453147368171473,#H24:::0.4982107752950608):2.589089069428892):4.226982791310144)#H25:0.10353102871839473::0.6910008525205135):2.1512055912459687)#H26:0.4213035346331258::0.72477084653668):1.1894226146300848);, with -loglik 6529.96431463676\n",
    " \"\"\".strip().replace(\"\\n\",\"\")\n",
    "\n",
    "net3d = \"\"\"\n",
    "(tuberculatus,(arenicola,#H26:::0.4907896880774837):2.019862247501359,(cannabinus,(((((blitoides,albus):2.553388572970015,((blitum,tricolor):0.9457602907054298,viridis):2.2880998966972954):0.7291786352267429,(tucsonensis)#H25:::0.642034525187883):1.9152036704680366,(((((cruentus,(hypochondriacus,(hybridus,(caudatus,quitensis):1.9378986244832725):0.3206485793653187):0.28566766962774964):1.5140880769736147,(acutilobus,(powellii,(wrightii,retroflexus):1.7796472899962548):0.789753429283638):0.5931137876511189):1.0005182543989368,#H24:::0.49984143415723525):2.835124914556251,(((watsonii,palmeri):0.6066174628563739,spinosus):0.5811669433742935,(dubius)#H24:::0.5001585658427647):2.5734262144118247):2.9530746743699403,#H25:::0.3579654748121171):1.5186733283629574):2.1133616947156315,(pumilus)#H26:::0.5092103119225163):0.3922294271420367):1.1243350376068946);, with -loglik 6652.932270901945\n",
    " \"\"\".strip().replace(\"\\n\",\"\")\n",
    "\n",
    "net3e = \"\"\"\n",
    "(tuberculatus,#H26:::0.49830851223059547,(cannabinus,(((((blitoides,albus):2.5191298152798085,((blitum,tricolor):0.9641993367721176,viridis):2.2799911830225796):1.252450034738699,(tucsonensis,#H25:0.0::0.3056580279996424):9.091164472188744):2.169785778091957,(((((cruentus,(hypochondriacus,(hybridus,(caudatus,quitensis):1.9249941034050209):0.3239287531051053):0.2889691805889774):1.5153285177976776,(acutilobus,(powellii,(wrightii,retroflexus):1.8011132488022563):0.802621902501344):0.5895464431494352):1.0037644091465328,(dubius)#H24:::0.501360205778764):2.826253608550655,(((watsonii,palmeri):0.6819171265836633,spinosus):0.5424712400888265,#H24:::0.49863979422123605):2.5802809417293746):4.286068851839422)#H25:0.012580398594196995::0.6943419720003576):2.1997399626993506,(pumilus,(arenicola)#H26:::0.5016914877694045):0.7923152247789246):0.09819056094505042):6.152274817456912);, with -loglik 6758.288019893769\n",
    " \"\"\".strip().replace(\"\\n\",\"\")\n",
    "\n",
    "net3f = \"\"\"\n",
    "(tuberculatus,(arenicola,(pumilus)#H26:::0.5345520888796719):1.2164385407768965,(cannabinus,((#H25:5.361232693360803::0.40509963120717524,(((((cruentus,(hypochondriacus,(hybridus,(caudatus,quitensis):1.9575785201155245):0.3324849360914638):0.27989337503899986):1.5122949925721585,(acutilobus,(powellii,(wrightii,retroflexus):1.830449136686135):0.7872891134178206):0.5885327488854397):1.002216631824271,(dubius)#H24:::0.5014427642014057):2.8353522924717756,(((watsonii,palmeri):0.6633099830026201,spinosus):0.546614783730887,#H24:::0.4985572357985943):2.594260047303465):3.8501114403448398,(tucsonensis,(((blitoides,albus):2.5379330333041192,((blitum,tricolor):0.966999563705031,viridis):2.2784655609909046):1.6068573198065472)#H25:9.734628113491192::0.5949003687928247):9.428537242435416):1.3670299624681408):1.4532179549101418,#H26:::0.46544791112032813):0.4886544373187925):1.148810776136683);, with -loglik 6877.904108572835\n",
    " \"\"\".strip().replace(\"\\n\",\"\")\n",
    "\n",
    "net3g = \"\"\"\n",
    "(tuberculatus,(arenicola,(pumilus,((cannabinus)#H26:::0.9069442119958404,((((blitoides,albus):2.4885738763889993,((blitum,tricolor):0.9795403524914311,viridis):2.264398731467904):1.256594162093965,(tucsonensis,#H25:0.38336782921554724::0.3018390764670661):6.745790338802729):2.08414902770242,(((((cruentus,(hypochondriacus,(hybridus,(caudatus,quitensis):1.8377466179451953):0.3302607423419805):0.2622247343969659):1.5322885371293518,(acutilobus,(powellii,(wrightii,retroflexus):1.8257185755720804):0.7674601161998408):0.6040369179625442):0.9687608035823287,#H24:::0.4997008516993655):2.934173198847152,(((watsonii,palmeri):0.6284465076788545,spinosus):0.5183568765404509,(dubius)#H24:::0.5002991483006345):2.624634879463544):4.252512035425726)#H25:0.052458305315626445::0.6981609235329339):2.2111639260648914):0.2247672129646387):0.6508722906501495):3.1716352854316705,#H26:::0.09305578800415963);, with -loglik 6920.516566277741\n",
    " \"\"\".strip().replace(\"\\n\",\"\")\n",
    "\n",
    "net3h = \"\"\"\n",
    "(blitoides,albus,(((blitum,tricolor):0.95277457274616,viridis):2.255835203259909,((tucsonensis,(((((cruentus,(hypochondriacus,(hybridus,(caudatus,quitensis):2.083039598501941):0.33183000047986955):0.26655170192190275):1.5198523070654262,(acutilobus,(powellii,(wrightii,retroflexus):1.811362317119991):0.7863642337429861):0.582444528796582):0.9753170615750378,#H24:::0.4930869938255633):2.91319588229795,(((watsonii,palmeri):0.8256716521491331,spinosus):0.5341445330805455,(dubius)#H24:::0.5069130061744367):2.587242792318685):3.6042076809248806,(((cannabinus,(tuberculatus,(arenicola,(pumilus)#H26:::0.5054232678356407):1.1568692588551062):1.04295191135423):0.39593752796900555,#H26:::0.4945767321643593):2.344388009326095)#H25:0.07496439319236273::0.6259162086272494):2.7255342584693136):1.0675815596377478,#H25:1.4298041465144096::0.3740837913727506):1.0852726442597664):2.6368761402785745);, with -loglik 7607.202026627193\n",
    " \"\"\".strip().replace(\"\\n\",\"\")\n",
    "\n",
    "net3i = \"\"\"\n",
    "(tuberculatus,(arenicola,(pumilus)#H26:::0.5442654077902169):1.0452511810195877,(cannabinus,(((((blitoides,albus):2.5119473543063093,((blitum,tricolor):0.9667215431133178,viridis):2.282614787314634):1.2510527548159067,(tucsonensis,#H25:0.0::0.3063811657014181):9.696811330630764):2.162149172330366,(((((cruentus,(hypochondriacus,(hybridus,(caudatus,quitensis):1.9368645460907812):0.3372206045218334):0.277039145578923):1.5152338590289023,(acutilobus,(powellii,(wrightii,retroflexus):1.8519500445632304):0.7876298909609674):0.5902316802122427):2.1040714500453284,(dubius,#H24:0.0::0.4517813734819225):5.752626505534803):3.0301818831980465,(((watsonii,palmeri):0.6656395534860612,spinosus):2.15020666699793)#H24:3.5622961568233475::0.5482186265180775):3.611531545291722)#H25:0.07536266725568647::0.6936188342985818):1.7415361802088467,#H26:::0.4557345922097831):0.5006844220830301):1.128320307099138);, with -loglik 7670.157934317702\n",
    " \"\"\".strip().replace(\"\\n\",\"\")\n",
    "\n",
    "net3j = \"\"\"\n",
    "(tuberculatus,(arenicola,(pumilus)#H26:::0.5161552014424087):1.4841280961449748,(cannabinus,(((((blitoides,albus):2.534960693439599,((blitum,tricolor):0.9328057336985052,viridis):2.269645633445201):1.2610973961964778,(tucsonensis,#H25:2.026666974096586::0.3086288222618637):6.181470525578155):2.175303854734442,((#H24:3.6587534208469337::0.4913858767108278,(((watsonii,palmeri):0.6550867806095209,spinosus):1.8688777010368538,(dubius,(((cruentus,(hypochondriacus,(hybridus,(caudatus,quitensis):1.8984021866787493):0.3457626018488944):0.2869896707426556):1.5042258245397684,(acutilobus,(powellii,(wrightii,retroflexus):1.799386235408944):0.7954441677664023):0.585114007402511):2.4286550417365613)#H24:0.0::0.5086141232891722):4.726224922485432):3.335046022709856):3.6646662646810313)#H25:0.135575522547931::0.6913711777381363):1.8087228571594114,#H26:::0.4838447985575913):0.4175258565830132):1.1393752615234478);, with -loglik 7856.675899137716\n",
    " \"\"\".strip().replace(\"\\n\",\"\")\n"
   ]
  },
  {
   "cell_type": "markdown",
   "metadata": {},
   "source": [
    "net3a: species donate to themselves <br>\n",
    "net3b: \" <br>\n",
    "net3c: \" <br>\n",
    "net3d: \" <br>\n",
    "net3e: \" <br>\n",
    "net3f: \" <br>\n",
    "net3g: \" <br>\n",
    "net3h: \" <br>\n",
    "net3i: \" <br>\n",
    "net3j: \" <br>\n",
    "none seem good <br>"
   ]
  },
  {
   "cell_type": "code",
   "execution_count": 116,
   "metadata": {},
   "outputs": [
    {
     "data": {
      "text/html": [
       "<div class=\"toyplot\" id=\"t60f727de19894676a1dd0b4015eb19fc\" style=\"text-align:center\"><svg class=\"toyplot-canvas-Canvas\" height=\"500.0px\" id=\"t329d93e985c94825a94f5e6ba8e8a80a\" preserveAspectRatio=\"xMidYMid meet\" style=\"background-color:transparent;border-color:#292724;border-style:none;border-width:1.0;fill:rgb(16.1%,15.3%,14.1%);fill-opacity:1.0;font-family:Helvetica;font-size:12px;opacity:1.0;stroke:rgb(16.1%,15.3%,14.1%);stroke-opacity:1.0;stroke-width:1.0\" viewBox=\"0 0 325.0 500.0\" width=\"325.0px\" xmlns=\"http://www.w3.org/2000/svg\" xmlns:toyplot=\"http://www.sandia.gov/toyplot\" xmlns:xlink=\"http://www.w3.org/1999/xlink\"><g class=\"toyplot-coordinates-Cartesian\" id=\"t8b797164eed54020a128fb458f166ed0\"><clipPath id=\"t9811af98cf724af683f0ed3471e9fd27\"><rect height=\"440.0\" width=\"265.0\" x=\"30.0\" y=\"30.0\"></rect></clipPath><g clip-path=\"url(#t9811af98cf724af683f0ed3471e9fd27)\"><g class=\"toytree-mark-Toytree\" id=\"tdc5954a17bac43c5bf52d4f500fd2997\"><g class=\"toytree-Edges\" style=\"fill:none;stroke:rgb(14.9%,14.9%,14.9%);stroke-linecap:round;stroke-opacity:1;stroke-width:2\"><path d=\"M 51.2 198.2 L 51.2 114.8 L 100.4 114.8\" id=\"44,43\"></path><path d=\"M 51.2 198.2 L 51.2 281.7 L 67.6 281.7\" id=\"44,42\"></path><path d=\"M 100.4 114.8 L 100.4 76.8 L 133.2 76.8\" id=\"43,41\"></path><path d=\"M 100.4 114.8 L 100.4 152.7 L 116.8 152.7\" id=\"43,40\"></path><path d=\"M 67.6 281.7 L 67.6 245.7 L 149.6 245.7\" id=\"42,39\"></path><path d=\"M 67.6 281.7 L 67.6 317.6 L 84.0 317.6\" id=\"42,38\"></path><path d=\"M 133.2 76.8 L 133.2 91.8 L 149.6 91.8\" id=\"41,37\"></path><path d=\"M 116.8 152.7 L 116.8 175.2 L 133.2 175.2\" id=\"40,36\"></path><path d=\"M 149.6 245.7 L 149.6 258.6 L 166.0 258.6\" id=\"39,35\"></path><path d=\"M 84.0 317.6 L 84.0 351.0 L 100.4 351.0\" id=\"38,34\"></path><path d=\"M 149.6 91.8 L 149.6 104.6 L 166.0 104.6\" id=\"37,33\"></path><path d=\"M 133.2 175.2 L 133.2 155.9 L 166.0 155.9\" id=\"36,32\"></path><path d=\"M 133.2 175.2 L 133.2 194.4 L 149.6 194.4\" id=\"36,31\"></path><path d=\"M 100.4 351.0 L 100.4 316.3 L 133.2 316.3\" id=\"34,30\"></path><path d=\"M 100.4 351.0 L 100.4 385.8 L 116.8 385.8\" id=\"34,29\"></path><path d=\"M 149.6 194.4 L 149.6 207.2 L 166.0 207.2\" id=\"31,28\"></path><path d=\"M 133.2 316.3 L 133.2 331.2 L 149.6 331.2\" id=\"30,27\"></path><path d=\"M 116.8 385.8 L 116.8 401.8 L 133.2 401.8\" id=\"29,26\"></path><path d=\"M 149.6 331.2 L 149.6 344.1 L 166.0 344.1\" id=\"27,25\"></path><path d=\"M 133.2 401.8 L 133.2 416.8 L 149.6 416.8\" id=\"26,24\"></path><path d=\"M 149.6 416.8 L 149.6 429.6 L 166.0 429.6\" id=\"24,23\"></path><path d=\"M 133.2 76.8 L 133.2 61.9 L 182.4 61.9\" id=\"41,22\"></path><path d=\"M 149.6 91.8 L 149.6 79.0 L 182.4 79.0\" id=\"37,21\"></path><path d=\"M 166.0 104.6 L 166.0 96.1 L 182.4 96.1\" id=\"33,20\"></path><path d=\"M 166.0 104.6 L 166.0 113.2 L 182.4 113.2\" id=\"33,19\"></path><path d=\"M 116.8 152.7 L 116.8 130.3 L 182.4 130.3\" id=\"40,18\"></path><path d=\"M 166.0 155.9 L 166.0 147.4 L 182.4 147.4\" id=\"32,17\"></path><path d=\"M 166.0 155.9 L 166.0 164.5 L 182.4 164.5\" id=\"32,16\"></path><path d=\"M 149.6 194.4 L 149.6 181.6 L 182.4 181.6\" id=\"31,15\"></path><path d=\"M 166.0 207.2 L 166.0 198.7 L 182.4 198.7\" id=\"28,14\"></path><path d=\"M 166.0 207.2 L 166.0 215.8 L 182.4 215.8\" id=\"28,13\"></path><path d=\"M 149.6 245.7 L 149.6 232.9 L 182.4 232.9\" id=\"39,12\"></path><path d=\"M 166.0 258.6 L 166.0 250.0 L 182.4 250.0\" id=\"35,11\"></path><path d=\"M 166.0 258.6 L 166.0 267.1 L 182.4 267.1\" id=\"35,10\"></path><path d=\"M 84.0 317.6 L 84.0 284.2 L 182.4 284.2\" id=\"38,9\"></path><path d=\"M 133.2 316.3 L 133.2 301.3 L 182.4 301.3\" id=\"30,8\"></path><path d=\"M 149.6 331.2 L 149.6 318.4 L 182.4 318.4\" id=\"27,7\"></path><path d=\"M 166.0 344.1 L 166.0 335.5 L 182.4 335.5\" id=\"25,6\"></path><path d=\"M 166.0 344.1 L 166.0 352.6 L 182.4 352.6\" id=\"25,5\"></path><path d=\"M 116.8 385.8 L 116.8 369.7 L 182.4 369.7\" id=\"29,4\"></path><path d=\"M 133.2 401.8 L 133.2 386.8 L 182.4 386.8\" id=\"26,3\"></path><path d=\"M 149.6 416.8 L 149.6 403.9 L 182.4 403.9\" id=\"24,2\"></path><path d=\"M 166.0 429.6 L 166.0 421.0 L 182.4 421.0\" id=\"23,1\"></path><path d=\"M 166.0 429.6 L 166.0 438.1 L 182.4 438.1\" id=\"23,0\"></path></g><g class=\"toytree-AdmixEdges\" style=\"fill:none;font-size:14px;stroke:rgba(90.6%,54.1%,76.5%,1.000);stroke-linecap:round;stroke-opacity:0.6;stroke-width:5\"><path d=\"M 182.4 284.2 L 116.8 284.2 L 116.8 245.7 L 67.6 245.7\" style=\"stroke:rgb(98.8%,55.3%,38.4%);stroke-opacity:0.7\"></path><text style=\"fill:#262626;fill-opacity:1.0;stroke:none;stroke-opacity:0.7;text-anchor:middle\" x=\"116.79\" y=\"276.97\">0.499</text><path d=\"M 182.4 113.2 L 174.2 113.2 L 116.8 76.8 L 100.4 76.8\" style=\"stroke:rgb(55.3%,62.7%,79.6%);stroke-opacity:0.7\"></path><text style=\"fill:#262626;fill-opacity:1.0;stroke:none;stroke-opacity:0.7;text-anchor:middle\" x=\"145.50\" y=\"106.99\">0.465</text><path d=\"M 100.4 114.8 L 75.8 114.8 L 149.6 130.3 L 116.8 130.3\" style=\"stroke:rgb(90.6%,54.1%,76.5%);stroke-opacity:0.7\"></path><text style=\"fill:#262626;fill-opacity:1.0;stroke:none;stroke-opacity:0.7;text-anchor:middle\" x=\"112.69\" y=\"134.52\">0.307</text></g><g class=\"toytree-TipLabels\" style=\"fill:rgb(14.9%,14.9%,14.9%);fill-opacity:1.0;font-family:helvetica;font-size:11px;font-weight:normal;stroke:none;white-space:pre\"><g transform=\"translate(182.41,438.15)rotate(0)\"><text style=\"\" x=\"15.00\" y=\"2.81\">quitensis</text></g><g transform=\"translate(182.41,421.04)rotate(0)\"><text style=\"\" x=\"15.00\" y=\"2.81\">caudatus</text></g><g transform=\"translate(182.41,403.94)rotate(0)\"><text style=\"\" x=\"15.00\" y=\"2.81\">hybridus</text></g><g transform=\"translate(182.41,386.83)rotate(0)\"><text style=\"\" x=\"15.00\" y=\"2.81\">hypochondriacus</text></g><g transform=\"translate(182.41,369.73)rotate(0)\"><text style=\"\" x=\"15.00\" y=\"2.81\">cruentus</text></g><g transform=\"translate(182.41,352.63)rotate(0)\"><text style=\"\" x=\"15.00\" y=\"2.81\">retroflexus</text></g><g transform=\"translate(182.41,335.52)rotate(0)\"><text style=\"\" x=\"15.00\" y=\"2.81\">wrightii</text></g><g transform=\"translate(182.41,318.42)rotate(0)\"><text style=\"\" x=\"15.00\" y=\"2.81\">powellii</text></g><g transform=\"translate(182.41,301.31)rotate(0)\"><text style=\"\" x=\"15.00\" y=\"2.81\">acutilobus</text></g><g transform=\"translate(182.41,284.21)rotate(0)\"><text style=\"\" x=\"15.00\" y=\"2.81\">dubius</text></g><g transform=\"translate(182.41,267.10)rotate(0)\"><text style=\"\" x=\"15.00\" y=\"2.81\">palmeri</text></g><g transform=\"translate(182.41,250.00)rotate(0)\"><text style=\"\" x=\"15.00\" y=\"2.81\">watsonii</text></g><g transform=\"translate(182.41,232.90)rotate(0)\"><text style=\"\" x=\"15.00\" y=\"2.81\">spinosus</text></g><g transform=\"translate(182.41,215.79)rotate(0)\"><text style=\"\" x=\"15.00\" y=\"2.81\">tricolor</text></g><g transform=\"translate(182.41,198.69)rotate(0)\"><text style=\"\" x=\"15.00\" y=\"2.81\">blitum</text></g><g transform=\"translate(182.41,181.58)rotate(0)\"><text style=\"\" x=\"15.00\" y=\"2.81\">viridis</text></g><g transform=\"translate(182.41,164.48)rotate(0)\"><text style=\"\" x=\"15.00\" y=\"2.81\">albus</text></g><g transform=\"translate(182.41,147.37)rotate(0)\"><text style=\"\" x=\"15.00\" y=\"2.81\">blitoides</text></g><g transform=\"translate(182.41,130.27)rotate(0)\"><text style=\"\" x=\"15.00\" y=\"2.81\">tucsonensis</text></g><g transform=\"translate(182.41,113.17)rotate(0)\"><text style=\"\" x=\"15.00\" y=\"2.81\">pumilus</text></g><g transform=\"translate(182.41,96.06)rotate(0)\"><text style=\"\" x=\"15.00\" y=\"2.81\">arenicola</text></g><g transform=\"translate(182.41,78.96)rotate(0)\"><text style=\"\" x=\"15.00\" y=\"2.81\">tuberculatus</text></g><g transform=\"translate(182.41,61.85)rotate(0)\"><text style=\"\" x=\"15.00\" y=\"2.81\">cannabinus</text></g></g></g></g></g></svg><div class=\"toyplot-behavior\"><script>(function()\n",
       "{\n",
       "var modules={};\n",
       "})();</script></div></div>"
      ]
     },
     "metadata": {},
     "output_type": "display_data"
    }
   ],
   "source": [
    "#get tree and admix scenario\n",
    "tree, admix = toytree.utils.parse_network(net3a)\n",
    "\n",
    "#re-root the tree on node 32\n",
    "rtree = tree.root([\"palmeri\",\"watsonii\",\"spinosus\",\"dubius\",\"caudatus\",\"quitensis\",\"hybridus\",\"hypochondriacus\",\n",
    "             \"cruentus\",\"acutilobus\",\"wrightii\",\"retroflexus\",\"powellii\"])\n",
    "\n",
    "#draw network\n",
    "rtree.draw(\n",
    "    #ts='o',\n",
    "    height=500,\n",
    "    use_edge_lengths=False,\n",
    "    admixture_edges=admix.values(),\n",
    ");"
   ]
  },
  {
   "cell_type": "code",
   "execution_count": 117,
   "metadata": {},
   "outputs": [],
   "source": [
    "color_dict = {\n",
    "\"quitensis\": \"orange\",# 'quitensis',\n",
    "\"caudatus\": \"orange\",# 'caudatus',\n",
    "\"hypochondriacus\": \"orange\",# 'hypochondriacus',\n",
    "\"reference\": \"orange\",\n",
    "\"hybridus\": \"orange\",# 'hybridus',\n",
    "\"cruentus\": \"orange\",# 'cruentus',\n",
    "\"wrightii\": \"orange\",# 'wrightii',\n",
    "\"retroflexus\": \"orange\",# 'retroflexus',\n",
    "\"powellii\": \"orange\",# 'powellii',\n",
    "\"acutilobus\": \"orange\",# 'acutilobus',\n",
    "\"watsonii\": \"orange\",# 'watsonii',\n",
    "\"palmeri\": \"orange\",# 'palmeri',\n",
    "\"spinosus\": \"orange\",# 'spinosus',\n",
    "\"dubius\": \"orange\",# 'dubius',\n",
    "\"arenicola\": \"blue\",# 'arenicola',\n",
    "\"greggii\": \"blue\",# 'greggii',\n",
    "\"acanthochiton\": \"blue\",# 'acanthochiton',\n",
    "\"pumilus\": \"blue\",# 'pumilus',\n",
    "\"floridanus\": \"blue\",# 'floridanus',\n",
    "\"tuberculatus\": \"blue\",# 'tuberculatus',\n",
    "\"cannabinus\": \"blue\",# 'cannabinus',\n",
    "\"australis\": \"blue\",# 'australis',\n",
    "\"viridis\": \"red\",# 'viridis',\n",
    "\"deflexus\": \"red\",# 'deflexus',\n",
    "\"muricatus\": \"red\",# 'muricatus',\n",
    "\"standleyanus\": \"red\",# 'standleyanus',\n",
    "\"asplundii\": \"purple\",# 'asplundii',\n",
    "\"graecizans\": \"purple\",# 'graecizans',\n",
    "\"tricolor\": \"purple\",# 'tricolor',\n",
    "\"blitum\": \"purple\",# 'blitum',\n",
    "\"albus\": \"green\",# 'albus',\n",
    "\"californicus\": \"green\",# 'californicus',\n",
    "\"blitoides\": \"green\",# 'blitoides',\n",
    "\"torreyi\": \"green\",# 'torreyi',\n",
    "\"crassipes\": \"green\",# 'crassipes',\n",
    "\"tamaulipensis\": \"green\",# 'tamaulipensis',\n",
    "\"fimbriatus\": \"green\",# 'fimbriatus',\n",
    "\"tucsonensis\": \"green\",# 'tucsonensis',\n",
    "\"beet\": \"black\",# 'quinoa'\n",
    "\"unknown\": \"black\",\n",
    "}"
   ]
  },
  {
   "cell_type": "code",
   "execution_count": 118,
   "metadata": {},
   "outputs": [
    {
     "data": {
      "text/html": [
       "<div class=\"toyplot\" id=\"t1855d145af9c4cd294aa4632ba5ef658\" style=\"text-align:center\"><svg class=\"toyplot-canvas-Canvas\" height=\"600.0px\" id=\"t9274659b976b4b228cf97e244ca91173\" preserveAspectRatio=\"xMidYMid meet\" style=\"background-color:transparent;border-color:#292724;border-style:none;border-width:1.0;fill:rgb(16.1%,15.3%,14.1%);fill-opacity:1.0;font-family:Helvetica;font-size:12px;opacity:1.0;stroke:rgb(16.1%,15.3%,14.1%);stroke-opacity:1.0;stroke-width:1.0\" viewBox=\"0 0 400.0 600.0\" width=\"400.0px\" xmlns=\"http://www.w3.org/2000/svg\" xmlns:toyplot=\"http://www.sandia.gov/toyplot\" xmlns:xlink=\"http://www.w3.org/1999/xlink\"><g class=\"toyplot-coordinates-Cartesian\" id=\"t6f0c86bff5e449eebd2023b4cf9f9ae0\"><clipPath id=\"td424c8140ebd40839ac1b273c90f27a7\"><rect height=\"540.0\" width=\"340.0\" x=\"30.0\" y=\"30.0\"></rect></clipPath><g clip-path=\"url(#td424c8140ebd40839ac1b273c90f27a7)\"><g class=\"toytree-mark-Toytree\" id=\"tdd7ee26e752b49b5866ec9dcf5f3f410\"><g class=\"toytree-Edges\" style=\"fill:none;stroke:rgb(14.9%,14.9%,14.9%);stroke-linecap:round;stroke-opacity:1;stroke-width:2\"><path d=\"M 51.2 235.2 L 51.2 130.9 L 118.9 130.9\" id=\"44,43\"></path><path d=\"M 51.2 235.2 L 51.2 339.6 L 73.8 339.6\" id=\"44,42\"></path><path d=\"M 118.9 130.9 L 118.9 83.4 L 164.0 83.4\" id=\"43,41\"></path><path d=\"M 118.9 130.9 L 118.9 178.3 L 141.5 178.3\" id=\"43,40\"></path><path d=\"M 73.8 339.6 L 73.8 294.7 L 186.6 294.7\" id=\"42,39\"></path><path d=\"M 73.8 339.6 L 73.8 384.6 L 96.3 384.6\" id=\"42,38\"></path><path d=\"M 164.0 83.4 L 164.0 102.1 L 186.6 102.1\" id=\"41,37\"></path><path d=\"M 141.5 178.3 L 141.5 206.4 L 164.0 206.4\" id=\"40,36\"></path><path d=\"M 186.6 294.7 L 186.6 310.7 L 209.2 310.7\" id=\"39,35\"></path><path d=\"M 96.3 384.6 L 96.3 426.3 L 118.9 426.3\" id=\"38,34\"></path><path d=\"M 186.6 102.1 L 186.6 118.2 L 209.2 118.2\" id=\"37,33\"></path><path d=\"M 164.0 206.4 L 164.0 182.3 L 209.2 182.3\" id=\"36,32\"></path><path d=\"M 164.0 206.4 L 164.0 230.5 L 186.6 230.5\" id=\"36,31\"></path><path d=\"M 118.9 426.3 L 118.9 382.9 L 164.0 382.9\" id=\"34,30\"></path><path d=\"M 118.9 426.3 L 118.9 469.8 L 141.5 469.8\" id=\"34,29\"></path><path d=\"M 186.6 230.5 L 186.6 246.5 L 209.2 246.5\" id=\"31,28\"></path><path d=\"M 164.0 382.9 L 164.0 401.6 L 186.6 401.6\" id=\"30,27\"></path><path d=\"M 141.5 469.8 L 141.5 489.9 L 164.0 489.9\" id=\"29,26\"></path><path d=\"M 186.6 401.6 L 186.6 417.7 L 209.2 417.7\" id=\"27,25\"></path><path d=\"M 164.0 489.9 L 164.0 508.6 L 186.6 508.6\" id=\"26,24\"></path><path d=\"M 186.6 508.6 L 186.6 524.6 L 209.2 524.6\" id=\"24,23\"></path><path d=\"M 164.0 83.4 L 164.0 64.7 L 231.7 64.7\" id=\"41,22\"></path><path d=\"M 186.6 102.1 L 186.6 86.1 L 231.7 86.1\" id=\"37,21\"></path><path d=\"M 209.2 118.2 L 209.2 107.5 L 231.7 107.5\" id=\"33,20\"></path><path d=\"M 209.2 118.2 L 209.2 128.9 L 231.7 128.9\" id=\"33,19\"></path><path d=\"M 141.5 178.3 L 141.5 150.3 L 231.7 150.3\" id=\"40,18\"></path><path d=\"M 209.2 182.3 L 209.2 171.6 L 231.7 171.6\" id=\"32,17\"></path><path d=\"M 209.2 182.3 L 209.2 193.0 L 231.7 193.0\" id=\"32,16\"></path><path d=\"M 186.6 230.5 L 186.6 214.4 L 231.7 214.4\" id=\"31,15\"></path><path d=\"M 209.2 246.5 L 209.2 235.8 L 231.7 235.8\" id=\"28,14\"></path><path d=\"M 209.2 246.5 L 209.2 257.2 L 231.7 257.2\" id=\"28,13\"></path><path d=\"M 186.6 294.7 L 186.6 278.6 L 231.7 278.6\" id=\"39,12\"></path><path d=\"M 209.2 310.7 L 209.2 300.0 L 231.7 300.0\" id=\"35,11\"></path><path d=\"M 209.2 310.7 L 209.2 321.4 L 231.7 321.4\" id=\"35,10\"></path><path d=\"M 96.3 384.6 L 96.3 342.8 L 231.7 342.8\" id=\"38,9\"></path><path d=\"M 164.0 382.9 L 164.0 364.2 L 231.7 364.2\" id=\"30,8\"></path><path d=\"M 186.6 401.6 L 186.6 385.6 L 231.7 385.6\" id=\"27,7\"></path><path d=\"M 209.2 417.7 L 209.2 407.0 L 231.7 407.0\" id=\"25,6\"></path><path d=\"M 209.2 417.7 L 209.2 428.4 L 231.7 428.4\" id=\"25,5\"></path><path d=\"M 141.5 469.8 L 141.5 449.7 L 231.7 449.7\" id=\"29,4\"></path><path d=\"M 164.0 489.9 L 164.0 471.1 L 231.7 471.1\" id=\"26,3\"></path><path d=\"M 186.6 508.6 L 186.6 492.5 L 231.7 492.5\" id=\"24,2\"></path><path d=\"M 209.2 524.6 L 209.2 513.9 L 231.7 513.9\" id=\"23,1\"></path><path d=\"M 209.2 524.6 L 209.2 535.3 L 231.7 535.3\" id=\"23,0\"></path></g><g class=\"toytree-AdmixEdges\" style=\"fill:none;font-size:14px;stroke:rgba(90.6%,54.1%,76.5%,1.000);stroke-linecap:round;stroke-opacity:0.6;stroke-width:5\"><path d=\"M 164.0 206.4 L 152.8 206.4 L 152.8 83.4 L 118.9 83.4\" style=\"stroke:rgb(98.8%,55.3%,38.4%);stroke-opacity:0.7\"></path><text style=\"fill:#262626;fill-opacity:1.0;stroke:none;stroke-opacity:0.7;text-anchor:middle\" x=\"152.75\" y=\"156.91\">0.401</text><path d=\"M 231.7 342.8 L 141.5 342.8 L 141.5 294.7 L 73.8 294.7\" style=\"stroke:rgb(55.3%,62.7%,79.6%);stroke-opacity:0.7\"></path><text style=\"fill:#262626;fill-opacity:1.0;stroke:none;stroke-opacity:0.7;text-anchor:middle\" x=\"141.47\" y=\"330.72\">0.499</text></g><g class=\"toytree-TipLabels\" style=\"fill:rgb(14.9%,14.9%,14.9%);fill-opacity:1.0;font-family:helvetica;font-size:16px;font-weight:normal;stroke:none;white-space:pre\"><g transform=\"translate(231.73,535.32)rotate(0)\"><text style=\"fill:rgb(100%,64.7%,0%);fill-opacity:1.0\" x=\"15.00\" y=\"4.09\">quitensis</text></g><g transform=\"translate(231.73,513.92)rotate(0)\"><text style=\"fill:rgb(100%,64.7%,0%);fill-opacity:1.0\" x=\"15.00\" y=\"4.09\">caudatus</text></g><g transform=\"translate(231.73,492.53)rotate(0)\"><text style=\"fill:rgb(100%,64.7%,0%);fill-opacity:1.0\" x=\"15.00\" y=\"4.09\">hybridus</text></g><g transform=\"translate(231.73,471.14)rotate(0)\"><text style=\"fill:rgb(100%,64.7%,0%);fill-opacity:1.0\" x=\"15.00\" y=\"4.09\">hypochondriacus</text></g><g transform=\"translate(231.73,449.75)rotate(0)\"><text style=\"fill:rgb(100%,64.7%,0%);fill-opacity:1.0\" x=\"15.00\" y=\"4.09\">cruentus</text></g><g transform=\"translate(231.73,428.35)rotate(0)\"><text style=\"fill:rgb(100%,64.7%,0%);fill-opacity:1.0\" x=\"15.00\" y=\"4.09\">retroflexus</text></g><g transform=\"translate(231.73,406.96)rotate(0)\"><text style=\"fill:rgb(100%,64.7%,0%);fill-opacity:1.0\" x=\"15.00\" y=\"4.09\">wrightii</text></g><g transform=\"translate(231.73,385.57)rotate(0)\"><text style=\"fill:rgb(100%,64.7%,0%);fill-opacity:1.0\" x=\"15.00\" y=\"4.09\">powellii</text></g><g transform=\"translate(231.73,364.18)rotate(0)\"><text style=\"fill:rgb(100%,64.7%,0%);fill-opacity:1.0\" x=\"15.00\" y=\"4.09\">acutilobus</text></g><g transform=\"translate(231.73,342.78)rotate(0)\"><text style=\"fill:rgb(100%,64.7%,0%);fill-opacity:1.0\" x=\"15.00\" y=\"4.09\">dubius</text></g><g transform=\"translate(231.73,321.39)rotate(0)\"><text style=\"fill:rgb(100%,64.7%,0%);fill-opacity:1.0\" x=\"15.00\" y=\"4.09\">palmeri</text></g><g transform=\"translate(231.73,300.00)rotate(0)\"><text style=\"fill:rgb(100%,64.7%,0%);fill-opacity:1.0\" x=\"15.00\" y=\"4.09\">watsonii</text></g><g transform=\"translate(231.73,278.61)rotate(0)\"><text style=\"fill:rgb(100%,64.7%,0%);fill-opacity:1.0\" x=\"15.00\" y=\"4.09\">spinosus</text></g><g transform=\"translate(231.73,257.22)rotate(0)\"><text style=\"fill:rgb(50.2%,0%,50.2%);fill-opacity:1.0\" x=\"15.00\" y=\"4.09\">tricolor</text></g><g transform=\"translate(231.73,235.82)rotate(0)\"><text style=\"fill:rgb(50.2%,0%,50.2%);fill-opacity:1.0\" x=\"15.00\" y=\"4.09\">blitum</text></g><g transform=\"translate(231.73,214.43)rotate(0)\"><text style=\"fill:rgb(100%,0%,0%);fill-opacity:1.0\" x=\"15.00\" y=\"4.09\">viridis</text></g><g transform=\"translate(231.73,193.04)rotate(0)\"><text style=\"fill:rgb(0%,50.2%,0%);fill-opacity:1.0\" x=\"15.00\" y=\"4.09\">albus</text></g><g transform=\"translate(231.73,171.65)rotate(0)\"><text style=\"fill:rgb(0%,50.2%,0%);fill-opacity:1.0\" x=\"15.00\" y=\"4.09\">blitoides</text></g><g transform=\"translate(231.73,150.25)rotate(0)\"><text style=\"fill:rgb(0%,50.2%,0%);fill-opacity:1.0\" x=\"15.00\" y=\"4.09\">tucsonensis</text></g><g transform=\"translate(231.73,128.86)rotate(0)\"><text style=\"fill:rgb(0%,0%,100%);fill-opacity:1.0\" x=\"15.00\" y=\"4.09\">tuberculatus</text></g><g transform=\"translate(231.73,107.47)rotate(0)\"><text style=\"fill:rgb(0%,0%,100%);fill-opacity:1.0\" x=\"15.00\" y=\"4.09\">arenicola</text></g><g transform=\"translate(231.73,86.08)rotate(0)\"><text style=\"fill:rgb(0%,0%,100%);fill-opacity:1.0\" x=\"15.00\" y=\"4.09\">pumilus</text></g><g transform=\"translate(231.73,64.68)rotate(0)\"><text style=\"fill:rgb(0%,0%,100%);fill-opacity:1.0\" x=\"15.00\" y=\"4.09\">cannabinus</text></g></g></g></g></g></svg><div class=\"toyplot-behavior\"><script>(function()\n",
       "{\n",
       "var modules={};\n",
       "})();</script></div></div>"
      ]
     },
     "metadata": {},
     "output_type": "display_data"
    }
   ],
   "source": [
    "#get tree and admix scenario\n",
    "tree, admix = toytree.utils.parse_network(net2b)\n",
    "\n",
    "#re-root the tree on node 32\n",
    "rtree = tree.root([\"palmeri\",\"watsonii\",\"spinosus\",\"dubius\",\"caudatus\",\"quitensis\",\"hybridus\",\"hypochondriacus\",\n",
    "             \"cruentus\",\"acutilobus\",\"wrightii\",\"retroflexus\",\"powellii\"])\n",
    "\n",
    "\n",
    "our_labels = rtree.get_tip_labels()\n",
    "sp_names= [i.split(\"_\")[0].split(\"-\")[0] for i in our_labels]\n",
    "colors = [color_dict[sp] for sp in sp_names]\n",
    "\n",
    "\n",
    "\n",
    "#draw network\n",
    "canvas, axes, mark = rtree.draw(\n",
    "    #ts='o',\n",
    "    use_edge_lengths=False,\n",
    "    admixture_edges=admix.values(),\n",
    "    tip_labels_colors=colors,\n",
    "    tip_labels_style={\"font-size\":\"16px\"},\n",
    "    width=400, height=600,\n",
    ");"
   ]
  },
  {
   "cell_type": "code",
   "execution_count": 119,
   "metadata": {},
   "outputs": [],
   "source": [
    "toyplot.svg.render(canvas, \"/rigel/dsi/users/slh2181/tuberculatus_plate/fimbriatus/snaq/tucs_net2.svg\")"
   ]
  },
  {
   "cell_type": "code",
   "execution_count": null,
   "metadata": {},
   "outputs": [],
   "source": []
  },
  {
   "cell_type": "code",
   "execution_count": null,
   "metadata": {},
   "outputs": [],
   "source": []
  },
  {
   "cell_type": "code",
   "execution_count": null,
   "metadata": {},
   "outputs": [],
   "source": []
  },
  {
   "cell_type": "markdown",
   "metadata": {},
   "source": [
    "# Fimbriatus is better.  Now use 500kb windows\n",
    "\n",
    "Oct 12, 2020"
   ]
  },
  {
   "cell_type": "code",
   "execution_count": 1,
   "metadata": {},
   "outputs": [
    {
     "name": "stdout",
     "output_type": "stream",
     "text": [
      "toytree 2.0.4\n"
     ]
    }
   ],
   "source": [
    "import toytree\n",
    "import toyplot.svg\n",
    "\n",
    "\n",
    "print('toytree', toytree.__version__)"
   ]
  },
  {
   "cell_type": "code",
   "execution_count": 2,
   "metadata": {},
   "outputs": [],
   "source": [
    "net0 = \"\"\" \n",
    "(retroflexus,wrightii,(powellii,(((((hybridus,(quitensis,caudatus):1.1976661070504737):0.21991731698462638,hypochondriacus):0.17899776199321984,cruentus):1.098469362620823,(dubius,((spinosus,(watsonii,palmeri):0.5543976995794541):2.0109707370129297,((cannabinus,(pumilus,(tuberculatus,arenicola):0.42366906060432424):0.3998372745572348):1.8173251875677283,(fimbriatus,((albus,blitoides):1.9659953500355167,(viridis,(blitum,tricolor):0.6725489190633281):1.9979528184419466):0.8097650469115809):0.6607642570941545):2.7408702620181593):0.42003849764714607):1.4817417179232322):0.422553816550134,acutilobus):0.575499171936331):1.3130201934676107); -Ploglik = 18497.80327551384\n",
    "    \"\"\".strip().replace(\"\\n\",\"\")"
   ]
  },
  {
   "cell_type": "code",
   "execution_count": 3,
   "metadata": {},
   "outputs": [
    {
     "data": {
      "text/html": [
       "<div class=\"toyplot\" id=\"tc3e5398136834c988f62129c4bfd0444\" style=\"text-align:center\"><svg class=\"toyplot-canvas-Canvas\" height=\"500.0px\" id=\"t48a9b8d16fc14daa8899f0cb63cacbc7\" preserveAspectRatio=\"xMidYMid meet\" style=\"background-color:transparent;border-color:#292724;border-style:none;border-width:1.0;fill:rgb(16.1%,15.3%,14.1%);fill-opacity:1.0;font-family:Helvetica;font-size:12px;opacity:1.0;stroke:rgb(16.1%,15.3%,14.1%);stroke-opacity:1.0;stroke-width:1.0\" viewBox=\"0 0 325.0 500.0\" width=\"325.0px\" xmlns=\"http://www.w3.org/2000/svg\" xmlns:toyplot=\"http://www.sandia.gov/toyplot\" xmlns:xlink=\"http://www.w3.org/1999/xlink\"><g class=\"toyplot-coordinates-Cartesian\" id=\"tbc2366109202484bae58a746e72d5f51\"><clipPath id=\"t277868d0614f4958864f1a833386d1f6\"><rect height=\"440.0\" width=\"265.0\" x=\"30.0\" y=\"30.0\"></rect></clipPath><g clip-path=\"url(#t277868d0614f4958864f1a833386d1f6)\"><g class=\"toytree-mark-Toytree\" id=\"t821e95e01f364c249c36e6955a123448\"><g class=\"toytree-Edges\" style=\"fill:none;stroke:rgb(14.9%,14.9%,14.9%);stroke-linecap:round;stroke-opacity:1;stroke-width:2\"><path d=\"M 51.2 198.2 L 51.2 114.8 L 100.4 114.8\" id=\"44,43\"></path><path d=\"M 51.2 198.2 L 51.2 281.7 L 67.6 281.7\" id=\"44,42\"></path><path d=\"M 100.4 114.8 L 100.4 76.8 L 133.2 76.8\" id=\"43,41\"></path><path d=\"M 100.4 114.8 L 100.4 152.7 L 116.8 152.7\" id=\"43,40\"></path><path d=\"M 67.6 281.7 L 67.6 245.7 L 149.6 245.7\" id=\"42,39\"></path><path d=\"M 67.6 281.7 L 67.6 317.6 L 84.0 317.6\" id=\"42,38\"></path><path d=\"M 133.2 76.8 L 133.2 91.8 L 149.6 91.8\" id=\"41,37\"></path><path d=\"M 116.8 152.7 L 116.8 175.2 L 133.2 175.2\" id=\"40,36\"></path><path d=\"M 149.6 245.7 L 149.6 258.6 L 166.0 258.6\" id=\"39,35\"></path><path d=\"M 84.0 317.6 L 84.0 351.0 L 100.4 351.0\" id=\"38,34\"></path><path d=\"M 149.6 91.8 L 149.6 104.6 L 166.0 104.6\" id=\"37,33\"></path><path d=\"M 133.2 175.2 L 133.2 155.9 L 166.0 155.9\" id=\"36,32\"></path><path d=\"M 133.2 175.2 L 133.2 194.4 L 149.6 194.4\" id=\"36,31\"></path><path d=\"M 100.4 351.0 L 100.4 316.3 L 133.2 316.3\" id=\"34,30\"></path><path d=\"M 100.4 351.0 L 100.4 385.8 L 116.8 385.8\" id=\"34,29\"></path><path d=\"M 149.6 194.4 L 149.6 207.2 L 166.0 207.2\" id=\"31,28\"></path><path d=\"M 133.2 316.3 L 133.2 331.2 L 149.6 331.2\" id=\"30,27\"></path><path d=\"M 116.8 385.8 L 116.8 401.8 L 133.2 401.8\" id=\"29,26\"></path><path d=\"M 149.6 331.2 L 149.6 344.1 L 166.0 344.1\" id=\"27,25\"></path><path d=\"M 133.2 401.8 L 133.2 416.8 L 149.6 416.8\" id=\"26,24\"></path><path d=\"M 149.6 416.8 L 149.6 429.6 L 166.0 429.6\" id=\"24,23\"></path><path d=\"M 133.2 76.8 L 133.2 61.9 L 182.4 61.9\" id=\"41,22\"></path><path d=\"M 149.6 91.8 L 149.6 79.0 L 182.4 79.0\" id=\"37,21\"></path><path d=\"M 166.0 104.6 L 166.0 96.1 L 182.4 96.1\" id=\"33,20\"></path><path d=\"M 166.0 104.6 L 166.0 113.2 L 182.4 113.2\" id=\"33,19\"></path><path d=\"M 116.8 152.7 L 116.8 130.3 L 182.4 130.3\" id=\"40,18\"></path><path d=\"M 166.0 155.9 L 166.0 147.4 L 182.4 147.4\" id=\"32,17\"></path><path d=\"M 166.0 155.9 L 166.0 164.5 L 182.4 164.5\" id=\"32,16\"></path><path d=\"M 149.6 194.4 L 149.6 181.6 L 182.4 181.6\" id=\"31,15\"></path><path d=\"M 166.0 207.2 L 166.0 198.7 L 182.4 198.7\" id=\"28,14\"></path><path d=\"M 166.0 207.2 L 166.0 215.8 L 182.4 215.8\" id=\"28,13\"></path><path d=\"M 149.6 245.7 L 149.6 232.9 L 182.4 232.9\" id=\"39,12\"></path><path d=\"M 166.0 258.6 L 166.0 250.0 L 182.4 250.0\" id=\"35,11\"></path><path d=\"M 166.0 258.6 L 166.0 267.1 L 182.4 267.1\" id=\"35,10\"></path><path d=\"M 84.0 317.6 L 84.0 284.2 L 182.4 284.2\" id=\"38,9\"></path><path d=\"M 133.2 316.3 L 133.2 301.3 L 182.4 301.3\" id=\"30,8\"></path><path d=\"M 149.6 331.2 L 149.6 318.4 L 182.4 318.4\" id=\"27,7\"></path><path d=\"M 166.0 344.1 L 166.0 335.5 L 182.4 335.5\" id=\"25,6\"></path><path d=\"M 166.0 344.1 L 166.0 352.6 L 182.4 352.6\" id=\"25,5\"></path><path d=\"M 116.8 385.8 L 116.8 369.7 L 182.4 369.7\" id=\"29,4\"></path><path d=\"M 133.2 401.8 L 133.2 386.8 L 182.4 386.8\" id=\"26,3\"></path><path d=\"M 149.6 416.8 L 149.6 403.9 L 182.4 403.9\" id=\"24,2\"></path><path d=\"M 166.0 429.6 L 166.0 421.0 L 182.4 421.0\" id=\"23,1\"></path><path d=\"M 166.0 429.6 L 166.0 438.1 L 182.4 438.1\" id=\"23,0\"></path></g><g class=\"toytree-AdmixEdges\" style=\"fill:none;font-size:14px;stroke:rgba(90.6%,54.1%,76.5%,1.000);stroke-linecap:round;stroke-opacity:0.6;stroke-width:5\"></g><g class=\"toytree-TipLabels\" style=\"fill:rgb(14.9%,14.9%,14.9%);fill-opacity:1.0;font-family:helvetica;font-size:11px;font-weight:normal;stroke:none;white-space:pre\"><g transform=\"translate(182.41,438.15)rotate(0)\"><text style=\"\" x=\"15.00\" y=\"2.81\">caudatus</text></g><g transform=\"translate(182.41,421.04)rotate(0)\"><text style=\"\" x=\"15.00\" y=\"2.81\">quitensis</text></g><g transform=\"translate(182.41,403.94)rotate(0)\"><text style=\"\" x=\"15.00\" y=\"2.81\">hybridus</text></g><g transform=\"translate(182.41,386.83)rotate(0)\"><text style=\"\" x=\"15.00\" y=\"2.81\">hypochondriacus</text></g><g transform=\"translate(182.41,369.73)rotate(0)\"><text style=\"\" x=\"15.00\" y=\"2.81\">cruentus</text></g><g transform=\"translate(182.41,352.63)rotate(0)\"><text style=\"\" x=\"15.00\" y=\"2.81\">wrightii</text></g><g transform=\"translate(182.41,335.52)rotate(0)\"><text style=\"\" x=\"15.00\" y=\"2.81\">retroflexus</text></g><g transform=\"translate(182.41,318.42)rotate(0)\"><text style=\"\" x=\"15.00\" y=\"2.81\">powellii</text></g><g transform=\"translate(182.41,301.31)rotate(0)\"><text style=\"\" x=\"15.00\" y=\"2.81\">acutilobus</text></g><g transform=\"translate(182.41,284.21)rotate(0)\"><text style=\"\" x=\"15.00\" y=\"2.81\">dubius</text></g><g transform=\"translate(182.41,267.10)rotate(0)\"><text style=\"\" x=\"15.00\" y=\"2.81\">palmeri</text></g><g transform=\"translate(182.41,250.00)rotate(0)\"><text style=\"\" x=\"15.00\" y=\"2.81\">watsonii</text></g><g transform=\"translate(182.41,232.90)rotate(0)\"><text style=\"\" x=\"15.00\" y=\"2.81\">spinosus</text></g><g transform=\"translate(182.41,215.79)rotate(0)\"><text style=\"\" x=\"15.00\" y=\"2.81\">tricolor</text></g><g transform=\"translate(182.41,198.69)rotate(0)\"><text style=\"\" x=\"15.00\" y=\"2.81\">blitum</text></g><g transform=\"translate(182.41,181.58)rotate(0)\"><text style=\"\" x=\"15.00\" y=\"2.81\">viridis</text></g><g transform=\"translate(182.41,164.48)rotate(0)\"><text style=\"\" x=\"15.00\" y=\"2.81\">blitoides</text></g><g transform=\"translate(182.41,147.37)rotate(0)\"><text style=\"\" x=\"15.00\" y=\"2.81\">albus</text></g><g transform=\"translate(182.41,130.27)rotate(0)\"><text style=\"\" x=\"15.00\" y=\"2.81\">fimbriatus</text></g><g transform=\"translate(182.41,113.17)rotate(0)\"><text style=\"\" x=\"15.00\" y=\"2.81\">arenicola</text></g><g transform=\"translate(182.41,96.06)rotate(0)\"><text style=\"\" x=\"15.00\" y=\"2.81\">tuberculatus</text></g><g transform=\"translate(182.41,78.96)rotate(0)\"><text style=\"\" x=\"15.00\" y=\"2.81\">pumilus</text></g><g transform=\"translate(182.41,61.85)rotate(0)\"><text style=\"\" x=\"15.00\" y=\"2.81\">cannabinus</text></g></g></g></g></g></svg><div class=\"toyplot-behavior\"><script>(function()\n",
       "{\n",
       "var modules={};\n",
       "})();</script></div></div>"
      ]
     },
     "metadata": {},
     "output_type": "display_data"
    }
   ],
   "source": [
    "#get tree and admix scenario\n",
    "tree, admix = toytree.utils.parse_network(net0)\n",
    "\n",
    "#re-root the tree on node 32\n",
    "rtree = tree.root([\"palmeri\",\"watsonii\",\"spinosus\",\"dubius\",\"caudatus\",\"quitensis\",\"hybridus\",\"hypochondriacus\",\n",
    "             \"cruentus\",\"acutilobus\",\"wrightii\",\"retroflexus\",\"powellii\"])\n",
    "\n",
    "#draw network\n",
    "rtree.draw(\n",
    "    #ts='o',\n",
    "    height=500,\n",
    "    use_edge_lengths=False,\n",
    "    admixture_edges=admix.values(),\n",
    ");"
   ]
  },
  {
   "cell_type": "code",
   "execution_count": 4,
   "metadata": {},
   "outputs": [],
   "source": [
    "net1a=\"\"\"\n",
    "(retroflexus,wrightii,(powellii,(((((((tuberculatus,arenicola):0.4235844682243512,pumilus):0.3999528602710392,cannabinus):1.8173941827689466,(fimbriatus,((albus,blitoides):1.9667094932747669,(viridis,(blitum,tricolor):0.673268429743066):1.99870255265128):0.8098474627340825):0.6607419949216273):2.656601731640097,((spinosus,(watsonii,palmeri):0.5563275621848323):0.653056934414223,(dubius)#H24:::0.6340098767998822):1.7836298622550177):2.4539695593584545,(((((quitensis,caudatus):1.198688985442814,hybridus):0.2200234094256701,hypochondriacus):0.17930227061320309,cruentus):0.5013381719775534,#H24:::0.3659901232001178):0.6818881713658909):0.41408413007854045,acutilobus):0.5749690511343007):1.312835425818496);, with -loglik 8840.103184369433 (best network found, remaining sorted by log-pseudolik; the smaller, the better)\n",
    "        \"\"\".strip().replace(\"\\n\",\"\")"
   ]
  },
  {
   "cell_type": "markdown",
   "metadata": {},
   "source": [
    "net1a is clearly the best"
   ]
  },
  {
   "cell_type": "code",
   "execution_count": 5,
   "metadata": {},
   "outputs": [
    {
     "data": {
      "text/html": [
       "<div class=\"toyplot\" id=\"te90d43de7cee4364a2da6fcf6edc53a5\" style=\"text-align:center\"><svg class=\"toyplot-canvas-Canvas\" height=\"500.0px\" id=\"tdd3c7dbcf9da4849b6c4093e1176a109\" preserveAspectRatio=\"xMidYMid meet\" style=\"background-color:transparent;border-color:#292724;border-style:none;border-width:1.0;fill:rgb(16.1%,15.3%,14.1%);fill-opacity:1.0;font-family:Helvetica;font-size:12px;opacity:1.0;stroke:rgb(16.1%,15.3%,14.1%);stroke-opacity:1.0;stroke-width:1.0\" viewBox=\"0 0 325.0 500.0\" width=\"325.0px\" xmlns=\"http://www.w3.org/2000/svg\" xmlns:toyplot=\"http://www.sandia.gov/toyplot\" xmlns:xlink=\"http://www.w3.org/1999/xlink\"><g class=\"toyplot-coordinates-Cartesian\" id=\"t0b840e64f0f5479e8c9e58806cf5b15f\"><clipPath id=\"t5d35491259924f65ab169b00d9ac6b3d\"><rect height=\"440.0\" width=\"265.0\" x=\"30.0\" y=\"30.0\"></rect></clipPath><g clip-path=\"url(#t5d35491259924f65ab169b00d9ac6b3d)\"><g class=\"toytree-mark-Toytree\" id=\"t57e2fdf0fd23401ebfe88f04c560963a\"><g class=\"toytree-Edges\" style=\"fill:none;stroke:rgb(14.9%,14.9%,14.9%);stroke-linecap:round;stroke-opacity:1;stroke-width:2\"><path d=\"M 51.2 207.1 L 51.2 114.8 L 88.7 114.8\" id=\"44,43\"></path><path d=\"M 51.2 207.1 L 51.2 299.4 L 69.9 299.4\" id=\"44,42\"></path><path d=\"M 88.7 114.8 L 88.7 76.8 L 126.2 76.8\" id=\"43,41\"></path><path d=\"M 88.7 114.8 L 88.7 152.7 L 107.4 152.7\" id=\"43,40\"></path><path d=\"M 69.9 299.4 L 69.9 247.9 L 126.2 247.9\" id=\"42,39\"></path><path d=\"M 69.9 299.4 L 69.9 351.0 L 88.7 351.0\" id=\"42,38\"></path><path d=\"M 126.2 76.8 L 126.2 91.8 L 144.9 91.8\" id=\"41,37\"></path><path d=\"M 107.4 152.7 L 107.4 175.2 L 126.2 175.2\" id=\"40,36\"></path><path d=\"M 126.2 247.9 L 126.2 262.8 L 144.9 262.8\" id=\"39,35\"></path><path d=\"M 88.7 351.0 L 88.7 316.3 L 126.2 316.3\" id=\"38,34\"></path><path d=\"M 88.7 351.0 L 88.7 385.8 L 107.4 385.8\" id=\"38,33\"></path><path d=\"M 144.9 91.8 L 144.9 104.6 L 163.7 104.6\" id=\"37,32\"></path><path d=\"M 126.2 175.2 L 126.2 155.9 L 163.7 155.9\" id=\"36,31\"></path><path d=\"M 126.2 175.2 L 126.2 194.4 L 144.9 194.4\" id=\"36,30\"></path><path d=\"M 144.9 262.8 L 144.9 275.7 L 163.7 275.7\" id=\"35,29\"></path><path d=\"M 126.2 316.3 L 126.2 331.2 L 144.9 331.2\" id=\"34,28\"></path><path d=\"M 107.4 385.8 L 107.4 401.8 L 126.2 401.8\" id=\"33,27\"></path><path d=\"M 144.9 194.4 L 144.9 207.2 L 163.7 207.2\" id=\"30,26\"></path><path d=\"M 144.9 331.2 L 144.9 344.1 L 163.7 344.1\" id=\"28,25\"></path><path d=\"M 126.2 401.8 L 126.2 416.8 L 144.9 416.8\" id=\"27,24\"></path><path d=\"M 144.9 416.8 L 144.9 429.6 L 163.7 429.6\" id=\"24,23\"></path><path d=\"M 126.2 76.8 L 126.2 61.9 L 182.4 61.9\" id=\"41,22\"></path><path d=\"M 144.9 91.8 L 144.9 79.0 L 182.4 79.0\" id=\"37,21\"></path><path d=\"M 163.7 104.6 L 163.7 96.1 L 182.4 96.1\" id=\"32,20\"></path><path d=\"M 163.7 104.6 L 163.7 113.2 L 182.4 113.2\" id=\"32,19\"></path><path d=\"M 107.4 152.7 L 107.4 130.3 L 182.4 130.3\" id=\"40,18\"></path><path d=\"M 163.7 155.9 L 163.7 147.4 L 182.4 147.4\" id=\"31,17\"></path><path d=\"M 163.7 155.9 L 163.7 164.5 L 182.4 164.5\" id=\"31,16\"></path><path d=\"M 144.9 194.4 L 144.9 181.6 L 182.4 181.6\" id=\"30,15\"></path><path d=\"M 163.7 207.2 L 163.7 198.7 L 182.4 198.7\" id=\"26,14\"></path><path d=\"M 163.7 207.2 L 163.7 215.8 L 182.4 215.8\" id=\"26,13\"></path><path d=\"M 126.2 247.9 L 126.2 232.9 L 182.4 232.9\" id=\"39,12\"></path><path d=\"M 144.9 262.8 L 144.9 250.0 L 182.4 250.0\" id=\"35,11\"></path><path d=\"M 163.7 275.7 L 163.7 267.1 L 182.4 267.1\" id=\"29,10\"></path><path d=\"M 163.7 275.7 L 163.7 284.2 L 182.4 284.2\" id=\"29,9\"></path><path d=\"M 126.2 316.3 L 126.2 301.3 L 182.4 301.3\" id=\"34,8\"></path><path d=\"M 144.9 331.2 L 144.9 318.4 L 182.4 318.4\" id=\"28,7\"></path><path d=\"M 163.7 344.1 L 163.7 335.5 L 182.4 335.5\" id=\"25,6\"></path><path d=\"M 163.7 344.1 L 163.7 352.6 L 182.4 352.6\" id=\"25,5\"></path><path d=\"M 107.4 385.8 L 107.4 369.7 L 182.4 369.7\" id=\"33,4\"></path><path d=\"M 126.2 401.8 L 126.2 386.8 L 182.4 386.8\" id=\"27,3\"></path><path d=\"M 144.9 416.8 L 144.9 403.9 L 182.4 403.9\" id=\"24,2\"></path><path d=\"M 163.7 429.6 L 163.7 421.0 L 182.4 421.0\" id=\"23,1\"></path><path d=\"M 163.7 429.6 L 163.7 438.1 L 182.4 438.1\" id=\"23,0\"></path></g><g class=\"toytree-AdmixEdges\" style=\"fill:none;font-size:14px;stroke:rgba(90.6%,54.1%,76.5%,1.000);stroke-linecap:round;stroke-opacity:0.6;stroke-width:5\"><path d=\"M 182.4 232.9 L 154.3 232.9 L 98.0 385.8 L 88.7 385.8\" style=\"stroke:rgb(98.8%,55.3%,38.4%);stroke-opacity:0.7\"></path><text style=\"fill:#262626;fill-opacity:1.0;stroke:none;stroke-opacity:0.7;text-anchor:middle\" x=\"126.16\" y=\"321.33\">0.366</text></g><g class=\"toytree-TipLabels\" style=\"fill:rgb(14.9%,14.9%,14.9%);fill-opacity:1.0;font-family:helvetica;font-size:11px;font-weight:normal;stroke:none;white-space:pre\"><g transform=\"translate(182.41,438.15)rotate(0)\"><text style=\"\" x=\"15.00\" y=\"2.81\">caudatus</text></g><g transform=\"translate(182.41,421.04)rotate(0)\"><text style=\"\" x=\"15.00\" y=\"2.81\">quitensis</text></g><g transform=\"translate(182.41,403.94)rotate(0)\"><text style=\"\" x=\"15.00\" y=\"2.81\">hybridus</text></g><g transform=\"translate(182.41,386.83)rotate(0)\"><text style=\"\" x=\"15.00\" y=\"2.81\">hypochondriacus</text></g><g transform=\"translate(182.41,369.73)rotate(0)\"><text style=\"\" x=\"15.00\" y=\"2.81\">cruentus</text></g><g transform=\"translate(182.41,352.63)rotate(0)\"><text style=\"\" x=\"15.00\" y=\"2.81\">wrightii</text></g><g transform=\"translate(182.41,335.52)rotate(0)\"><text style=\"\" x=\"15.00\" y=\"2.81\">retroflexus</text></g><g transform=\"translate(182.41,318.42)rotate(0)\"><text style=\"\" x=\"15.00\" y=\"2.81\">powellii</text></g><g transform=\"translate(182.41,301.31)rotate(0)\"><text style=\"\" x=\"15.00\" y=\"2.81\">acutilobus</text></g><g transform=\"translate(182.41,284.21)rotate(0)\"><text style=\"\" x=\"15.00\" y=\"2.81\">palmeri</text></g><g transform=\"translate(182.41,267.10)rotate(0)\"><text style=\"\" x=\"15.00\" y=\"2.81\">watsonii</text></g><g transform=\"translate(182.41,250.00)rotate(0)\"><text style=\"\" x=\"15.00\" y=\"2.81\">spinosus</text></g><g transform=\"translate(182.41,232.90)rotate(0)\"><text style=\"\" x=\"15.00\" y=\"2.81\">dubius</text></g><g transform=\"translate(182.41,215.79)rotate(0)\"><text style=\"\" x=\"15.00\" y=\"2.81\">tricolor</text></g><g transform=\"translate(182.41,198.69)rotate(0)\"><text style=\"\" x=\"15.00\" y=\"2.81\">blitum</text></g><g transform=\"translate(182.41,181.58)rotate(0)\"><text style=\"\" x=\"15.00\" y=\"2.81\">viridis</text></g><g transform=\"translate(182.41,164.48)rotate(0)\"><text style=\"\" x=\"15.00\" y=\"2.81\">blitoides</text></g><g transform=\"translate(182.41,147.37)rotate(0)\"><text style=\"\" x=\"15.00\" y=\"2.81\">albus</text></g><g transform=\"translate(182.41,130.27)rotate(0)\"><text style=\"\" x=\"15.00\" y=\"2.81\">fimbriatus</text></g><g transform=\"translate(182.41,113.17)rotate(0)\"><text style=\"\" x=\"15.00\" y=\"2.81\">arenicola</text></g><g transform=\"translate(182.41,96.06)rotate(0)\"><text style=\"\" x=\"15.00\" y=\"2.81\">tuberculatus</text></g><g transform=\"translate(182.41,78.96)rotate(0)\"><text style=\"\" x=\"15.00\" y=\"2.81\">pumilus</text></g><g transform=\"translate(182.41,61.85)rotate(0)\"><text style=\"\" x=\"15.00\" y=\"2.81\">cannabinus</text></g></g></g></g></g></svg><div class=\"toyplot-behavior\"><script>(function()\n",
       "{\n",
       "var modules={};\n",
       "})();</script></div></div>"
      ]
     },
     "metadata": {},
     "output_type": "display_data"
    }
   ],
   "source": [
    "#get tree and admix scenario\n",
    "tree, admix = toytree.utils.parse_network(net1a)\n",
    "\n",
    "#re-root the tree on node 32\n",
    "rtree = tree.root([\"palmeri\",\"watsonii\",\"spinosus\",\"dubius\",\"caudatus\",\"quitensis\",\"hybridus\",\"hypochondriacus\",\n",
    "             \"cruentus\",\"acutilobus\",\"wrightii\",\"retroflexus\",\"powellii\"])\n",
    "\n",
    "#draw network\n",
    "rtree.draw(\n",
    "    #ts='o',\n",
    "    height=500,\n",
    "    use_edge_lengths=False,\n",
    "    admixture_edges=admix.values(),\n",
    ");"
   ]
  },
  {
   "cell_type": "code",
   "execution_count": 84,
   "metadata": {},
   "outputs": [],
   "source": [
    "net2a = \"\"\"\n",
    "(tuberculatus,arenicola,(pumilus,(cannabinus,(((((spinosus,(watsonii,palmeri):0.5562677787515649):0.6531362116112096,(dubius)#H24:::0.6340233796934864):1.783501833519541,(((((hybridus,(quitensis,caudatus):1.1986539096630608):0.2200365102699756,hypochondriacus):0.17926069838640557,cruentus):0.5012867193187026,#H24:::0.3659766203065136):0.6818796076741008,(acutilobus,(powellii,(retroflexus,wrightii):1.312990320182277):0.5748944865020401):0.4140795238952562):2.453858887204543):1.8141427679566087)#H25:3.1224168050057988::0.8495817853028529,(((albus,blitoides):1.9660024765718938,(viridis,(blitum,tricolor):0.6728439719315401):1.998200396143287):0.6556166347050821,(fimbriatus,#H25:0.022368176954016137::0.15041821469714706):9.78531788958496):1.126043593740641):1.682866745095471):0.39992837792006913):0.4233132701156794);, with -loglik 7659.831893088132 (best network found, remaining sorted by log-pseudolik; the smaller, the better)\n",
    "        \"\"\".strip().replace(\"\\n\",\"\")\n",
    "\n",
    "net2b = \"\"\"\n",
    "(retroflexus,wrightii,(powellii,(((((spinosus,(watsonii,palmeri):0.5339031924572223):0.7069935631476781,(dubius)#H24:::0.6361873694404099):1.7395106968013556,(#H25:::0.21977182190283515,((((tuberculatus,arenicola):0.3605347058736271,pumilus):0.4348415519651842,cannabinus):1.7848467289612748,(((albus,blitoides):1.9607628867606848,(viridis,(blitum,tricolor):0.6307206267541022):1.9890237785032043):0.4580194977864363,(fimbriatus)#H25:::0.7802281780971648):1.1388791395192348):1.0682029392271788):1.7229051659296888):2.4592460746803284,((((hybridus,(quitensis,caudatus):1.195579248718978):0.2043058282481065,hypochondriacus):0.1829102183300714,cruentus):0.547630553660376,#H24:::0.36381263055959007):0.6311922176286137):0.4114540564141204,acutilobus):0.5779106714545259):1.3294306140574235);, with -loglik 7787.10947583818\n",
    "        \"\"\".strip().replace(\"\\n\",\"\")\n",
    "\n",
    "net2c = \"\"\"\n",
    "(retroflexus,wrightii,(powellii,(((((spinosus,(watsonii,palmeri):0.5773187257420669):0.49692651951837913,(dubius)#H24:::0.6164657086887431):2.0325924079862623,((fimbriatus,(((albus,blitoides):1.955351926173994,(viridis,(blitum,tricolor):0.6193192680775144):2.160805362923548):0.015020485363755299,#H25:1.8630580596458615::0.015574155035923746):0.8962736733807799):0.5697494942111325,((((tuberculatus,arenicola):0.32170582747060245,pumilus):0.4454850293288801,cannabinus):0.022384547593015166)#H25:2.029773111378898::0.9844258449640763):2.6607433650676846):2.4751248768231315,((((hybridus,(quitensis,caudatus):1.3006159295490765):0.19339062017648612,hypochondriacus):0.17266742043306715,cruentus):0.6520436364533312,#H24:::0.38353429131125694):0.5331698784784201):0.4156696437815364,acutilobus):0.591320432468522):1.3778033075666636);, with -loglik 8998.121378724627\n",
    "        \"\"\".strip().replace(\"\\n\",\"\")"
   ]
  },
  {
   "cell_type": "markdown",
   "metadata": {},
   "source": [
    "Both net2a and net2b make sense, so net2a is better because of the lower -LL"
   ]
  },
  {
   "cell_type": "code",
   "execution_count": 90,
   "metadata": {},
   "outputs": [
    {
     "data": {
      "text/html": [
       "<div class=\"toyplot\" id=\"t40e20571f93949a2a0ec0f412b9b9025\" style=\"text-align:center\"><svg class=\"toyplot-canvas-Canvas\" height=\"500.0px\" id=\"t418e7cdf998947e9825f9aafc98e120e\" preserveAspectRatio=\"xMidYMid meet\" style=\"background-color:transparent;border-color:#292724;border-style:none;border-width:1.0;fill:rgb(16.1%,15.3%,14.1%);fill-opacity:1.0;font-family:Helvetica;font-size:12px;opacity:1.0;stroke:rgb(16.1%,15.3%,14.1%);stroke-opacity:1.0;stroke-width:1.0\" viewBox=\"0 0 325.0 500.0\" width=\"325.0px\" xmlns=\"http://www.w3.org/2000/svg\" xmlns:toyplot=\"http://www.sandia.gov/toyplot\" xmlns:xlink=\"http://www.w3.org/1999/xlink\"><g class=\"toyplot-coordinates-Cartesian\" id=\"te81efad7c53944979943d5dc78e4ef07\"><clipPath id=\"t7d6e5a93e37f4a17a4a743b7ff340a6b\"><rect height=\"440.0\" width=\"265.0\" x=\"30.0\" y=\"30.0\"></rect></clipPath><g clip-path=\"url(#t7d6e5a93e37f4a17a4a743b7ff340a6b)\"><g class=\"toytree-mark-Toytree\" id=\"t8382c35ab43c413895a1d0b564a2c385\"><g class=\"toytree-Edges\" style=\"fill:none;stroke:rgb(14.9%,14.9%,14.9%);stroke-linecap:round;stroke-opacity:1;stroke-width:2\"><path d=\"M 51.2 207.1 L 51.2 114.8 L 88.7 114.8\" id=\"44,43\"></path><path d=\"M 51.2 207.1 L 51.2 299.4 L 69.9 299.4\" id=\"44,42\"></path><path d=\"M 88.7 114.8 L 88.7 76.8 L 126.2 76.8\" id=\"43,41\"></path><path d=\"M 88.7 114.8 L 88.7 152.7 L 107.4 152.7\" id=\"43,40\"></path><path d=\"M 69.9 299.4 L 69.9 247.9 L 126.2 247.9\" id=\"42,39\"></path><path d=\"M 69.9 299.4 L 69.9 351.0 L 88.7 351.0\" id=\"42,38\"></path><path d=\"M 126.2 76.8 L 126.2 91.8 L 144.9 91.8\" id=\"41,37\"></path><path d=\"M 107.4 152.7 L 107.4 175.2 L 126.2 175.2\" id=\"40,36\"></path><path d=\"M 126.2 247.9 L 126.2 262.8 L 144.9 262.8\" id=\"39,35\"></path><path d=\"M 88.7 351.0 L 88.7 316.3 L 126.2 316.3\" id=\"38,34\"></path><path d=\"M 88.7 351.0 L 88.7 385.8 L 107.4 385.8\" id=\"38,33\"></path><path d=\"M 144.9 91.8 L 144.9 104.6 L 163.7 104.6\" id=\"37,32\"></path><path d=\"M 126.2 175.2 L 126.2 155.9 L 163.7 155.9\" id=\"36,31\"></path><path d=\"M 126.2 175.2 L 126.2 194.4 L 144.9 194.4\" id=\"36,30\"></path><path d=\"M 144.9 262.8 L 144.9 275.7 L 163.7 275.7\" id=\"35,29\"></path><path d=\"M 126.2 316.3 L 126.2 331.2 L 144.9 331.2\" id=\"34,28\"></path><path d=\"M 107.4 385.8 L 107.4 401.8 L 126.2 401.8\" id=\"33,27\"></path><path d=\"M 144.9 194.4 L 144.9 207.2 L 163.7 207.2\" id=\"30,26\"></path><path d=\"M 144.9 331.2 L 144.9 344.1 L 163.7 344.1\" id=\"28,25\"></path><path d=\"M 126.2 401.8 L 126.2 416.8 L 144.9 416.8\" id=\"27,24\"></path><path d=\"M 144.9 416.8 L 144.9 429.6 L 163.7 429.6\" id=\"24,23\"></path><path d=\"M 126.2 76.8 L 126.2 61.9 L 182.4 61.9\" id=\"41,22\"></path><path d=\"M 144.9 91.8 L 144.9 79.0 L 182.4 79.0\" id=\"37,21\"></path><path d=\"M 163.7 104.6 L 163.7 96.1 L 182.4 96.1\" id=\"32,20\"></path><path d=\"M 163.7 104.6 L 163.7 113.2 L 182.4 113.2\" id=\"32,19\"></path><path d=\"M 107.4 152.7 L 107.4 130.3 L 182.4 130.3\" id=\"40,18\"></path><path d=\"M 163.7 155.9 L 163.7 147.4 L 182.4 147.4\" id=\"31,17\"></path><path d=\"M 163.7 155.9 L 163.7 164.5 L 182.4 164.5\" id=\"31,16\"></path><path d=\"M 144.9 194.4 L 144.9 181.6 L 182.4 181.6\" id=\"30,15\"></path><path d=\"M 163.7 207.2 L 163.7 198.7 L 182.4 198.7\" id=\"26,14\"></path><path d=\"M 163.7 207.2 L 163.7 215.8 L 182.4 215.8\" id=\"26,13\"></path><path d=\"M 126.2 247.9 L 126.2 232.9 L 182.4 232.9\" id=\"39,12\"></path><path d=\"M 144.9 262.8 L 144.9 250.0 L 182.4 250.0\" id=\"35,11\"></path><path d=\"M 163.7 275.7 L 163.7 267.1 L 182.4 267.1\" id=\"29,10\"></path><path d=\"M 163.7 275.7 L 163.7 284.2 L 182.4 284.2\" id=\"29,9\"></path><path d=\"M 126.2 316.3 L 126.2 301.3 L 182.4 301.3\" id=\"34,8\"></path><path d=\"M 144.9 331.2 L 144.9 318.4 L 182.4 318.4\" id=\"28,7\"></path><path d=\"M 163.7 344.1 L 163.7 335.5 L 182.4 335.5\" id=\"25,6\"></path><path d=\"M 163.7 344.1 L 163.7 352.6 L 182.4 352.6\" id=\"25,5\"></path><path d=\"M 107.4 385.8 L 107.4 369.7 L 182.4 369.7\" id=\"33,4\"></path><path d=\"M 126.2 401.8 L 126.2 386.8 L 182.4 386.8\" id=\"27,3\"></path><path d=\"M 144.9 416.8 L 144.9 403.9 L 182.4 403.9\" id=\"24,2\"></path><path d=\"M 163.7 429.6 L 163.7 421.0 L 182.4 421.0\" id=\"23,1\"></path><path d=\"M 163.7 429.6 L 163.7 438.1 L 182.4 438.1\" id=\"23,0\"></path></g><g class=\"toytree-AdmixEdges\" style=\"fill:none;font-size:14px;stroke:rgba(90.6%,54.1%,76.5%,1.000);stroke-linecap:round;stroke-opacity:0.6;stroke-width:5\"><path d=\"M 126.2 76.8 L 116.8 76.8 L 116.8 175.2 L 107.4 175.2\" style=\"stroke:rgb(98.8%,55.3%,38.4%);stroke-opacity:0.7\"></path><text style=\"fill:#262626;fill-opacity:1.0;stroke:none;stroke-opacity:0.7;text-anchor:middle\" x=\"116.79\" y=\"137.99\">0.016</text><path d=\"M 182.4 232.9 L 154.3 232.9 L 98.0 385.8 L 88.7 385.8\" style=\"stroke:rgb(55.3%,62.7%,79.6%);stroke-opacity:0.7\"></path><text style=\"fill:#262626;fill-opacity:1.0;stroke:none;stroke-opacity:0.7;text-anchor:middle\" x=\"126.16\" y=\"321.33\">0.384</text></g><g class=\"toytree-TipLabels\" style=\"fill:rgb(14.9%,14.9%,14.9%);fill-opacity:1.0;font-family:helvetica;font-size:11px;font-weight:normal;stroke:none;white-space:pre\"><g transform=\"translate(182.41,438.15)rotate(0)\"><text style=\"\" x=\"15.00\" y=\"2.81\">caudatus</text></g><g transform=\"translate(182.41,421.04)rotate(0)\"><text style=\"\" x=\"15.00\" y=\"2.81\">quitensis</text></g><g transform=\"translate(182.41,403.94)rotate(0)\"><text style=\"\" x=\"15.00\" y=\"2.81\">hybridus</text></g><g transform=\"translate(182.41,386.83)rotate(0)\"><text style=\"\" x=\"15.00\" y=\"2.81\">hypochondriacus</text></g><g transform=\"translate(182.41,369.73)rotate(0)\"><text style=\"\" x=\"15.00\" y=\"2.81\">cruentus</text></g><g transform=\"translate(182.41,352.63)rotate(0)\"><text style=\"\" x=\"15.00\" y=\"2.81\">wrightii</text></g><g transform=\"translate(182.41,335.52)rotate(0)\"><text style=\"\" x=\"15.00\" y=\"2.81\">retroflexus</text></g><g transform=\"translate(182.41,318.42)rotate(0)\"><text style=\"\" x=\"15.00\" y=\"2.81\">powellii</text></g><g transform=\"translate(182.41,301.31)rotate(0)\"><text style=\"\" x=\"15.00\" y=\"2.81\">acutilobus</text></g><g transform=\"translate(182.41,284.21)rotate(0)\"><text style=\"\" x=\"15.00\" y=\"2.81\">palmeri</text></g><g transform=\"translate(182.41,267.10)rotate(0)\"><text style=\"\" x=\"15.00\" y=\"2.81\">watsonii</text></g><g transform=\"translate(182.41,250.00)rotate(0)\"><text style=\"\" x=\"15.00\" y=\"2.81\">spinosus</text></g><g transform=\"translate(182.41,232.90)rotate(0)\"><text style=\"\" x=\"15.00\" y=\"2.81\">dubius</text></g><g transform=\"translate(182.41,215.79)rotate(0)\"><text style=\"\" x=\"15.00\" y=\"2.81\">tricolor</text></g><g transform=\"translate(182.41,198.69)rotate(0)\"><text style=\"\" x=\"15.00\" y=\"2.81\">blitum</text></g><g transform=\"translate(182.41,181.58)rotate(0)\"><text style=\"\" x=\"15.00\" y=\"2.81\">viridis</text></g><g transform=\"translate(182.41,164.48)rotate(0)\"><text style=\"\" x=\"15.00\" y=\"2.81\">blitoides</text></g><g transform=\"translate(182.41,147.37)rotate(0)\"><text style=\"\" x=\"15.00\" y=\"2.81\">albus</text></g><g transform=\"translate(182.41,130.27)rotate(0)\"><text style=\"\" x=\"15.00\" y=\"2.81\">fimbriatus</text></g><g transform=\"translate(182.41,113.17)rotate(0)\"><text style=\"\" x=\"15.00\" y=\"2.81\">arenicola</text></g><g transform=\"translate(182.41,96.06)rotate(0)\"><text style=\"\" x=\"15.00\" y=\"2.81\">tuberculatus</text></g><g transform=\"translate(182.41,78.96)rotate(0)\"><text style=\"\" x=\"15.00\" y=\"2.81\">pumilus</text></g><g transform=\"translate(182.41,61.85)rotate(0)\"><text style=\"\" x=\"15.00\" y=\"2.81\">cannabinus</text></g></g></g></g></g></svg><div class=\"toyplot-behavior\"><script>(function()\n",
       "{\n",
       "var modules={};\n",
       "})();</script></div></div>"
      ]
     },
     "metadata": {},
     "output_type": "display_data"
    }
   ],
   "source": [
    "#get tree and admix scenario\n",
    "tree, admix = toytree.utils.parse_network(net2c)\n",
    "\n",
    "#re-root the tree on node 32\n",
    "rtree = tree.root([\"palmeri\",\"watsonii\",\"spinosus\",\"dubius\",\"caudatus\",\"quitensis\",\"hybridus\",\"hypochondriacus\",\n",
    "             \"cruentus\",\"acutilobus\",\"wrightii\",\"retroflexus\",\"powellii\"])\n",
    "\n",
    "#draw network\n",
    "rtree.draw(\n",
    "    #ts='o',\n",
    "    height=500,\n",
    "    use_edge_lengths=False,\n",
    "    admixture_edges=admix.values(),\n",
    ");"
   ]
  },
  {
   "cell_type": "code",
   "execution_count": 91,
   "metadata": {},
   "outputs": [],
   "source": [
    "net3a = \"\"\"\n",
    "((pumilus,((((((spinosus,(watsonii,palmeri):0.5562477008555972):0.653348299593142,(dubius)#H24:::0.6340492833330089):1.7833067703800503,(((((hybridus,(quitensis,caudatus):1.1987648965589455):0.22008652261007894,hypochondriacus):0.1793844846899803,cruentus):0.5009575315561194,#H24:::0.3659507166669911):0.6821464355202316,(acutilobus,(powellii,(retroflexus,wrightii):1.3131784872896048):0.5746775322006811):0.41418461893059383):2.453908061749579):1.8108151994815775)#H25:3.165434723838083::0.8495447867120074,(((albus,blitoides):1.9658729425051285,(viridis,(blitum,tricolor):0.6732938931732566):1.9977204309878667):0.6557019620159591,(fimbriatus,#H25:0.06139686921722876::0.15045521328799266):9.799235331882596):1.1260487448071572):1.6077202800935357,(cannabinus,#H26:::0.3554385886797084):0.9177433483907597):0.637812001650949):1.6463158451252244,arenicola,(tuberculatus)#H26:::0.6445614113202915);, with -loglik 7243.109966786024 (best network found, remaining sorted by log-pseudolik; the smaller, the better)\n",
    "        \"\"\".strip().replace(\"\\n\",\"\")\n",
    "\n",
    "net3b = \"\"\"\n",
    "(#H26:::0.48683366374891124,arenicola,(tuberculatus,(((((((spinosus,(watsonii,palmeri):0.5561384471950702):0.614786551446987,(dubius)#H24:::0.6325820498398613):1.8211221885601574,(((((hybridus,(quitensis,caudatus):1.172301193022449):0.21647871972207142,hypochondriacus):0.18355310964256982,cruentus):0.5009856999441257,#H24:::0.36741795016013873):0.6828378672559049,(acutilobus,(powellii,(retroflexus,wrightii):1.3024873261546033):0.5781596861934538):0.4087842153840799):2.457509305497994):1.7788811530311524)#H25:4.028853399415796::0.8485402846206186,(((albus,blitoides):1.9495519388581442,(viridis,(blitum,tricolor):0.6637422600137206):2.011001257826197):0.64811790036371,(fimbriatus,#H25:0.0547797860064232::0.15145971537938138):9.797678356331817):1.137903983014943):1.3517538664113091,(pumilus)#H26:::0.5131663362510888):0.47928265831937156,cannabinus):1.004653343800726):1.3689621072824147);, with -loglik 7189.700856903868\n",
    " \"\"\".strip().replace(\"\\n\",\"\")\n",
    "\n",
    "net3c = \"\"\"\n",
    "((pumilus,((((((spinosus,(watsonii,palmeri):0.5504144234834213):0.6268020875099579,(dubius)#H24:::0.6336852196361378):1.8087781699727836,(((((hybridus,(quitensis,caudatus):1.1771412706271283):0.24647808571997654,hypochondriacus):0.16138649858251783,cruentus):0.5073549213956152,#H24:::0.3663147803638623):0.681204144164909,(acutilobus,(powellii,(retroflexus,wrightii):1.321296616323855):0.5707879048591947):0.41464507274499973):2.4495419659950803):1.6899301356594099,#H25:::0.21823276504091627):1.0734354285274739,(((albus,blitoides):1.9790770852765214,(viridis,(blitum,tricolor):0.6788750484636992):1.9874673048777456):0.44475531658196227,(fimbriatus)#H25:::0.7817672349590837):1.151579549349991):1.7050445797048785,(cannabinus,#H26:::0.3381606712334028):0.941534502366578):0.636429026107093):1.4474480447984306,arenicola,(tuberculatus)#H26:::0.6618393287665971);, with -loglik 7356.923498614166\n",
    " \"\"\".strip().replace(\"\\n\",\"\")\n",
    "\n",
    "net3d = \"\"\"\n",
    "((pumilus,((((((spinosus,(watsonii,palmeri):0.5496165273074052):0.6260452761402077,(dubius)#H24:::0.6318224679534887):1.804193237685037,(((((hybridus,(quitensis,caudatus):1.1895367050431065):0.2266699065025865,hypochondriacus):0.17471728996016364,cruentus):0.5284296599229122,#H24:::0.3681775320465112):0.6585826704220836,(acutilobus,(powellii,(retroflexus,wrightii):1.3161967306230922):0.5672433182645968):0.42179380626444046):2.4610070431381006):1.8661174568391008)#H25:2.960940818456202::0.8441028483675957,(((albus,blitoides):1.9748003808164745,(viridis,(blitum,tricolor):0.6882984080705056):2.002416454362856):0.6511027071379337,(fimbriatus,#H25:0.06309202000392052::0.15589715163240428):9.788011305842536):1.1462476598104665):1.4180218921071706,(cannabinus)#H26:::0.7442107047847962):0.720675718310495):0.4910421382473111,arenicola,(tuberculatus,#H26:::0.25578929521520377):1.268673457441317);, with -loglik 7434.167895987313\n",
    " \"\"\".strip().replace(\"\\n\",\"\")\n",
    "\n",
    "net3e = \"\"\"\n",
    "((pumilus,#H26:0.41922685036118285::0.3809196888769284):0.83076133724024,arenicola,(tuberculatus,(((((((spinosus,(watsonii,palmeri):0.5513659181832246):0.6461797228841295,(dubius)#H24:::0.6327036982693883):1.7944441951609353,(((((hybridus,(quitensis,caudatus):1.2016199454898724):0.21590467596190108,hypochondriacus):0.1799508105671323,cruentus):0.5265686566797374,#H24:::0.3672963017306117):0.6567074459690275,(acutilobus,(powellii,(retroflexus,wrightii):1.3182159379808127):0.5692158241180839):0.41616671882625):2.453197453512144):1.77370449506894)#H25:3.6279216801721885::0.8503601406734516,(((albus,blitoides):1.9657348772994898,(viridis,(blitum,tricolor):0.6812329607143269):2.002762767841432):0.653775865000484,(fimbriatus,#H25:0.06140164425491809::0.14963985932654847):9.831017534491506):1.134626092983643):1.684406988666231)#H26:0.8153878264278934::0.6190803111230716,cannabinus):1.5693078566489698):0.3806952106973616);, with -loglik 7442.768050658021\n",
    " \"\"\".strip().replace(\"\\n\",\"\")\n",
    "\n",
    "net3f = \"\"\"\n",
    "(albus,blitoides,((viridis,(blitum,tricolor):0.676588210958686):1.9887130740211791,((fimbriatus,#H25:0.07468415445340838::0.14915713330783176):9.813408047441227,(((((spinosus,(watsonii,palmeri):0.5550519314213598):0.6612215005223887,(dubius)#H24:::0.6324838144914313):1.7829922343525044,(((((hybridus,(quitensis,caudatus):1.2089625791771283):0.21561809792971395,hypochondriacus):0.18050055214880906,cruentus):0.5216686907857252,#H24:::0.3675161855085686):0.6638183499775882,(acutilobus,(powellii,(retroflexus,wrightii):1.3240099737970563):0.5732443241145933):0.41177026169910647):2.4570259852935448):1.87568727981614)#H25:2.428932211586937::0.8508428666921682,((pumilus,#H26:::0.4751055346286367):1.209831554804411,(cannabinus,(tuberculatus,(arenicola)#H26:::0.5248944653713633):9.988635705901617):0.14472393702563377):1.71753146306572):1.1226910480838859):0.6569206033911761):1.9917212121687498);, with -loglik 7483.1789767957935\n",
    " \"\"\".strip().replace(\"\\n\",\"\")"
   ]
  },
  {
   "cell_type": "markdown",
   "metadata": {},
   "source": [
    "net3a has fimb donating to ancestor <br>\n",
    "net3b has fimb donating to ancestor & incorrect underlying tree <br>\n",
    "net3c is ok, so we will go with this<br>\n",
    "net3d has fimb donating to root <br>\n",
    "net3e has fimb donating to root and other problems <br>\n",
    "net3f has fimb donating to root <br>\n"
   ]
  },
  {
   "cell_type": "code",
   "execution_count": 100,
   "metadata": {},
   "outputs": [
    {
     "data": {
      "text/html": [
       "<div class=\"toyplot\" id=\"t5fc770da34d6440ca99bb444f2d0bd78\" style=\"text-align:center\"><svg class=\"toyplot-canvas-Canvas\" height=\"500.0px\" id=\"t8ad0858855a747c39fb50b445b8522b7\" preserveAspectRatio=\"xMidYMid meet\" style=\"background-color:transparent;border-color:#292724;border-style:none;border-width:1.0;fill:rgb(16.1%,15.3%,14.1%);fill-opacity:1.0;font-family:Helvetica;font-size:12px;opacity:1.0;stroke:rgb(16.1%,15.3%,14.1%);stroke-opacity:1.0;stroke-width:1.0\" viewBox=\"0 0 325.0 500.0\" width=\"325.0px\" xmlns=\"http://www.w3.org/2000/svg\" xmlns:toyplot=\"http://www.sandia.gov/toyplot\" xmlns:xlink=\"http://www.w3.org/1999/xlink\"><g class=\"toyplot-coordinates-Cartesian\" id=\"tce65b5836c2343a595384364c439a6ee\"><clipPath id=\"t9c16aefcacd449cea005773f80fc65af\"><rect height=\"440.0\" width=\"265.0\" x=\"30.0\" y=\"30.0\"></rect></clipPath><g clip-path=\"url(#t9c16aefcacd449cea005773f80fc65af)\"><g class=\"toytree-mark-Toytree\" id=\"tdffbfd35e000483a8a37cd8070980b2c\"><g class=\"toytree-Edges\" style=\"fill:none;stroke:rgb(14.9%,14.9%,14.9%);stroke-linecap:round;stroke-opacity:1;stroke-width:2\"><path d=\"M 51.2 207.1 L 51.2 114.8 L 88.7 114.8\" id=\"44,43\"></path><path d=\"M 51.2 207.1 L 51.2 299.4 L 69.9 299.4\" id=\"44,42\"></path><path d=\"M 88.7 114.8 L 88.7 76.8 L 126.2 76.8\" id=\"43,41\"></path><path d=\"M 88.7 114.8 L 88.7 152.7 L 107.4 152.7\" id=\"43,40\"></path><path d=\"M 69.9 299.4 L 69.9 247.9 L 126.2 247.9\" id=\"42,39\"></path><path d=\"M 69.9 299.4 L 69.9 351.0 L 88.7 351.0\" id=\"42,38\"></path><path d=\"M 126.2 76.8 L 126.2 91.8 L 144.9 91.8\" id=\"41,37\"></path><path d=\"M 107.4 152.7 L 107.4 175.2 L 126.2 175.2\" id=\"40,36\"></path><path d=\"M 126.2 247.9 L 126.2 262.8 L 144.9 262.8\" id=\"39,35\"></path><path d=\"M 88.7 351.0 L 88.7 316.3 L 126.2 316.3\" id=\"38,34\"></path><path d=\"M 88.7 351.0 L 88.7 385.8 L 107.4 385.8\" id=\"38,33\"></path><path d=\"M 144.9 91.8 L 144.9 104.6 L 163.7 104.6\" id=\"37,32\"></path><path d=\"M 126.2 175.2 L 126.2 155.9 L 163.7 155.9\" id=\"36,31\"></path><path d=\"M 126.2 175.2 L 126.2 194.4 L 144.9 194.4\" id=\"36,30\"></path><path d=\"M 144.9 262.8 L 144.9 275.7 L 163.7 275.7\" id=\"35,29\"></path><path d=\"M 126.2 316.3 L 126.2 331.2 L 144.9 331.2\" id=\"34,28\"></path><path d=\"M 107.4 385.8 L 107.4 401.8 L 126.2 401.8\" id=\"33,27\"></path><path d=\"M 144.9 194.4 L 144.9 207.2 L 163.7 207.2\" id=\"30,26\"></path><path d=\"M 144.9 331.2 L 144.9 344.1 L 163.7 344.1\" id=\"28,25\"></path><path d=\"M 126.2 401.8 L 126.2 416.8 L 144.9 416.8\" id=\"27,24\"></path><path d=\"M 144.9 416.8 L 144.9 429.6 L 163.7 429.6\" id=\"24,23\"></path><path d=\"M 126.2 76.8 L 126.2 61.9 L 182.4 61.9\" id=\"41,22\"></path><path d=\"M 144.9 91.8 L 144.9 79.0 L 182.4 79.0\" id=\"37,21\"></path><path d=\"M 163.7 104.6 L 163.7 96.1 L 182.4 96.1\" id=\"32,20\"></path><path d=\"M 163.7 104.6 L 163.7 113.2 L 182.4 113.2\" id=\"32,19\"></path><path d=\"M 107.4 152.7 L 107.4 130.3 L 182.4 130.3\" id=\"40,18\"></path><path d=\"M 163.7 155.9 L 163.7 147.4 L 182.4 147.4\" id=\"31,17\"></path><path d=\"M 163.7 155.9 L 163.7 164.5 L 182.4 164.5\" id=\"31,16\"></path><path d=\"M 144.9 194.4 L 144.9 181.6 L 182.4 181.6\" id=\"30,15\"></path><path d=\"M 163.7 207.2 L 163.7 198.7 L 182.4 198.7\" id=\"26,14\"></path><path d=\"M 163.7 207.2 L 163.7 215.8 L 182.4 215.8\" id=\"26,13\"></path><path d=\"M 126.2 247.9 L 126.2 232.9 L 182.4 232.9\" id=\"39,12\"></path><path d=\"M 144.9 262.8 L 144.9 250.0 L 182.4 250.0\" id=\"35,11\"></path><path d=\"M 163.7 275.7 L 163.7 267.1 L 182.4 267.1\" id=\"29,10\"></path><path d=\"M 163.7 275.7 L 163.7 284.2 L 182.4 284.2\" id=\"29,9\"></path><path d=\"M 126.2 316.3 L 126.2 301.3 L 182.4 301.3\" id=\"34,8\"></path><path d=\"M 144.9 331.2 L 144.9 318.4 L 182.4 318.4\" id=\"28,7\"></path><path d=\"M 163.7 344.1 L 163.7 335.5 L 182.4 335.5\" id=\"25,6\"></path><path d=\"M 163.7 344.1 L 163.7 352.6 L 182.4 352.6\" id=\"25,5\"></path><path d=\"M 107.4 385.8 L 107.4 369.7 L 182.4 369.7\" id=\"33,4\"></path><path d=\"M 126.2 401.8 L 126.2 386.8 L 182.4 386.8\" id=\"27,3\"></path><path d=\"M 144.9 416.8 L 144.9 403.9 L 182.4 403.9\" id=\"24,2\"></path><path d=\"M 163.7 429.6 L 163.7 421.0 L 182.4 421.0\" id=\"23,1\"></path><path d=\"M 163.7 429.6 L 163.7 438.1 L 182.4 438.1\" id=\"23,0\"></path></g><g class=\"toytree-AdmixEdges\" style=\"fill:none;font-size:14px;stroke:rgba(90.6%,54.1%,76.5%,1.000);stroke-linecap:round;stroke-opacity:0.6;stroke-width:5\"><path d=\"M 182.4 232.9 L 154.3 232.9 L 98.0 385.8 L 88.7 385.8\" style=\"stroke:rgb(98.8%,55.3%,38.4%);stroke-opacity:0.7\"></path><text style=\"fill:#262626;fill-opacity:1.0;stroke:none;stroke-opacity:0.7;text-anchor:middle\" x=\"126.16\" y=\"321.33\">0.366</text><path d=\"M 182.4 113.2 L 173.0 113.2 L 173.0 61.9 L 126.2 61.9\" style=\"stroke:rgb(55.3%,62.7%,79.6%);stroke-opacity:0.7\"></path><text style=\"fill:#262626;fill-opacity:1.0;stroke:none;stroke-opacity:0.7;text-anchor:middle\" x=\"173.03\" y=\"99.51\">0.338</text><path d=\"M 182.4 130.3 L 144.9 130.3 L 69.9 114.8 L 51.2 114.8\" style=\"stroke:rgb(90.6%,54.1%,76.5%);stroke-opacity:0.7\"></path><text style=\"fill:#262626;fill-opacity:1.0;stroke:none;stroke-opacity:0.7;text-anchor:middle\" x=\"107.41\" y=\"134.52\">0.218</text></g><g class=\"toytree-TipLabels\" style=\"fill:rgb(14.9%,14.9%,14.9%);fill-opacity:1.0;font-family:helvetica;font-size:11px;font-weight:normal;stroke:none;white-space:pre\"><g transform=\"translate(182.41,438.15)rotate(0)\"><text style=\"\" x=\"15.00\" y=\"2.81\">caudatus</text></g><g transform=\"translate(182.41,421.04)rotate(0)\"><text style=\"\" x=\"15.00\" y=\"2.81\">quitensis</text></g><g transform=\"translate(182.41,403.94)rotate(0)\"><text style=\"\" x=\"15.00\" y=\"2.81\">hybridus</text></g><g transform=\"translate(182.41,386.83)rotate(0)\"><text style=\"\" x=\"15.00\" y=\"2.81\">hypochondriacus</text></g><g transform=\"translate(182.41,369.73)rotate(0)\"><text style=\"\" x=\"15.00\" y=\"2.81\">cruentus</text></g><g transform=\"translate(182.41,352.63)rotate(0)\"><text style=\"\" x=\"15.00\" y=\"2.81\">wrightii</text></g><g transform=\"translate(182.41,335.52)rotate(0)\"><text style=\"\" x=\"15.00\" y=\"2.81\">retroflexus</text></g><g transform=\"translate(182.41,318.42)rotate(0)\"><text style=\"\" x=\"15.00\" y=\"2.81\">powellii</text></g><g transform=\"translate(182.41,301.31)rotate(0)\"><text style=\"\" x=\"15.00\" y=\"2.81\">acutilobus</text></g><g transform=\"translate(182.41,284.21)rotate(0)\"><text style=\"\" x=\"15.00\" y=\"2.81\">palmeri</text></g><g transform=\"translate(182.41,267.10)rotate(0)\"><text style=\"\" x=\"15.00\" y=\"2.81\">watsonii</text></g><g transform=\"translate(182.41,250.00)rotate(0)\"><text style=\"\" x=\"15.00\" y=\"2.81\">spinosus</text></g><g transform=\"translate(182.41,232.90)rotate(0)\"><text style=\"\" x=\"15.00\" y=\"2.81\">dubius</text></g><g transform=\"translate(182.41,215.79)rotate(0)\"><text style=\"\" x=\"15.00\" y=\"2.81\">tricolor</text></g><g transform=\"translate(182.41,198.69)rotate(0)\"><text style=\"\" x=\"15.00\" y=\"2.81\">blitum</text></g><g transform=\"translate(182.41,181.58)rotate(0)\"><text style=\"\" x=\"15.00\" y=\"2.81\">viridis</text></g><g transform=\"translate(182.41,164.48)rotate(0)\"><text style=\"\" x=\"15.00\" y=\"2.81\">blitoides</text></g><g transform=\"translate(182.41,147.37)rotate(0)\"><text style=\"\" x=\"15.00\" y=\"2.81\">albus</text></g><g transform=\"translate(182.41,130.27)rotate(0)\"><text style=\"\" x=\"15.00\" y=\"2.81\">fimbriatus</text></g><g transform=\"translate(182.41,113.17)rotate(0)\"><text style=\"\" x=\"15.00\" y=\"2.81\">tuberculatus</text></g><g transform=\"translate(182.41,96.06)rotate(0)\"><text style=\"\" x=\"15.00\" y=\"2.81\">arenicola</text></g><g transform=\"translate(182.41,78.96)rotate(0)\"><text style=\"\" x=\"15.00\" y=\"2.81\">pumilus</text></g><g transform=\"translate(182.41,61.85)rotate(0)\"><text style=\"\" x=\"15.00\" y=\"2.81\">cannabinus</text></g></g></g></g></g></svg><div class=\"toyplot-behavior\"><script>(function()\n",
       "{\n",
       "var modules={};\n",
       "})();</script></div></div>"
      ]
     },
     "metadata": {},
     "output_type": "display_data"
    }
   ],
   "source": [
    "#get tree and admix scenario\n",
    "tree, admix = toytree.utils.parse_network(net3c)\n",
    "\n",
    "#re-root the tree on node 32\n",
    "rtree = tree.root([\"palmeri\",\"watsonii\",\"spinosus\",\"dubius\",\"caudatus\",\"quitensis\",\"hybridus\",\"hypochondriacus\",\n",
    "             \"cruentus\",\"acutilobus\",\"wrightii\",\"retroflexus\",\"powellii\"])\n",
    "\n",
    "#draw network\n",
    "rtree.draw(\n",
    "    #ts='o',\n",
    "    height=500,\n",
    "    use_edge_lengths=False,\n",
    "    admixture_edges=admix.values(),\n",
    ");"
   ]
  },
  {
   "cell_type": "code",
   "execution_count": 29,
   "metadata": {},
   "outputs": [],
   "source": [
    "color_dict = {\n",
    "\"quitensis\": \"orange\",# 'quitensis',\n",
    "\"caudatus\": \"orange\",# 'caudatus',\n",
    "\"hypochondriacus\": \"orange\",# 'hypochondriacus',\n",
    "\"reference\": \"orange\",\n",
    "\"hybridus\": \"orange\",# 'hybridus',\n",
    "\"cruentus\": \"orange\",# 'cruentus',\n",
    "\"wrightii\": \"orange\",# 'wrightii',\n",
    "\"retroflexus\": \"orange\",# 'retroflexus',\n",
    "\"powellii\": \"orange\",# 'powellii',\n",
    "\"acutilobus\": \"orange\",# 'acutilobus',\n",
    "\"watsonii\": \"orange\",# 'watsonii',\n",
    "\"palmeri\": \"orange\",# 'palmeri',\n",
    "\"spinosus\": \"orange\",# 'spinosus',\n",
    "\"dubius\": \"orange\",# 'dubius',\n",
    "\"arenicola\": \"blue\",# 'arenicola',\n",
    "\"greggii\": \"blue\",# 'greggii',\n",
    "\"acanthochiton\": \"blue\",# 'acanthochiton',\n",
    "\"pumilus\": \"blue\",# 'pumilus',\n",
    "\"floridanus\": \"blue\",# 'floridanus',\n",
    "\"tuberculatus\": \"blue\",# 'tuberculatus',\n",
    "\"cannabinus\": \"blue\",# 'cannabinus',\n",
    "\"australis\": \"blue\",# 'australis',\n",
    "\"viridis\": \"red\",# 'viridis',\n",
    "\"deflexus\": \"red\",# 'deflexus',\n",
    "\"muricatus\": \"red\",# 'muricatus',\n",
    "\"standleyanus\": \"red\",# 'standleyanus',\n",
    "\"asplundii\": \"purple\",# 'asplundii',\n",
    "\"graecizans\": \"purple\",# 'graecizans',\n",
    "\"tricolor\": \"purple\",# 'tricolor',\n",
    "\"blitum\": \"purple\",# 'blitum',\n",
    "\"albus\": \"green\",# 'albus',\n",
    "\"californicus\": \"green\",# 'californicus',\n",
    "\"blitoides\": \"green\",# 'blitoides',\n",
    "\"torreyi\": \"green\",# 'torreyi',\n",
    "\"crassipes\": \"green\",# 'crassipes',\n",
    "\"tamaulipensis\": \"green\",# 'tamaulipensis',\n",
    "\"fimbriatus\": \"green\",# 'fimbriatus',\n",
    "\"tucsonensis\": \"green\",# 'tucsonensis',\n",
    "\"beet\": \"black\",# 'quinoa'\n",
    "\"unknown\": \"black\",\n",
    "}"
   ]
  },
  {
   "cell_type": "code",
   "execution_count": 30,
   "metadata": {},
   "outputs": [
    {
     "data": {
      "text/html": [
       "<div class=\"toyplot\" id=\"t447c201151c345188e1074908ca1c3ea\" style=\"text-align:center\"><svg class=\"toyplot-canvas-Canvas\" height=\"600.0px\" id=\"tcb0f7b5df5644932b7c19e205aeea055\" preserveAspectRatio=\"xMidYMid meet\" style=\"background-color:transparent;border-color:#292724;border-style:none;border-width:1.0;fill:rgb(16.1%,15.3%,14.1%);fill-opacity:1.0;font-family:Helvetica;font-size:12px;opacity:1.0;stroke:rgb(16.1%,15.3%,14.1%);stroke-opacity:1.0;stroke-width:1.0\" viewBox=\"0 0 400.0 600.0\" width=\"400.0px\" xmlns=\"http://www.w3.org/2000/svg\" xmlns:toyplot=\"http://www.sandia.gov/toyplot\" xmlns:xlink=\"http://www.w3.org/1999/xlink\"><g class=\"toyplot-coordinates-Cartesian\" id=\"t5b6923795c014b20a9aaf3ef5da9be2d\"><clipPath id=\"td9d5f6a3fa284556b61e8fd1d097c6fc\"><rect height=\"540.0\" width=\"340.0\" x=\"30.0\" y=\"30.0\"></rect></clipPath><g clip-path=\"url(#td9d5f6a3fa284556b61e8fd1d097c6fc)\"><g class=\"toytree-mark-Toytree\" id=\"td331082a88ab470d94182dcf6e10e761\"><g class=\"toytree-Edges\" style=\"fill:none;stroke:rgb(14.9%,14.9%,14.9%);stroke-linecap:round;stroke-opacity:1;stroke-width:2\"><path d=\"M 51.2 246.4 L 51.2 130.9 L 102.8 130.9\" id=\"44,43\"></path><path d=\"M 51.2 246.4 L 51.2 361.8 L 77.0 361.8\" id=\"44,42\"></path><path d=\"M 102.8 130.9 L 102.8 83.4 L 154.4 83.4\" id=\"43,41\"></path><path d=\"M 102.8 130.9 L 102.8 178.3 L 128.6 178.3\" id=\"43,40\"></path><path d=\"M 77.0 361.8 L 77.0 297.3 L 154.4 297.3\" id=\"42,39\"></path><path d=\"M 77.0 361.8 L 77.0 426.3 L 102.8 426.3\" id=\"42,38\"></path><path d=\"M 154.4 83.4 L 154.4 102.1 L 180.2 102.1\" id=\"41,37\"></path><path d=\"M 128.6 178.3 L 128.6 206.4 L 154.4 206.4\" id=\"40,36\"></path><path d=\"M 154.4 297.3 L 154.4 316.0 L 180.2 316.0\" id=\"39,35\"></path><path d=\"M 102.8 426.3 L 102.8 382.9 L 154.4 382.9\" id=\"38,34\"></path><path d=\"M 102.8 426.3 L 102.8 469.8 L 128.6 469.8\" id=\"38,33\"></path><path d=\"M 180.2 102.1 L 180.2 118.2 L 205.9 118.2\" id=\"37,32\"></path><path d=\"M 154.4 206.4 L 154.4 182.3 L 205.9 182.3\" id=\"36,31\"></path><path d=\"M 154.4 206.4 L 154.4 230.5 L 180.2 230.5\" id=\"36,30\"></path><path d=\"M 180.2 316.0 L 180.2 332.1 L 205.9 332.1\" id=\"35,29\"></path><path d=\"M 154.4 382.9 L 154.4 401.6 L 180.2 401.6\" id=\"34,28\"></path><path d=\"M 128.6 469.8 L 128.6 489.9 L 154.4 489.9\" id=\"33,27\"></path><path d=\"M 180.2 230.5 L 180.2 246.5 L 205.9 246.5\" id=\"30,26\"></path><path d=\"M 180.2 401.6 L 180.2 417.7 L 205.9 417.7\" id=\"28,25\"></path><path d=\"M 154.4 489.9 L 154.4 508.6 L 180.2 508.6\" id=\"27,24\"></path><path d=\"M 180.2 508.6 L 180.2 524.6 L 205.9 524.6\" id=\"24,23\"></path><path d=\"M 154.4 83.4 L 154.4 64.7 L 231.7 64.7\" id=\"41,22\"></path><path d=\"M 180.2 102.1 L 180.2 86.1 L 231.7 86.1\" id=\"37,21\"></path><path d=\"M 205.9 118.2 L 205.9 107.5 L 231.7 107.5\" id=\"32,20\"></path><path d=\"M 205.9 118.2 L 205.9 128.9 L 231.7 128.9\" id=\"32,19\"></path><path d=\"M 128.6 178.3 L 128.6 150.3 L 231.7 150.3\" id=\"40,18\"></path><path d=\"M 205.9 182.3 L 205.9 171.6 L 231.7 171.6\" id=\"31,17\"></path><path d=\"M 205.9 182.3 L 205.9 193.0 L 231.7 193.0\" id=\"31,16\"></path><path d=\"M 180.2 230.5 L 180.2 214.4 L 231.7 214.4\" id=\"30,15\"></path><path d=\"M 205.9 246.5 L 205.9 235.8 L 231.7 235.8\" id=\"26,14\"></path><path d=\"M 205.9 246.5 L 205.9 257.2 L 231.7 257.2\" id=\"26,13\"></path><path d=\"M 154.4 297.3 L 154.4 278.6 L 231.7 278.6\" id=\"39,12\"></path><path d=\"M 180.2 316.0 L 180.2 300.0 L 231.7 300.0\" id=\"35,11\"></path><path d=\"M 205.9 332.1 L 205.9 321.4 L 231.7 321.4\" id=\"29,10\"></path><path d=\"M 205.9 332.1 L 205.9 342.8 L 231.7 342.8\" id=\"29,9\"></path><path d=\"M 154.4 382.9 L 154.4 364.2 L 231.7 364.2\" id=\"34,8\"></path><path d=\"M 180.2 401.6 L 180.2 385.6 L 231.7 385.6\" id=\"28,7\"></path><path d=\"M 205.9 417.7 L 205.9 407.0 L 231.7 407.0\" id=\"25,6\"></path><path d=\"M 205.9 417.7 L 205.9 428.4 L 231.7 428.4\" id=\"25,5\"></path><path d=\"M 128.6 469.8 L 128.6 449.7 L 231.7 449.7\" id=\"33,4\"></path><path d=\"M 154.4 489.9 L 154.4 471.1 L 231.7 471.1\" id=\"27,3\"></path><path d=\"M 180.2 508.6 L 180.2 492.5 L 231.7 492.5\" id=\"24,2\"></path><path d=\"M 205.9 524.6 L 205.9 513.9 L 231.7 513.9\" id=\"23,1\"></path><path d=\"M 205.9 524.6 L 205.9 535.3 L 231.7 535.3\" id=\"23,0\"></path></g><g class=\"toytree-AdmixEdges\" style=\"fill:none;font-size:14px;stroke:rgba(90.6%,54.1%,76.5%,1.000);stroke-linecap:round;stroke-opacity:0.6;stroke-width:5\"><path d=\"M 231.7 278.6 L 193.0 278.6 L 115.7 469.8 L 102.8 469.8\" style=\"stroke:rgb(98.8%,55.3%,38.4%);stroke-opacity:0.7\"></path><text style=\"fill:#262626;fill-opacity:1.0;stroke:none;stroke-opacity:0.7;text-anchor:middle\" x=\"154.36\" y=\"386.20\">0.366</text><path d=\"M 231.7 128.9 L 218.8 128.9 L 218.8 64.7 L 154.4 64.7\" style=\"stroke:rgb(55.3%,62.7%,79.6%);stroke-opacity:0.7\"></path><text style=\"fill:#262626;fill-opacity:1.0;stroke:none;stroke-opacity:0.7;text-anchor:middle\" x=\"218.84\" y=\"108.77\">0.338</text><path d=\"M 231.7 150.3 L 180.2 150.3 L 77.0 130.9 L 51.2 130.9\" style=\"stroke:rgb(90.6%,54.1%,76.5%);stroke-opacity:0.7\"></path><text style=\"fill:#262626;fill-opacity:1.0;stroke:none;stroke-opacity:0.7;text-anchor:middle\" x=\"128.57\" y=\"152.56\">0.218</text></g><g class=\"toytree-TipLabels\" style=\"fill:rgb(14.9%,14.9%,14.9%);fill-opacity:1.0;font-family:helvetica;font-size:16px;font-weight:normal;stroke:none;white-space:pre\"><g transform=\"translate(231.73,535.32)rotate(0)\"><text style=\"fill:rgb(100%,64.7%,0%);fill-opacity:1.0\" x=\"15.00\" y=\"4.09\">caudatus</text></g><g transform=\"translate(231.73,513.92)rotate(0)\"><text style=\"fill:rgb(100%,64.7%,0%);fill-opacity:1.0\" x=\"15.00\" y=\"4.09\">quitensis</text></g><g transform=\"translate(231.73,492.53)rotate(0)\"><text style=\"fill:rgb(100%,64.7%,0%);fill-opacity:1.0\" x=\"15.00\" y=\"4.09\">hybridus</text></g><g transform=\"translate(231.73,471.14)rotate(0)\"><text style=\"fill:rgb(100%,64.7%,0%);fill-opacity:1.0\" x=\"15.00\" y=\"4.09\">hypochondriacus</text></g><g transform=\"translate(231.73,449.75)rotate(0)\"><text style=\"fill:rgb(100%,64.7%,0%);fill-opacity:1.0\" x=\"15.00\" y=\"4.09\">cruentus</text></g><g transform=\"translate(231.73,428.35)rotate(0)\"><text style=\"fill:rgb(100%,64.7%,0%);fill-opacity:1.0\" x=\"15.00\" y=\"4.09\">wrightii</text></g><g transform=\"translate(231.73,406.96)rotate(0)\"><text style=\"fill:rgb(100%,64.7%,0%);fill-opacity:1.0\" x=\"15.00\" y=\"4.09\">retroflexus</text></g><g transform=\"translate(231.73,385.57)rotate(0)\"><text style=\"fill:rgb(100%,64.7%,0%);fill-opacity:1.0\" x=\"15.00\" y=\"4.09\">powellii</text></g><g transform=\"translate(231.73,364.18)rotate(0)\"><text style=\"fill:rgb(100%,64.7%,0%);fill-opacity:1.0\" x=\"15.00\" y=\"4.09\">acutilobus</text></g><g transform=\"translate(231.73,342.78)rotate(0)\"><text style=\"fill:rgb(100%,64.7%,0%);fill-opacity:1.0\" x=\"15.00\" y=\"4.09\">palmeri</text></g><g transform=\"translate(231.73,321.39)rotate(0)\"><text style=\"fill:rgb(100%,64.7%,0%);fill-opacity:1.0\" x=\"15.00\" y=\"4.09\">watsonii</text></g><g transform=\"translate(231.73,300.00)rotate(0)\"><text style=\"fill:rgb(100%,64.7%,0%);fill-opacity:1.0\" x=\"15.00\" y=\"4.09\">spinosus</text></g><g transform=\"translate(231.73,278.61)rotate(0)\"><text style=\"fill:rgb(100%,64.7%,0%);fill-opacity:1.0\" x=\"15.00\" y=\"4.09\">dubius</text></g><g transform=\"translate(231.73,257.22)rotate(0)\"><text style=\"fill:rgb(50.2%,0%,50.2%);fill-opacity:1.0\" x=\"15.00\" y=\"4.09\">tricolor</text></g><g transform=\"translate(231.73,235.82)rotate(0)\"><text style=\"fill:rgb(50.2%,0%,50.2%);fill-opacity:1.0\" x=\"15.00\" y=\"4.09\">blitum</text></g><g transform=\"translate(231.73,214.43)rotate(0)\"><text style=\"fill:rgb(100%,0%,0%);fill-opacity:1.0\" x=\"15.00\" y=\"4.09\">viridis</text></g><g transform=\"translate(231.73,193.04)rotate(0)\"><text style=\"fill:rgb(0%,50.2%,0%);fill-opacity:1.0\" x=\"15.00\" y=\"4.09\">blitoides</text></g><g transform=\"translate(231.73,171.65)rotate(0)\"><text style=\"fill:rgb(0%,50.2%,0%);fill-opacity:1.0\" x=\"15.00\" y=\"4.09\">albus</text></g><g transform=\"translate(231.73,150.25)rotate(0)\"><text style=\"fill:rgb(0%,50.2%,0%);fill-opacity:1.0\" x=\"15.00\" y=\"4.09\">fimbriatus</text></g><g transform=\"translate(231.73,128.86)rotate(0)\"><text style=\"fill:rgb(0%,0%,100%);fill-opacity:1.0\" x=\"15.00\" y=\"4.09\">tuberculatus</text></g><g transform=\"translate(231.73,107.47)rotate(0)\"><text style=\"fill:rgb(0%,0%,100%);fill-opacity:1.0\" x=\"15.00\" y=\"4.09\">arenicola</text></g><g transform=\"translate(231.73,86.08)rotate(0)\"><text style=\"fill:rgb(0%,0%,100%);fill-opacity:1.0\" x=\"15.00\" y=\"4.09\">pumilus</text></g><g transform=\"translate(231.73,64.68)rotate(0)\"><text style=\"fill:rgb(0%,0%,100%);fill-opacity:1.0\" x=\"15.00\" y=\"4.09\">cannabinus</text></g></g></g></g></g></svg><div class=\"toyplot-behavior\"><script>(function()\n",
       "{\n",
       "var modules={};\n",
       "})();</script></div></div>"
      ]
     },
     "metadata": {},
     "output_type": "display_data"
    }
   ],
   "source": [
    "#get tree and admix scenario\n",
    "tree, admix = toytree.utils.parse_network(net3c)\n",
    "\n",
    "#re-root the tree on node 32\n",
    "rtree = tree.root([\"palmeri\",\"watsonii\",\"spinosus\",\"dubius\",\"caudatus\",\"quitensis\",\"hybridus\",\"hypochondriacus\",\n",
    "             \"cruentus\",\"acutilobus\",\"wrightii\",\"retroflexus\",\"powellii\"])\n",
    "\n",
    "\n",
    "our_labels = rtree.get_tip_labels()\n",
    "sp_names= [i.split(\"_\")[0].split(\"-\")[0] for i in our_labels]\n",
    "colors = [color_dict[sp] for sp in sp_names]\n",
    "\n",
    "\n",
    "\n",
    "#draw network\n",
    "canvas, axes, mark = rtree.draw(\n",
    "    #ts='o',\n",
    "    use_edge_lengths=False,\n",
    "    admixture_edges=admix.values(),\n",
    "    tip_labels_colors=colors,\n",
    "    tip_labels_style={\"font-size\":\"16px\"},\n",
    "    width=400, height=600,\n",
    ");"
   ]
  },
  {
   "cell_type": "code",
   "execution_count": 31,
   "metadata": {},
   "outputs": [],
   "source": [
    "toyplot.svg.render(canvas, \"/rigel/dsi/users/slh2181/tuberculatus_plate/fimbriatus/snaq/fimb_net3_500kb.svg\")"
   ]
  },
  {
   "cell_type": "code",
   "execution_count": null,
   "metadata": {},
   "outputs": [],
   "source": []
  },
  {
   "cell_type": "code",
   "execution_count": null,
   "metadata": {},
   "outputs": [],
   "source": []
  },
  {
   "cell_type": "code",
   "execution_count": null,
   "metadata": {},
   "outputs": [],
   "source": []
  },
  {
   "cell_type": "markdown",
   "metadata": {},
   "source": [
    "# Now with 250kb windows"
   ]
  },
  {
   "cell_type": "code",
   "execution_count": 32,
   "metadata": {},
   "outputs": [],
   "source": [
    "net0 = \"\"\" \n",
    "(retroflexus,wrightii,(powellii,(acutilobus,((cruentus,(hypochondriacus,(hybridus,(caudatus,quitensis):0.9166122408022078):0.1722593050554382):0.12276627989594396):0.8331942502395489,(((spinosus,(watsonii,palmeri):0.41452060670152385):1.5413012505601758,((cannabinus,(pumilus,(tuberculatus,arenicola):0.47501888674701925):0.28698470132919396):1.5309101993148515,(fimbriatus,((albus,blitoides):1.7554731820163434,(viridis,(blitum,tricolor):0.5388466487478625):1.6509645768104388):0.6419896261748419):0.547208600995595):2.3040719237475527):0.4102124570067754,dubius):1.234208252215611):0.30657998172994566):0.44872155406645053):1.0239213928071074); -Ploglik = 17034.286035870784\n",
    "    \"\"\".strip().replace(\"\\n\",\"\")"
   ]
  },
  {
   "cell_type": "code",
   "execution_count": 33,
   "metadata": {},
   "outputs": [
    {
     "data": {
      "text/html": [
       "<div class=\"toyplot\" id=\"t2899d8aa90cc46a4823de16534dc63e3\" style=\"text-align:center\"><svg class=\"toyplot-canvas-Canvas\" height=\"500.0px\" id=\"t418e95e480cf4eb881311d814d24fca6\" preserveAspectRatio=\"xMidYMid meet\" style=\"background-color:transparent;border-color:#292724;border-style:none;border-width:1.0;fill:rgb(16.1%,15.3%,14.1%);fill-opacity:1.0;font-family:Helvetica;font-size:12px;opacity:1.0;stroke:rgb(16.1%,15.3%,14.1%);stroke-opacity:1.0;stroke-width:1.0\" viewBox=\"0 0 325.0 500.0\" width=\"325.0px\" xmlns=\"http://www.w3.org/2000/svg\" xmlns:toyplot=\"http://www.sandia.gov/toyplot\" xmlns:xlink=\"http://www.w3.org/1999/xlink\"><g class=\"toyplot-coordinates-Cartesian\" id=\"t0aed78563fb4470aad0d3d26a8446589\"><clipPath id=\"t1b94478d13544be38e48b58d30c42a92\"><rect height=\"440.0\" width=\"265.0\" x=\"30.0\" y=\"30.0\"></rect></clipPath><g clip-path=\"url(#t1b94478d13544be38e48b58d30c42a92)\"><g class=\"toytree-mark-Toytree\" id=\"t4264bc564d7541858a84c1379e085c35\"><g class=\"toytree-Edges\" style=\"fill:none;stroke:rgb(14.9%,14.9%,14.9%);stroke-linecap:round;stroke-opacity:1;stroke-width:2\"><path d=\"M 51.2 198.2 L 51.2 114.8 L 100.4 114.8\" id=\"44,43\"></path><path d=\"M 51.2 198.2 L 51.2 281.7 L 67.6 281.7\" id=\"44,42\"></path><path d=\"M 100.4 114.8 L 100.4 76.8 L 133.2 76.8\" id=\"43,41\"></path><path d=\"M 100.4 114.8 L 100.4 152.7 L 116.8 152.7\" id=\"43,40\"></path><path d=\"M 67.6 281.7 L 67.6 245.7 L 149.6 245.7\" id=\"42,39\"></path><path d=\"M 67.6 281.7 L 67.6 317.6 L 84.0 317.6\" id=\"42,38\"></path><path d=\"M 133.2 76.8 L 133.2 91.8 L 149.6 91.8\" id=\"41,37\"></path><path d=\"M 116.8 152.7 L 116.8 175.2 L 133.2 175.2\" id=\"40,36\"></path><path d=\"M 149.6 245.7 L 149.6 258.6 L 166.0 258.6\" id=\"39,35\"></path><path d=\"M 84.0 317.6 L 84.0 351.0 L 100.4 351.0\" id=\"38,34\"></path><path d=\"M 149.6 91.8 L 149.6 104.6 L 166.0 104.6\" id=\"37,33\"></path><path d=\"M 133.2 175.2 L 133.2 155.9 L 166.0 155.9\" id=\"36,32\"></path><path d=\"M 133.2 175.2 L 133.2 194.4 L 149.6 194.4\" id=\"36,31\"></path><path d=\"M 100.4 351.0 L 100.4 316.3 L 133.2 316.3\" id=\"34,30\"></path><path d=\"M 100.4 351.0 L 100.4 385.8 L 116.8 385.8\" id=\"34,29\"></path><path d=\"M 149.6 194.4 L 149.6 207.2 L 166.0 207.2\" id=\"31,28\"></path><path d=\"M 133.2 316.3 L 133.2 331.2 L 149.6 331.2\" id=\"30,27\"></path><path d=\"M 116.8 385.8 L 116.8 401.8 L 133.2 401.8\" id=\"29,26\"></path><path d=\"M 149.6 331.2 L 149.6 344.1 L 166.0 344.1\" id=\"27,25\"></path><path d=\"M 133.2 401.8 L 133.2 416.8 L 149.6 416.8\" id=\"26,24\"></path><path d=\"M 149.6 416.8 L 149.6 429.6 L 166.0 429.6\" id=\"24,23\"></path><path d=\"M 133.2 76.8 L 133.2 61.9 L 182.4 61.9\" id=\"41,22\"></path><path d=\"M 149.6 91.8 L 149.6 79.0 L 182.4 79.0\" id=\"37,21\"></path><path d=\"M 166.0 104.6 L 166.0 96.1 L 182.4 96.1\" id=\"33,20\"></path><path d=\"M 166.0 104.6 L 166.0 113.2 L 182.4 113.2\" id=\"33,19\"></path><path d=\"M 116.8 152.7 L 116.8 130.3 L 182.4 130.3\" id=\"40,18\"></path><path d=\"M 166.0 155.9 L 166.0 147.4 L 182.4 147.4\" id=\"32,17\"></path><path d=\"M 166.0 155.9 L 166.0 164.5 L 182.4 164.5\" id=\"32,16\"></path><path d=\"M 149.6 194.4 L 149.6 181.6 L 182.4 181.6\" id=\"31,15\"></path><path d=\"M 166.0 207.2 L 166.0 198.7 L 182.4 198.7\" id=\"28,14\"></path><path d=\"M 166.0 207.2 L 166.0 215.8 L 182.4 215.8\" id=\"28,13\"></path><path d=\"M 149.6 245.7 L 149.6 232.9 L 182.4 232.9\" id=\"39,12\"></path><path d=\"M 166.0 258.6 L 166.0 250.0 L 182.4 250.0\" id=\"35,11\"></path><path d=\"M 166.0 258.6 L 166.0 267.1 L 182.4 267.1\" id=\"35,10\"></path><path d=\"M 84.0 317.6 L 84.0 284.2 L 182.4 284.2\" id=\"38,9\"></path><path d=\"M 133.2 316.3 L 133.2 301.3 L 182.4 301.3\" id=\"30,8\"></path><path d=\"M 149.6 331.2 L 149.6 318.4 L 182.4 318.4\" id=\"27,7\"></path><path d=\"M 166.0 344.1 L 166.0 335.5 L 182.4 335.5\" id=\"25,6\"></path><path d=\"M 166.0 344.1 L 166.0 352.6 L 182.4 352.6\" id=\"25,5\"></path><path d=\"M 116.8 385.8 L 116.8 369.7 L 182.4 369.7\" id=\"29,4\"></path><path d=\"M 133.2 401.8 L 133.2 386.8 L 182.4 386.8\" id=\"26,3\"></path><path d=\"M 149.6 416.8 L 149.6 403.9 L 182.4 403.9\" id=\"24,2\"></path><path d=\"M 166.0 429.6 L 166.0 421.0 L 182.4 421.0\" id=\"23,1\"></path><path d=\"M 166.0 429.6 L 166.0 438.1 L 182.4 438.1\" id=\"23,0\"></path></g><g class=\"toytree-AdmixEdges\" style=\"fill:none;font-size:14px;stroke:rgba(90.6%,54.1%,76.5%,1.000);stroke-linecap:round;stroke-opacity:0.6;stroke-width:5\"></g><g class=\"toytree-TipLabels\" style=\"fill:rgb(14.9%,14.9%,14.9%);fill-opacity:1.0;font-family:helvetica;font-size:11px;font-weight:normal;stroke:none;white-space:pre\"><g transform=\"translate(182.41,438.15)rotate(0)\"><text style=\"\" x=\"15.00\" y=\"2.81\">quitensis</text></g><g transform=\"translate(182.41,421.04)rotate(0)\"><text style=\"\" x=\"15.00\" y=\"2.81\">caudatus</text></g><g transform=\"translate(182.41,403.94)rotate(0)\"><text style=\"\" x=\"15.00\" y=\"2.81\">hybridus</text></g><g transform=\"translate(182.41,386.83)rotate(0)\"><text style=\"\" x=\"15.00\" y=\"2.81\">hypochondriacus</text></g><g transform=\"translate(182.41,369.73)rotate(0)\"><text style=\"\" x=\"15.00\" y=\"2.81\">cruentus</text></g><g transform=\"translate(182.41,352.63)rotate(0)\"><text style=\"\" x=\"15.00\" y=\"2.81\">wrightii</text></g><g transform=\"translate(182.41,335.52)rotate(0)\"><text style=\"\" x=\"15.00\" y=\"2.81\">retroflexus</text></g><g transform=\"translate(182.41,318.42)rotate(0)\"><text style=\"\" x=\"15.00\" y=\"2.81\">powellii</text></g><g transform=\"translate(182.41,301.31)rotate(0)\"><text style=\"\" x=\"15.00\" y=\"2.81\">acutilobus</text></g><g transform=\"translate(182.41,284.21)rotate(0)\"><text style=\"\" x=\"15.00\" y=\"2.81\">dubius</text></g><g transform=\"translate(182.41,267.10)rotate(0)\"><text style=\"\" x=\"15.00\" y=\"2.81\">palmeri</text></g><g transform=\"translate(182.41,250.00)rotate(0)\"><text style=\"\" x=\"15.00\" y=\"2.81\">watsonii</text></g><g transform=\"translate(182.41,232.90)rotate(0)\"><text style=\"\" x=\"15.00\" y=\"2.81\">spinosus</text></g><g transform=\"translate(182.41,215.79)rotate(0)\"><text style=\"\" x=\"15.00\" y=\"2.81\">tricolor</text></g><g transform=\"translate(182.41,198.69)rotate(0)\"><text style=\"\" x=\"15.00\" y=\"2.81\">blitum</text></g><g transform=\"translate(182.41,181.58)rotate(0)\"><text style=\"\" x=\"15.00\" y=\"2.81\">viridis</text></g><g transform=\"translate(182.41,164.48)rotate(0)\"><text style=\"\" x=\"15.00\" y=\"2.81\">blitoides</text></g><g transform=\"translate(182.41,147.37)rotate(0)\"><text style=\"\" x=\"15.00\" y=\"2.81\">albus</text></g><g transform=\"translate(182.41,130.27)rotate(0)\"><text style=\"\" x=\"15.00\" y=\"2.81\">fimbriatus</text></g><g transform=\"translate(182.41,113.17)rotate(0)\"><text style=\"\" x=\"15.00\" y=\"2.81\">arenicola</text></g><g transform=\"translate(182.41,96.06)rotate(0)\"><text style=\"\" x=\"15.00\" y=\"2.81\">tuberculatus</text></g><g transform=\"translate(182.41,78.96)rotate(0)\"><text style=\"\" x=\"15.00\" y=\"2.81\">pumilus</text></g><g transform=\"translate(182.41,61.85)rotate(0)\"><text style=\"\" x=\"15.00\" y=\"2.81\">cannabinus</text></g></g></g></g></g></svg><div class=\"toyplot-behavior\"><script>(function()\n",
       "{\n",
       "var modules={};\n",
       "})();</script></div></div>"
      ]
     },
     "metadata": {},
     "output_type": "display_data"
    }
   ],
   "source": [
    "#get tree and admix scenario\n",
    "tree, admix = toytree.utils.parse_network(net0)\n",
    "\n",
    "#re-root the tree on node 32\n",
    "rtree = tree.root([\"palmeri\",\"watsonii\",\"spinosus\",\"dubius\",\"caudatus\",\"quitensis\",\"hybridus\",\"hypochondriacus\",\n",
    "             \"cruentus\",\"acutilobus\",\"wrightii\",\"retroflexus\",\"powellii\"])\n",
    "\n",
    "#draw network\n",
    "rtree.draw(\n",
    "    #ts='o',\n",
    "    height=500,\n",
    "    use_edge_lengths=False,\n",
    "    admixture_edges=admix.values(),\n",
    ");"
   ]
  },
  {
   "cell_type": "code",
   "execution_count": 34,
   "metadata": {},
   "outputs": [],
   "source": [
    "net1a=\"\"\"\n",
    "(retroflexus,wrightii,(powellii,(acutilobus,((((fimbriatus,((albus,blitoides):1.7554723306679265,(viridis,(blitum,tricolor):0.5388341544581924):1.6509568814794877):0.6419724830955456):0.5471315124228981,((pumilus,(tuberculatus,arenicola):0.4750103989542212):0.28699074309778755,cannabinus):1.5308134566851945):2.2206846367645863,((spinosus,(watsonii,palmeri):0.41515128902097503):0.3426238694035568,(dubius)#H24:::0.626231678619905):1.5215941778062532):2.056560409012954,((cruentus,(hypochondriacus,(hybridus,(quitensis,caudatus):0.9171525896210693):0.17230163220963443):0.12312683905042712):0.23315354325165885,#H24:::0.37376832138009497):0.676096884339371):0.29303791007735747):0.447864839635171):1.0232277612984073);, with -loglik 7190.6848762652335 (best network found, remaining sorted by log-pseudolik; the smaller, the better)\n",
    "        \"\"\".strip().replace(\"\\n\",\"\")"
   ]
  },
  {
   "cell_type": "code",
   "execution_count": 35,
   "metadata": {},
   "outputs": [
    {
     "data": {
      "text/html": [
       "<div class=\"toyplot\" id=\"t794f328d94614fc8836ec2b0e48f8748\" style=\"text-align:center\"><svg class=\"toyplot-canvas-Canvas\" height=\"500.0px\" id=\"t4a335429e147451e8f287b471b664f87\" preserveAspectRatio=\"xMidYMid meet\" style=\"background-color:transparent;border-color:#292724;border-style:none;border-width:1.0;fill:rgb(16.1%,15.3%,14.1%);fill-opacity:1.0;font-family:Helvetica;font-size:12px;opacity:1.0;stroke:rgb(16.1%,15.3%,14.1%);stroke-opacity:1.0;stroke-width:1.0\" viewBox=\"0 0 325.0 500.0\" width=\"325.0px\" xmlns=\"http://www.w3.org/2000/svg\" xmlns:toyplot=\"http://www.sandia.gov/toyplot\" xmlns:xlink=\"http://www.w3.org/1999/xlink\"><g class=\"toyplot-coordinates-Cartesian\" id=\"tff98b3d6f0ef414980c16c46c95df889\"><clipPath id=\"ta9dee7cf781448f0b871ae818bc6677b\"><rect height=\"440.0\" width=\"265.0\" x=\"30.0\" y=\"30.0\"></rect></clipPath><g clip-path=\"url(#ta9dee7cf781448f0b871ae818bc6677b)\"><g class=\"toytree-mark-Toytree\" id=\"tf1d2a0855a604891a8042bb298962157\"><g class=\"toytree-Edges\" style=\"fill:none;stroke:rgb(14.9%,14.9%,14.9%);stroke-linecap:round;stroke-opacity:1;stroke-width:2\"><path d=\"M 51.2 207.1 L 51.2 114.8 L 88.7 114.8\" id=\"44,43\"></path><path d=\"M 51.2 207.1 L 51.2 299.4 L 69.9 299.4\" id=\"44,42\"></path><path d=\"M 88.7 114.8 L 88.7 76.8 L 126.2 76.8\" id=\"43,41\"></path><path d=\"M 88.7 114.8 L 88.7 152.7 L 107.4 152.7\" id=\"43,40\"></path><path d=\"M 69.9 299.4 L 69.9 247.9 L 126.2 247.9\" id=\"42,39\"></path><path d=\"M 69.9 299.4 L 69.9 351.0 L 88.7 351.0\" id=\"42,38\"></path><path d=\"M 126.2 76.8 L 126.2 91.8 L 144.9 91.8\" id=\"41,37\"></path><path d=\"M 107.4 152.7 L 107.4 175.2 L 126.2 175.2\" id=\"40,36\"></path><path d=\"M 126.2 247.9 L 126.2 262.8 L 144.9 262.8\" id=\"39,35\"></path><path d=\"M 88.7 351.0 L 88.7 316.3 L 126.2 316.3\" id=\"38,34\"></path><path d=\"M 88.7 351.0 L 88.7 385.8 L 107.4 385.8\" id=\"38,33\"></path><path d=\"M 144.9 91.8 L 144.9 104.6 L 163.7 104.6\" id=\"37,32\"></path><path d=\"M 126.2 175.2 L 126.2 155.9 L 163.7 155.9\" id=\"36,31\"></path><path d=\"M 126.2 175.2 L 126.2 194.4 L 144.9 194.4\" id=\"36,30\"></path><path d=\"M 144.9 262.8 L 144.9 275.7 L 163.7 275.7\" id=\"35,29\"></path><path d=\"M 126.2 316.3 L 126.2 331.2 L 144.9 331.2\" id=\"34,28\"></path><path d=\"M 107.4 385.8 L 107.4 401.8 L 126.2 401.8\" id=\"33,27\"></path><path d=\"M 144.9 194.4 L 144.9 207.2 L 163.7 207.2\" id=\"30,26\"></path><path d=\"M 144.9 331.2 L 144.9 344.1 L 163.7 344.1\" id=\"28,25\"></path><path d=\"M 126.2 401.8 L 126.2 416.8 L 144.9 416.8\" id=\"27,24\"></path><path d=\"M 144.9 416.8 L 144.9 429.6 L 163.7 429.6\" id=\"24,23\"></path><path d=\"M 126.2 76.8 L 126.2 61.9 L 182.4 61.9\" id=\"41,22\"></path><path d=\"M 144.9 91.8 L 144.9 79.0 L 182.4 79.0\" id=\"37,21\"></path><path d=\"M 163.7 104.6 L 163.7 96.1 L 182.4 96.1\" id=\"32,20\"></path><path d=\"M 163.7 104.6 L 163.7 113.2 L 182.4 113.2\" id=\"32,19\"></path><path d=\"M 107.4 152.7 L 107.4 130.3 L 182.4 130.3\" id=\"40,18\"></path><path d=\"M 163.7 155.9 L 163.7 147.4 L 182.4 147.4\" id=\"31,17\"></path><path d=\"M 163.7 155.9 L 163.7 164.5 L 182.4 164.5\" id=\"31,16\"></path><path d=\"M 144.9 194.4 L 144.9 181.6 L 182.4 181.6\" id=\"30,15\"></path><path d=\"M 163.7 207.2 L 163.7 198.7 L 182.4 198.7\" id=\"26,14\"></path><path d=\"M 163.7 207.2 L 163.7 215.8 L 182.4 215.8\" id=\"26,13\"></path><path d=\"M 126.2 247.9 L 126.2 232.9 L 182.4 232.9\" id=\"39,12\"></path><path d=\"M 144.9 262.8 L 144.9 250.0 L 182.4 250.0\" id=\"35,11\"></path><path d=\"M 163.7 275.7 L 163.7 267.1 L 182.4 267.1\" id=\"29,10\"></path><path d=\"M 163.7 275.7 L 163.7 284.2 L 182.4 284.2\" id=\"29,9\"></path><path d=\"M 126.2 316.3 L 126.2 301.3 L 182.4 301.3\" id=\"34,8\"></path><path d=\"M 144.9 331.2 L 144.9 318.4 L 182.4 318.4\" id=\"28,7\"></path><path d=\"M 163.7 344.1 L 163.7 335.5 L 182.4 335.5\" id=\"25,6\"></path><path d=\"M 163.7 344.1 L 163.7 352.6 L 182.4 352.6\" id=\"25,5\"></path><path d=\"M 107.4 385.8 L 107.4 369.7 L 182.4 369.7\" id=\"33,4\"></path><path d=\"M 126.2 401.8 L 126.2 386.8 L 182.4 386.8\" id=\"27,3\"></path><path d=\"M 144.9 416.8 L 144.9 403.9 L 182.4 403.9\" id=\"24,2\"></path><path d=\"M 163.7 429.6 L 163.7 421.0 L 182.4 421.0\" id=\"23,1\"></path><path d=\"M 163.7 429.6 L 163.7 438.1 L 182.4 438.1\" id=\"23,0\"></path></g><g class=\"toytree-AdmixEdges\" style=\"fill:none;font-size:14px;stroke:rgba(90.6%,54.1%,76.5%,1.000);stroke-linecap:round;stroke-opacity:0.6;stroke-width:5\"><path d=\"M 182.4 232.9 L 154.3 232.9 L 98.0 385.8 L 88.7 385.8\" style=\"stroke:rgb(98.8%,55.3%,38.4%);stroke-opacity:0.7\"></path><text style=\"fill:#262626;fill-opacity:1.0;stroke:none;stroke-opacity:0.7;text-anchor:middle\" x=\"126.16\" y=\"321.33\">0.374</text></g><g class=\"toytree-TipLabels\" style=\"fill:rgb(14.9%,14.9%,14.9%);fill-opacity:1.0;font-family:helvetica;font-size:11px;font-weight:normal;stroke:none;white-space:pre\"><g transform=\"translate(182.41,438.15)rotate(0)\"><text style=\"\" x=\"15.00\" y=\"2.81\">caudatus</text></g><g transform=\"translate(182.41,421.04)rotate(0)\"><text style=\"\" x=\"15.00\" y=\"2.81\">quitensis</text></g><g transform=\"translate(182.41,403.94)rotate(0)\"><text style=\"\" x=\"15.00\" y=\"2.81\">hybridus</text></g><g transform=\"translate(182.41,386.83)rotate(0)\"><text style=\"\" x=\"15.00\" y=\"2.81\">hypochondriacus</text></g><g transform=\"translate(182.41,369.73)rotate(0)\"><text style=\"\" x=\"15.00\" y=\"2.81\">cruentus</text></g><g transform=\"translate(182.41,352.63)rotate(0)\"><text style=\"\" x=\"15.00\" y=\"2.81\">wrightii</text></g><g transform=\"translate(182.41,335.52)rotate(0)\"><text style=\"\" x=\"15.00\" y=\"2.81\">retroflexus</text></g><g transform=\"translate(182.41,318.42)rotate(0)\"><text style=\"\" x=\"15.00\" y=\"2.81\">powellii</text></g><g transform=\"translate(182.41,301.31)rotate(0)\"><text style=\"\" x=\"15.00\" y=\"2.81\">acutilobus</text></g><g transform=\"translate(182.41,284.21)rotate(0)\"><text style=\"\" x=\"15.00\" y=\"2.81\">palmeri</text></g><g transform=\"translate(182.41,267.10)rotate(0)\"><text style=\"\" x=\"15.00\" y=\"2.81\">watsonii</text></g><g transform=\"translate(182.41,250.00)rotate(0)\"><text style=\"\" x=\"15.00\" y=\"2.81\">spinosus</text></g><g transform=\"translate(182.41,232.90)rotate(0)\"><text style=\"\" x=\"15.00\" y=\"2.81\">dubius</text></g><g transform=\"translate(182.41,215.79)rotate(0)\"><text style=\"\" x=\"15.00\" y=\"2.81\">tricolor</text></g><g transform=\"translate(182.41,198.69)rotate(0)\"><text style=\"\" x=\"15.00\" y=\"2.81\">blitum</text></g><g transform=\"translate(182.41,181.58)rotate(0)\"><text style=\"\" x=\"15.00\" y=\"2.81\">viridis</text></g><g transform=\"translate(182.41,164.48)rotate(0)\"><text style=\"\" x=\"15.00\" y=\"2.81\">blitoides</text></g><g transform=\"translate(182.41,147.37)rotate(0)\"><text style=\"\" x=\"15.00\" y=\"2.81\">albus</text></g><g transform=\"translate(182.41,130.27)rotate(0)\"><text style=\"\" x=\"15.00\" y=\"2.81\">fimbriatus</text></g><g transform=\"translate(182.41,113.17)rotate(0)\"><text style=\"\" x=\"15.00\" y=\"2.81\">arenicola</text></g><g transform=\"translate(182.41,96.06)rotate(0)\"><text style=\"\" x=\"15.00\" y=\"2.81\">tuberculatus</text></g><g transform=\"translate(182.41,78.96)rotate(0)\"><text style=\"\" x=\"15.00\" y=\"2.81\">pumilus</text></g><g transform=\"translate(182.41,61.85)rotate(0)\"><text style=\"\" x=\"15.00\" y=\"2.81\">cannabinus</text></g></g></g></g></g></svg><div class=\"toyplot-behavior\"><script>(function()\n",
       "{\n",
       "var modules={};\n",
       "})();</script></div></div>"
      ]
     },
     "metadata": {},
     "output_type": "display_data"
    }
   ],
   "source": [
    "#get tree and admix scenario\n",
    "tree, admix = toytree.utils.parse_network(net1a)\n",
    "\n",
    "#re-root the tree on node 32\n",
    "rtree = tree.root([\"palmeri\",\"watsonii\",\"spinosus\",\"dubius\",\"caudatus\",\"quitensis\",\"hybridus\",\"hypochondriacus\",\n",
    "             \"cruentus\",\"acutilobus\",\"wrightii\",\"retroflexus\",\"powellii\"])\n",
    "\n",
    "#draw network\n",
    "rtree.draw(\n",
    "    #ts='o',\n",
    "    height=500,\n",
    "    use_edge_lengths=False,\n",
    "    admixture_edges=admix.values(),\n",
    ");"
   ]
  },
  {
   "cell_type": "code",
   "execution_count": 36,
   "metadata": {},
   "outputs": [],
   "source": [
    "net2a = \"\"\"\n",
    "(albus,blitoides,((viridis,(blitum,tricolor):0.5427598806600675):1.6506006975204985,((((pumilus,(tuberculatus,arenicola):0.4759126250993814):0.2852789813914523,cannabinus):1.3769572442831453,((((acutilobus,(powellii,(retroflexus,wrightii):1.02157762033476):0.4473000896999046):0.29437507652344747,((cruentus,(hypochondriacus,(hybridus,(quitensis,caudatus):0.9211491281562341):0.16950093862791957):0.1240973487649107):0.23220594411532267,#H24:::0.373220552535014):0.676837370235905):2.0556374877963113,((spinosus,(watsonii,palmeri):0.41578873879435485):0.3472569951455155,(dubius)#H24:::0.6267794474649859):1.5176877395224513):1.602882785336712)#H25:2.001928358747654::0.8084850387480937):0.9817027886243698,(fimbriatus,#H25:5.6311158936818515::0.19151496125190626):1.3798747050068194):0.510324888902642):1.7532491978468259);, with -loglik 6260.757731586794 (best network found, remaining sorted by log-pseudolik; the smaller, the better)\n",
    "        \"\"\".strip().replace(\"\\n\",\"\")\n",
    "\n",
    "net2b = \"\"\"\n",
    "(retroflexus,wrightii,(powellii,(acutilobus,((((((pumilus,(tuberculatus,arenicola):0.46674187525035155):0.3088250706341665,cannabinus):1.484838186425875,(((albus,blitoides):1.7864073589370282,(viridis,(blitum,tricolor):0.5283221495988383):1.6612713698495283):0.24742710550071126,(fimbriatus)#H25:::0.71768055027673):1.0286187934130078):0.6565498091081752,#H25:::0.28231944972327006):1.6391348965171355,((spinosus,(watsonii,palmeri):0.45193565099316085):0.3631300363930548,(dubius)#H24:::0.6273070296815626):1.4993456078211214):2.055928967573557,((cruentus,(hypochondriacus,(hybridus,(quitensis,caudatus):0.9134589359321245):0.1664654832619733):0.12737874932330553):0.2528520854515664,#H24:::0.37269297031843734):0.6595250111969371):0.2843236254546271):0.46348239904547844):1.0029054707455416);, with -loglik 6346.668334824869\n",
    "        \"\"\".strip().replace(\"\\n\",\"\")\n",
    "\n",
    "net2c = \"\"\"\n",
    "(retroflexus,wrightii,(powellii,(acutilobus,((((((pumilus,(tuberculatus,arenicola):0.47708559643033815):0.2751525036260237,cannabinus):1.3978611950895872,(((albus,blitoides):1.8430213277361662,(viridis,(blitum,tricolor):0.5875475161893374):1.6343574825892737):0.6810309633444442)#H25:1.1802454563113682::0.5171297997330753):0.30219794172624004,(fimbriatus,#H25:0.9718252284613299::0.4828702002669247):6.581460529662058):2.1086869491286264,((spinosus,(watsonii,palmeri):0.3615073434002683):0.38387861686681124,(dubius)#H24:::0.6269204796305745):1.5182520752695985):2.04724952006646,((cruentus,(hypochondriacus,(hybridus,(quitensis,caudatus):0.9684177566334342):0.17229170079500197):0.10445186906293022):0.24699184105078179,#H24:::0.3730795203694255):0.6678062241973611):0.2867851720794064):0.4573851730254738):0.9782343940180661);, with -loglik 6631.8425802981565\n",
    "        \"\"\".strip().replace(\"\\n\",\"\")\n",
    "\n",
    "net2d = \"\"\"\n",
    "(retroflexus,wrightii,(powellii,(acutilobus,((((((pumilus,(tuberculatus,arenicola):0.5129234097478252):0.2632104731581684,cannabinus):1.102489749633894)#H25:1.4911196471762342::0.7714025572605575,(fimbriatus,(#H25:0.6844327632978897::0.2285974427394425,((albus,blitoides):1.8247599985309024,(viridis,(blitum,tricolor):0.5416591288284369):1.6393697730218506):0.2943268166661915):0.44824207150298784):0.8971955043991444):2.018168698568066,((spinosus,(watsonii,palmeri):0.4312642031797614):0.3553327690557229,(dubius)#H24:::0.6263454392564531):1.520657063767758):2.0504605264374556,((cruentus,(hypochondriacus,(hybridus,(quitensis,caudatus):0.9127084407978857):0.21487890431030837):0.0620449826979179):0.2744291061899109,#H24:::0.37365456074354686):0.6652888214669855):0.2977391496022126):0.43111426182394663):1.0447896094684015);, with -loglik 6944.051401930411\n",
    "        \"\"\".strip().replace(\"\\n\",\"\")"
   ]
  },
  {
   "cell_type": "markdown",
   "metadata": {},
   "source": [
    "net2a has fimb donating to root <br>\n",
    "net2b is ok <br>\n",
    "net2c fimb changed place <br>\n",
    "net2d is ok also. "
   ]
  },
  {
   "cell_type": "code",
   "execution_count": 45,
   "metadata": {},
   "outputs": [
    {
     "data": {
      "text/html": [
       "<div class=\"toyplot\" id=\"te41004da54664d77b3e68520aea45612\" style=\"text-align:center\"><svg class=\"toyplot-canvas-Canvas\" height=\"500.0px\" id=\"t4b2a0b3a18ca4bbf91c469dfb2a13e2a\" preserveAspectRatio=\"xMidYMid meet\" style=\"background-color:transparent;border-color:#292724;border-style:none;border-width:1.0;fill:rgb(16.1%,15.3%,14.1%);fill-opacity:1.0;font-family:Helvetica;font-size:12px;opacity:1.0;stroke:rgb(16.1%,15.3%,14.1%);stroke-opacity:1.0;stroke-width:1.0\" viewBox=\"0 0 325.0 500.0\" width=\"325.0px\" xmlns=\"http://www.w3.org/2000/svg\" xmlns:toyplot=\"http://www.sandia.gov/toyplot\" xmlns:xlink=\"http://www.w3.org/1999/xlink\"><g class=\"toyplot-coordinates-Cartesian\" id=\"t0827d27e6b374cc5a81a03831281c621\"><clipPath id=\"t1a6b1c3ffa194e289f101af471242fc5\"><rect height=\"440.0\" width=\"265.0\" x=\"30.0\" y=\"30.0\"></rect></clipPath><g clip-path=\"url(#t1a6b1c3ffa194e289f101af471242fc5)\"><g class=\"toytree-mark-Toytree\" id=\"td9d04c324be042659c1867bc12645755\"><g class=\"toytree-Edges\" style=\"fill:none;stroke:rgb(14.9%,14.9%,14.9%);stroke-linecap:round;stroke-opacity:1;stroke-width:2\"><path d=\"M 51.2 207.1 L 51.2 114.8 L 88.7 114.8\" id=\"44,43\"></path><path d=\"M 51.2 207.1 L 51.2 299.4 L 69.9 299.4\" id=\"44,42\"></path><path d=\"M 88.7 114.8 L 88.7 76.8 L 126.2 76.8\" id=\"43,41\"></path><path d=\"M 88.7 114.8 L 88.7 152.7 L 107.4 152.7\" id=\"43,40\"></path><path d=\"M 69.9 299.4 L 69.9 247.9 L 126.2 247.9\" id=\"42,39\"></path><path d=\"M 69.9 299.4 L 69.9 351.0 L 88.7 351.0\" id=\"42,38\"></path><path d=\"M 126.2 76.8 L 126.2 91.8 L 144.9 91.8\" id=\"41,37\"></path><path d=\"M 107.4 152.7 L 107.4 175.2 L 126.2 175.2\" id=\"40,36\"></path><path d=\"M 126.2 247.9 L 126.2 262.8 L 144.9 262.8\" id=\"39,35\"></path><path d=\"M 88.7 351.0 L 88.7 316.3 L 126.2 316.3\" id=\"38,34\"></path><path d=\"M 88.7 351.0 L 88.7 385.8 L 107.4 385.8\" id=\"38,33\"></path><path d=\"M 144.9 91.8 L 144.9 104.6 L 163.7 104.6\" id=\"37,32\"></path><path d=\"M 126.2 175.2 L 126.2 155.9 L 163.7 155.9\" id=\"36,31\"></path><path d=\"M 126.2 175.2 L 126.2 194.4 L 144.9 194.4\" id=\"36,30\"></path><path d=\"M 144.9 262.8 L 144.9 275.7 L 163.7 275.7\" id=\"35,29\"></path><path d=\"M 126.2 316.3 L 126.2 331.2 L 144.9 331.2\" id=\"34,28\"></path><path d=\"M 107.4 385.8 L 107.4 401.8 L 126.2 401.8\" id=\"33,27\"></path><path d=\"M 144.9 194.4 L 144.9 207.2 L 163.7 207.2\" id=\"30,26\"></path><path d=\"M 144.9 331.2 L 144.9 344.1 L 163.7 344.1\" id=\"28,25\"></path><path d=\"M 126.2 401.8 L 126.2 416.8 L 144.9 416.8\" id=\"27,24\"></path><path d=\"M 144.9 416.8 L 144.9 429.6 L 163.7 429.6\" id=\"24,23\"></path><path d=\"M 126.2 76.8 L 126.2 61.9 L 182.4 61.9\" id=\"41,22\"></path><path d=\"M 144.9 91.8 L 144.9 79.0 L 182.4 79.0\" id=\"37,21\"></path><path d=\"M 163.7 104.6 L 163.7 96.1 L 182.4 96.1\" id=\"32,20\"></path><path d=\"M 163.7 104.6 L 163.7 113.2 L 182.4 113.2\" id=\"32,19\"></path><path d=\"M 107.4 152.7 L 107.4 130.3 L 182.4 130.3\" id=\"40,18\"></path><path d=\"M 163.7 155.9 L 163.7 147.4 L 182.4 147.4\" id=\"31,17\"></path><path d=\"M 163.7 155.9 L 163.7 164.5 L 182.4 164.5\" id=\"31,16\"></path><path d=\"M 144.9 194.4 L 144.9 181.6 L 182.4 181.6\" id=\"30,15\"></path><path d=\"M 163.7 207.2 L 163.7 198.7 L 182.4 198.7\" id=\"26,14\"></path><path d=\"M 163.7 207.2 L 163.7 215.8 L 182.4 215.8\" id=\"26,13\"></path><path d=\"M 126.2 247.9 L 126.2 232.9 L 182.4 232.9\" id=\"39,12\"></path><path d=\"M 144.9 262.8 L 144.9 250.0 L 182.4 250.0\" id=\"35,11\"></path><path d=\"M 163.7 275.7 L 163.7 267.1 L 182.4 267.1\" id=\"29,10\"></path><path d=\"M 163.7 275.7 L 163.7 284.2 L 182.4 284.2\" id=\"29,9\"></path><path d=\"M 126.2 316.3 L 126.2 301.3 L 182.4 301.3\" id=\"34,8\"></path><path d=\"M 144.9 331.2 L 144.9 318.4 L 182.4 318.4\" id=\"28,7\"></path><path d=\"M 163.7 344.1 L 163.7 335.5 L 182.4 335.5\" id=\"25,6\"></path><path d=\"M 163.7 344.1 L 163.7 352.6 L 182.4 352.6\" id=\"25,5\"></path><path d=\"M 107.4 385.8 L 107.4 369.7 L 182.4 369.7\" id=\"33,4\"></path><path d=\"M 126.2 401.8 L 126.2 386.8 L 182.4 386.8\" id=\"27,3\"></path><path d=\"M 144.9 416.8 L 144.9 403.9 L 182.4 403.9\" id=\"24,2\"></path><path d=\"M 163.7 429.6 L 163.7 421.0 L 182.4 421.0\" id=\"23,1\"></path><path d=\"M 163.7 429.6 L 163.7 438.1 L 182.4 438.1\" id=\"23,0\"></path></g><g class=\"toytree-AdmixEdges\" style=\"fill:none;font-size:14px;stroke:rgba(90.6%,54.1%,76.5%,1.000);stroke-linecap:round;stroke-opacity:0.6;stroke-width:5\"><path d=\"M 182.4 130.3 L 144.9 130.3 L 60.5 299.4 L 51.2 299.4\" style=\"stroke:rgb(98.8%,55.3%,38.4%);stroke-opacity:0.7\"></path><text style=\"fill:#262626;fill-opacity:1.0;stroke:none;stroke-opacity:0.7;text-anchor:middle\" x=\"102.73\" y=\"226.86\">0.282</text><path d=\"M 182.4 232.9 L 154.3 232.9 L 98.0 385.8 L 88.7 385.8\" style=\"stroke:rgb(55.3%,62.7%,79.6%);stroke-opacity:0.7\"></path><text style=\"fill:#262626;fill-opacity:1.0;stroke:none;stroke-opacity:0.7;text-anchor:middle\" x=\"126.16\" y=\"321.33\">0.373</text></g><g class=\"toytree-TipLabels\" style=\"fill:rgb(14.9%,14.9%,14.9%);fill-opacity:1.0;font-family:helvetica;font-size:11px;font-weight:normal;stroke:none;white-space:pre\"><g transform=\"translate(182.41,438.15)rotate(0)\"><text style=\"\" x=\"15.00\" y=\"2.81\">caudatus</text></g><g transform=\"translate(182.41,421.04)rotate(0)\"><text style=\"\" x=\"15.00\" y=\"2.81\">quitensis</text></g><g transform=\"translate(182.41,403.94)rotate(0)\"><text style=\"\" x=\"15.00\" y=\"2.81\">hybridus</text></g><g transform=\"translate(182.41,386.83)rotate(0)\"><text style=\"\" x=\"15.00\" y=\"2.81\">hypochondriacus</text></g><g transform=\"translate(182.41,369.73)rotate(0)\"><text style=\"\" x=\"15.00\" y=\"2.81\">cruentus</text></g><g transform=\"translate(182.41,352.63)rotate(0)\"><text style=\"\" x=\"15.00\" y=\"2.81\">wrightii</text></g><g transform=\"translate(182.41,335.52)rotate(0)\"><text style=\"\" x=\"15.00\" y=\"2.81\">retroflexus</text></g><g transform=\"translate(182.41,318.42)rotate(0)\"><text style=\"\" x=\"15.00\" y=\"2.81\">powellii</text></g><g transform=\"translate(182.41,301.31)rotate(0)\"><text style=\"\" x=\"15.00\" y=\"2.81\">acutilobus</text></g><g transform=\"translate(182.41,284.21)rotate(0)\"><text style=\"\" x=\"15.00\" y=\"2.81\">palmeri</text></g><g transform=\"translate(182.41,267.10)rotate(0)\"><text style=\"\" x=\"15.00\" y=\"2.81\">watsonii</text></g><g transform=\"translate(182.41,250.00)rotate(0)\"><text style=\"\" x=\"15.00\" y=\"2.81\">spinosus</text></g><g transform=\"translate(182.41,232.90)rotate(0)\"><text style=\"\" x=\"15.00\" y=\"2.81\">dubius</text></g><g transform=\"translate(182.41,215.79)rotate(0)\"><text style=\"\" x=\"15.00\" y=\"2.81\">tricolor</text></g><g transform=\"translate(182.41,198.69)rotate(0)\"><text style=\"\" x=\"15.00\" y=\"2.81\">blitum</text></g><g transform=\"translate(182.41,181.58)rotate(0)\"><text style=\"\" x=\"15.00\" y=\"2.81\">viridis</text></g><g transform=\"translate(182.41,164.48)rotate(0)\"><text style=\"\" x=\"15.00\" y=\"2.81\">blitoides</text></g><g transform=\"translate(182.41,147.37)rotate(0)\"><text style=\"\" x=\"15.00\" y=\"2.81\">albus</text></g><g transform=\"translate(182.41,130.27)rotate(0)\"><text style=\"\" x=\"15.00\" y=\"2.81\">fimbriatus</text></g><g transform=\"translate(182.41,113.17)rotate(0)\"><text style=\"\" x=\"15.00\" y=\"2.81\">arenicola</text></g><g transform=\"translate(182.41,96.06)rotate(0)\"><text style=\"\" x=\"15.00\" y=\"2.81\">tuberculatus</text></g><g transform=\"translate(182.41,78.96)rotate(0)\"><text style=\"\" x=\"15.00\" y=\"2.81\">pumilus</text></g><g transform=\"translate(182.41,61.85)rotate(0)\"><text style=\"\" x=\"15.00\" y=\"2.81\">cannabinus</text></g></g></g></g></g></svg><div class=\"toyplot-behavior\"><script>(function()\n",
       "{\n",
       "var modules={};\n",
       "})();</script></div></div>"
      ]
     },
     "metadata": {},
     "output_type": "display_data"
    }
   ],
   "source": [
    "#get tree and admix scenario\n",
    "tree, admix = toytree.utils.parse_network(net2b)\n",
    "\n",
    "#re-root the tree on node 32\n",
    "rtree = tree.root([\"palmeri\",\"watsonii\",\"spinosus\",\"dubius\",\"caudatus\",\"quitensis\",\"hybridus\",\"hypochondriacus\",\n",
    "             \"cruentus\",\"acutilobus\",\"wrightii\",\"retroflexus\",\"powellii\"])\n",
    "\n",
    "#draw network\n",
    "rtree.draw(\n",
    "    #ts='o',\n",
    "    height=500,\n",
    "    use_edge_lengths=False,\n",
    "    admixture_edges=admix.values(),\n",
    ");"
   ]
  },
  {
   "cell_type": "code",
   "execution_count": 101,
   "metadata": {},
   "outputs": [],
   "source": [
    "net3a = \"\"\"\n",
    "(albus,blitoides,((viridis,(blitum,tricolor):0.540346990512565):1.6509687520693368,((((cannabinus,(tuberculatus,(arenicola,#H26:::0.48337690941962685):0.7331176602811824):0.8779297106992698):0.46010553103694257,(pumilus)#H26:::0.5166230905803731):1.014191311851972,((((acutilobus,(powellii,(retroflexus,wrightii):1.0239826480124428):0.4474097384606167):0.2931753856771962,((cruentus,(hypochondriacus,((quitensis,caudatus):0.9184638645027967,hybridus):0.17279443506297631):0.12284644372918146):0.23242921021387802,#H24:::0.3735979082983974):0.6768122238754367):2.055922276606329,((spinosus,(watsonii,palmeri):0.4140832420919012):0.3455761313631261,(dubius)#H24:::0.6264020917016027):1.5190182112080288):1.6649608324926892)#H25:2.1767582550722513::0.7775171972352242):1.0500339748300132,(fimbriatus,#H25:9.711727128757287::0.22248280276477578):1.0548710664489243):0.5096153069459686):1.7568081899104921);, with -loglik 5910.867104435569 (best network found, remaining sorted by log-pseudolik; the smaller, the better)\n",
    "        \"\"\".strip().replace(\"\\n\",\"\")\n",
    "\n",
    "net3b = \"\"\"\n",
    "(albus,blitoides,((viridis,(blitum,tricolor):0.5192999226026035):1.6567440796354411,((((cannabinus,(tuberculatus,(arenicola,(pumilus)#H26:::0.5202385592608222):0.49455336009915496):0.8899469937395856):0.5239412171885546,#H26:::0.4797614407391778):1.1037075729639472,(#H25:::0.3128591556398612,(((acutilobus,(powellii,(retroflexus,wrightii):1.0166174968919988):0.45798709359244344):0.2919683480822406,((cruentus,(hypochondriacus,((quitensis,caudatus):0.9658878619861118,hybridus):0.1568867077021364):0.09857797076855719):0.28409213370576114,#H24:::0.38097032531318326):0.6338488783753279):2.0555380048586196,((spinosus,(watsonii,palmeri):0.3921580491418098):0.2785060042350282,(dubius)#H24:::0.6190296746868167):1.5723916435651066):1.695432524387974):0.5912967782096834):1.0872933836072487,(fimbriatus)#H25:::0.6871408443601388):0.22113287884842078):1.7678262806229077);, with -loglik 6027.9608063108535\n",
    " \"\"\".strip().replace(\"\\n\",\"\")\n",
    "\n",
    "net3c = \"\"\"\n",
    "((cannabinus,(((((viridis,(blitum,tricolor):0.5598580723641974):1.6342580449745225,(albus,blitoides):1.762291628816412):0.7105265954271636)#H25:1.490283736398651::0.5154222628620223,((fimbriatus,#H25:0.0::0.4845777371379777):9.66186195312319,(((acutilobus,(powellii,(retroflexus,wrightii):1.0355886098385094):0.4483900496167808):0.29171254531589313,((cruentus,(hypochondriacus,((quitensis,caudatus):0.9226985219838715,hybridus):0.16534146206391342):0.11645386789464487):0.23614855764224493,#H24:::0.372608169067222):0.6805754877759829):2.0542219768582806,((spinosus,(watsonii,palmeri):0.4472735923295439):0.3235885129046524,(dubius)#H24:::0.627391830932778):1.5266302960490092):2.1016578940873565):0.3246097772408787):0.9856208522872187,#H26:::0.4918468695412228):0.5156606555007062):0.8369919768876357,tuberculatus,(arenicola,(pumilus)#H26:::0.5081531304587772):0.7622737453713423);, with -loglik 6089.8302507135995\n",
    " \"\"\".strip().replace(\"\\n\",\"\")\n",
    "\n",
    "net3d = \"\"\"\n",
    "(albus,blitoides,((viridis,(blitum,tricolor):0.5400347345887997):1.6612498083498255,((((cannabinus,#H26:::0.2268214119367271):0.9480088180394426,(pumilus,((tuberculatus)#H26:::0.7731785880632729,arenicola):0.4021515291869082):0.5633956950417776):1.2240063508730916,((((acutilobus,(powellii,(retroflexus,wrightii):1.022446780487016):0.43857810097171274):0.3012856649765009,((cruentus,(hypochondriacus,((quitensis,caudatus):0.8897148886844714,hybridus):0.15906815484557618):0.12023809613397225):0.28063726289089036,#H24:::0.38092939339525395):0.6355380479031648):2.063132833567368,((spinosus,(watsonii,palmeri):0.4023624369221033):0.3137000945881665,(dubius)#H24:::0.619070606604746):1.5550227302851203):1.8028736701681398)#H25:1.8969459836708442::0.7304401853895843):1.183828535644284,(fimbriatus,#H25:9.640208816395827::0.2695598146104156):0.7856161514382308):0.5095163468000732):1.823040411182828);, with -loglik 6134.424657869952\n",
    " \"\"\".strip().replace(\"\\n\",\"\")\n",
    "\n",
    "net3e = \"\"\"\n",
    "(albus,blitoides,((viridis,(blitum,tricolor):0.5461927674265443):1.6590178731804512,((((cannabinus,(tuberculatus,#H26:::0.4775626147726614):3.0546330868222618):0.1325263451350972,(pumilus,(arenicola)#H26:::0.5224373852273386):0.4584564881474557):1.3900730516545334,((((acutilobus,(powellii,(retroflexus,wrightii):1.021322280578072):0.4398574879608296):0.30969902291475704,((cruentus,(hypochondriacus,((quitensis,caudatus):0.9016631154463578,hybridus):0.17135363913947138):0.12114822989789524):0.24307562344259856,#H24:::0.3768560162817221):0.6667781440272857):2.058023938197707,((spinosus,(watsonii,palmeri):0.3862706601665027):0.3111276898980296,(dubius)#H24:::0.623143983718278):1.5590017553727056):1.6256108520619872)#H25:2.278164861445724::0.7860196394576999):1.032889781625448,(fimbriatus,#H25:9.682599096103056::0.21398036054230005):0.9948112202534819):0.5091454555278131):1.77290814009072);, with -loglik 6176.60236618356\n",
    " \"\"\".strip().replace(\"\\n\",\"\")\n",
    "\n",
    "net3f = \"\"\"\n",
    "(albus,blitoides,((viridis,(blitum,tricolor):0.5134162727163476):1.6506084087999047,((((cannabinus)#H26:::0.7403187482590636,(pumilus,((#H26:::0.2596812517409364,tuberculatus):0.7848370871369884,arenicola):0.19342027100671283):0.6315387005281742):1.1391549099229588,((((acutilobus,(powellii,(retroflexus,wrightii):1.0315459231815638):0.4469377458732707):0.2926978929022536,((cruentus,(hypochondriacus,((quitensis,caudatus):0.8979798993314844,hybridus):0.14843096675340356):0.13179310183570603):0.2426743534181909,#H24:::0.37373589163895815):0.6732316377287624):2.0603444955784593,((spinosus,(watsonii,palmeri):0.43320197273494404):0.3529059975509474,(dubius)#H24:::0.6262641083610418):1.5279594596164099):1.5983085346930999)#H25:2.851559467087496::0.7840913169649049):1.025653947485944,(fimbriatus,#H25:9.736893222212931::0.21590868303509514):1.1850743564625936):0.5111536973418632):1.7379885964785846);, with -loglik 6234.708398432103\n",
    " \"\"\".strip().replace(\"\\n\",\"\")\n",
    "\n",
    "net3g = \"\"\"\n",
    "((cannabinus,#H26:0.6231837724028727::0.4312086020733147):2.6191866255827323,tuberculatus,(arenicola,(pumilus,(((((viridis,(blitum,tricolor):0.5405202612307829):1.6326330153958788,(albus,blitoides):1.7402499800138675):0.5001228814559557,(fimbriatus,#H25:9.608972047990045::0.22944439246082224):1.0404804120420077):1.085572803173264,((((acutilobus,(powellii,(retroflexus,wrightii):1.0068866703221253):0.4482293867074701):0.29304857040205995,((cruentus,(hypochondriacus,((quitensis,caudatus):0.9103534271112812,hybridus):0.19860724679042155):0.09303090880716493):0.24306278220812302,#H24:::0.3729555507731158):0.6778247796964038):2.0547619067733955,((spinosus,(watsonii,palmeri):0.42555734115503474):0.3438694978943512,(dubius)#H24:::0.6270444492268842):1.5140879668686382):1.6439870712288904)#H25:2.7024498516162376::0.7705556075391777):1.4942549023143459)#H26:0.0::0.5687913979266853):0.3159421612660805):0.21018389505421747);, with -loglik 6277.528179686245\n",
    " \"\"\".strip().replace(\"\\n\",\"\")"
   ]
  },
  {
   "cell_type": "markdown",
   "metadata": {},
   "source": [
    "net3a: species donate to themselves (maybe best?)<br>\n",
    "net3b: ok except tub <br>\n",
    "net3c: ok but not same edges as net2 <br>\n",
    "net3d: donate to themselves -- maybe this is best?? <br>\n",
    "net3e: \" <br>\n",
    "net3f: \" <br>\n",
    "net3g: \" <br>"
   ]
  },
  {
   "cell_type": "code",
   "execution_count": 105,
   "metadata": {},
   "outputs": [
    {
     "data": {
      "text/html": [
       "<div class=\"toyplot\" id=\"t1e13f94ea01140c2968312d66b903bc0\" style=\"text-align:center\"><svg class=\"toyplot-canvas-Canvas\" height=\"500.0px\" id=\"ta47d0f9ce6524382aac1a67c345ba8bb\" preserveAspectRatio=\"xMidYMid meet\" style=\"background-color:transparent;border-color:#292724;border-style:none;border-width:1.0;fill:rgb(16.1%,15.3%,14.1%);fill-opacity:1.0;font-family:Helvetica;font-size:12px;opacity:1.0;stroke:rgb(16.1%,15.3%,14.1%);stroke-opacity:1.0;stroke-width:1.0\" viewBox=\"0 0 325.0 500.0\" width=\"325.0px\" xmlns=\"http://www.w3.org/2000/svg\" xmlns:toyplot=\"http://www.sandia.gov/toyplot\" xmlns:xlink=\"http://www.w3.org/1999/xlink\"><g class=\"toyplot-coordinates-Cartesian\" id=\"t9c45c24cda754019a13c65b3b500622f\"><clipPath id=\"t1a62a9cda0ba412580a261c196bd5d3b\"><rect height=\"440.0\" width=\"265.0\" x=\"30.0\" y=\"30.0\"></rect></clipPath><g clip-path=\"url(#t1a62a9cda0ba412580a261c196bd5d3b)\"><g class=\"toytree-mark-Toytree\" id=\"t7127d9006d50408eb8cae207c4df1dbe\"><g class=\"toytree-Edges\" style=\"fill:none;stroke:rgb(14.9%,14.9%,14.9%);stroke-linecap:round;stroke-opacity:1;stroke-width:2\"><path d=\"M 51.2 207.1 L 51.2 114.8 L 88.7 114.8\" id=\"44,43\"></path><path d=\"M 51.2 207.1 L 51.2 299.4 L 69.9 299.4\" id=\"44,42\"></path><path d=\"M 88.7 114.8 L 88.7 76.8 L 126.2 76.8\" id=\"43,41\"></path><path d=\"M 88.7 114.8 L 88.7 152.7 L 107.4 152.7\" id=\"43,40\"></path><path d=\"M 69.9 299.4 L 69.9 247.9 L 126.2 247.9\" id=\"42,39\"></path><path d=\"M 69.9 299.4 L 69.9 351.0 L 88.7 351.0\" id=\"42,38\"></path><path d=\"M 126.2 76.8 L 126.2 91.8 L 144.9 91.8\" id=\"41,37\"></path><path d=\"M 107.4 152.7 L 107.4 175.2 L 126.2 175.2\" id=\"40,36\"></path><path d=\"M 126.2 247.9 L 126.2 262.8 L 144.9 262.8\" id=\"39,35\"></path><path d=\"M 88.7 351.0 L 88.7 316.3 L 126.2 316.3\" id=\"38,34\"></path><path d=\"M 88.7 351.0 L 88.7 385.8 L 107.4 385.8\" id=\"38,33\"></path><path d=\"M 144.9 91.8 L 144.9 104.6 L 163.7 104.6\" id=\"37,32\"></path><path d=\"M 126.2 175.2 L 126.2 155.9 L 163.7 155.9\" id=\"36,31\"></path><path d=\"M 126.2 175.2 L 126.2 194.4 L 144.9 194.4\" id=\"36,30\"></path><path d=\"M 144.9 262.8 L 144.9 275.7 L 163.7 275.7\" id=\"35,29\"></path><path d=\"M 126.2 316.3 L 126.2 331.2 L 144.9 331.2\" id=\"34,28\"></path><path d=\"M 107.4 385.8 L 107.4 401.8 L 126.2 401.8\" id=\"33,27\"></path><path d=\"M 144.9 194.4 L 144.9 207.2 L 163.7 207.2\" id=\"30,26\"></path><path d=\"M 144.9 331.2 L 144.9 344.1 L 163.7 344.1\" id=\"28,25\"></path><path d=\"M 126.2 401.8 L 126.2 416.8 L 144.9 416.8\" id=\"27,24\"></path><path d=\"M 144.9 416.8 L 144.9 429.6 L 163.7 429.6\" id=\"24,23\"></path><path d=\"M 126.2 76.8 L 126.2 61.9 L 182.4 61.9\" id=\"41,22\"></path><path d=\"M 144.9 91.8 L 144.9 79.0 L 182.4 79.0\" id=\"37,21\"></path><path d=\"M 163.7 104.6 L 163.7 96.1 L 182.4 96.1\" id=\"32,20\"></path><path d=\"M 163.7 104.6 L 163.7 113.2 L 182.4 113.2\" id=\"32,19\"></path><path d=\"M 107.4 152.7 L 107.4 130.3 L 182.4 130.3\" id=\"40,18\"></path><path d=\"M 163.7 155.9 L 163.7 147.4 L 182.4 147.4\" id=\"31,17\"></path><path d=\"M 163.7 155.9 L 163.7 164.5 L 182.4 164.5\" id=\"31,16\"></path><path d=\"M 144.9 194.4 L 144.9 181.6 L 182.4 181.6\" id=\"30,15\"></path><path d=\"M 163.7 207.2 L 163.7 198.7 L 182.4 198.7\" id=\"26,14\"></path><path d=\"M 163.7 207.2 L 163.7 215.8 L 182.4 215.8\" id=\"26,13\"></path><path d=\"M 126.2 247.9 L 126.2 232.9 L 182.4 232.9\" id=\"39,12\"></path><path d=\"M 144.9 262.8 L 144.9 250.0 L 182.4 250.0\" id=\"35,11\"></path><path d=\"M 163.7 275.7 L 163.7 267.1 L 182.4 267.1\" id=\"29,10\"></path><path d=\"M 163.7 275.7 L 163.7 284.2 L 182.4 284.2\" id=\"29,9\"></path><path d=\"M 126.2 316.3 L 126.2 301.3 L 182.4 301.3\" id=\"34,8\"></path><path d=\"M 144.9 331.2 L 144.9 318.4 L 182.4 318.4\" id=\"28,7\"></path><path d=\"M 163.7 344.1 L 163.7 335.5 L 182.4 335.5\" id=\"25,6\"></path><path d=\"M 163.7 344.1 L 163.7 352.6 L 182.4 352.6\" id=\"25,5\"></path><path d=\"M 107.4 385.8 L 107.4 369.7 L 182.4 369.7\" id=\"33,4\"></path><path d=\"M 126.2 401.8 L 126.2 386.8 L 182.4 386.8\" id=\"27,3\"></path><path d=\"M 144.9 416.8 L 144.9 403.9 L 182.4 403.9\" id=\"24,2\"></path><path d=\"M 163.7 429.6 L 163.7 421.0 L 182.4 421.0\" id=\"23,1\"></path><path d=\"M 163.7 429.6 L 163.7 438.1 L 182.4 438.1\" id=\"23,0\"></path></g><g class=\"toytree-AdmixEdges\" style=\"fill:none;font-size:14px;stroke:rgba(90.6%,54.1%,76.5%,1.000);stroke-linecap:round;stroke-opacity:0.6;stroke-width:5\"><path d=\"M 182.4 232.9 L 154.3 232.9 L 98.0 385.8 L 88.7 385.8\" style=\"stroke:rgb(98.8%,55.3%,38.4%);stroke-opacity:0.7\"></path><text style=\"fill:#262626;fill-opacity:1.0;stroke:none;stroke-opacity:0.7;text-anchor:middle\" x=\"126.16\" y=\"321.33\">0.381</text><path d=\"M 182.4 113.2 L 173.0 113.2 L 173.0 61.9 L 126.2 61.9\" style=\"stroke:rgb(55.3%,62.7%,79.6%);stroke-opacity:0.7\"></path><text style=\"fill:#262626;fill-opacity:1.0;stroke:none;stroke-opacity:0.7;text-anchor:middle\" x=\"173.03\" y=\"99.51\">0.227</text><path d=\"M 88.7 114.8 L 69.9 114.8 L 144.9 130.3 L 107.4 130.3\" style=\"stroke:rgb(90.6%,54.1%,76.5%);stroke-opacity:0.7\"></path><text style=\"fill:#262626;fill-opacity:1.0;stroke:none;stroke-opacity:0.7;text-anchor:middle\" x=\"107.41\" y=\"134.52\">0.27</text></g><g class=\"toytree-TipLabels\" style=\"fill:rgb(14.9%,14.9%,14.9%);fill-opacity:1.0;font-family:helvetica;font-size:11px;font-weight:normal;stroke:none;white-space:pre\"><g transform=\"translate(182.41,438.15)rotate(0)\"><text style=\"\" x=\"15.00\" y=\"2.81\">caudatus</text></g><g transform=\"translate(182.41,421.04)rotate(0)\"><text style=\"\" x=\"15.00\" y=\"2.81\">quitensis</text></g><g transform=\"translate(182.41,403.94)rotate(0)\"><text style=\"\" x=\"15.00\" y=\"2.81\">hybridus</text></g><g transform=\"translate(182.41,386.83)rotate(0)\"><text style=\"\" x=\"15.00\" y=\"2.81\">hypochondriacus</text></g><g transform=\"translate(182.41,369.73)rotate(0)\"><text style=\"\" x=\"15.00\" y=\"2.81\">cruentus</text></g><g transform=\"translate(182.41,352.63)rotate(0)\"><text style=\"\" x=\"15.00\" y=\"2.81\">wrightii</text></g><g transform=\"translate(182.41,335.52)rotate(0)\"><text style=\"\" x=\"15.00\" y=\"2.81\">retroflexus</text></g><g transform=\"translate(182.41,318.42)rotate(0)\"><text style=\"\" x=\"15.00\" y=\"2.81\">powellii</text></g><g transform=\"translate(182.41,301.31)rotate(0)\"><text style=\"\" x=\"15.00\" y=\"2.81\">acutilobus</text></g><g transform=\"translate(182.41,284.21)rotate(0)\"><text style=\"\" x=\"15.00\" y=\"2.81\">palmeri</text></g><g transform=\"translate(182.41,267.10)rotate(0)\"><text style=\"\" x=\"15.00\" y=\"2.81\">watsonii</text></g><g transform=\"translate(182.41,250.00)rotate(0)\"><text style=\"\" x=\"15.00\" y=\"2.81\">spinosus</text></g><g transform=\"translate(182.41,232.90)rotate(0)\"><text style=\"\" x=\"15.00\" y=\"2.81\">dubius</text></g><g transform=\"translate(182.41,215.79)rotate(0)\"><text style=\"\" x=\"15.00\" y=\"2.81\">tricolor</text></g><g transform=\"translate(182.41,198.69)rotate(0)\"><text style=\"\" x=\"15.00\" y=\"2.81\">blitum</text></g><g transform=\"translate(182.41,181.58)rotate(0)\"><text style=\"\" x=\"15.00\" y=\"2.81\">viridis</text></g><g transform=\"translate(182.41,164.48)rotate(0)\"><text style=\"\" x=\"15.00\" y=\"2.81\">blitoides</text></g><g transform=\"translate(182.41,147.37)rotate(0)\"><text style=\"\" x=\"15.00\" y=\"2.81\">albus</text></g><g transform=\"translate(182.41,130.27)rotate(0)\"><text style=\"\" x=\"15.00\" y=\"2.81\">fimbriatus</text></g><g transform=\"translate(182.41,113.17)rotate(0)\"><text style=\"\" x=\"15.00\" y=\"2.81\">tuberculatus</text></g><g transform=\"translate(182.41,96.06)rotate(0)\"><text style=\"\" x=\"15.00\" y=\"2.81\">arenicola</text></g><g transform=\"translate(182.41,78.96)rotate(0)\"><text style=\"\" x=\"15.00\" y=\"2.81\">pumilus</text></g><g transform=\"translate(182.41,61.85)rotate(0)\"><text style=\"\" x=\"15.00\" y=\"2.81\">cannabinus</text></g></g></g></g></g></svg><div class=\"toyplot-behavior\"><script>(function()\n",
       "{\n",
       "var modules={};\n",
       "})();</script></div></div>"
      ]
     },
     "metadata": {},
     "output_type": "display_data"
    }
   ],
   "source": [
    "#get tree and admix scenario\n",
    "tree, admix = toytree.utils.parse_network(net3d)\n",
    "\n",
    "#re-root the tree on node 32\n",
    "rtree = tree.root([\"palmeri\",\"watsonii\",\"spinosus\",\"dubius\",\"caudatus\",\"quitensis\",\"hybridus\",\"hypochondriacus\",\n",
    "             \"cruentus\",\"acutilobus\",\"wrightii\",\"retroflexus\",\"powellii\"])\n",
    "\n",
    "#draw network\n",
    "rtree.draw(\n",
    "    #ts='o',\n",
    "    height=500,\n",
    "    use_edge_lengths=False,\n",
    "    admixture_edges=admix.values(),\n",
    ");"
   ]
  },
  {
   "cell_type": "code",
   "execution_count": 78,
   "metadata": {},
   "outputs": [],
   "source": [
    "color_dict = {\n",
    "\"quitensis\": \"orange\",# 'quitensis',\n",
    "\"caudatus\": \"orange\",# 'caudatus',\n",
    "\"hypochondriacus\": \"orange\",# 'hypochondriacus',\n",
    "\"reference\": \"orange\",\n",
    "\"hybridus\": \"orange\",# 'hybridus',\n",
    "\"cruentus\": \"orange\",# 'cruentus',\n",
    "\"wrightii\": \"orange\",# 'wrightii',\n",
    "\"retroflexus\": \"orange\",# 'retroflexus',\n",
    "\"powellii\": \"orange\",# 'powellii',\n",
    "\"acutilobus\": \"orange\",# 'acutilobus',\n",
    "\"watsonii\": \"orange\",# 'watsonii',\n",
    "\"palmeri\": \"orange\",# 'palmeri',\n",
    "\"spinosus\": \"orange\",# 'spinosus',\n",
    "\"dubius\": \"orange\",# 'dubius',\n",
    "\"arenicola\": \"blue\",# 'arenicola',\n",
    "\"greggii\": \"blue\",# 'greggii',\n",
    "\"acanthochiton\": \"blue\",# 'acanthochiton',\n",
    "\"pumilus\": \"blue\",# 'pumilus',\n",
    "\"floridanus\": \"blue\",# 'floridanus',\n",
    "\"tuberculatus\": \"blue\",# 'tuberculatus',\n",
    "\"cannabinus\": \"blue\",# 'cannabinus',\n",
    "\"australis\": \"blue\",# 'australis',\n",
    "\"viridis\": \"red\",# 'viridis',\n",
    "\"deflexus\": \"red\",# 'deflexus',\n",
    "\"muricatus\": \"red\",# 'muricatus',\n",
    "\"standleyanus\": \"red\",# 'standleyanus',\n",
    "\"asplundii\": \"purple\",# 'asplundii',\n",
    "\"graecizans\": \"purple\",# 'graecizans',\n",
    "\"tricolor\": \"purple\",# 'tricolor',\n",
    "\"blitum\": \"purple\",# 'blitum',\n",
    "\"albus\": \"green\",# 'albus',\n",
    "\"californicus\": \"green\",# 'californicus',\n",
    "\"blitoides\": \"green\",# 'blitoides',\n",
    "\"torreyi\": \"green\",# 'torreyi',\n",
    "\"crassipes\": \"green\",# 'crassipes',\n",
    "\"tamaulipensis\": \"green\",# 'tamaulipensis',\n",
    "\"fimbriatus\": \"green\",# 'fimbriatus',\n",
    "\"tucsonensis\": \"green\",# 'tucsonensis',\n",
    "\"beet\": \"black\",# 'quinoa'\n",
    "\"unknown\": \"black\",\n",
    "}"
   ]
  },
  {
   "cell_type": "code",
   "execution_count": 106,
   "metadata": {},
   "outputs": [
    {
     "data": {
      "text/html": [
       "<div class=\"toyplot\" id=\"td72b4319ed4247ee9c7031c5c744e602\" style=\"text-align:center\"><svg class=\"toyplot-canvas-Canvas\" height=\"600.0px\" id=\"t99aa675e31564cf2a7e88466260009d3\" preserveAspectRatio=\"xMidYMid meet\" style=\"background-color:transparent;border-color:#292724;border-style:none;border-width:1.0;fill:rgb(16.1%,15.3%,14.1%);fill-opacity:1.0;font-family:Helvetica;font-size:12px;opacity:1.0;stroke:rgb(16.1%,15.3%,14.1%);stroke-opacity:1.0;stroke-width:1.0\" viewBox=\"0 0 400.0 600.0\" width=\"400.0px\" xmlns=\"http://www.w3.org/2000/svg\" xmlns:toyplot=\"http://www.sandia.gov/toyplot\" xmlns:xlink=\"http://www.w3.org/1999/xlink\"><g class=\"toyplot-coordinates-Cartesian\" id=\"tf5d192f6e04c4fbd9b1e87f9083feea6\"><clipPath id=\"tfb1fdea60e1a41c7acc39a8a39455f16\"><rect height=\"540.0\" width=\"340.0\" x=\"30.0\" y=\"30.0\"></rect></clipPath><g clip-path=\"url(#tfb1fdea60e1a41c7acc39a8a39455f16)\"><g class=\"toytree-mark-Toytree\" id=\"t18f157510da249ef9d8a614be6a3588c\"><g class=\"toytree-Edges\" style=\"fill:none;stroke:rgb(14.9%,14.9%,14.9%);stroke-linecap:round;stroke-opacity:1;stroke-width:2\"><path d=\"M 51.2 246.4 L 51.2 130.9 L 102.8 130.9\" id=\"44,43\"></path><path d=\"M 51.2 246.4 L 51.2 361.8 L 77.0 361.8\" id=\"44,42\"></path><path d=\"M 102.8 130.9 L 102.8 83.4 L 154.4 83.4\" id=\"43,41\"></path><path d=\"M 102.8 130.9 L 102.8 178.3 L 128.6 178.3\" id=\"43,40\"></path><path d=\"M 77.0 361.8 L 77.0 297.3 L 154.4 297.3\" id=\"42,39\"></path><path d=\"M 77.0 361.8 L 77.0 426.3 L 102.8 426.3\" id=\"42,38\"></path><path d=\"M 154.4 83.4 L 154.4 102.1 L 180.2 102.1\" id=\"41,37\"></path><path d=\"M 128.6 178.3 L 128.6 206.4 L 154.4 206.4\" id=\"40,36\"></path><path d=\"M 154.4 297.3 L 154.4 316.0 L 180.2 316.0\" id=\"39,35\"></path><path d=\"M 102.8 426.3 L 102.8 382.9 L 154.4 382.9\" id=\"38,34\"></path><path d=\"M 102.8 426.3 L 102.8 469.8 L 128.6 469.8\" id=\"38,33\"></path><path d=\"M 180.2 102.1 L 180.2 118.2 L 205.9 118.2\" id=\"37,32\"></path><path d=\"M 154.4 206.4 L 154.4 182.3 L 205.9 182.3\" id=\"36,31\"></path><path d=\"M 154.4 206.4 L 154.4 230.5 L 180.2 230.5\" id=\"36,30\"></path><path d=\"M 180.2 316.0 L 180.2 332.1 L 205.9 332.1\" id=\"35,29\"></path><path d=\"M 154.4 382.9 L 154.4 401.6 L 180.2 401.6\" id=\"34,28\"></path><path d=\"M 128.6 469.8 L 128.6 489.9 L 154.4 489.9\" id=\"33,27\"></path><path d=\"M 180.2 230.5 L 180.2 246.5 L 205.9 246.5\" id=\"30,26\"></path><path d=\"M 180.2 401.6 L 180.2 417.7 L 205.9 417.7\" id=\"28,25\"></path><path d=\"M 154.4 489.9 L 154.4 508.6 L 180.2 508.6\" id=\"27,24\"></path><path d=\"M 180.2 508.6 L 180.2 524.6 L 205.9 524.6\" id=\"24,23\"></path><path d=\"M 154.4 83.4 L 154.4 64.7 L 231.7 64.7\" id=\"41,22\"></path><path d=\"M 180.2 102.1 L 180.2 86.1 L 231.7 86.1\" id=\"37,21\"></path><path d=\"M 205.9 118.2 L 205.9 107.5 L 231.7 107.5\" id=\"32,20\"></path><path d=\"M 205.9 118.2 L 205.9 128.9 L 231.7 128.9\" id=\"32,19\"></path><path d=\"M 128.6 178.3 L 128.6 150.3 L 231.7 150.3\" id=\"40,18\"></path><path d=\"M 205.9 182.3 L 205.9 171.6 L 231.7 171.6\" id=\"31,17\"></path><path d=\"M 205.9 182.3 L 205.9 193.0 L 231.7 193.0\" id=\"31,16\"></path><path d=\"M 180.2 230.5 L 180.2 214.4 L 231.7 214.4\" id=\"30,15\"></path><path d=\"M 205.9 246.5 L 205.9 235.8 L 231.7 235.8\" id=\"26,14\"></path><path d=\"M 205.9 246.5 L 205.9 257.2 L 231.7 257.2\" id=\"26,13\"></path><path d=\"M 154.4 297.3 L 154.4 278.6 L 231.7 278.6\" id=\"39,12\"></path><path d=\"M 180.2 316.0 L 180.2 300.0 L 231.7 300.0\" id=\"35,11\"></path><path d=\"M 205.9 332.1 L 205.9 321.4 L 231.7 321.4\" id=\"29,10\"></path><path d=\"M 205.9 332.1 L 205.9 342.8 L 231.7 342.8\" id=\"29,9\"></path><path d=\"M 154.4 382.9 L 154.4 364.2 L 231.7 364.2\" id=\"34,8\"></path><path d=\"M 180.2 401.6 L 180.2 385.6 L 231.7 385.6\" id=\"28,7\"></path><path d=\"M 205.9 417.7 L 205.9 407.0 L 231.7 407.0\" id=\"25,6\"></path><path d=\"M 205.9 417.7 L 205.9 428.4 L 231.7 428.4\" id=\"25,5\"></path><path d=\"M 128.6 469.8 L 128.6 449.7 L 231.7 449.7\" id=\"33,4\"></path><path d=\"M 154.4 489.9 L 154.4 471.1 L 231.7 471.1\" id=\"27,3\"></path><path d=\"M 180.2 508.6 L 180.2 492.5 L 231.7 492.5\" id=\"24,2\"></path><path d=\"M 205.9 524.6 L 205.9 513.9 L 231.7 513.9\" id=\"23,1\"></path><path d=\"M 205.9 524.6 L 205.9 535.3 L 231.7 535.3\" id=\"23,0\"></path></g><g class=\"toytree-AdmixEdges\" style=\"fill:none;font-size:14px;stroke:rgba(90.6%,54.1%,76.5%,1.000);stroke-linecap:round;stroke-opacity:0.6;stroke-width:5\"><path d=\"M 231.7 278.6 L 193.0 278.6 L 115.7 469.8 L 102.8 469.8\" style=\"stroke:rgb(98.8%,55.3%,38.4%);stroke-opacity:0.7\"></path><text style=\"fill:#262626;fill-opacity:1.0;stroke:none;stroke-opacity:0.7;text-anchor:middle\" x=\"154.36\" y=\"386.20\">0.381</text><path d=\"M 231.7 128.9 L 218.8 128.9 L 218.8 64.7 L 154.4 64.7\" style=\"stroke:rgb(55.3%,62.7%,79.6%);stroke-opacity:0.7\"></path><text style=\"fill:#262626;fill-opacity:1.0;stroke:none;stroke-opacity:0.7;text-anchor:middle\" x=\"218.84\" y=\"108.77\">0.227</text><path d=\"M 102.8 130.9 L 77.0 130.9 L 180.2 150.3 L 128.6 150.3\" style=\"stroke:rgb(90.6%,54.1%,76.5%);stroke-opacity:0.7\"></path><text style=\"fill:#262626;fill-opacity:1.0;stroke:none;stroke-opacity:0.7;text-anchor:middle\" x=\"128.57\" y=\"152.56\">0.27</text></g><g class=\"toytree-TipLabels\" style=\"fill:rgb(14.9%,14.9%,14.9%);fill-opacity:1.0;font-family:helvetica;font-size:16px;font-weight:normal;stroke:none;white-space:pre\"><g transform=\"translate(231.73,535.32)rotate(0)\"><text style=\"fill:rgb(100%,64.7%,0%);fill-opacity:1.0\" x=\"15.00\" y=\"4.09\">caudatus</text></g><g transform=\"translate(231.73,513.92)rotate(0)\"><text style=\"fill:rgb(100%,64.7%,0%);fill-opacity:1.0\" x=\"15.00\" y=\"4.09\">quitensis</text></g><g transform=\"translate(231.73,492.53)rotate(0)\"><text style=\"fill:rgb(100%,64.7%,0%);fill-opacity:1.0\" x=\"15.00\" y=\"4.09\">hybridus</text></g><g transform=\"translate(231.73,471.14)rotate(0)\"><text style=\"fill:rgb(100%,64.7%,0%);fill-opacity:1.0\" x=\"15.00\" y=\"4.09\">hypochondriacus</text></g><g transform=\"translate(231.73,449.75)rotate(0)\"><text style=\"fill:rgb(100%,64.7%,0%);fill-opacity:1.0\" x=\"15.00\" y=\"4.09\">cruentus</text></g><g transform=\"translate(231.73,428.35)rotate(0)\"><text style=\"fill:rgb(100%,64.7%,0%);fill-opacity:1.0\" x=\"15.00\" y=\"4.09\">wrightii</text></g><g transform=\"translate(231.73,406.96)rotate(0)\"><text style=\"fill:rgb(100%,64.7%,0%);fill-opacity:1.0\" x=\"15.00\" y=\"4.09\">retroflexus</text></g><g transform=\"translate(231.73,385.57)rotate(0)\"><text style=\"fill:rgb(100%,64.7%,0%);fill-opacity:1.0\" x=\"15.00\" y=\"4.09\">powellii</text></g><g transform=\"translate(231.73,364.18)rotate(0)\"><text style=\"fill:rgb(100%,64.7%,0%);fill-opacity:1.0\" x=\"15.00\" y=\"4.09\">acutilobus</text></g><g transform=\"translate(231.73,342.78)rotate(0)\"><text style=\"fill:rgb(100%,64.7%,0%);fill-opacity:1.0\" x=\"15.00\" y=\"4.09\">palmeri</text></g><g transform=\"translate(231.73,321.39)rotate(0)\"><text style=\"fill:rgb(100%,64.7%,0%);fill-opacity:1.0\" x=\"15.00\" y=\"4.09\">watsonii</text></g><g transform=\"translate(231.73,300.00)rotate(0)\"><text style=\"fill:rgb(100%,64.7%,0%);fill-opacity:1.0\" x=\"15.00\" y=\"4.09\">spinosus</text></g><g transform=\"translate(231.73,278.61)rotate(0)\"><text style=\"fill:rgb(100%,64.7%,0%);fill-opacity:1.0\" x=\"15.00\" y=\"4.09\">dubius</text></g><g transform=\"translate(231.73,257.22)rotate(0)\"><text style=\"fill:rgb(50.2%,0%,50.2%);fill-opacity:1.0\" x=\"15.00\" y=\"4.09\">tricolor</text></g><g transform=\"translate(231.73,235.82)rotate(0)\"><text style=\"fill:rgb(50.2%,0%,50.2%);fill-opacity:1.0\" x=\"15.00\" y=\"4.09\">blitum</text></g><g transform=\"translate(231.73,214.43)rotate(0)\"><text style=\"fill:rgb(100%,0%,0%);fill-opacity:1.0\" x=\"15.00\" y=\"4.09\">viridis</text></g><g transform=\"translate(231.73,193.04)rotate(0)\"><text style=\"fill:rgb(0%,50.2%,0%);fill-opacity:1.0\" x=\"15.00\" y=\"4.09\">blitoides</text></g><g transform=\"translate(231.73,171.65)rotate(0)\"><text style=\"fill:rgb(0%,50.2%,0%);fill-opacity:1.0\" x=\"15.00\" y=\"4.09\">albus</text></g><g transform=\"translate(231.73,150.25)rotate(0)\"><text style=\"fill:rgb(0%,50.2%,0%);fill-opacity:1.0\" x=\"15.00\" y=\"4.09\">fimbriatus</text></g><g transform=\"translate(231.73,128.86)rotate(0)\"><text style=\"fill:rgb(0%,0%,100%);fill-opacity:1.0\" x=\"15.00\" y=\"4.09\">tuberculatus</text></g><g transform=\"translate(231.73,107.47)rotate(0)\"><text style=\"fill:rgb(0%,0%,100%);fill-opacity:1.0\" x=\"15.00\" y=\"4.09\">arenicola</text></g><g transform=\"translate(231.73,86.08)rotate(0)\"><text style=\"fill:rgb(0%,0%,100%);fill-opacity:1.0\" x=\"15.00\" y=\"4.09\">pumilus</text></g><g transform=\"translate(231.73,64.68)rotate(0)\"><text style=\"fill:rgb(0%,0%,100%);fill-opacity:1.0\" x=\"15.00\" y=\"4.09\">cannabinus</text></g></g></g></g></g></svg><div class=\"toyplot-behavior\"><script>(function()\n",
       "{\n",
       "var modules={};\n",
       "})();</script></div></div>"
      ]
     },
     "metadata": {},
     "output_type": "display_data"
    }
   ],
   "source": [
    "#get tree and admix scenario\n",
    "tree, admix = toytree.utils.parse_network(net3d)\n",
    "\n",
    "#re-root the tree on node 32\n",
    "rtree = tree.root([\"palmeri\",\"watsonii\",\"spinosus\",\"dubius\",\"caudatus\",\"quitensis\",\"hybridus\",\"hypochondriacus\",\n",
    "             \"cruentus\",\"acutilobus\",\"wrightii\",\"retroflexus\",\"powellii\"])\n",
    "\n",
    "\n",
    "our_labels = rtree.get_tip_labels()\n",
    "sp_names= [i.split(\"_\")[0].split(\"-\")[0] for i in our_labels]\n",
    "colors = [color_dict[sp] for sp in sp_names]\n",
    "\n",
    "\n",
    "\n",
    "#draw network\n",
    "canvas, axes, mark = rtree.draw(\n",
    "    #ts='o',\n",
    "    use_edge_lengths=False,\n",
    "    admixture_edges=admix.values(),\n",
    "    tip_labels_colors=colors,\n",
    "    tip_labels_style={\"font-size\":\"16px\"},\n",
    "    width=400, height=600,\n",
    ");"
   ]
  },
  {
   "cell_type": "code",
   "execution_count": 107,
   "metadata": {},
   "outputs": [],
   "source": [
    "toyplot.svg.render(canvas, \"/rigel/dsi/users/slh2181/tuberculatus_plate/fimbriatus/snaq/fimb_net3_250kb.svg\")"
   ]
  }
 ],
 "metadata": {
  "kernelspec": {
   "display_name": "Python 3",
   "language": "python",
   "name": "python3"
  },
  "language_info": {
   "codemirror_mode": {
    "name": "ipython",
    "version": 3
   },
   "file_extension": ".py",
   "mimetype": "text/x-python",
   "name": "python",
   "nbconvert_exporter": "python",
   "pygments_lexer": "ipython3",
   "version": "3.7.6"
  }
 },
 "nbformat": 4,
 "nbformat_minor": 4
}
