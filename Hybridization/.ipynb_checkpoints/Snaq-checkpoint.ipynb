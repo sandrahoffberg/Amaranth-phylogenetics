{
 "cells": [
  {
   "cell_type": "markdown",
   "metadata": {},
   "source": [
    "# Snaq with many taxa\n",
    "Last run Sept 15, 2020 <br>"
   ]
  },
  {
   "cell_type": "code",
   "execution_count": 1,
   "metadata": {},
   "outputs": [
    {
     "name": "stdout",
     "output_type": "stream",
     "text": [
      "ipyrad 0.9.57\n"
     ]
    }
   ],
   "source": [
    "import ipyrad as ip\n",
    "import ipyrad.analysis as ipa\n",
    "#import ipyparallel as ipp\n",
    "import toytree\n",
    "import pandas as pd\n",
    "import toyplot.svg\n",
    "\n",
    "# connect to parallel client\n",
    "#ipyclient = ipp.Client()\n",
    "#ip.cluster_info(ipyclient)\n",
    "\n",
    "print('ipyrad', ipa.__version__)"
   ]
  },
  {
   "cell_type": "markdown",
   "metadata": {},
   "source": [
    "Since snaq can only take a few taxa, I will have to run treeslider again. I am trying to run as many species as possible, but not beet  "
   ]
  },
  {
   "cell_type": "code",
   "execution_count": 2,
   "metadata": {},
   "outputs": [],
   "source": [
    "#input data\n",
    "data = \"/rigel/dsi/users/slh2181/tuberculatus_plate/ipyrad/Good_samp_beet_noMaxSNP_outfiles/Good_samp_beet_noMaxSNP.seqs.hdf5\"\n",
    "#set output directory\n",
    "outDIR = \"/rigel/dsi/users/slh2181/tuberculatus_plate/fimbriatus/snaq/\""
   ]
  },
  {
   "cell_type": "code",
   "execution_count": 3,
   "metadata": {},
   "outputs": [],
   "source": [
    "imap={\n",
    " #    \"acanthochiton\": [\"acanthochiton_SLH_AL_0001\",\"acanthochiton_SLH_AL_0002\"],\n",
    "      \"acutilobus\": [\"acutilobus_SLH_AL_0003\",\"acutilobus_SLH_AL_0004\"],\n",
    "      \"albus\": [\"albus_SLH_AL_0006\", \"albus_SLH_AL_0009\", \"albus_SLH_AL_0010\"],\n",
    "      \"arenicola\": [\"arenicola_SLH_AL_0013\",\"arenicola_SLH_AL_0018\",\"arenicola_SLH_AL_0012\",\"arenicola_SLH_AL_0015\"],\n",
    "  #    \"asplundii\": [\"asplundii_SLH_AL_0019\"],\n",
    "  #    \"australis\": [\"australis_SLH_AL_0020\",\"australis_SLH_AL_0021\"],\n",
    "      \"blitoides\": [\"blitoides_SLH_AL_0028\"], #\"blitoides_SLH_AL_0023\",\n",
    "      \"blitum\": [\"blitum-blitum_SLH_AL_0029\", \"blitum-oleraceus_SLH_AL_0034\", \"blitum-pseudogracilis_SLH_AL_0037\"],\n",
    " #     \"californicus\": [\"californicus_SLH_AL_0039\"],\n",
    "      \"cannabinus\": [\"cannabinus_SLH_AL_0040\", \"cannabinus_SLH_AL_0041\"], #\"cannabinus_SLH_AL_0042\"],\n",
    "      \"caudatus\": [\"caudatus_SLH_AL_0102\",\"caudatus_SLH_AL_0110\",\"caudatus_SLH_AL_0116\",\"caudatus_SLH_AL_0322\",\"caudatus_SLH_AL_0540\"],\n",
    " #     \"crassipes\": [\"crassipes_SLH_AL_0599\",\"crassipes_SLH_AL_0600\"],\n",
    "      \"cruentus\": [\"cruentus_SLH_AL_0679\", \"cruentus_SLH_AL_0699\", \"cruentus_SLH_AL_0728\", \"cruentus_SLH_AL_0804\", \n",
    "                   \"cruentus_SLH_AL_0832\", \"hybridus_SLH_AL_1060\", \"hybridus_SLH_AL_1098\",],\n",
    "  #    \"deflexus\": [\"deflexus_SLH_AL_0951\",\"deflexus_SLH_AL_0952\", \"deflexus_SLH_AL_0955\",\"deflexus_SLH_AL_0953\",\"deflexus_SLH_AL_0954\"],\n",
    "      \"dubius\": [\"dubius_SLH_AL_0965\",\"dubius_SLH_AL_0979\",\"dubius_SLH_AL_0992\"],\n",
    "      \"fimbriatus\": [\"fimbriatus_SLH_AL_0998\"], #\"fimbriatus_SLH_AL_0997\", \n",
    "  #    \"floridanus\": [\"floridanus_SLH_AL_1000\"],\n",
    "  #    \"graecizans\": [\"graecizans-aschersonianus_SLH_AL_1009\", \"graecizans-silvestris_SLH_AL_1013\", \"graecizans-thellungianus_SLH_AL_1014\"],\n",
    "  #    \"greggii\": [\"greggii_SLH_AL_1015\", \"greggii_SLH_AL_1016\"],\n",
    "      \"hybridus\": [\"hybridus_SLH_AL_0001-restricted\", \"hybridus_SLH_AL_1117\"], # \"hybridus_SLH_AL_1099\", \n",
    "      \"hypochondriacus\": [\"hypochondriacus_SLH_AL_1178\", \"hypochondriacus_SLH_AL_1197\", \"hypochondriacus_SLH_AL_1264\", \"hypochondriacus_SLH_AL_1285\",\"hypochondriacus_SLH_AL_2282\", \"hypochondriacus_SLH_AL_2436\"],\n",
    "  #    \"muricatus\": [\"muricatus_SLH_AL_2634\"],\n",
    "      \"palmeri\": [\"palmeri-aff_SLH_AL_0017\", \"palmeri_SLH_AL_2637\", \"palmeri_SLH_AL_2644\", \"palmeri_SLH_AL_2647\", \"palmeri_SLH_AL_2649\", \"palmeri_SLH_AL_2650\",\n",
    "                  \"palmeri_SLH_AL_2635\",\"palmeri_SLH_AL_2636\",\"palmeri_SLH_AL_2638\",\"palmeri_SLH_AL_2639\",\"palmeri_SLH_AL_2640\",\"palmeri_SLH_AL_2641\",\"palmeri_SLH_AL_2642\",\"palmeri_SLH_AL_2643\",\"palmeri_SLH_AL_2645\",\"palmeri_SLH_AL_2646\",\n",
    "                  \"palmeri_SLH_AL_159-contemp\",\"palmeri_SLH_AL_163-contemp\",\"palmeri_SLH_AL_173-contemp\",\"palmeri_SLH_AL_174-contemp\",\"palmeri_SLH_AL_235-contemp\"],\n",
    "      \"powellii\": [\"powellii-bouchonii_SLH_AL_2653\", \"powellii-powellii_SLH_AL_2663\", \"powellii-powellii_SLH_AL_2665\"],\n",
    "      \"pumilus\": [\"pumilus_SLH_AL_5-restricted\",\"pumilus_SLH_AL_7-restricted\"],\n",
    "      \"quitensis\": [\"quitensis_SLH_AL_2671\", \"quitensis_SLH_AL_2675\",\"quitensis_SLH_AL_2753\"],\n",
    "      \"retroflexus\": [\"retroflexus_SLH_AL_2770\", \"retroflexus_SLH_AL_2773\", \"retroflexus_SLH_AL_2780\"],\n",
    "      \"spinosus\": [\"spinosus_SLH_AL_2792\", \"spinosus_SLH_AL_2793\", \"spinosus_SLH_AL_2806\", \"spinosus_SLH_AL_2809\", \"spinosus_SLH_AL_2811\"],\n",
    "   #   \"standleyanus\": [\"standleyanus_SLH_AL_2815\",\"standleyanus_SLH_AL_2816\"],\n",
    "  #    \"tamaulipensis\": [\"tamaulipensis_SLH_AL_2817\"],\n",
    "  #    \"torreyi\": [\"torreyi_SLH_AL_2818\"],\n",
    "      \"tricolor\": [\"tricolor_SLH_AL_2869\", \"tricolor_SLH_AL_2940\", \"tricolor_SLH_AL_2953\", \"tricolor_SLH_AL_2978\"],\n",
    "      \"tuberculatus\": [\"tuberculatus_SLH_AL_0009-restricted\", \"tuberculatus_SLH_AL_3003\", \"tuberculatus_SLH_AL_3017\", \"tuberculatus_SLH_AL_3027\", \"tuberculatus_SLH_AL_3045\",\n",
    "                        \"tuberculatus_SLH_AL_2999\",\"tuberculatus_SLH_AL_3000\",\"tuberculatus_SLH_AL_3001\",\"tuberculatus_SLH_AL_3002\",\"tuberculatus_SLH_AL_3004\",\"tuberculatus_SLH_AL_3005\",\n",
    "                        \"tuberculatus_SLH_AL_3006\",\"tuberculatus_SLH_AL_3007\",\"tuberculatus_SLH_AL_3008\",\"tuberculatus_SLH_AL_3009\",\"tuberculatus_SLH_AL_3010\",\n",
    "                        \"tuberculatus_SLH_AL_3011\",\"tuberculatus_SLH_AL_3012\",\"tuberculatus_SLH_AL_3013\",\"tuberculatus_SLH_AL_3014\",\"tuberculatus_SLH_AL_3015\",\n",
    "                        \"tuberculatus_SLH_AL_3016\",\"tuberculatus_SLH_AL_3018\",\"tuberculatus_SLH_AL_3019\",\"tuberculatus_SLH_AL_3020\",\"tuberculatus_SLH_AL_3021\",\n",
    "                        \"tuberculatus_SLH_AL_3022\",\"tuberculatus_SLH_AL_3023\",\"tuberculatus_SLH_AL_3024\",\"tuberculatus_SLH_AL_3025\",\"tuberculatus_SLH_AL_3026\",\n",
    "                        \"tuberculatus_SLH_AL_3028\",\"tuberculatus_SLH_AL_3029\",\"tuberculatus_SLH_AL_3030\",\"tuberculatus_SLH_AL_3031\",\"tuberculatus_SLH_AL_3032\",\n",
    "                        \"tuberculatus_SLH_AL_3033\",\"tuberculatus_SLH_AL_3034\",\"tuberculatus_SLH_AL_3035\",\"tuberculatus_SLH_AL_3036\",#\"tuberculatus_SLH_AL_3037\",\n",
    "                        \"tuberculatus_SLH_AL_3038\",\"tuberculatus_SLH_AL_3039\",\"tuberculatus_SLH_AL_3041\",\"tuberculatus_SLH_AL_3042\",\"tuberculatus_SLH_AL_3043\",\n",
    "                        \"tuberculatus_SLH_AL_3044\",\"tuberculatus_SLH_AL_3046\",\"tuberculatus_SLH_AL_154-contemp\",\"tuberculatus_SLH_AL_155-contemp\",\n",
    "                        \"tuberculatus_SLH_AL_156-contemp\",\"tuberculatus_SLH_AL_157-contemp\",\"tuberculatus_SLH_AL_160-contemp\",\"tuberculatus_SLH_AL_165-contemp\",\n",
    "                        \"tuberculatus_SLH_AL_169-contemp\",\"tuberculatus_SLH_AL_175-contemp\",\"tuberculatus_SLH_AL_176-contemp\",\"tuberculatus_SLH_AL_202-contemp\",\n",
    "                        \"tuberculatus_SLH_AL_206-contemp\",\"tuberculatus_SLH_AL_208-contemp\",\"tuberculatus_SLH_AL_236-contemp\",\"tuberculatus_SLH_AL_237-contemp\"],\n",
    "    #    \"tucsonensis\": [\"tucsonensis_SLH_AL_3068\"],\n",
    "        \"viridis\": [\"viridis_SLH_AL_3047\", \"viridis_SLH_AL_3062\"],\n",
    "        \"watsonii\": [\"watsonii_SLH_AL_3065\"],\n",
    "        \"wrightii\": [\"wrightii_SLH_AL_3066\", \"wrightii_SLH_AL_3067\"],    \n",
    "    #  \"beet\":[\"beet\"],\n",
    "     }"
   ]
  },
  {
   "cell_type": "code",
   "execution_count": 4,
   "metadata": {},
   "outputs": [],
   "source": [
    "#run RAxML on \"genes\" that are 1M bp long in treeslider\n",
    "ts = ipa.treeslider(\n",
    "        name='fimb_fixed_23spp',  #this name can't end in _2\n",
    "        data=data,\n",
    "        workdir=outDIR,\n",
    "        scaffold_idxs=range(16),\n",
    "        window_size=1000000,\n",
    "        slide_size= 1000000,  \n",
    "        inference_method=\"raxml\",  #options are raxml and mrbayes\n",
    "      #  inference_args={\"N\": 100, \"T\": 24}, #number of bootstraps and # cores\n",
    "        consensus_reduce=True, # this tells it to make 1 sequence for each key in dictionary\n",
    "        minsnps=100,  #within window_size, it must have at least this much diversity\n",
    "        mincov=4,   #For example, mincov=0.5 will require that 50% of samples contain a site that is not N or - for the site to be included in the alignment. \n",
    "        rmincov=0,\n",
    "        imap=imap,\n",
    "        minmap= {i: 0.1 for i in imap}, #half of each key in imap dictionary\n",
    "        keep_all_files=True,\n",
    ")"
   ]
  },
  {
   "cell_type": "code",
   "execution_count": 5,
   "metadata": {},
   "outputs": [
    {
     "name": "stdout",
     "output_type": "stream",
     "text": [
      "building database: nwindows=388; minsnps=100\n",
      "[####################] 100% 0:50:39 | inferring trees \n",
      "tree_table written to /rigel/dsi/users/slh2181/tuberculatus_plate/fimbriatus/snaq/fimb_fixed_23spp.tree_table.csv\n"
     ]
    }
   ],
   "source": [
    "# run treeslider/RAxML.  this took 4.5 hr\n",
    "# make sure there is no temp directory existing because then this won't run.\n",
    "ts.run(auto=True, force=True) #use auto=true when you have 24 engines"
   ]
  },
  {
   "cell_type": "code",
   "execution_count": 6,
   "metadata": {
    "scrolled": false
   },
   "outputs": [
    {
     "data": {
      "text/html": [
       "<div>\n",
       "<style scoped>\n",
       "    .dataframe tbody tr th:only-of-type {\n",
       "        vertical-align: middle;\n",
       "    }\n",
       "\n",
       "    .dataframe tbody tr th {\n",
       "        vertical-align: top;\n",
       "    }\n",
       "\n",
       "    .dataframe thead th {\n",
       "        text-align: right;\n",
       "    }\n",
       "</style>\n",
       "<table border=\"1\" class=\"dataframe\">\n",
       "  <thead>\n",
       "    <tr style=\"text-align: right;\">\n",
       "      <th></th>\n",
       "      <th>scaffold</th>\n",
       "      <th>start</th>\n",
       "      <th>end</th>\n",
       "      <th>sites</th>\n",
       "      <th>snps</th>\n",
       "      <th>samples</th>\n",
       "      <th>missing</th>\n",
       "      <th>tree</th>\n",
       "    </tr>\n",
       "  </thead>\n",
       "  <tbody>\n",
       "    <tr>\n",
       "      <th>0</th>\n",
       "      <td>0</td>\n",
       "      <td>0</td>\n",
       "      <td>1000000</td>\n",
       "      <td>5243</td>\n",
       "      <td>236</td>\n",
       "      <td>23</td>\n",
       "      <td>0.54</td>\n",
       "      <td>(cannabinus:0.0113668,(arenicola:0.0141212,(pumilus:0.00893185,tuberculatus:0.0143216)50:0.00175056)56:0.0018403,((fimbriatus:0.00879818,((blitoides:0.00653638,albus:0.00630522)100:0.00685362,(tricolor:0.0139853,(blitum:0.0136595,viridis:0.006498...</td>\n",
       "    </tr>\n",
       "    <tr>\n",
       "      <th>1</th>\n",
       "      <td>0</td>\n",
       "      <td>1000000</td>\n",
       "      <td>2000000</td>\n",
       "      <td>4884</td>\n",
       "      <td>289</td>\n",
       "      <td>23</td>\n",
       "      <td>0.60</td>\n",
       "      <td>(acutilobus:0.0160457,wrightii:0.00934754,((retroflexus:0.0148018,powellii:0.0150755)37:0.00314439,(((hybridus:0.00827878,cruentus:0.00448254)74:0.00429214,(hypochondriacus:0.0152721,(caudatus:0.00547255,quitensis:1e-06)100:0.00870805)71:0.003476...</td>\n",
       "    </tr>\n",
       "    <tr>\n",
       "      <th>2</th>\n",
       "      <td>0</td>\n",
       "      <td>2000000</td>\n",
       "      <td>3000000</td>\n",
       "      <td>3146</td>\n",
       "      <td>191</td>\n",
       "      <td>23</td>\n",
       "      <td>0.59</td>\n",
       "      <td>(cannabinus:0.0243792,tuberculatus:0.0171301,((pumilus:0.0186752,arenicola:0.0147817)95:0.00869451,((blitum:0.015383,(tricolor:0.0185799,(viridis:0.0138677,(fimbriatus:0.0195226,(blitoides:0.0250159,albus:0.00802441)96:0.0136912)30:0.00209398)31:...</td>\n",
       "    </tr>\n",
       "    <tr>\n",
       "      <th>3</th>\n",
       "      <td>0</td>\n",
       "      <td>3000000</td>\n",
       "      <td>4000000</td>\n",
       "      <td>2499</td>\n",
       "      <td>149</td>\n",
       "      <td>23</td>\n",
       "      <td>0.51</td>\n",
       "      <td>(powellii:1e-06,retroflexus:0.0093093,((cruentus:0.00594883,(acutilobus:0.0116247,((caudatus:0.00362755,quitensis:0.00260613)92:0.00626362,(hypochondriacus:0.00982695,hybridus:0.00366295)53:1e-06)61:0.00204413)31:0.000499121)18:1e-06,((dubius:0.0...</td>\n",
       "    </tr>\n",
       "    <tr>\n",
       "      <th>4</th>\n",
       "      <td>0</td>\n",
       "      <td>4000000</td>\n",
       "      <td>5000000</td>\n",
       "      <td>2560</td>\n",
       "      <td>176</td>\n",
       "      <td>23</td>\n",
       "      <td>0.43</td>\n",
       "      <td>(wrightii:0.0134864,(retroflexus:0.00442363,powellii:0.00697432)45:0.00191408,(acutilobus:0.0099138,((cruentus:0.00402412,(hybridus:0.0103189,(hypochondriacus:0.00870636,(caudatus:0.00344478,quitensis:0.00117625)55:0.000122319)42:0.000705351)68:0...</td>\n",
       "    </tr>\n",
       "    <tr>\n",
       "      <th>...</th>\n",
       "      <td>...</td>\n",
       "      <td>...</td>\n",
       "      <td>...</td>\n",
       "      <td>...</td>\n",
       "      <td>...</td>\n",
       "      <td>...</td>\n",
       "      <td>...</td>\n",
       "      <td>...</td>\n",
       "    </tr>\n",
       "    <tr>\n",
       "      <th>383</th>\n",
       "      <td>15</td>\n",
       "      <td>17000000</td>\n",
       "      <td>18000000</td>\n",
       "      <td>11165</td>\n",
       "      <td>658</td>\n",
       "      <td>23</td>\n",
       "      <td>0.35</td>\n",
       "      <td>(retroflexus:0.00131016,wrightii:0.00107172,(powellii:0.00274367,(acutilobus:0.00658431,((cruentus:0.00455674,((caudatus:0.000694903,quitensis:0.00013443)100:0.00187495,(hypochondriacus:0.00233959,hybridus:0.00200525)62:0.000145071)86:0.000899928...</td>\n",
       "    </tr>\n",
       "    <tr>\n",
       "      <th>384</th>\n",
       "      <td>15</td>\n",
       "      <td>18000000</td>\n",
       "      <td>19000000</td>\n",
       "      <td>9250</td>\n",
       "      <td>496</td>\n",
       "      <td>23</td>\n",
       "      <td>0.34</td>\n",
       "      <td>(fimbriatus:0.0151253,(viridis:0.00574368,(tricolor:0.00737392,blitum:0.00724044)95:0.0012573)100:0.00480128,((blitoides:0.00342838,albus:0.0039898)100:0.00824839,((cannabinus:0.0127319,(pumilus:0.0159764,(tuberculatus:0.0136486,arenicola:0.00937...</td>\n",
       "    </tr>\n",
       "    <tr>\n",
       "      <th>385</th>\n",
       "      <td>15</td>\n",
       "      <td>19000000</td>\n",
       "      <td>20000000</td>\n",
       "      <td>10400</td>\n",
       "      <td>685</td>\n",
       "      <td>23</td>\n",
       "      <td>0.37</td>\n",
       "      <td>(caudatus:0.00200233,quitensis:0.00187932,((cruentus:0.00270571,(acutilobus:0.00422253,(powellii:0.00437603,(retroflexus:0.00267769,wrightii:0.00118543)61:0.000901306)95:0.00175832)82:0.00202893)75:0.00130637,(hybridus:0.00139736,(hypochondriacus...</td>\n",
       "    </tr>\n",
       "    <tr>\n",
       "      <th>386</th>\n",
       "      <td>15</td>\n",
       "      <td>20000000</td>\n",
       "      <td>21000000</td>\n",
       "      <td>6418</td>\n",
       "      <td>367</td>\n",
       "      <td>23</td>\n",
       "      <td>0.36</td>\n",
       "      <td>(retroflexus:0.00219122,wrightii:0.00233565,((acutilobus:0.00546084,powellii:0.00296142)66:0.00103316,((cruentus:0.00388015,(hypochondriacus:0.00204744,(hybridus:0.00155099,(caudatus:0.0007592,quitensis:0.000476195)53:0.000510388)50:0.000607287)7...</td>\n",
       "    </tr>\n",
       "    <tr>\n",
       "      <th>387</th>\n",
       "      <td>15</td>\n",
       "      <td>21000000</td>\n",
       "      <td>22000000</td>\n",
       "      <td>9323</td>\n",
       "      <td>531</td>\n",
       "      <td>23</td>\n",
       "      <td>0.38</td>\n",
       "      <td>(dubius:0.00922145,((powellii:0.00481335,(acutilobus:0.00444748,(wrightii:0.00250599,retroflexus:0.00135297)100:0.00323375)92:0.00307563)99:0.00339034,(hypochondriacus:0.00312151,(hybridus:0.00209265,(cruentus:0.00424582,(caudatus:0.00227141,quit...</td>\n",
       "    </tr>\n",
       "  </tbody>\n",
       "</table>\n",
       "<p>388 rows × 8 columns</p>\n",
       "</div>"
      ],
      "text/plain": [
       "     scaffold     start       end  sites  snps  samples  missing  \\\n",
       "0           0         0   1000000   5243   236       23     0.54   \n",
       "1           0   1000000   2000000   4884   289       23     0.60   \n",
       "2           0   2000000   3000000   3146   191       23     0.59   \n",
       "3           0   3000000   4000000   2499   149       23     0.51   \n",
       "4           0   4000000   5000000   2560   176       23     0.43   \n",
       "..        ...       ...       ...    ...   ...      ...      ...   \n",
       "383        15  17000000  18000000  11165   658       23     0.35   \n",
       "384        15  18000000  19000000   9250   496       23     0.34   \n",
       "385        15  19000000  20000000  10400   685       23     0.37   \n",
       "386        15  20000000  21000000   6418   367       23     0.36   \n",
       "387        15  21000000  22000000   9323   531       23     0.38   \n",
       "\n",
       "                                                                                                                                                                                                                                                          tree  \n",
       "0    (cannabinus:0.0113668,(arenicola:0.0141212,(pumilus:0.00893185,tuberculatus:0.0143216)50:0.00175056)56:0.0018403,((fimbriatus:0.00879818,((blitoides:0.00653638,albus:0.00630522)100:0.00685362,(tricolor:0.0139853,(blitum:0.0136595,viridis:0.006498...  \n",
       "1    (acutilobus:0.0160457,wrightii:0.00934754,((retroflexus:0.0148018,powellii:0.0150755)37:0.00314439,(((hybridus:0.00827878,cruentus:0.00448254)74:0.00429214,(hypochondriacus:0.0152721,(caudatus:0.00547255,quitensis:1e-06)100:0.00870805)71:0.003476...  \n",
       "2    (cannabinus:0.0243792,tuberculatus:0.0171301,((pumilus:0.0186752,arenicola:0.0147817)95:0.00869451,((blitum:0.015383,(tricolor:0.0185799,(viridis:0.0138677,(fimbriatus:0.0195226,(blitoides:0.0250159,albus:0.00802441)96:0.0136912)30:0.00209398)31:...  \n",
       "3    (powellii:1e-06,retroflexus:0.0093093,((cruentus:0.00594883,(acutilobus:0.0116247,((caudatus:0.00362755,quitensis:0.00260613)92:0.00626362,(hypochondriacus:0.00982695,hybridus:0.00366295)53:1e-06)61:0.00204413)31:0.000499121)18:1e-06,((dubius:0.0...  \n",
       "4    (wrightii:0.0134864,(retroflexus:0.00442363,powellii:0.00697432)45:0.00191408,(acutilobus:0.0099138,((cruentus:0.00402412,(hybridus:0.0103189,(hypochondriacus:0.00870636,(caudatus:0.00344478,quitensis:0.00117625)55:0.000122319)42:0.000705351)68:0...  \n",
       "..                                                                                                                                                                                                                                                         ...  \n",
       "383  (retroflexus:0.00131016,wrightii:0.00107172,(powellii:0.00274367,(acutilobus:0.00658431,((cruentus:0.00455674,((caudatus:0.000694903,quitensis:0.00013443)100:0.00187495,(hypochondriacus:0.00233959,hybridus:0.00200525)62:0.000145071)86:0.000899928...  \n",
       "384  (fimbriatus:0.0151253,(viridis:0.00574368,(tricolor:0.00737392,blitum:0.00724044)95:0.0012573)100:0.00480128,((blitoides:0.00342838,albus:0.0039898)100:0.00824839,((cannabinus:0.0127319,(pumilus:0.0159764,(tuberculatus:0.0136486,arenicola:0.00937...  \n",
       "385  (caudatus:0.00200233,quitensis:0.00187932,((cruentus:0.00270571,(acutilobus:0.00422253,(powellii:0.00437603,(retroflexus:0.00267769,wrightii:0.00118543)61:0.000901306)95:0.00175832)82:0.00202893)75:0.00130637,(hybridus:0.00139736,(hypochondriacus...  \n",
       "386  (retroflexus:0.00219122,wrightii:0.00233565,((acutilobus:0.00546084,powellii:0.00296142)66:0.00103316,((cruentus:0.00388015,(hypochondriacus:0.00204744,(hybridus:0.00155099,(caudatus:0.0007592,quitensis:0.000476195)53:0.000510388)50:0.000607287)7...  \n",
       "387  (dubius:0.00922145,((powellii:0.00481335,(acutilobus:0.00444748,(wrightii:0.00250599,retroflexus:0.00135297)100:0.00323375)92:0.00307563)99:0.00339034,(hypochondriacus:0.00312151,(hybridus:0.00209265,(cruentus:0.00424582,(caudatus:0.00227141,quit...  \n",
       "\n",
       "[388 rows x 8 columns]"
      ]
     },
     "execution_count": 6,
     "metadata": {},
     "output_type": "execute_result"
    }
   ],
   "source": [
    "ts.tree_table"
   ]
  },
  {
   "cell_type": "code",
   "execution_count": 7,
   "metadata": {},
   "outputs": [
    {
     "name": "stdout",
     "output_type": "stream",
     "text": [
      "java -jar /rigel/home/slh2181/miniconda3/bin/astral.5.7.1.jar -i /rigel/dsi/users/slh2181/tuberculatus_plate/fimbriatus/snaq/tmptrees.txt -o /rigel/dsi/users/slh2181/tuberculatus_plate/fimbriatus/snaq/Astral_fimb_fixed_23spp.tre -t 1\n"
     ]
    }
   ],
   "source": [
    "Ast = ipa.astral(\n",
    "    data = ts.tree_table,\n",
    "#    data = \"/rigel/dsi/users/slh2181/tuberculatus_plate/fimbriatus/snaq/fimb_fixed_23spp.tree_table.csv\",\n",
    "    name='Astral_fimb_fixed_23spp',\n",
    "    workdir=outDIR,\n",
    "#    bootsfile=\"/rigel/dsi/users/slh2181/tuberculatus_plate/Analysis/snaq/allyrs.bootsfiles.txt\",\n",
    "#    imap=None,\n",
    "    annotation=1,\n",
    "#    gene_resampling=True,\n",
    "#    nboots=75,\n",
    ")\n",
    "\n",
    "Ast.print_command()"
   ]
  },
  {
   "cell_type": "code",
   "execution_count": 8,
   "metadata": {},
   "outputs": [
    {
     "name": "stdout",
     "output_type": "stream",
     "text": [
      "[astral.5.7.1.jar]\n",
      "inferred tree written to (/rigel/dsi/users/slh2181/tuberculatus_plate/fimbriatus/snaq/Astral_fimb_fixed_23spp.tre)\n"
     ]
    }
   ],
   "source": [
    "Ast.run()"
   ]
  },
  {
   "cell_type": "code",
   "execution_count": 12,
   "metadata": {
    "scrolled": true
   },
   "outputs": [
    {
     "data": {
      "text/plain": [
       "(<toyplot.canvas.Canvas at 0x2aab0ca77b10>,\n",
       " <toyplot.coordinates.Cartesian at 0x2aab0ca776d0>,\n",
       " <toytree.Render.ToytreeMark at 0x2aab0ea29ed0>)"
      ]
     },
     "execution_count": 12,
     "metadata": {},
     "output_type": "execute_result"
    },
    {
     "data": {
      "text/html": [
       "<div class=\"toyplot\" id=\"tb9bf75402c4d403e98d68b953dceab27\" style=\"text-align:center\"><svg class=\"toyplot-canvas-Canvas\" height=\"414.0px\" id=\"tb58581a828eb4f84a387ececc13edc77\" preserveAspectRatio=\"xMidYMid meet\" style=\"background-color:transparent;border-color:#292724;border-style:none;border-width:1.0;fill:rgb(16.1%,15.3%,14.1%);fill-opacity:1.0;font-family:Helvetica;font-size:12px;opacity:1.0;stroke:rgb(16.1%,15.3%,14.1%);stroke-opacity:1.0;stroke-width:1.0\" viewBox=\"0 0 325.0 414.0\" width=\"325.0px\" xmlns=\"http://www.w3.org/2000/svg\" xmlns:toyplot=\"http://www.sandia.gov/toyplot\" xmlns:xlink=\"http://www.w3.org/1999/xlink\"><g class=\"toyplot-coordinates-Cartesian\" id=\"t0d6ee242fbd14ed09d8192452c1c5e81\"><clipPath id=\"t8436d6f2e4614c3ca99569f6ba39facd\"><rect height=\"354.0\" width=\"265.0\" x=\"30.0\" y=\"30.0\"></rect></clipPath><g clip-path=\"url(#t8436d6f2e4614c3ca99569f6ba39facd)\"><g class=\"toytree-mark-Toytree\" id=\"t27461642b9fa4a5ab0ba2c669cf17b99\"><g class=\"toytree-Edges\" style=\"fill:none;stroke:rgb(14.9%,14.9%,14.9%);stroke-linecap:round;stroke-opacity:1;stroke-width:2\"><path d=\"M 51.3 173.9 L 51.3 102.5 L 81.3 102.5\" id=\"44,43\"></path><path d=\"M 51.3 173.9 L 51.3 245.2 L 81.3 245.2\" id=\"44,42\"></path><path d=\"M 81.3 102.5 L 81.3 73.2 L 117.8 73.2\" id=\"43,41\"></path><path d=\"M 81.3 102.5 L 81.3 131.9 L 93.3 131.9\" id=\"43,40\"></path><path d=\"M 81.3 245.2 L 81.3 205.3 L 86.0 205.3\" id=\"42,39\"></path><path d=\"M 81.3 245.2 L 81.3 285.0 L 122.2 285.0\" id=\"42,38\"></path><path d=\"M 117.8 73.2 L 117.8 84.8 L 125.6 84.8\" id=\"41,37\"></path><path d=\"M 93.3 131.9 L 93.3 149.2 L 110.1 149.2\" id=\"40,36\"></path><path d=\"M 86.0 205.3 L 86.0 216.9 L 106.1 216.9\" id=\"39,35\"></path><path d=\"M 122.2 285.0 L 122.2 258.2 L 130.8 258.2\" id=\"38,34\"></path><path d=\"M 122.2 285.0 L 122.2 311.9 L 149.2 311.9\" id=\"38,33\"></path><path d=\"M 125.6 84.8 L 125.6 94.7 L 131.6 94.7\" id=\"37,32\"></path><path d=\"M 110.1 149.2 L 110.1 134.3 L 151.0 134.3\" id=\"36,31\"></path><path d=\"M 110.1 149.2 L 110.1 164.1 L 152.8 164.1\" id=\"36,30\"></path><path d=\"M 106.1 216.9 L 106.1 226.8 L 115.4 226.8\" id=\"35,29\"></path><path d=\"M 130.8 258.2 L 130.8 269.8 L 142.2 269.8\" id=\"34,28\"></path><path d=\"M 149.2 311.9 L 149.2 324.3 L 154.0 324.3\" id=\"33,27\"></path><path d=\"M 152.8 164.1 L 152.8 174.0 L 169.2 174.0\" id=\"30,26\"></path><path d=\"M 142.2 269.8 L 142.2 279.7 L 170.2 279.7\" id=\"28,25\"></path><path d=\"M 154.0 324.3 L 154.0 335.8 L 159.9 335.8\" id=\"27,24\"></path><path d=\"M 159.9 335.8 L 159.9 345.7 L 185.8 345.7\" id=\"24,23\"></path><path d=\"M 117.8 73.2 L 117.8 61.7 L 133.2 61.7\" id=\"41,22\"></path><path d=\"M 125.6 84.8 L 125.6 74.9 L 140.9 74.9\" id=\"37,21\"></path><path d=\"M 131.6 94.7 L 131.6 88.1 L 146.9 88.1\" id=\"32,20\"></path><path d=\"M 131.6 94.7 L 131.6 101.3 L 146.9 101.3\" id=\"32,19\"></path><path d=\"M 93.3 131.9 L 93.3 114.5 L 108.7 114.5\" id=\"40,18\"></path><path d=\"M 151.0 134.3 L 151.0 127.7 L 166.4 127.7\" id=\"31,17\"></path><path d=\"M 151.0 134.3 L 151.0 140.9 L 166.4 140.9\" id=\"31,16\"></path><path d=\"M 152.8 164.1 L 152.8 154.2 L 168.1 154.2\" id=\"30,15\"></path><path d=\"M 169.2 174.0 L 169.2 167.4 L 184.5 167.4\" id=\"26,14\"></path><path d=\"M 169.2 174.0 L 169.2 180.6 L 184.5 180.6\" id=\"26,13\"></path><path d=\"M 86.0 205.3 L 86.0 193.8 L 101.3 193.8\" id=\"39,12\"></path><path d=\"M 106.1 216.9 L 106.1 207.0 L 121.5 207.0\" id=\"35,11\"></path><path d=\"M 115.4 226.8 L 115.4 220.2 L 130.8 220.2\" id=\"29,10\"></path><path d=\"M 115.4 226.8 L 115.4 233.4 L 130.8 233.4\" id=\"29,9\"></path><path d=\"M 130.8 258.2 L 130.8 246.6 L 146.1 246.6\" id=\"34,8\"></path><path d=\"M 142.2 269.8 L 142.2 259.8 L 157.5 259.8\" id=\"28,7\"></path><path d=\"M 170.2 279.7 L 170.2 273.1 L 185.5 273.1\" id=\"25,6\"></path><path d=\"M 170.2 279.7 L 170.2 286.3 L 185.5 286.3\" id=\"25,5\"></path><path d=\"M 149.2 311.9 L 149.2 299.5 L 164.5 299.5\" id=\"33,4\"></path><path d=\"M 154.0 324.3 L 154.0 312.7 L 169.3 312.7\" id=\"27,3\"></path><path d=\"M 159.9 335.8 L 159.9 325.9 L 175.2 325.9\" id=\"24,2\"></path><path d=\"M 185.8 345.7 L 185.8 339.1 L 201.1 339.1\" id=\"23,1\"></path><path d=\"M 185.8 345.7 L 185.8 352.3 L 201.1 352.3\" id=\"23,0\"></path></g><g class=\"toytree-NodeLabels\" style=\"fill:rgb(14.9%,14.9%,14.9%);fill-opacity:1.0;font-size:9px;stroke:none\"><g transform=\"translate(174.52,348.03)\"><text>87.89</text></g><g transform=\"translate(151.14,338.12)\"><text>54.8</text></g><g transform=\"translate(161.45,281.97)\"><text>89.5</text></g><g transform=\"translate(157.92,176.27)\"><text>77.29</text></g><g transform=\"translate(145.22,326.56)\"><text>51.3</text></g><g transform=\"translate(130.93,272.06)\"><text>68.55</text></g><g transform=\"translate(104.15,229.12)\"><text>63.79</text></g><g transform=\"translate(141.53,166.36)\"><text>96.14</text></g><g transform=\"translate(139.79,136.63)\"><text>95.64</text></g><g transform=\"translate(120.34,96.99)\"><text>55.04</text></g><g transform=\"translate(137.95,314.17)\"><text>88.73</text></g><g transform=\"translate(119.49,260.50)\"><text>61.87</text></g><g transform=\"translate(97.36,219.21)\"><text>82.3</text></g><g transform=\"translate(98.81,151.50)\"><text>77.79</text></g><g transform=\"translate(114.34,87.09)\"><text>60.04</text></g><g transform=\"translate(110.99,287.34)\"><text>95.64</text></g><g transform=\"translate(77.20,207.65)\"><text>51.0</text></g><g transform=\"translate(82.09,134.15)\"><text>69.83</text></g><g transform=\"translate(106.55,75.52)\"><text>94.08</text></g><g transform=\"translate(70.02,247.49)\"><text>98.92</text></g><g transform=\"translate(70.02,104.84)\"><text>100.0</text></g></g><g class=\"toytree-TipLabels\" style=\"fill:rgb(14.9%,14.9%,14.9%);fill-opacity:1.0;font-family:helvetica;font-size:11px;font-weight:normal;stroke:none;white-space:pre\"><g transform=\"translate(201.12,352.34)rotate(0)\"><text style=\"\" x=\"15.00\" y=\"2.81\">quitensis</text></g><g transform=\"translate(201.12,339.12)rotate(0)\"><text style=\"\" x=\"15.00\" y=\"2.81\">caudatus</text></g><g transform=\"translate(175.24,325.91)rotate(0)\"><text style=\"\" x=\"15.00\" y=\"2.81\">hybridus</text></g><g transform=\"translate(169.32,312.70)rotate(0)\"><text style=\"\" x=\"15.00\" y=\"2.81\">hypochondriacus</text></g><g transform=\"translate(164.55,299.49)rotate(0)\"><text style=\"\" x=\"15.00\" y=\"2.81\">cruentus</text></g><g transform=\"translate(185.55,286.27)rotate(0)\"><text style=\"\" x=\"15.00\" y=\"2.81\">retroflexus</text></g><g transform=\"translate(185.55,273.06)rotate(0)\"><text style=\"\" x=\"15.00\" y=\"2.81\">wrightii</text></g><g transform=\"translate(157.54,259.85)rotate(0)\"><text style=\"\" x=\"15.00\" y=\"2.81\">powellii</text></g><g transform=\"translate(146.09,246.64)rotate(0)\"><text style=\"\" x=\"15.00\" y=\"2.81\">acutilobus</text></g><g transform=\"translate(130.76,233.42)rotate(0)\"><text style=\"\" x=\"15.00\" y=\"2.81\">palmeri</text></g><g transform=\"translate(130.76,220.21)rotate(0)\"><text style=\"\" x=\"15.00\" y=\"2.81\">watsonii</text></g><g transform=\"translate(121.46,207.00)rotate(0)\"><text style=\"\" x=\"15.00\" y=\"2.81\">spinosus</text></g><g transform=\"translate(101.30,193.79)rotate(0)\"><text style=\"\" x=\"15.00\" y=\"2.81\">dubius</text></g><g transform=\"translate(184.52,180.58)rotate(0)\"><text style=\"\" x=\"15.00\" y=\"2.81\">blitum</text></g><g transform=\"translate(184.52,167.36)rotate(0)\"><text style=\"\" x=\"15.00\" y=\"2.81\">tricolor</text></g><g transform=\"translate(168.13,154.15)rotate(0)\"><text style=\"\" x=\"15.00\" y=\"2.81\">viridis</text></g><g transform=\"translate(166.39,140.94)rotate(0)\"><text style=\"\" x=\"15.00\" y=\"2.81\">albus</text></g><g transform=\"translate(166.39,127.73)rotate(0)\"><text style=\"\" x=\"15.00\" y=\"2.81\">blitoides</text></g><g transform=\"translate(108.69,114.51)rotate(0)\"><text style=\"\" x=\"15.00\" y=\"2.81\">fimbriatus</text></g><g transform=\"translate(146.94,101.30)rotate(0)\"><text style=\"\" x=\"15.00\" y=\"2.81\">tuberculatus</text></g><g transform=\"translate(146.94,88.09)rotate(0)\"><text style=\"\" x=\"15.00\" y=\"2.81\">arenicola</text></g><g transform=\"translate(140.95,74.88)rotate(0)\"><text style=\"\" x=\"15.00\" y=\"2.81\">pumilus</text></g><g transform=\"translate(133.15,61.66)rotate(0)\"><text style=\"\" x=\"15.00\" y=\"2.81\">cannabinus</text></g></g></g></g></g></svg><div class=\"toyplot-behavior\"><script>(function()\n",
       "{\n",
       "var modules={};\n",
       "})();</script></div></div>"
      ]
     },
     "metadata": {},
     "output_type": "display_data"
    }
   ],
   "source": [
    "Ast3 = toytree.tree(\"/rigel/dsi/users/slh2181/tuberculatus_plate/fimbriatus/snaq/Astral_fimb_fixed_23spp.tre\")\n",
    "Ast3.root([\"palmeri\",\"watsonii\",\"spinosus\",\"dubius\",\"retroflexus\",\"wrightii\",\"powellii\",\"acutilobus\",\n",
    "           \"cruentus\",\"quitensis\",\"caudatus\",\"hybridus\",\"hypochondriacus\"]).draw(node_labels=\"support\")"
   ]
  },
  {
   "cell_type": "markdown",
   "metadata": {},
   "source": [
    "### Snaq input needs the tre  column by itself, so do that here:"
   ]
  },
  {
   "cell_type": "code",
   "execution_count": 13,
   "metadata": {},
   "outputs": [],
   "source": [
    "tree_table = pd.read_csv(\"/rigel/dsi/users/slh2181/tuberculatus_plate/fimbriatus/snaq/fimb_fixed_23spp.tree_table.csv\", sep=\",\")\n",
    "\n",
    "new = tree_table.tree[tree_table.tree.notna()].reset_index(drop=True)\n",
    "new.to_csv(\"/rigel/dsi/users/slh2181/tuberculatus_plate/fimbriatus/snaq/fimb_fixed_23spp.tree.csv\",\n",
    "    header=False, encoding='utf-8', index=False, sep=\" \")"
   ]
  },
  {
   "cell_type": "markdown",
   "metadata": {},
   "source": [
    "# Now run snaq with tucsonensis instead of fimbriatus"
   ]
  },
  {
   "cell_type": "code",
   "execution_count": 14,
   "metadata": {},
   "outputs": [],
   "source": [
    "imap2={\n",
    " #    \"acanthochiton\": [\"acanthochiton_SLH_AL_0001\",\"acanthochiton_SLH_AL_0002\"],\n",
    "      \"acutilobus\": [\"acutilobus_SLH_AL_0003\",\"acutilobus_SLH_AL_0004\"],\n",
    "      \"albus\": [\"albus_SLH_AL_0006\", \"albus_SLH_AL_0009\", \"albus_SLH_AL_0010\"],\n",
    "      \"arenicola\": [\"arenicola_SLH_AL_0013\",\"arenicola_SLH_AL_0018\",\"arenicola_SLH_AL_0012\",\"arenicola_SLH_AL_0015\"],\n",
    "  #    \"asplundii\": [\"asplundii_SLH_AL_0019\"],\n",
    "  #    \"australis\": [\"australis_SLH_AL_0020\",\"australis_SLH_AL_0021\"],\n",
    "      \"blitoides\": [\"blitoides_SLH_AL_0028\"], #\"blitoides_SLH_AL_0023\",\n",
    "      \"blitum\": [\"blitum-blitum_SLH_AL_0029\", \"blitum-oleraceus_SLH_AL_0034\", \"blitum-pseudogracilis_SLH_AL_0037\"],\n",
    " #     \"californicus\": [\"californicus_SLH_AL_0039\"],\n",
    "      \"cannabinus\": [\"cannabinus_SLH_AL_0040\", \"cannabinus_SLH_AL_0041\"], #\"cannabinus_SLH_AL_0042\"],\n",
    "      \"caudatus\": [\"caudatus_SLH_AL_0102\",\"caudatus_SLH_AL_0110\",\"caudatus_SLH_AL_0116\",\"caudatus_SLH_AL_0322\",\"caudatus_SLH_AL_0540\"],\n",
    " #     \"crassipes\": [\"crassipes_SLH_AL_0599\",\"crassipes_SLH_AL_0600\"],\n",
    "      \"cruentus\": [\"cruentus_SLH_AL_0679\", \"cruentus_SLH_AL_0699\", \"cruentus_SLH_AL_0728\", \"cruentus_SLH_AL_0804\", \n",
    "                   \"cruentus_SLH_AL_0832\", \"hybridus_SLH_AL_1060\", \"hybridus_SLH_AL_1098\",],\n",
    "  #    \"deflexus\": [\"deflexus_SLH_AL_0951\",\"deflexus_SLH_AL_0952\", \"deflexus_SLH_AL_0955\",\"deflexus_SLH_AL_0953\",\"deflexus_SLH_AL_0954\"],\n",
    "      \"dubius\": [\"dubius_SLH_AL_0965\",\"dubius_SLH_AL_0979\",\"dubius_SLH_AL_0992\"],\n",
    "  #    \"fimbriatus\": [\"fimbriatus_SLH_AL_0998\"], #\"fimbriatus_SLH_AL_0997\", \n",
    "  #    \"floridanus\": [\"floridanus_SLH_AL_1000\"],\n",
    "  #    \"graecizans\": [\"graecizans-aschersonianus_SLH_AL_1009\", \"graecizans-silvestris_SLH_AL_1013\", \"graecizans-thellungianus_SLH_AL_1014\"],\n",
    "  #    \"greggii\": [\"greggii_SLH_AL_1015\", \"greggii_SLH_AL_1016\"],\n",
    "      \"hybridus\": [\"hybridus_SLH_AL_0001-restricted\", \"hybridus_SLH_AL_1117\"], # \"hybridus_SLH_AL_1099\", \n",
    "      \"hypochondriacus\": [\"hypochondriacus_SLH_AL_1178\", \"hypochondriacus_SLH_AL_1197\", \"hypochondriacus_SLH_AL_1264\", \"hypochondriacus_SLH_AL_1285\",\"hypochondriacus_SLH_AL_2282\", \"hypochondriacus_SLH_AL_2436\"],\n",
    "  #    \"muricatus\": [\"muricatus_SLH_AL_2634\"],\n",
    "      \"palmeri\": [\"palmeri-aff_SLH_AL_0017\", \"palmeri_SLH_AL_2637\", \"palmeri_SLH_AL_2644\", \"palmeri_SLH_AL_2647\", \"palmeri_SLH_AL_2649\", \"palmeri_SLH_AL_2650\",\n",
    "                  \"palmeri_SLH_AL_2635\",\"palmeri_SLH_AL_2636\",\"palmeri_SLH_AL_2638\",\"palmeri_SLH_AL_2639\",\"palmeri_SLH_AL_2640\",\"palmeri_SLH_AL_2641\",\"palmeri_SLH_AL_2642\",\"palmeri_SLH_AL_2643\",\"palmeri_SLH_AL_2645\",\"palmeri_SLH_AL_2646\",\n",
    "                  \"palmeri_SLH_AL_159-contemp\",\"palmeri_SLH_AL_163-contemp\",\"palmeri_SLH_AL_173-contemp\",\"palmeri_SLH_AL_174-contemp\",\"palmeri_SLH_AL_235-contemp\"],\n",
    "      \"powellii\": [\"powellii-bouchonii_SLH_AL_2653\", \"powellii-powellii_SLH_AL_2663\", \"powellii-powellii_SLH_AL_2665\"],\n",
    "      \"pumilus\": [\"pumilus_SLH_AL_5-restricted\",\"pumilus_SLH_AL_7-restricted\"],\n",
    "      \"quitensis\": [\"quitensis_SLH_AL_2671\", \"quitensis_SLH_AL_2675\",\"quitensis_SLH_AL_2753\"],\n",
    "      \"retroflexus\": [\"retroflexus_SLH_AL_2770\", \"retroflexus_SLH_AL_2773\", \"retroflexus_SLH_AL_2780\"],\n",
    "      \"spinosus\": [\"spinosus_SLH_AL_2792\", \"spinosus_SLH_AL_2793\", \"spinosus_SLH_AL_2806\", \"spinosus_SLH_AL_2809\", \"spinosus_SLH_AL_2811\"],\n",
    "   #   \"standleyanus\": [\"standleyanus_SLH_AL_2815\",\"standleyanus_SLH_AL_2816\"],\n",
    "  #    \"tamaulipensis\": [\"tamaulipensis_SLH_AL_2817\"],\n",
    "  #    \"torreyi\": [\"torreyi_SLH_AL_2818\"],\n",
    "      \"tricolor\": [\"tricolor_SLH_AL_2869\", \"tricolor_SLH_AL_2940\", \"tricolor_SLH_AL_2953\", \"tricolor_SLH_AL_2978\"],\n",
    "      \"tuberculatus\": [\"tuberculatus_SLH_AL_0009-restricted\", \"tuberculatus_SLH_AL_3003\", \"tuberculatus_SLH_AL_3017\", \"tuberculatus_SLH_AL_3027\", \"tuberculatus_SLH_AL_3045\",\n",
    "                        \"tuberculatus_SLH_AL_2999\",\"tuberculatus_SLH_AL_3000\",\"tuberculatus_SLH_AL_3001\",\"tuberculatus_SLH_AL_3002\",\"tuberculatus_SLH_AL_3004\",\"tuberculatus_SLH_AL_3005\",\n",
    "                        \"tuberculatus_SLH_AL_3006\",\"tuberculatus_SLH_AL_3007\",\"tuberculatus_SLH_AL_3008\",\"tuberculatus_SLH_AL_3009\",\"tuberculatus_SLH_AL_3010\",\n",
    "                        \"tuberculatus_SLH_AL_3011\",\"tuberculatus_SLH_AL_3012\",\"tuberculatus_SLH_AL_3013\",\"tuberculatus_SLH_AL_3014\",\"tuberculatus_SLH_AL_3015\",\n",
    "                        \"tuberculatus_SLH_AL_3016\",\"tuberculatus_SLH_AL_3018\",\"tuberculatus_SLH_AL_3019\",\"tuberculatus_SLH_AL_3020\",\"tuberculatus_SLH_AL_3021\",\n",
    "                        \"tuberculatus_SLH_AL_3022\",\"tuberculatus_SLH_AL_3023\",\"tuberculatus_SLH_AL_3024\",\"tuberculatus_SLH_AL_3025\",\"tuberculatus_SLH_AL_3026\",\n",
    "                        \"tuberculatus_SLH_AL_3028\",\"tuberculatus_SLH_AL_3029\",\"tuberculatus_SLH_AL_3030\",\"tuberculatus_SLH_AL_3031\",\"tuberculatus_SLH_AL_3032\",\n",
    "                        \"tuberculatus_SLH_AL_3033\",\"tuberculatus_SLH_AL_3034\",\"tuberculatus_SLH_AL_3035\",\"tuberculatus_SLH_AL_3036\",#\"tuberculatus_SLH_AL_3037\",\n",
    "                        \"tuberculatus_SLH_AL_3038\",\"tuberculatus_SLH_AL_3039\",\"tuberculatus_SLH_AL_3041\",\"tuberculatus_SLH_AL_3042\",\"tuberculatus_SLH_AL_3043\",\n",
    "                        \"tuberculatus_SLH_AL_3044\",\"tuberculatus_SLH_AL_3046\",\"tuberculatus_SLH_AL_154-contemp\",\"tuberculatus_SLH_AL_155-contemp\",\n",
    "                        \"tuberculatus_SLH_AL_156-contemp\",\"tuberculatus_SLH_AL_157-contemp\",\"tuberculatus_SLH_AL_160-contemp\",\"tuberculatus_SLH_AL_165-contemp\",\n",
    "                        \"tuberculatus_SLH_AL_169-contemp\",\"tuberculatus_SLH_AL_175-contemp\",\"tuberculatus_SLH_AL_176-contemp\",\"tuberculatus_SLH_AL_202-contemp\",\n",
    "                        \"tuberculatus_SLH_AL_206-contemp\",\"tuberculatus_SLH_AL_208-contemp\",\"tuberculatus_SLH_AL_236-contemp\",\"tuberculatus_SLH_AL_237-contemp\"],\n",
    "        \"tucsonensis\": [\"tucsonensis_SLH_AL_3068\"],\n",
    "        \"viridis\": [\"viridis_SLH_AL_3047\", \"viridis_SLH_AL_3062\"],\n",
    "        \"watsonii\": [\"watsonii_SLH_AL_3065\"],\n",
    "        \"wrightii\": [\"wrightii_SLH_AL_3066\", \"wrightii_SLH_AL_3067\"],    \n",
    "    #  \"beet\":[\"beet\"],\n",
    "     }"
   ]
  },
  {
   "cell_type": "code",
   "execution_count": 15,
   "metadata": {},
   "outputs": [],
   "source": [
    "#run RAxML on \"genes\" that are 1M bp long in treeslider\n",
    "ts = ipa.treeslider(\n",
    "        name='tucs_23spp',  #this name can't end in _2\n",
    "        data=data,\n",
    "        workdir=outDIR,\n",
    "        scaffold_idxs=range(16),\n",
    "        window_size=1000000,\n",
    "        slide_size= 1000000,  \n",
    "        inference_method=\"raxml\",  #options are raxml and mrbayes\n",
    "      #  inference_args={\"N\": 100, \"T\": 24}, #number of bootstraps and # cores\n",
    "        consensus_reduce=True, # this tells it to make 1 sequence for each key in dictionary\n",
    "        minsnps=100,  #within window_size, it must have at least this much diversity\n",
    "        mincov=4,   #For example, mincov=0.5 will require that 50% of samples contain a site that is not N or - for the site to be included in the alignment. \n",
    "        rmincov=0,\n",
    "        imap=imap2,\n",
    "        minmap= {i: 0.1 for i in imap2}, #half of each key in imap dictionary\n",
    "        keep_all_files=True,\n",
    ")"
   ]
  },
  {
   "cell_type": "code",
   "execution_count": 16,
   "metadata": {},
   "outputs": [
    {
     "name": "stdout",
     "output_type": "stream",
     "text": [
      "building database: nwindows=388; minsnps=100\n",
      "[####################] 100% 0:51:03 | inferring trees \n",
      "tree_table written to /rigel/dsi/users/slh2181/tuberculatus_plate/fimbriatus/snaq/tucs_23spp.tree_table.csv\n"
     ]
    }
   ],
   "source": [
    "# run treeslider/RAxML.  this took 1 hr\n",
    "# make sure there is no temp directory existing because then this won't run.\n",
    "ts.run(auto=True, force=True) #use auto=true when you have 24 engines"
   ]
  },
  {
   "cell_type": "code",
   "execution_count": 17,
   "metadata": {
    "scrolled": false
   },
   "outputs": [
    {
     "data": {
      "text/html": [
       "<div>\n",
       "<style scoped>\n",
       "    .dataframe tbody tr th:only-of-type {\n",
       "        vertical-align: middle;\n",
       "    }\n",
       "\n",
       "    .dataframe tbody tr th {\n",
       "        vertical-align: top;\n",
       "    }\n",
       "\n",
       "    .dataframe thead th {\n",
       "        text-align: right;\n",
       "    }\n",
       "</style>\n",
       "<table border=\"1\" class=\"dataframe\">\n",
       "  <thead>\n",
       "    <tr style=\"text-align: right;\">\n",
       "      <th></th>\n",
       "      <th>scaffold</th>\n",
       "      <th>start</th>\n",
       "      <th>end</th>\n",
       "      <th>sites</th>\n",
       "      <th>snps</th>\n",
       "      <th>samples</th>\n",
       "      <th>missing</th>\n",
       "      <th>tree</th>\n",
       "    </tr>\n",
       "  </thead>\n",
       "  <tbody>\n",
       "    <tr>\n",
       "      <th>0</th>\n",
       "      <td>0</td>\n",
       "      <td>0</td>\n",
       "      <td>1000000</td>\n",
       "      <td>5236</td>\n",
       "      <td>238</td>\n",
       "      <td>23</td>\n",
       "      <td>0.54</td>\n",
       "      <td>(quitensis:0.00378424,caudatus:0.00236282,(((powellii:0.010388,hybridus:0.00651375)15:0.00121519,((wrightii:0.00471088,retroflexus:0.00454464)44:0.00149683,(cruentus:0.00536882,hypochondriacus:0.00422683)38:0.00153701)19:0.00191192)29:0.00257152,...</td>\n",
       "    </tr>\n",
       "    <tr>\n",
       "      <th>1</th>\n",
       "      <td>0</td>\n",
       "      <td>1000000</td>\n",
       "      <td>2000000</td>\n",
       "      <td>4781</td>\n",
       "      <td>297</td>\n",
       "      <td>23</td>\n",
       "      <td>0.58</td>\n",
       "      <td>(watsonii:1e-06,palmeri:0.0262166,((dubius:0.0157142,spinosus:0.0269746)57:0.00621842,(((wrightii:0.00997377,(retroflexus:0.0189869,powellii:0.0101217)66:0.00640256)40:0.00613688,(acutilobus:0.0202563,((cruentus:0.00567022,hybridus:0.00551538)73:...</td>\n",
       "    </tr>\n",
       "    <tr>\n",
       "      <th>2</th>\n",
       "      <td>0</td>\n",
       "      <td>2000000</td>\n",
       "      <td>3000000</td>\n",
       "      <td>3149</td>\n",
       "      <td>179</td>\n",
       "      <td>23</td>\n",
       "      <td>0.59</td>\n",
       "      <td>(acutilobus:0.00778619,wrightii:1e-06,(retroflexus:1e-06,(powellii:0.0104786,(((quitensis:1e-06,caudatus:1e-06)32:0.00299354,(hypochondriacus:0.00495188,(hybridus:1e-06,cruentus:0.00491387)92:0.00469267)22:0.00102444)38:0.00336674,((watsonii:0.00...</td>\n",
       "    </tr>\n",
       "    <tr>\n",
       "      <th>3</th>\n",
       "      <td>0</td>\n",
       "      <td>3000000</td>\n",
       "      <td>4000000</td>\n",
       "      <td>2499</td>\n",
       "      <td>154</td>\n",
       "      <td>23</td>\n",
       "      <td>0.51</td>\n",
       "      <td>(dubius:0.00794682,(watsonii:0.00682624,(palmeri:0.0178142,spinosus:0.00905557)22:1e-06)89:0.00979045,(((acutilobus:0.0141139,(powellii:0.00219626,(wrightii:0.00160707,retroflexus:0.00292413)53:0.00485422)42:0.00148956)31:0.00071657,(cruentus:0.0...</td>\n",
       "    </tr>\n",
       "    <tr>\n",
       "      <th>4</th>\n",
       "      <td>0</td>\n",
       "      <td>4000000</td>\n",
       "      <td>5000000</td>\n",
       "      <td>2560</td>\n",
       "      <td>178</td>\n",
       "      <td>23</td>\n",
       "      <td>0.43</td>\n",
       "      <td>(cruentus:0.00448151,(hypochondriacus:0.00673697,(hybridus:0.00952784,(quitensis:1e-06,caudatus:0.00391019)61:0.00395482)49:0.00169821)66:0.000939581,((acutilobus:0.0104888,(powellii:0.00834409,(retroflexus:0.00553418,wrightii:0.00532031)86:0.004...</td>\n",
       "    </tr>\n",
       "    <tr>\n",
       "      <th>...</th>\n",
       "      <td>...</td>\n",
       "      <td>...</td>\n",
       "      <td>...</td>\n",
       "      <td>...</td>\n",
       "      <td>...</td>\n",
       "      <td>...</td>\n",
       "      <td>...</td>\n",
       "      <td>...</td>\n",
       "    </tr>\n",
       "    <tr>\n",
       "      <th>383</th>\n",
       "      <td>15</td>\n",
       "      <td>17000000</td>\n",
       "      <td>18000000</td>\n",
       "      <td>11180</td>\n",
       "      <td>665</td>\n",
       "      <td>23</td>\n",
       "      <td>0.35</td>\n",
       "      <td>(retroflexus:0.0011399,wrightii:0.00106143,(powellii:0.00262866,(acutilobus:0.00660502,((cruentus:0.00425313,(hypochondriacus:0.00285146,(hybridus:0.00224798,(quitensis:0.000222759,caudatus:0.00159247)100:0.00151757)60:0.000150482)72:0.000738652)...</td>\n",
       "    </tr>\n",
       "    <tr>\n",
       "      <th>384</th>\n",
       "      <td>15</td>\n",
       "      <td>18000000</td>\n",
       "      <td>19000000</td>\n",
       "      <td>9368</td>\n",
       "      <td>519</td>\n",
       "      <td>23</td>\n",
       "      <td>0.34</td>\n",
       "      <td>(powellii:0.00539087,(wrightii:0.000910404,retroflexus:0.000829977)100:0.00345663,(acutilobus:0.00764465,((cruentus:0.00262888,((quitensis:0.000760074,caudatus:0.000882469)96:0.000732446,(hypochondriacus:0.00208066,hybridus:0.000791253)70:0.00029...</td>\n",
       "    </tr>\n",
       "    <tr>\n",
       "      <th>385</th>\n",
       "      <td>15</td>\n",
       "      <td>19000000</td>\n",
       "      <td>20000000</td>\n",
       "      <td>10447</td>\n",
       "      <td>674</td>\n",
       "      <td>23</td>\n",
       "      <td>0.37</td>\n",
       "      <td>(wrightii:0.00184524,(powellii:0.00469239,retroflexus:0.00199252)50:0.00109724,(acutilobus:0.00484609,(cruentus:0.00222161,((quitensis:0.00146386,caudatus:0.00128572)77:0.00104016,((hybridus:0.00173848,hypochondriacus:0.00179072)38:0.000515966,(d...</td>\n",
       "    </tr>\n",
       "    <tr>\n",
       "      <th>386</th>\n",
       "      <td>15</td>\n",
       "      <td>20000000</td>\n",
       "      <td>21000000</td>\n",
       "      <td>6418</td>\n",
       "      <td>373</td>\n",
       "      <td>23</td>\n",
       "      <td>0.36</td>\n",
       "      <td>(retroflexus:0.00221086,wrightii:0.00176656,((acutilobus:0.0050631,((dubius:0.00837606,cruentus:0.00288119)78:0.00225938,(hypochondriacus:0.00191251,(hybridus:0.00158489,(caudatus:0.00149544,quitensis:0.000246156)72:0.000965568)43:0.000778046)36:...</td>\n",
       "    </tr>\n",
       "    <tr>\n",
       "      <th>387</th>\n",
       "      <td>15</td>\n",
       "      <td>21000000</td>\n",
       "      <td>22000000</td>\n",
       "      <td>9323</td>\n",
       "      <td>542</td>\n",
       "      <td>23</td>\n",
       "      <td>0.38</td>\n",
       "      <td>(wrightii:0.00167257,retroflexus:0.00120604,(acutilobus:0.00445849,(powellii:0.00572429,((hypochondriacus:0.00504809,(cruentus:0.00418368,(hybridus:0.00221569,(quitensis:0.00153399,caudatus:0.00147055)91:0.00226288)52:0.00183271)91:0.00217287)94:...</td>\n",
       "    </tr>\n",
       "  </tbody>\n",
       "</table>\n",
       "<p>388 rows × 8 columns</p>\n",
       "</div>"
      ],
      "text/plain": [
       "     scaffold     start       end  sites  snps  samples  missing  \\\n",
       "0           0         0   1000000   5236   238       23     0.54   \n",
       "1           0   1000000   2000000   4781   297       23     0.58   \n",
       "2           0   2000000   3000000   3149   179       23     0.59   \n",
       "3           0   3000000   4000000   2499   154       23     0.51   \n",
       "4           0   4000000   5000000   2560   178       23     0.43   \n",
       "..        ...       ...       ...    ...   ...      ...      ...   \n",
       "383        15  17000000  18000000  11180   665       23     0.35   \n",
       "384        15  18000000  19000000   9368   519       23     0.34   \n",
       "385        15  19000000  20000000  10447   674       23     0.37   \n",
       "386        15  20000000  21000000   6418   373       23     0.36   \n",
       "387        15  21000000  22000000   9323   542       23     0.38   \n",
       "\n",
       "                                                                                                                                                                                                                                                          tree  \n",
       "0    (quitensis:0.00378424,caudatus:0.00236282,(((powellii:0.010388,hybridus:0.00651375)15:0.00121519,((wrightii:0.00471088,retroflexus:0.00454464)44:0.00149683,(cruentus:0.00536882,hypochondriacus:0.00422683)38:0.00153701)19:0.00191192)29:0.00257152,...  \n",
       "1    (watsonii:1e-06,palmeri:0.0262166,((dubius:0.0157142,spinosus:0.0269746)57:0.00621842,(((wrightii:0.00997377,(retroflexus:0.0189869,powellii:0.0101217)66:0.00640256)40:0.00613688,(acutilobus:0.0202563,((cruentus:0.00567022,hybridus:0.00551538)73:...  \n",
       "2    (acutilobus:0.00778619,wrightii:1e-06,(retroflexus:1e-06,(powellii:0.0104786,(((quitensis:1e-06,caudatus:1e-06)32:0.00299354,(hypochondriacus:0.00495188,(hybridus:1e-06,cruentus:0.00491387)92:0.00469267)22:0.00102444)38:0.00336674,((watsonii:0.00...  \n",
       "3    (dubius:0.00794682,(watsonii:0.00682624,(palmeri:0.0178142,spinosus:0.00905557)22:1e-06)89:0.00979045,(((acutilobus:0.0141139,(powellii:0.00219626,(wrightii:0.00160707,retroflexus:0.00292413)53:0.00485422)42:0.00148956)31:0.00071657,(cruentus:0.0...  \n",
       "4    (cruentus:0.00448151,(hypochondriacus:0.00673697,(hybridus:0.00952784,(quitensis:1e-06,caudatus:0.00391019)61:0.00395482)49:0.00169821)66:0.000939581,((acutilobus:0.0104888,(powellii:0.00834409,(retroflexus:0.00553418,wrightii:0.00532031)86:0.004...  \n",
       "..                                                                                                                                                                                                                                                         ...  \n",
       "383  (retroflexus:0.0011399,wrightii:0.00106143,(powellii:0.00262866,(acutilobus:0.00660502,((cruentus:0.00425313,(hypochondriacus:0.00285146,(hybridus:0.00224798,(quitensis:0.000222759,caudatus:0.00159247)100:0.00151757)60:0.000150482)72:0.000738652)...  \n",
       "384  (powellii:0.00539087,(wrightii:0.000910404,retroflexus:0.000829977)100:0.00345663,(acutilobus:0.00764465,((cruentus:0.00262888,((quitensis:0.000760074,caudatus:0.000882469)96:0.000732446,(hypochondriacus:0.00208066,hybridus:0.000791253)70:0.00029...  \n",
       "385  (wrightii:0.00184524,(powellii:0.00469239,retroflexus:0.00199252)50:0.00109724,(acutilobus:0.00484609,(cruentus:0.00222161,((quitensis:0.00146386,caudatus:0.00128572)77:0.00104016,((hybridus:0.00173848,hypochondriacus:0.00179072)38:0.000515966,(d...  \n",
       "386  (retroflexus:0.00221086,wrightii:0.00176656,((acutilobus:0.0050631,((dubius:0.00837606,cruentus:0.00288119)78:0.00225938,(hypochondriacus:0.00191251,(hybridus:0.00158489,(caudatus:0.00149544,quitensis:0.000246156)72:0.000965568)43:0.000778046)36:...  \n",
       "387  (wrightii:0.00167257,retroflexus:0.00120604,(acutilobus:0.00445849,(powellii:0.00572429,((hypochondriacus:0.00504809,(cruentus:0.00418368,(hybridus:0.00221569,(quitensis:0.00153399,caudatus:0.00147055)91:0.00226288)52:0.00183271)91:0.00217287)94:...  \n",
       "\n",
       "[388 rows x 8 columns]"
      ]
     },
     "execution_count": 17,
     "metadata": {},
     "output_type": "execute_result"
    }
   ],
   "source": [
    "ts.tree_table"
   ]
  },
  {
   "cell_type": "code",
   "execution_count": 18,
   "metadata": {},
   "outputs": [
    {
     "name": "stdout",
     "output_type": "stream",
     "text": [
      "java -jar /rigel/home/slh2181/miniconda3/bin/astral.5.7.1.jar -i /rigel/dsi/users/slh2181/tuberculatus_plate/fimbriatus/snaq/tmptrees.txt -o /rigel/dsi/users/slh2181/tuberculatus_plate/fimbriatus/snaq/Astral_tucs_23spp.tre -t 1\n"
     ]
    }
   ],
   "source": [
    "Ast = ipa.astral(\n",
    "    data = ts.tree_table,\n",
    "#    data = \"/rigel/dsi/users/slh2181/tuberculatus_plate/fimbriatus/snaq/fimb_fixed_23spp.tree_table.csv\",\n",
    "    name='Astral_tucs_23spp',\n",
    "    workdir=outDIR,\n",
    "#    bootsfile=\"/rigel/dsi/users/slh2181/tuberculatus_plate/Analysis/snaq/allyrs.bootsfiles.txt\",\n",
    "#    imap=None,\n",
    "    annotation=1,\n",
    "#    gene_resampling=True,\n",
    "#    nboots=75,\n",
    ")\n",
    "\n",
    "Ast.print_command()"
   ]
  },
  {
   "cell_type": "code",
   "execution_count": 19,
   "metadata": {},
   "outputs": [
    {
     "name": "stdout",
     "output_type": "stream",
     "text": [
      "[astral.5.7.1.jar]\n",
      "inferred tree written to (/rigel/dsi/users/slh2181/tuberculatus_plate/fimbriatus/snaq/Astral_tucs_23spp.tre)\n"
     ]
    }
   ],
   "source": [
    "Ast.run()"
   ]
  },
  {
   "cell_type": "code",
   "execution_count": 20,
   "metadata": {
    "scrolled": true
   },
   "outputs": [
    {
     "data": {
      "text/html": [
       "<div class=\"toyplot\" id=\"t35717b72f38044c59940cb89e6edcab1\" style=\"text-align:center\"><svg class=\"toyplot-canvas-Canvas\" height=\"414.0px\" id=\"t1ae86841d937483fb6429fca3a7088c6\" preserveAspectRatio=\"xMidYMid meet\" style=\"background-color:transparent;border-color:#292724;border-style:none;border-width:1.0;fill:rgb(16.1%,15.3%,14.1%);fill-opacity:1.0;font-family:Helvetica;font-size:12px;opacity:1.0;stroke:rgb(16.1%,15.3%,14.1%);stroke-opacity:1.0;stroke-width:1.0\" viewBox=\"0 0 325.0 414.0\" width=\"325.0px\" xmlns=\"http://www.w3.org/2000/svg\" xmlns:toyplot=\"http://www.sandia.gov/toyplot\" xmlns:xlink=\"http://www.w3.org/1999/xlink\"><g class=\"toyplot-coordinates-Cartesian\" id=\"t6b26ceee8f2e456db7cf0eff82a84ef9\"><clipPath id=\"t870a4f63dd8c4ec6b73e936996478b09\"><rect height=\"354.0\" width=\"265.0\" x=\"30.0\" y=\"30.0\"></rect></clipPath><g clip-path=\"url(#t870a4f63dd8c4ec6b73e936996478b09)\"><g class=\"toytree-mark-Toytree\" id=\"te09e0392319d43158166725659c8d091\"><g class=\"toytree-Edges\" style=\"fill:none;stroke:rgb(14.9%,14.9%,14.9%);stroke-linecap:round;stroke-opacity:1;stroke-width:2\"><path d=\"M 51.4 167.0 L 51.4 102.5 L 86.0 102.5\" id=\"44,43\"></path><path d=\"M 51.4 167.0 L 51.4 231.5 L 86.0 231.5\" id=\"44,42\"></path><path d=\"M 86.0 102.5 L 86.0 73.2 L 127.2 73.2\" id=\"43,41\"></path><path d=\"M 86.0 102.5 L 86.0 131.9 L 95.4 131.9\" id=\"43,40\"></path><path d=\"M 86.0 231.5 L 86.0 203.7 L 126.4 203.7\" id=\"42,39\"></path><path d=\"M 86.0 231.5 L 86.0 259.2 L 90.7 259.2\" id=\"42,38\"></path><path d=\"M 127.2 73.2 L 127.2 84.8 L 136.3 84.8\" id=\"41,37\"></path><path d=\"M 95.4 131.9 L 95.4 149.2 L 116.6 149.2\" id=\"40,36\"></path><path d=\"M 126.4 203.7 L 126.4 213.6 L 135.9 213.6\" id=\"39,35\"></path><path d=\"M 90.7 259.2 L 90.7 285.0 L 119.3 285.0\" id=\"38,34\"></path><path d=\"M 136.3 84.8 L 136.3 94.7 L 143.1 94.7\" id=\"37,33\"></path><path d=\"M 116.6 149.2 L 116.6 134.3 L 160.5 134.3\" id=\"36,32\"></path><path d=\"M 116.6 149.2 L 116.6 164.1 L 159.2 164.1\" id=\"36,31\"></path><path d=\"M 119.3 285.0 L 119.3 258.2 L 128.5 258.2\" id=\"34,30\"></path><path d=\"M 119.3 285.0 L 119.3 311.9 L 145.6 311.9\" id=\"34,29\"></path><path d=\"M 159.2 164.1 L 159.2 174.0 L 178.0 174.0\" id=\"31,28\"></path><path d=\"M 128.5 258.2 L 128.5 269.8 L 139.8 269.8\" id=\"30,27\"></path><path d=\"M 145.6 311.9 L 145.6 324.3 L 150.8 324.3\" id=\"29,26\"></path><path d=\"M 139.8 269.8 L 139.8 279.7 L 171.9 279.7\" id=\"27,25\"></path><path d=\"M 150.8 324.3 L 150.8 335.8 L 157.2 335.8\" id=\"26,24\"></path><path d=\"M 157.2 335.8 L 157.2 345.7 L 188.3 345.7\" id=\"24,23\"></path><path d=\"M 127.2 73.2 L 127.2 61.7 L 143.3 61.7\" id=\"41,22\"></path><path d=\"M 136.3 84.8 L 136.3 74.9 L 152.5 74.9\" id=\"37,21\"></path><path d=\"M 143.1 94.7 L 143.1 88.1 L 159.3 88.1\" id=\"33,20\"></path><path d=\"M 143.1 94.7 L 143.1 101.3 L 159.3 101.3\" id=\"33,19\"></path><path d=\"M 95.4 131.9 L 95.4 114.5 L 111.6 114.5\" id=\"40,18\"></path><path d=\"M 160.5 134.3 L 160.5 127.7 L 176.6 127.7\" id=\"32,17\"></path><path d=\"M 160.5 134.3 L 160.5 140.9 L 176.6 140.9\" id=\"32,16\"></path><path d=\"M 159.2 164.1 L 159.2 154.2 L 175.4 154.2\" id=\"31,15\"></path><path d=\"M 178.0 174.0 L 178.0 167.4 L 194.1 167.4\" id=\"28,14\"></path><path d=\"M 178.0 174.0 L 178.0 180.6 L 194.1 180.6\" id=\"28,13\"></path><path d=\"M 126.4 203.7 L 126.4 193.8 L 142.5 193.8\" id=\"39,12\"></path><path d=\"M 135.9 213.6 L 135.9 207.0 L 152.1 207.0\" id=\"35,11\"></path><path d=\"M 135.9 213.6 L 135.9 220.2 L 152.1 220.2\" id=\"35,10\"></path><path d=\"M 90.7 259.2 L 90.7 233.4 L 106.8 233.4\" id=\"38,9\"></path><path d=\"M 128.5 258.2 L 128.5 246.6 L 144.7 246.6\" id=\"30,8\"></path><path d=\"M 139.8 269.8 L 139.8 259.8 L 156.0 259.8\" id=\"27,7\"></path><path d=\"M 171.9 279.7 L 171.9 273.1 L 188.0 273.1\" id=\"25,6\"></path><path d=\"M 171.9 279.7 L 171.9 286.3 L 188.0 286.3\" id=\"25,5\"></path><path d=\"M 145.6 311.9 L 145.6 299.5 L 161.7 299.5\" id=\"29,4\"></path><path d=\"M 150.8 324.3 L 150.8 312.7 L 167.0 312.7\" id=\"26,3\"></path><path d=\"M 157.2 335.8 L 157.2 325.9 L 173.3 325.9\" id=\"24,2\"></path><path d=\"M 188.3 345.7 L 188.3 339.1 L 204.5 339.1\" id=\"23,1\"></path><path d=\"M 188.3 345.7 L 188.3 352.3 L 204.5 352.3\" id=\"23,0\"></path></g><g class=\"toytree-NodeLabels\" style=\"fill:rgb(14.9%,14.9%,14.9%);fill-opacity:1.0;font-size:9px;stroke:none\"><g transform=\"translate(177.06,348.03)\"><text>90.54</text></g><g transform=\"translate(145.90,338.12)\"><text>55.14</text></g><g transform=\"translate(160.62,281.97)\"><text>91.09</text></g><g transform=\"translate(139.55,326.56)\"><text>51.89</text></g><g transform=\"translate(128.54,272.06)\"><text>66.96</text></g><g transform=\"translate(166.71,176.27)\"><text>79.28</text></g><g transform=\"translate(134.33,314.17)\"><text>87.16</text></g><g transform=\"translate(117.28,260.50)\"><text>62.62</text></g><g transform=\"translate(147.98,166.36)\"><text>95.48</text></g><g transform=\"translate(149.21,136.63)\"><text>95.83</text></g><g transform=\"translate(131.85,96.99)\"><text>56.38</text></g><g transform=\"translate(108.00,287.34)\"><text>88.87</text></g><g transform=\"translate(124.65,215.91)\"><text>63.24</text></g><g transform=\"translate(105.37,151.50)\"><text>82.27</text></g><g transform=\"translate(125.05,87.09)\"><text>62.25</text></g><g transform=\"translate(79.41,261.53)\"><text>50.15</text></g><g transform=\"translate(115.11,206.00)\"><text>94.76</text></g><g transform=\"translate(84.16,134.15)\"><text>62.92</text></g><g transform=\"translate(115.93,75.52)\"><text>95.03</text></g><g transform=\"translate(74.76,233.76)\"><text>100.0</text></g><g transform=\"translate(74.76,104.84)\"><text>99.35</text></g></g><g class=\"toytree-TipLabels\" style=\"fill:rgb(14.9%,14.9%,14.9%);fill-opacity:1.0;font-family:helvetica;font-size:11px;font-weight:normal;stroke:none;white-space:pre\"><g transform=\"translate(204.48,352.34)rotate(0)\"><text style=\"\" x=\"15.00\" y=\"2.81\">quitensis</text></g><g transform=\"translate(204.48,339.12)rotate(0)\"><text style=\"\" x=\"15.00\" y=\"2.81\">caudatus</text></g><g transform=\"translate(173.32,325.91)rotate(0)\"><text style=\"\" x=\"15.00\" y=\"2.81\">hybridus</text></g><g transform=\"translate(166.97,312.70)rotate(0)\"><text style=\"\" x=\"15.00\" y=\"2.81\">hypochondriacus</text></g><g transform=\"translate(161.75,299.49)rotate(0)\"><text style=\"\" x=\"15.00\" y=\"2.81\">cruentus</text></g><g transform=\"translate(188.04,286.27)rotate(0)\"><text style=\"\" x=\"15.00\" y=\"2.81\">retroflexus</text></g><g transform=\"translate(188.04,273.06)rotate(0)\"><text style=\"\" x=\"15.00\" y=\"2.81\">wrightii</text></g><g transform=\"translate(155.96,259.85)rotate(0)\"><text style=\"\" x=\"15.00\" y=\"2.81\">powellii</text></g><g transform=\"translate(144.70,246.64)rotate(0)\"><text style=\"\" x=\"15.00\" y=\"2.81\">acutilobus</text></g><g transform=\"translate(106.83,233.42)rotate(0)\"><text style=\"\" x=\"15.00\" y=\"2.81\">dubius</text></g><g transform=\"translate(152.07,220.21)rotate(0)\"><text style=\"\" x=\"15.00\" y=\"2.81\">palmeri</text></g><g transform=\"translate(152.07,207.00)rotate(0)\"><text style=\"\" x=\"15.00\" y=\"2.81\">watsonii</text></g><g transform=\"translate(142.53,193.79)rotate(0)\"><text style=\"\" x=\"15.00\" y=\"2.81\">spinosus</text></g><g transform=\"translate(194.13,180.58)rotate(0)\"><text style=\"\" x=\"15.00\" y=\"2.81\">tricolor</text></g><g transform=\"translate(194.13,167.36)rotate(0)\"><text style=\"\" x=\"15.00\" y=\"2.81\">blitum</text></g><g transform=\"translate(175.40,154.15)rotate(0)\"><text style=\"\" x=\"15.00\" y=\"2.81\">viridis</text></g><g transform=\"translate(176.63,140.94)rotate(0)\"><text style=\"\" x=\"15.00\" y=\"2.81\">albus</text></g><g transform=\"translate(176.63,127.73)rotate(0)\"><text style=\"\" x=\"15.00\" y=\"2.81\">blitoides</text></g><g transform=\"translate(111.58,114.51)rotate(0)\"><text style=\"\" x=\"15.00\" y=\"2.81\">tucsonensis</text></g><g transform=\"translate(159.27,101.30)rotate(0)\"><text style=\"\" x=\"15.00\" y=\"2.81\">arenicola</text></g><g transform=\"translate(159.27,88.09)rotate(0)\"><text style=\"\" x=\"15.00\" y=\"2.81\">tuberculatus</text></g><g transform=\"translate(152.47,74.88)rotate(0)\"><text style=\"\" x=\"15.00\" y=\"2.81\">pumilus</text></g><g transform=\"translate(143.35,61.66)rotate(0)\"><text style=\"\" x=\"15.00\" y=\"2.81\">cannabinus</text></g></g></g></g></g></svg><div class=\"toyplot-behavior\"><script>(function()\n",
       "{\n",
       "var modules={};\n",
       "})();</script></div></div>"
      ]
     },
     "metadata": {},
     "output_type": "display_data"
    }
   ],
   "source": [
    "Ast3 = toytree.tree(\"/rigel/dsi/users/slh2181/tuberculatus_plate/fimbriatus/snaq/Astral_tucs_23spp.tre\")\n",
    "Ast3.root([\"palmeri\",\"watsonii\",\"spinosus\",\"dubius\",\"retroflexus\",\"wrightii\",\"powellii\",\"acutilobus\",\n",
    "           \"cruentus\",\"quitensis\",\"caudatus\",\"hybridus\",\"hypochondriacus\"]).draw(node_labels=\"support\");"
   ]
  },
  {
   "cell_type": "markdown",
   "metadata": {},
   "source": [
    "### Snaq input needs the tre  column by itself, so do that here:"
   ]
  },
  {
   "cell_type": "code",
   "execution_count": 21,
   "metadata": {},
   "outputs": [],
   "source": [
    "tree_table = pd.read_csv(\"/rigel/dsi/users/slh2181/tuberculatus_plate/fimbriatus/snaq/tucs_23spp.tree_table.csv\", sep=\",\")\n",
    "\n",
    "new = tree_table.tree[tree_table.tree.notna()].reset_index(drop=True)\n",
    "new.to_csv(\"/rigel/dsi/users/slh2181/tuberculatus_plate/fimbriatus/snaq/tucs_23spp.tree.csv\",\n",
    "    header=False, encoding='utf-8', index=False, sep=\" \")"
   ]
  }
 ],
 "metadata": {
  "kernelspec": {
   "display_name": "Python 3",
   "language": "python",
   "name": "python3"
  },
  "language_info": {
   "codemirror_mode": {
    "name": "ipython",
    "version": 3
   },
   "file_extension": ".py",
   "mimetype": "text/x-python",
   "name": "python",
   "nbconvert_exporter": "python",
   "pygments_lexer": "ipython3",
   "version": "3.7.6"
  }
 },
 "nbformat": 4,
 "nbformat_minor": 2
}
