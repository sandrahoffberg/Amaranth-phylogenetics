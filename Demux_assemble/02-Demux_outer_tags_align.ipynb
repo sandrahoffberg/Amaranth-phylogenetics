{
 "cells": [
  {
   "cell_type": "markdown",
   "metadata": {},
   "source": [
    "## Demultiplex outer barcodes in ipyrad\n",
    "\n",
    "This requires running ipyrad step 1 twice. <br>\n",
    "This notebook includes MIGseq reads (Amaranth reads from a different project that use a different library preparation method) and Pedicularis reads (different plant/ same data type) because they were pooled to run on single Illumina run. \n"
   ]
  },
  {
   "cell_type": "code",
   "execution_count": 1,
   "metadata": {},
   "outputs": [
    {
     "name": "stdout",
     "output_type": "stream",
     "text": [
      "Parallel connection | t103: 24 cores\n",
      "ipyrad 0.9.26\n"
     ]
    }
   ],
   "source": [
    "# import packages into python\n",
    "import ipyrad as ip\n",
    "import ipyparallel as ipp\n",
    "import ipyrad.analysis as ipa\n",
    "import pandas as pd\n",
    "\n",
    "# connect to parallel client\n",
    "ipyclient = ipp.Client()\n",
    "ip.cluster_info(ipyclient)\n",
    "\n",
    "# print the version of ipyrad you are running\n",
    "print('ipyrad', ipa.__version__)"
   ]
  },
  {
   "cell_type": "code",
   "execution_count": 2,
   "metadata": {},
   "outputs": [],
   "source": [
    "#Read in data and barcodes that are already created\n",
    "\n",
    "COL_plates = \"/moto/eaton/projects/RAW_DATA/Amaranthus/Amaranthus_COL_3RAD_run2_R*_.fastq.gz\"\n",
    "TUB_plate = \"/moto/eaton/users/slh2181/tuberculatus_plate/Run_191713587/bcl2fastq2/Undetermined_S0_R*_001.fastq.gz\"\n",
    "\n",
    "BARCODES_I7_plate12 = \"/moto/eaton/projects/RAW_DATA/Amaranthus/Amaranthus_COL_3RAD_run2_i7_barcodes.txt\"\n",
    "BARCODES_I7_tuberculatus = \"/moto/eaton/users/slh2181/tuberculatus_plate/ipyrad/i7_barcodes_tub.txt\"\n",
    "\n",
    "INNER_BARCODES_plate1 = \"/moto/eaton/users/slh2181/tuberculatus_plate/ipyrad/Amaranthus_UGA_3RAD_plate1_inline_barcodes.txt\"\n",
    "INNER_BARCODES_plate2 = \"/moto/eaton/projects/RAW_DATA/Amaranthus/Amaranthus_COL_3RAD_plate2_inline_barcodes.txt\"\n",
    "INNER_BARCODES_plate3 = \"/moto/eaton/users/slh2181/tuberculatus_plate/ipyrad/inner_barcodes_tub.txt\"\n",
    "\n",
    "QUINOA = \"/moto/eaton/projects/demux/digested_genomes/*.gz\"\n",
    "\n",
    "# the reference Amaranthus genome\n",
    "REF1 = \"/moto/eaton/users/slh2181/reference/Ahypochondriacus_459_v2.0.fa\"\n",
    "\n",
    "# the reference Quinoa genome\n",
    "REF2 = \"/moto/eaton/projects/demux/quinoa.fna\""
   ]
  },
  {
   "cell_type": "code",
   "execution_count": 4,
   "metadata": {},
   "outputs": [
    {
     "name": "stdout",
     "output_type": "stream",
     "text": [
      "Amaranthus_tuberculatus_3RAD\tCTCGTCTT\r\n",
      "MIGseq1a\tATGACCAG\r\n",
      "MIGseq1b\tAACCGTTC\r\n",
      "MIGseq1c\tTCCAATCG\r\n",
      "MIGseq1d\tCTGCACTT\r\n",
      "MIGseq1e\tCGCTTAAC\r\n",
      "MIGseq1f\tCACCACTA\r\n",
      "MIGseq1g\tACAGCAAC\r\n",
      "MIGseq1h\tGGAAGGAT\r\n",
      "MIGseq2a\tCGATAGAG\r\n",
      "MIGseq2b\tTTCGTTGG\r\n",
      "MIGseq2c\tTGGAGAGT\r\n",
      "MIGseq2d\tTCAGACGA\r\n",
      "MIGseq2e\tGACGAATG\r\n",
      "MIGseq2f\tCATGAGGA\r\n",
      "MIGseq2g\tCGGTTGTT\r\n",
      "MIGseq2h\tTCCGTATG\r\n",
      "Pedicularis_plate1\tCGAACTGT\r\n",
      "Pedicularis_plate2\tTCGGTTAC\r\n"
     ]
    }
   ],
   "source": [
    "! cat $BARCODES_I7_tuberculatus"
   ]
  },
  {
   "cell_type": "code",
   "execution_count": 4,
   "metadata": {},
   "outputs": [
    {
     "name": "stdout",
     "output_type": "stream",
     "text": [
      "plate1\tCGAACTGT\r\n",
      "plate1\tCATTCGGT\r\n",
      "plate1\tAAGTCGAG\r\n",
      "plate1\tTATCGGTC\r\n",
      "plate1\tGTATTGGC\r\n",
      "plate1\tAACCTCCT\r\n",
      "plate2\tCTCGTCTT\r\n",
      "plate2\tTCGGTTAC\r\n",
      "plate2\tTATTCGCC\r\n",
      "plate2\tAGTCGCTT\r\n",
      "plate2\tTGGCACTA\r\n",
      "plate2\tGGTTGTCA\r\n"
     ]
    }
   ],
   "source": [
    "! cat $BARCODES_I7_plate12"
   ]
  },
  {
   "cell_type": "code",
   "execution_count": 5,
   "metadata": {},
   "outputs": [
    {
     "name": "stdout",
     "output_type": "stream",
     "text": [
      "SLH_AL_0001\tCCGAAT   \tCTAACG\r\n",
      "SLH_AL_0003\tTTAGGCA\t    CTAACG\r\n",
      "SLH_AL_0004\tAACTCGTC\tCTAACG\r\n",
      "SLH_AL_0006\tGGTCTACGT\tCTAACG\r\n",
      "SLH_AL_0009\tGATACC\t\tCTAACG\r\n",
      "SLH_AL_0010\tAGCGTTG\t    CTAACG\r\n",
      "SLH_AL_0013\tCTGCAACT\tCTAACG\r\n",
      "SLH_AL_0017\tTCATGGTCA\tCTAACG\r\n",
      "SLH_AL_0018\tCCGAAT  \tTCGGTAC\r\n",
      "SLH_AL_0019\tTTAGGCA\t    TCGGTAC\r\n"
     ]
    }
   ],
   "source": [
    "! head -n 10 $INNER_BARCODES_plate1"
   ]
  },
  {
   "cell_type": "code",
   "execution_count": 6,
   "metadata": {},
   "outputs": [
    {
     "name": "stdout",
     "output_type": "stream",
     "text": [
      "SLH_AL_0101-contemp\tCCGAAT\tCTAACG\r",
      "\r\n",
      "SLH_AL_0012-contemp\tTTAGGCA\tCTAACG\r",
      "\r\n",
      "SLH_AL_0095-contemp\tAACTCGTC\tCTAACG\r",
      "\r\n",
      "SLH_AL_0072-contemp\tGGTCTACGT\tCTAACG\r",
      "\r\n",
      "SLH_AL_0064-contemp\tGATACC\tCTAACG\r",
      "\r\n",
      "SLH_AL_0077-contemp\tAGCGTTG\tCTAACG\r",
      "\r\n",
      "SLH_AL_0104-contemp\tCTGCAACT\tCTAACG\r",
      "\r\n",
      "SLH_AL_0036-contemp\tTCATGGTCA\tCTAACG\r",
      "\r\n",
      "SLH_AL_0090-contemp\tCCGAAT\tTCGGTAC\r",
      "\r\n",
      "SLH_AL_0027-contemp\tTTAGGCA\tTCGGTAC\r",
      "\r\n"
     ]
    }
   ],
   "source": [
    "! head -n 10 $INNER_BARCODES_plate2"
   ]
  },
  {
   "cell_type": "code",
   "execution_count": 7,
   "metadata": {},
   "outputs": [
    {
     "name": "stdout",
     "output_type": "stream",
     "text": [
      "New Assembly: demux_i7s\n",
      "Warning: technical replicates (same name) present.\n"
     ]
    }
   ],
   "source": [
    "# This is to demultiplex plate 1 from plate 2 when they were sequenced in Bendesky lab @ Columbia in eary 2019\n",
    "demux_outer1 = ip.Assembly(\"demux_i7s\")\n",
    "demux_outer1.params.project_dir = \"/moto/eaton/users/slh2181/tuberculatus_plate/ipyrad\"\n",
    "demux_outer1.params.barcodes_path = BARCODES_I7_plate12\n",
    "demux_outer1.params.raw_fastq_path = COL_plates\n",
    "demux_outer1.params.datatype = \"pairddrad\"\n",
    "demux_outer1.params.restriction_overhang = (\"ATCGG\", \"TAGCTT\")\n",
    "\n",
    "# important: set hackers params to tell it to demux on i7 \n",
    "demux_outer1.hackersonly.demultiplex_on_i7_tags = True\n",
    "demux_outer1.hackersonly.merge_technical_replicates = True"
   ]
  },
  {
   "cell_type": "code",
   "execution_count": 9,
   "metadata": {},
   "outputs": [
    {
     "name": "stdout",
     "output_type": "stream",
     "text": [
      "Parallel connection | t103: 24 cores\n",
      "Warning: technical replicates (same name) present.\n",
      "[####################] 100% 0:36:18 | sorting reads        | s1 |\n",
      "[####################] 100% 0:05:22 | writing/compressing  | s1 |\n"
     ]
    }
   ],
   "source": [
    "# run demultiplexing, this takes ~40 mins with 24 cores\n",
    "demux_outer1.run('1', auto=True, force=True)"
   ]
  },
  {
   "cell_type": "code",
   "execution_count": 10,
   "metadata": {},
   "outputs": [
    {
     "data": {
      "text/html": [
       "<div>\n",
       "<style scoped>\n",
       "    .dataframe tbody tr th:only-of-type {\n",
       "        vertical-align: middle;\n",
       "    }\n",
       "\n",
       "    .dataframe tbody tr th {\n",
       "        vertical-align: top;\n",
       "    }\n",
       "\n",
       "    .dataframe thead th {\n",
       "        text-align: right;\n",
       "    }\n",
       "</style>\n",
       "<table border=\"1\" class=\"dataframe\">\n",
       "  <thead>\n",
       "    <tr style=\"text-align: right;\">\n",
       "      <th></th>\n",
       "      <th>state</th>\n",
       "      <th>reads_raw</th>\n",
       "    </tr>\n",
       "  </thead>\n",
       "  <tbody>\n",
       "    <tr>\n",
       "      <th>plate1</th>\n",
       "      <td>1</td>\n",
       "      <td>71586332</td>\n",
       "    </tr>\n",
       "    <tr>\n",
       "      <th>plate2</th>\n",
       "      <td>1</td>\n",
       "      <td>25966588</td>\n",
       "    </tr>\n",
       "  </tbody>\n",
       "</table>\n",
       "</div>"
      ],
      "text/plain": [
       "        state  reads_raw\n",
       "plate1      1   71586332\n",
       "plate2      1   25966588"
      ]
     },
     "execution_count": 10,
     "metadata": {},
     "output_type": "execute_result"
    }
   ],
   "source": [
    "# show demux i7 stats\n",
    "demux_outer1.stats"
   ]
  },
  {
   "cell_type": "code",
   "execution_count": 4,
   "metadata": {},
   "outputs": [
    {
     "name": "stdout",
     "output_type": "stream",
     "text": [
      "New Assembly: demux_tub\n"
     ]
    }
   ],
   "source": [
    "# This is to demultiplex A. tuberculatus from Peducularis plates that were sequenced at Admera in Nov 2019\n",
    "demux_outer2 = ip.Assembly(\"demux_tub\")\n",
    "demux_outer2.params.project_dir = \"/moto/eaton/users/slh2181/tuberculatus_plate/ipyrad\"\n",
    "demux_outer2.params.barcodes_path = BARCODES_I7_tuberculatus\n",
    "demux_outer2.params.raw_fastq_path = TUB_plate\n",
    "demux_outer2.params.datatype = \"pairddrad\"\n",
    "#demux_outer2.params.restriction_overhang = (\"ATCGG\", \"TAGCTT\") #Pedicularis is different and this shouldn't be needed\n",
    "\n",
    "# important: set hackers params to tell it to demux on i7 \n",
    "demux_outer2.hackersonly.demultiplex_on_i7_tags = True\n",
    "demux_outer2.hackersonly.merge_technical_replicates = True   #use this if you have the same sample with different barcodes"
   ]
  },
  {
   "cell_type": "code",
   "execution_count": 5,
   "metadata": {},
   "outputs": [
    {
     "data": {
      "text/plain": [
       "0   assembly_name               demux_tub                                    \n",
       "1   project_dir                 ./ipyrad                                     \n",
       "2   raw_fastq_path              ./Run_191713587/bcl2fastq2/Undetermined_S0_R*_001.fastq.gz\n",
       "3   barcodes_path               ./ipyrad/i7_barcodes_tub.txt                 \n",
       "4   sorted_fastq_path                                                        \n",
       "5   assembly_method             denovo                                       \n",
       "6   reference_sequence                                                       \n",
       "7   datatype                    pairddrad                                    \n",
       "8   restriction_overhang        ('TGCAG', '')                                \n",
       "9   max_low_qual_bases          5                                            \n",
       "10  phred_Qscore_offset         33                                           \n",
       "11  mindepth_statistical        6                                            \n",
       "12  mindepth_majrule            6                                            \n",
       "13  maxdepth                    10000                                        \n",
       "14  clust_threshold             0.85                                         \n",
       "15  max_barcode_mismatch        0                                            \n",
       "16  filter_adapters             0                                            \n",
       "17  filter_min_trim_len         35                                           \n",
       "18  max_alleles_consens         2                                            \n",
       "19  max_Ns_consens              0.05                                         \n",
       "20  max_Hs_consens              0.05                                         \n",
       "21  min_samples_locus           4                                            \n",
       "22  max_SNPs_locus              0.2                                          \n",
       "23  max_Indels_locus            8                                            \n",
       "24  max_shared_Hs_locus         0.5                                          \n",
       "25  trim_reads                  (0, 0, 0, 0)                                 \n",
       "26  trim_loci                   (0, 0, 0, 0)                                 \n",
       "27  output_formats              ['p', 's', 'l']                              \n",
       "28  pop_assign_file                                                          \n",
       "29  reference_as_filter                                                      "
      ]
     },
     "execution_count": 5,
     "metadata": {},
     "output_type": "execute_result"
    }
   ],
   "source": [
    "demux_outer2.params"
   ]
  },
  {
   "cell_type": "code",
   "execution_count": 6,
   "metadata": {},
   "outputs": [
    {
     "name": "stdout",
     "output_type": "stream",
     "text": [
      "Parallel connection | t103: 24 cores\n",
      "[####################] 100% 0:36:14 | chunking large files | s1 | s1 |\n",
      "[####################] 100% 0:17:07 | sorting reads        | s1 |\n",
      "[####################] 100% 0:15:27 | writing/compressing  | s1 |\n"
     ]
    }
   ],
   "source": [
    "# run demultiplexing, this takes 60 mins\n",
    "demux_outer2.run('1', auto=True, force=True)"
   ]
  },
  {
   "cell_type": "code",
   "execution_count": 7,
   "metadata": {},
   "outputs": [
    {
     "data": {
      "text/html": [
       "<div>\n",
       "<style scoped>\n",
       "    .dataframe tbody tr th:only-of-type {\n",
       "        vertical-align: middle;\n",
       "    }\n",
       "\n",
       "    .dataframe tbody tr th {\n",
       "        vertical-align: top;\n",
       "    }\n",
       "\n",
       "    .dataframe thead th {\n",
       "        text-align: right;\n",
       "    }\n",
       "</style>\n",
       "<table border=\"1\" class=\"dataframe\">\n",
       "  <thead>\n",
       "    <tr style=\"text-align: right;\">\n",
       "      <th></th>\n",
       "      <th>state</th>\n",
       "      <th>reads_raw</th>\n",
       "    </tr>\n",
       "  </thead>\n",
       "  <tbody>\n",
       "    <tr>\n",
       "      <th>Amaranthus_tuberculatus_3RAD</th>\n",
       "      <td>1</td>\n",
       "      <td>133729311</td>\n",
       "    </tr>\n",
       "    <tr>\n",
       "      <th>MIGseq1a</th>\n",
       "      <td>1</td>\n",
       "      <td>45608</td>\n",
       "    </tr>\n",
       "    <tr>\n",
       "      <th>MIGseq1b</th>\n",
       "      <td>1</td>\n",
       "      <td>46139</td>\n",
       "    </tr>\n",
       "    <tr>\n",
       "      <th>MIGseq1c</th>\n",
       "      <td>1</td>\n",
       "      <td>46716</td>\n",
       "    </tr>\n",
       "    <tr>\n",
       "      <th>MIGseq1d</th>\n",
       "      <td>1</td>\n",
       "      <td>40656</td>\n",
       "    </tr>\n",
       "    <tr>\n",
       "      <th>MIGseq1e</th>\n",
       "      <td>1</td>\n",
       "      <td>44530</td>\n",
       "    </tr>\n",
       "    <tr>\n",
       "      <th>MIGseq1f</th>\n",
       "      <td>1</td>\n",
       "      <td>44527</td>\n",
       "    </tr>\n",
       "    <tr>\n",
       "      <th>MIGseq1g</th>\n",
       "      <td>1</td>\n",
       "      <td>59566</td>\n",
       "    </tr>\n",
       "    <tr>\n",
       "      <th>MIGseq1h</th>\n",
       "      <td>1</td>\n",
       "      <td>39801</td>\n",
       "    </tr>\n",
       "    <tr>\n",
       "      <th>MIGseq2a</th>\n",
       "      <td>1</td>\n",
       "      <td>42456</td>\n",
       "    </tr>\n",
       "    <tr>\n",
       "      <th>MIGseq2b</th>\n",
       "      <td>1</td>\n",
       "      <td>44795</td>\n",
       "    </tr>\n",
       "    <tr>\n",
       "      <th>MIGseq2c</th>\n",
       "      <td>1</td>\n",
       "      <td>33600</td>\n",
       "    </tr>\n",
       "    <tr>\n",
       "      <th>MIGseq2d</th>\n",
       "      <td>1</td>\n",
       "      <td>42055</td>\n",
       "    </tr>\n",
       "    <tr>\n",
       "      <th>MIGseq2e</th>\n",
       "      <td>1</td>\n",
       "      <td>43975</td>\n",
       "    </tr>\n",
       "    <tr>\n",
       "      <th>MIGseq2f</th>\n",
       "      <td>1</td>\n",
       "      <td>39371</td>\n",
       "    </tr>\n",
       "    <tr>\n",
       "      <th>MIGseq2g</th>\n",
       "      <td>1</td>\n",
       "      <td>46674</td>\n",
       "    </tr>\n",
       "    <tr>\n",
       "      <th>MIGseq2h</th>\n",
       "      <td>1</td>\n",
       "      <td>46363</td>\n",
       "    </tr>\n",
       "    <tr>\n",
       "      <th>Pedicularis_plate1</th>\n",
       "      <td>1</td>\n",
       "      <td>198248811</td>\n",
       "    </tr>\n",
       "    <tr>\n",
       "      <th>Pedicularis_plate2</th>\n",
       "      <td>1</td>\n",
       "      <td>119356646</td>\n",
       "    </tr>\n",
       "  </tbody>\n",
       "</table>\n",
       "</div>"
      ],
      "text/plain": [
       "                              state  reads_raw\n",
       "Amaranthus_tuberculatus_3RAD      1  133729311\n",
       "MIGseq1a                          1      45608\n",
       "MIGseq1b                          1      46139\n",
       "MIGseq1c                          1      46716\n",
       "MIGseq1d                          1      40656\n",
       "MIGseq1e                          1      44530\n",
       "MIGseq1f                          1      44527\n",
       "MIGseq1g                          1      59566\n",
       "MIGseq1h                          1      39801\n",
       "MIGseq2a                          1      42456\n",
       "MIGseq2b                          1      44795\n",
       "MIGseq2c                          1      33600\n",
       "MIGseq2d                          1      42055\n",
       "MIGseq2e                          1      43975\n",
       "MIGseq2f                          1      39371\n",
       "MIGseq2g                          1      46674\n",
       "MIGseq2h                          1      46363\n",
       "Pedicularis_plate1                1  198248811\n",
       "Pedicularis_plate2                1  119356646"
      ]
     },
     "execution_count": 7,
     "metadata": {},
     "output_type": "execute_result"
    }
   ],
   "source": [
    "# show demux i7 stats \n",
    "demux_outer2.stats\n",
    "#Amaranthus_tuberculatus_3RAD\t1\t133729311"
   ]
  },
  {
   "cell_type": "code",
   "execution_count": 3,
   "metadata": {},
   "outputs": [],
   "source": [
    "RAW_DATA_UGA =    \"/moto/eaton/projects/RAW_DATA/Amaranthus/Amaranthus_UGA_3RAD_*.gz\"\n",
    "RAW_DATA_plate1 = \"/moto/eaton/users/slh2181/tuberculatus_plate/ipyrad/demux_i7s_fastqs/plate1_*.gz\"\n",
    "RAW_DATA_plate2 = \"/moto/eaton/users/slh2181/tuberculatus_plate/ipyrad/demux_i7s_fastqs/plate2_*.gz\"\n",
    "RAW_DATA_plate3 = \"/moto/eaton/users/slh2181/tuberculatus_plate/ipyrad/demux_tub_fastqs/Amaranthus_*.gz\""
   ]
  },
  {
   "cell_type": "code",
   "execution_count": 4,
   "metadata": {},
   "outputs": [
    {
     "name": "stdout",
     "output_type": "stream",
     "text": [
      "extracted 281471 reads\n",
      "extracted 110308 reads\n"
     ]
    }
   ],
   "source": [
    "# digest the quinoa genome and write as fastq data\n",
    "dg = ipa.digest_genome(\n",
    "    fasta=\"/moto/eaton/projects/demux/quinoa.fna.gz\",\n",
    "    name=\"quinoa\",\n",
    "    workdir=\"/moto/eaton/users/slh2181/tuberculatus_plate/ipyrad/quinoa4\",\n",
    "    re1=\"AAGCTT\",\n",
    "    re2=\"CCGG\",\n",
    "    paired=True,\n",
    "    min_size=200,\n",
    "    max_size=1000,\n",
    "    ncopies=10,\n",
    "    readlen=150,\n",
    "    #nscaffolds=20,\n",
    ")\n",
    "dg.run()\n",
    "\n",
    "\n",
    "# digest the quinoa genome and write as fastq data\n",
    "dg2 = ipa.digest_genome(\n",
    "    fasta=\"/moto/eaton/users/slh2181/reference/beet/GCF_000511025.2_RefBeet-1.2.2_genomic.fna.gz\",\n",
    "    name=\"beet\",\n",
    "    workdir=\"/moto/eaton/users/slh2181/tuberculatus_plate/ipyrad/beet4\",\n",
    "    re1=\"AAGCTT\",\n",
    "    re2=\"CCGG\",\n",
    "    paired=True,\n",
    "    min_size=200,\n",
    "    max_size=1000,\n",
    "    ncopies=10,\n",
    "    readlen=150,\n",
    "    #nscaffolds=20,\n",
    ")\n",
    "dg2.run()"
   ]
  },
  {
   "cell_type": "code",
   "execution_count": 5,
   "metadata": {},
   "outputs": [
    {
     "name": "stdout",
     "output_type": "stream",
     "text": [
      "New Assembly: quinoa\n",
      "New Assembly: beet\n",
      "Parallel connection | t103: 24 cores\n",
      "[####################] 100% 0:00:14 | loading reads        | s1 |\n",
      "Parallel connection | t103: 24 cores\n",
      "[####################] 100% 0:00:04 | loading reads        | s1 |\n"
     ]
    }
   ],
   "source": [
    "lib5 = ip.Assembly(\"quinoa\")              #This is quinoa digested reference\n",
    "lib5.params.sorted_fastq_path = \"/moto/eaton/users/slh2181/tuberculatus_plate/ipyrad/quinoa4/quinoa_*.gz\"\n",
    "lib5.params.datatype = \"pair3rad\"\n",
    "lib5.params.project_dir = \"/moto/eaton/users/slh2181/tuberculatus_plate/ipyrad/quinoa_ref4\"\n",
    "lib5.params.restriction_overhang = (\"ATCGG\", \"TAGCTT\")\n",
    "\n",
    "\n",
    "lib6 = ip.Assembly(\"beet\")              #This is beet digested reference\n",
    "lib6.params.sorted_fastq_path = \"/moto/eaton/users/slh2181/tuberculatus_plate/ipyrad/beet4/beet*.gz\"\n",
    "lib6.params.datatype = \"pair3rad\"\n",
    "lib6.params.project_dir = \"/moto/eaton/users/slh2181/tuberculatus_plate/ipyrad/beet_ref4\"\n",
    "lib6.params.restriction_overhang = (\"ATCGG\", \"TAGCTT\")\n",
    "\n",
    "\n",
    "lib5.run('1', force=True, ipyclient=ipyclient)\n",
    "lib6.run('1', force=True, ipyclient=ipyclient)"
   ]
  },
  {
   "cell_type": "code",
   "execution_count": null,
   "metadata": {
    "scrolled": false
   },
   "outputs": [
    {
     "name": "stdout",
     "output_type": "stream",
     "text": [
      "New Assembly: UGA_plate1\n",
      "New Assembly: Columbia_plate1\n",
      "New Assembly: Columbia_contemp\n",
      "New Assembly: tuberculatus\n",
      "Parallel connection | t103: 24 cores\n",
      "[####################] 100% 0:01:13 | sorting reads        | s1 |\n",
      "[####################] 100% 0:00:13 | writing/compressing  | s1 |\n",
      "Parallel connection | t103: 24 cores\n",
      "[                    ]   0% 0:04:46 | sorting reads        | s1 |"
     ]
    }
   ],
   "source": [
    "# load each library from i7-demux'd fastq files\n",
    "lib1 = ip.Assembly(\"UGA_plate1\")          #This is UGA\n",
    "lib1.params.raw_fastq_path = RAW_DATA_UGA\n",
    "lib1.params.barcodes_path = INNER_BARCODES_plate1\n",
    "lib1.params.datatype = \"pair3rad\"\n",
    "lib1.params.project_dir = \"/moto/eaton/users/slh2181/tuberculatus_plate/ipyrad/\"\n",
    "lib1.params.max_barcode_mismatch = 1\n",
    "lib1.params.restriction_overhang = (\"ATCGG\", \"TAGCTT\")\n",
    "\n",
    "lib2 = ip.Assembly(\"Columbia_plate1\")     #This is Columbia plate 1\n",
    "lib2.params.raw_fastq_path = RAW_DATA_plate1\n",
    "lib2.params.barcodes_path = INNER_BARCODES_plate1\n",
    "lib2.params.datatype = \"pair3rad\"\n",
    "lib2.params.project_dir = \"/moto/eaton/users/slh2181/tuberculatus_plate/ipyrad\"\n",
    "lib2.params.max_barcode_mismatch = 1\n",
    "lib2.params.restriction_overhang = (\"ATCGG\", \"TAGCTT\")\n",
    "\n",
    "lib3 = ip.Assembly(\"Columbia_contemp\")     #This is Columbia (half) plate 2\n",
    "lib3.params.raw_fastq_path = RAW_DATA_plate2\n",
    "lib3.params.barcodes_path = INNER_BARCODES_plate2\n",
    "lib3.params.datatype = \"pair3rad\"\n",
    "lib3.params.project_dir = \"/moto/eaton/users/slh2181/tuberculatus_plate/ipyrad\"\n",
    "lib3.params.max_barcode_mismatch = 1\n",
    "lib3.params.restriction_overhang = (\"ATCGG\", \"TAGCTT\")\n",
    "\n",
    "lib4 = ip.Assembly(\"tuberculatus\")         #This is tuberculatus plate\n",
    "lib4.params.raw_fastq_path = RAW_DATA_plate3\n",
    "lib4.params.barcodes_path = INNER_BARCODES_plate3\n",
    "lib4.params.datatype = \"pair3rad\"\n",
    "lib4.params.project_dir = \"/moto/eaton/users/slh2181/tuberculatus_plate/ipyrad\"\n",
    "lib4.params.max_barcode_mismatch = 1\n",
    "lib4.params.restriction_overhang = (\"ATCGG\", \"TAGCTT\")\n",
    "\n",
    "#lib5 = ip.Assembly(\"quinoa\")              #This is quinoa digested reference\n",
    "#lib5.params.sorted_fastq_path = QUINOA\n",
    "#lib5.params.datatype = \"pair3rad\"\n",
    "#lib5.params.project_dir = \"/moto/eaton/users/slh2181/tuberculatus_plate/ipyrad\"\n",
    "#lib5.params.restriction_overhang = (\"ATCGG\", \"TAGCTT\")\n",
    "\n",
    "\n",
    "# run step 1 to sort/load fastq files \n",
    "lib1.run('1', force=True, ipyclient=ipyclient)  #2 mins\n",
    "lib2.run('1', force=True, ipyclient=ipyclient)  #half hr\n",
    "lib3.run('1', force=True, ipyclient=ipyclient)  #10 mins\n",
    "lib4.run('1', force=True, ipyclient=ipyclient)  #1 hr\n",
    "#lib5.run('1', force=True, ipyclient=ipyclient)"
   ]
  },
  {
   "cell_type": "code",
   "execution_count": null,
   "metadata": {},
   "outputs": [],
   "source": [
    "# load accession:species dataframe\n",
    "spnames = pd.read_csv(\"/moto/eaton/users/slh2181/tuberculatus_plate/ipyrad/Amaranth_sample_names_tub.csv\")\n",
    "\n",
    "# subset only rows with species names not empty\n",
    "spnames = spnames[spnames.Species.notna()]\n",
    "\n",
    "# convert dataframe to a dictionary \n",
    "ndict = {spnames.Sample[i]: spnames.Species[i] for i in spnames.index}\n",
    "\n",
    "# combine id and spp name into one long name\n",
    "for key, value in ndict.items():\n",
    "    ndict[key] = value + \"_\" + key"
   ]
  },
  {
   "cell_type": "code",
   "execution_count": null,
   "metadata": {},
   "outputs": [],
   "source": [
    "# create a merged assembly\n",
    "merged = ip.merge(\n",
    "    name=\"229_samp_quinoa_beet2\", \n",
    "    assemblies=[lib1, lib2, lib3, lib4, lib5, lib6],\n",
    "    rename_dict=ndict,\n",
    "    )\n",
    "merged.save()"
   ]
  },
  {
   "cell_type": "code",
   "execution_count": null,
   "metadata": {},
   "outputs": [],
   "source": [
    "# set params on this assembly\n",
    "merged.params.project_dir = \"/moto/eaton/users/slh2181/tuberculatus_plate/ipyrad/\"\n",
    "merged.params.assembly_method = \"reference\"\n",
    "merged.params.reference_sequence = REF1\n",
    "merged.params.restriction_overhang = (\"ATCGG\", \"TAGCTT\")\n",
    "merged.params.datatype = \"pair3rad\"\n",
    "merged.params.phred_Qscore_offset = 43\n",
    "merged.params.filter_adapters = 3\n",
    "merged.params.mindepth_majrule = 3\n",
    "merged.params.mindepth_statistical = 6\n",
    "merged.params.max_barcode_mismatch = 1\n",
    "merged.params.min_samples_locus = 10\n",
    "merged.params.max_Ns_consens = 0.07\n",
    "merged.params.max_Hs_consens = 0.07\n",
    "merged.params.max_Indels_locus = 10\n",
    "merged.params.output_formats = \"psl\"\n",
    "merged.params"
   ]
  },
  {
   "cell_type": "code",
   "execution_count": null,
   "metadata": {
    "scrolled": true
   },
   "outputs": [],
   "source": [
    "merged.run(\"234567\", force=True, ipyclient=ipyclient)"
   ]
  },
  {
   "cell_type": "code",
   "execution_count": 15,
   "metadata": {},
   "outputs": [
    {
     "data": {
      "text/plain": [
       "reference                    False\n",
       "acanthochiton_SLH_AL_0001    False\n",
       "acanthochiton_SLH_AL_0002    False\n",
       "acutilobus_SLH_AL_0003       False\n",
       "acutilobus_SLH_AL_0004       False\n",
       "                             ...  \n",
       "viridis_SLH_AL_3047          False\n",
       "viridis_SLH_AL_3062          False\n",
       "watsonii_SLH_AL_3065         False\n",
       "wrightii_SLH_AL_3066         False\n",
       "wrightii_SLH_AL_3067         False\n",
       "Name: sample_coverage, Length: 231, dtype: bool"
      ]
     },
     "execution_count": 15,
     "metadata": {},
     "output_type": "execute_result"
    }
   ],
   "source": [
    "merged.stats_dfs.s7_samples.sample_coverage < 5000"
   ]
  },
  {
   "cell_type": "code",
   "execution_count": 29,
   "metadata": {},
   "outputs": [
    {
     "data": {
      "text/plain": [
       "['beet',\n",
       " 'blitoides_SLH_AL_0023',\n",
       " 'cannabinus_SLH_AL_0042',\n",
       " 'quinoa',\n",
       " 'unknown_SLH_AL_0055-contemp',\n",
       " 'unknown_SLH_AL_0062-contemp']"
      ]
     },
     "execution_count": 29,
     "metadata": {},
     "output_type": "execute_result"
    }
   ],
   "source": [
    "mask = merged.stats_dfs.s7_samples.sample_coverage < 4000\n",
    "lose = merged.stats_dfs.s7_samples[mask].index.tolist()\n",
    "lose"
   ]
  },
  {
   "cell_type": "markdown",
   "metadata": {},
   "source": [
    "#### Although I did not use the assembly above, this shows that quinoa has too few loci, and lead to removing quinoa in notebook 3. "
   ]
  }
 ],
 "metadata": {
  "kernelspec": {
   "display_name": "Python 3",
   "language": "python",
   "name": "python3"
  },
  "language_info": {
   "codemirror_mode": {
    "name": "ipython",
    "version": 3
   },
   "file_extension": ".py",
   "mimetype": "text/x-python",
   "name": "python",
   "nbconvert_exporter": "python",
   "pygments_lexer": "ipython3",
   "version": "3.7.9"
  }
 },
 "nbformat": 4,
 "nbformat_minor": 2
}
