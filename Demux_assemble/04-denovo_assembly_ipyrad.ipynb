{
 "cells": [
  {
   "cell_type": "markdown",
   "metadata": {},
   "source": [
    "## Assemble reads *de novo* as another check to see if the Amaranthus hypochondriacus ingroup reference genome causes a bias. \n",
    "remove quinoa as an outgroup"
   ]
  },
  {
   "cell_type": "code",
   "execution_count": 1,
   "metadata": {},
   "outputs": [
    {
     "name": "stdout",
     "output_type": "stream",
     "text": [
      "ipyrad 0.9.41\n"
     ]
    }
   ],
   "source": [
    "# import packages into python\n",
    "import ipyrad as ip\n",
    "import ipyparallel as ipp\n",
    "import ipyrad.analysis as ipa\n",
    "import pandas as pd\n",
    "\n",
    "# print the version of ipyrad you are running\n",
    "print('ipyrad', ipa.__version__)"
   ]
  },
  {
   "cell_type": "code",
   "execution_count": 2,
   "metadata": {},
   "outputs": [],
   "source": [
    "#Read in data and barcodes that are already created\n",
    "\n",
    "COL_plates = \"/moto/eaton/projects/RAW_DATA/Amaranthus/Amaranthus_COL_3RAD_run2_R*_.fastq.gz\"\n",
    "TUB_plate = \"/moto/eaton/users/slh2181/tuberculatus_plate/Run_191713587/bcl2fastq2/Undetermined_S0_R*_001.fastq.gz\"\n",
    "\n",
    "BARCODES_I7_plate12 = \"/moto/eaton/projects/RAW_DATA/Amaranthus/Amaranthus_COL_3RAD_run2_i7_barcodes.txt\"\n",
    "BARCODES_I7_tuberculatus = \"/moto/eaton/users/slh2181/tuberculatus_plate/ipyrad/i7_barcodes_tub.txt\"\n",
    "\n",
    "INNER_BARCODES_plate1 = \"/moto/eaton/users/slh2181/tuberculatus_plate/ipyrad/Amaranthus_UGA_3RAD_plate1_inline_barcodes.txt\"\n",
    "INNER_BARCODES_plate2 = \"/moto/eaton/projects/RAW_DATA/Amaranthus/Amaranthus_COL_3RAD_plate2_inline_barcodes.txt\"\n",
    "INNER_BARCODES_plate3 = \"/moto/eaton/users/slh2181/tuberculatus_plate/ipyrad/inner_barcodes_tub.txt\"\n",
    "\n",
    "# the reference Amaranthus genome\n",
    "REF1 = \"/moto/eaton/users/slh2181/reference/Ahypochondriacus_459_v2.0.fa\"\n",
    "\n",
    "# the reference Quinoa genome\n",
    "REF2 = \"/moto/eaton/projects/demux/quinoa.fna\""
   ]
  },
  {
   "cell_type": "code",
   "execution_count": 3,
   "metadata": {},
   "outputs": [],
   "source": [
    "RAW_DATA_UGA =    \"/moto/eaton/projects/RAW_DATA/Amaranthus/Amaranthus_UGA_3RAD_*.gz\"\n",
    "RAW_DATA_plate1 = \"/moto/eaton/users/slh2181/tuberculatus_plate/ipyrad/demux_i7s_fastqs/plate1_*.gz\"\n",
    "RAW_DATA_plate2 = \"/moto/eaton/users/slh2181/tuberculatus_plate/ipyrad/demux_i7s_fastqs/plate2_*.gz\"\n",
    "RAW_DATA_plate3 = \"/moto/eaton/users/slh2181/tuberculatus_plate/ipyrad/demux_tub_fastqs/Amaranthus_*.gz\""
   ]
  },
  {
   "cell_type": "code",
   "execution_count": 4,
   "metadata": {},
   "outputs": [
    {
     "name": "stdout",
     "output_type": "stream",
     "text": [
      "extracted 261106 reads\n"
     ]
    }
   ],
   "source": [
    "# digest the beet genome and write as fastq data\n",
    "dg2 = ipa.digest_genome(\n",
    "    fasta=\"/moto/eaton/users/slh2181/reference/GCF_000511025.2_RefBeet-1.2.2_genomic.fna.gz\",\n",
    "    name=\"beet\",\n",
    "    workdir=\"/moto/eaton/users/slh2181/tuberculatus_plate/ipyrad/beet\",\n",
    "    re1=\"AGCTT\",\n",
    "    re2=\"CGG\",\n",
    "    paired=True,\n",
    "    min_size=200,\n",
    "    max_size=1000,\n",
    "    ncopies=10,\n",
    "    readlen=150,\n",
    "    #nscaffolds=20,\n",
    ")\n",
    "dg2.run()"
   ]
  },
  {
   "cell_type": "code",
   "execution_count": 5,
   "metadata": {},
   "outputs": [
    {
     "name": "stdout",
     "output_type": "stream",
     "text": [
      "New Assembly: beet\n",
      "Parallel connection | t092: 24 cores\n",
      "[####################] 100% 0:00:18 | loading reads        | s1 |\n"
     ]
    }
   ],
   "source": [
    "lib6 = ip.Assembly(\"beet\")              #This is beet digested reference\n",
    "lib6.params.sorted_fastq_path = \"/moto/eaton/users/slh2181/tuberculatus_plate/ipyrad/beet/beet*.gz\"\n",
    "lib6.params.datatype = \"pair3rad\"\n",
    "lib6.params.project_dir = \"/moto/eaton/users/slh2181/tuberculatus_plate/ipyrad/beet_ref\"\n",
    "lib6.params.restriction_overhang = (\"ATCGG\", \"TAGCTT\")\n",
    "\n",
    "\n",
    "lib6.run('1', force=True, auto=True)"
   ]
  },
  {
   "cell_type": "code",
   "execution_count": null,
   "metadata": {
    "scrolled": false
   },
   "outputs": [
    {
     "name": "stdout",
     "output_type": "stream",
     "text": [
      "New Assembly: UGA_plate1\n",
      "New Assembly: Columbia_plate1\n",
      "New Assembly: Columbia_contemp\n",
      "New Assembly: tuberculatus\n",
      "Parallel connection | t092: 24 cores\n",
      "[####################] 100% 0:01:17 | sorting reads        | s1 |\n",
      "[####################] 100% 0:00:19 | writing/compressing  | s1 |\n",
      "Parallel connection | t092: 24 cores\n",
      "[                    ]   0% 0:07:59 | sorting reads        | s1 |"
     ]
    }
   ],
   "source": [
    "# load each library from i7-demux'd fastq files\n",
    "lib1 = ip.Assembly(\"UGA_plate1\")          #This is UGA\n",
    "lib1.params.raw_fastq_path = RAW_DATA_UGA\n",
    "lib1.params.barcodes_path = INNER_BARCODES_plate1\n",
    "lib1.params.datatype = \"pair3rad\"\n",
    "lib1.params.project_dir = \"/moto/eaton/users/slh2181/tuberculatus_plate/ipyrad/\"\n",
    "lib1.params.max_barcode_mismatch = 1\n",
    "lib1.params.restriction_overhang = (\"ATCGG\", \"TAGCTT\")\n",
    "\n",
    "lib2 = ip.Assembly(\"Columbia_plate1\")     #This is Columbia plate 1\n",
    "lib2.params.raw_fastq_path = RAW_DATA_plate1\n",
    "lib2.params.barcodes_path = INNER_BARCODES_plate1\n",
    "lib2.params.datatype = \"pair3rad\"\n",
    "lib2.params.project_dir = \"/moto/eaton/users/slh2181/tuberculatus_plate/ipyrad\"\n",
    "lib2.params.max_barcode_mismatch = 1\n",
    "lib2.params.restriction_overhang = (\"ATCGG\", \"TAGCTT\")\n",
    "\n",
    "lib3 = ip.Assembly(\"Columbia_contemp\")     #This is Columbia (half) plate 2\n",
    "lib3.params.raw_fastq_path = RAW_DATA_plate2\n",
    "lib3.params.barcodes_path = INNER_BARCODES_plate2\n",
    "lib3.params.datatype = \"pair3rad\"\n",
    "lib3.params.project_dir = \"/moto/eaton/users/slh2181/tuberculatus_plate/ipyrad\"\n",
    "lib3.params.max_barcode_mismatch = 1\n",
    "lib3.params.restriction_overhang = (\"ATCGG\", \"TAGCTT\")\n",
    "\n",
    "lib4 = ip.Assembly(\"tuberculatus\")         #This is tuberculatus plate\n",
    "lib4.params.raw_fastq_path = RAW_DATA_plate3\n",
    "lib4.params.barcodes_path = INNER_BARCODES_plate3\n",
    "lib4.params.datatype = \"pair3rad\"\n",
    "lib4.params.project_dir = \"/moto/eaton/users/slh2181/tuberculatus_plate/ipyrad\"\n",
    "lib4.params.max_barcode_mismatch = 1\n",
    "lib4.params.restriction_overhang = (\"ATCGG\", \"TAGCTT\")\n",
    "\n",
    "# run step 1 to sort/load fastq files \n",
    "lib1.run('1', force=True, auto=True)  #2 mins\n",
    "lib2.run('1', force=True, auto=True)  #half hr\n",
    "lib3.run('1', force=True, auto=True)  #10 mins\n",
    "lib4.run('1', force=True, auto=True)  #1 hr"
   ]
  },
  {
   "cell_type": "code",
   "execution_count": 8,
   "metadata": {},
   "outputs": [],
   "source": [
    "# load accession:species dataframe\n",
    "spnames = pd.read_csv(\"/moto/eaton/users/slh2181/tuberculatus_plate/ipyrad/Amaranth_sample_names_tub.csv\")\n",
    "\n",
    "# subset only rows with species names not empty\n",
    "spnames = spnames[spnames.Species.notna()]\n",
    "\n",
    "# convert dataframe to a dictionary \n",
    "ndict = {spnames.Sample[i]: spnames.Species[i] for i in spnames.index}\n",
    "\n",
    "# combine id and spp name into one long name\n",
    "for key, value in ndict.items():\n",
    "    ndict[key] = value + \"_\" + key"
   ]
  },
  {
   "cell_type": "code",
   "execution_count": 9,
   "metadata": {},
   "outputs": [
    {
     "name": "stdout",
     "output_type": "stream",
     "text": [
      "New Assembly: 229_samp_beet\n"
     ]
    }
   ],
   "source": [
    "# create a merged assembly\n",
    "merged = ip.merge(\n",
    "    name=\"229_samp_beet\", \n",
    "    assemblies=[lib1, lib2, lib3, lib4, lib6],\n",
    "    rename_dict=ndict,\n",
    "    )\n",
    "merged.save()"
   ]
  },
  {
   "cell_type": "code",
   "execution_count": 10,
   "metadata": {},
   "outputs": [
    {
     "data": {
      "text/plain": [
       "0   assembly_name               229_samp_beet                                \n",
       "1   project_dir                 ./ipyrad                                     \n",
       "2   raw_fastq_path              Merged: UGA_plate1, Columbia_plate1, Columbia_contemp, tuberculatus, beet\n",
       "3   barcodes_path               Merged: UGA_plate1, Columbia_plate1, Columbia_contemp, tuberculatus, beet\n",
       "4   sorted_fastq_path           Merged: UGA_plate1, Columbia_plate1, Columbia_contemp, tuberculatus, beet\n",
       "5   assembly_method             reference                                    \n",
       "6   reference_sequence          /moto/eaton/users/slh2181/reference/Ahypochondriacus_459_v2.0.fa\n",
       "7   datatype                    pair3rad                                     \n",
       "8   restriction_overhang        ('ATCGG', 'TAGCTT')                          \n",
       "9   max_low_qual_bases          5                                            \n",
       "10  phred_Qscore_offset         43                                           \n",
       "11  mindepth_statistical        6                                            \n",
       "12  mindepth_majrule            3                                            \n",
       "13  maxdepth                    10000                                        \n",
       "14  clust_threshold             0.85                                         \n",
       "15  max_barcode_mismatch        1                                            \n",
       "16  filter_adapters             3                                            \n",
       "17  filter_min_trim_len         35                                           \n",
       "18  max_alleles_consens         2                                            \n",
       "19  max_Ns_consens              0.07                                         \n",
       "20  max_Hs_consens              0.07                                         \n",
       "21  min_samples_locus           10                                           \n",
       "22  max_SNPs_locus              0.2                                          \n",
       "23  max_Indels_locus            10                                           \n",
       "24  max_shared_Hs_locus         0.5                                          \n",
       "25  trim_reads                  (0, 0, 0, 0)                                 \n",
       "26  trim_loci                   (0, 0, 0, 0)                                 \n",
       "27  output_formats              ['p', 's', 'l']                              \n",
       "28  pop_assign_file                                                          \n",
       "29  reference_as_filter                                                      "
      ]
     },
     "execution_count": 10,
     "metadata": {},
     "output_type": "execute_result"
    }
   ],
   "source": [
    "# set params on this assembly\n",
    "merged.params.project_dir = \"/moto/eaton/users/slh2181/tuberculatus_plate/ipyrad/\"\n",
    "merged.params.assembly_method = \"reference\"\n",
    "merged.params.reference_sequence = REF1\n",
    "merged.params.restriction_overhang = (\"ATCGG\", \"TAGCTT\")\n",
    "merged.params.datatype = \"pair3rad\"\n",
    "merged.params.phred_Qscore_offset = 43\n",
    "merged.params.filter_adapters = 3\n",
    "merged.params.mindepth_majrule = 3\n",
    "merged.params.mindepth_statistical = 6\n",
    "merged.params.max_barcode_mismatch = 1\n",
    "merged.params.min_samples_locus = 10\n",
    "merged.params.max_Ns_consens = 0.07\n",
    "merged.params.max_Hs_consens = 0.07\n",
    "merged.params.max_Indels_locus = 10\n",
    "merged.params.output_formats = \"psl\"\n",
    "merged.hackersonly.max_inner_mate_distance = 1000\n",
    "\n",
    "merged.params"
   ]
  },
  {
   "cell_type": "code",
   "execution_count": 11,
   "metadata": {
    "scrolled": true
   },
   "outputs": [
    {
     "name": "stdout",
     "output_type": "stream",
     "text": [
      "Parallel connection | t092: 24 cores\n",
      "[####################] 100% 0:00:24 | concatenating inputs | s2 |\n",
      "[####################] 100% 0:38:49 | processing reads     | s2 |\n"
     ]
    }
   ],
   "source": [
    "merged.run(\"2\", force=True, auto=True)"
   ]
  },
  {
   "cell_type": "code",
   "execution_count": 2,
   "metadata": {},
   "outputs": [
    {
     "name": "stdout",
     "output_type": "stream",
     "text": [
      "loading Assembly: 229_samp_beet\n",
      "from saved path: /moto/eaton/users/slh2181/tuberculatus_plate/ipyrad/229_samp_beet.json\n"
     ]
    }
   ],
   "source": [
    "merged=ip.load_json(\"/moto/eaton/users/slh2181/tuberculatus_plate/ipyrad/229_samp_beet.json\")"
   ]
  },
  {
   "cell_type": "code",
   "execution_count": 3,
   "metadata": {},
   "outputs": [
    {
     "name": "stdout",
     "output_type": "stream",
     "text": [
      "Parallel connection | t032: 24 cores\n",
      "[####################] 100% 0:00:08 | indexing reference   | s3 |\n",
      "[####################] 100% 0:03:38 | join unmerged pairs  | s3 |\n",
      "[####################] 100% 0:02:06 | dereplicating        | s3 |\n",
      "[####################] 100% 0:00:31 | splitting dereps     | s3 |\n",
      "[####################] 100% 0:33:27 | mapping reads        | s3 |\n",
      "[####################] 100% 0:46:33 | building clusters    | s3 |\n",
      "[####################] 100% 0:00:20 | calc cluster stats   | s3 |\n",
      "[####################] 100% 0:07:34 | inferring [H, E]     | s4 |\n",
      "[####################] 100% 0:00:20 | calculating depths   | s5 |\n",
      "[####################] 100% 0:00:40 | chunking clusters    | s5 |\n",
      "[####################] 100% 0:46:45 | consens calling      | s5 |\n",
      "[####################] 100% 0:05:23 | indexing alleles     | s5 |\n",
      "[####################] 100% 0:00:42 | concatenating bams   | s6 |\n",
      "[####################] 100% 0:00:14 | fetching regions     | s6 |\n",
      "[####################] 100% 0:00:26 | building database    | s6 |\n",
      "[####################] 100% 0:00:39 | applying filters     | s7 |\n",
      "[####################] 100% 0:22:00 | building arrays      | s7 |\n",
      "[####################] 100% 0:11:17 | writing conversions  | s7 |\n"
     ]
    }
   ],
   "source": [
    "merged.run(\"34567\", force=True, auto=True)"
   ]
  },
  {
   "cell_type": "code",
   "execution_count": 4,
   "metadata": {},
   "outputs": [
    {
     "name": "stdout",
     "output_type": "stream",
     "text": [
      "loading Assembly: 229_samp_beet\n",
      "from saved path: /moto/eaton/users/slh2181/tuberculatus_plate/ipyrad/229_samp_beet.json\n"
     ]
    },
    {
     "data": {
      "text/plain": [
       "0   assembly_name               229_samp_denovo                              \n",
       "1   project_dir                 ./ipyrad                                     \n",
       "2   raw_fastq_path              Merged: UGA_plate1, Columbia_plate1, Columbia_contemp, tuberculatus, beet\n",
       "3   barcodes_path               Merged: UGA_plate1, Columbia_plate1, Columbia_contemp, tuberculatus, beet\n",
       "4   sorted_fastq_path           Merged: UGA_plate1, Columbia_plate1, Columbia_contemp, tuberculatus, beet\n",
       "5   assembly_method             denovo                                       \n",
       "6   reference_sequence                                                       \n",
       "7   datatype                    pair3rad                                     \n",
       "8   restriction_overhang        ('ATCGG', 'TAGCTT')                          \n",
       "9   max_low_qual_bases          5                                            \n",
       "10  phred_Qscore_offset         43                                           \n",
       "11  mindepth_statistical        6                                            \n",
       "12  mindepth_majrule            3                                            \n",
       "13  maxdepth                    10000                                        \n",
       "14  clust_threshold             0.85                                         \n",
       "15  max_barcode_mismatch        1                                            \n",
       "16  filter_adapters             3                                            \n",
       "17  filter_min_trim_len         35                                           \n",
       "18  max_alleles_consens         2                                            \n",
       "19  max_Ns_consens              0.07                                         \n",
       "20  max_Hs_consens              0.07                                         \n",
       "21  min_samples_locus           10                                           \n",
       "22  max_SNPs_locus              0.2                                          \n",
       "23  max_Indels_locus            10                                           \n",
       "24  max_shared_Hs_locus         0.5                                          \n",
       "25  trim_reads                  (0, 0, 0, 0)                                 \n",
       "26  trim_loci                   (0, 0, 0, 0)                                 \n",
       "27  output_formats              ['p', 's', 'l']                              \n",
       "28  pop_assign_file                                                          \n",
       "29  reference_as_filter                                                      "
      ]
     },
     "execution_count": 4,
     "metadata": {},
     "output_type": "execute_result"
    }
   ],
   "source": [
    "merged = ip.load_json(\"/moto/eaton/users/slh2181/tuberculatus_plate/ipyrad/229_samp_beet.json\")\n",
    "denovo = merged.branch(\"229_samp_denovo\")\n",
    "denovo.params.assembly_method = \"denovo\"                \n",
    "denovo.params.reference_sequence = \"\"\n",
    "denovo.params"
   ]
  },
  {
   "cell_type": "code",
   "execution_count": null,
   "metadata": {},
   "outputs": [
    {
     "name": "stdout",
     "output_type": "stream",
     "text": [
      "Parallel connection | t032: 24 cores\n",
      "[####################] 100% 0:02:12 | join merged pairs    | s3 |\n",
      "[####################] 100% 0:01:34 | join unmerged pairs  | s3 |\n",
      "[####################] 100% 0:01:47 | dereplicating        | s3 |\n",
      "[####################] 100% 0:52:24 | clustering/mapping   | s3 |\n",
      "[####################] 100% 0:00:01 | building clusters    | s3 |\n",
      "[####################] 100% 0:00:00 | chunking clusters    | s3 |\n",
      "[####################] 100% 1:56:28 | aligning clusters    | s3 |\n",
      "[####################] 100% 0:02:19 | concat clusters      | s3 |\n",
      "[####################] 100% 0:00:21 | calc cluster stats   | s3 |\n",
      "[####################] 100% 0:01:48 | inferring [H, E]     | s4 |\n",
      "[####################] 100% 0:00:19 | calculating depths   | s5 |\n",
      "[####################] 100% 0:00:20 | chunking clusters    | s5 |\n",
      "[####################] 100% 0:28:28 | consens calling      | s5 |\n",
      "[####################] 100% 0:02:01 | indexing alleles     | s5 |\n",
      "[####################] 100% 0:01:06 | concatenating inputs | s6 |\n",
      "[#############       ]  66% 3:37:42 | clustering across    | s6 |"
     ]
    }
   ],
   "source": [
    "denovo.run(\"34567\", force=True, auto=True)"
   ]
  },
  {
   "cell_type": "code",
   "execution_count": 2,
   "metadata": {},
   "outputs": [
    {
     "name": "stdout",
     "output_type": "stream",
     "text": [
      "loading Assembly: 229_samp_denovo\n",
      "from saved path: /moto/eaton/users/slh2181/tuberculatus_plate/ipyrad/229_samp_denovo.json\n"
     ]
    },
    {
     "data": {
      "text/plain": [
       "0   assembly_name               229_samp_denovo                              \n",
       "1   project_dir                 ./ipyrad                                     \n",
       "2   raw_fastq_path              Merged: UGA_plate1, Columbia_plate1, Columbia_contemp, tuberculatus, beet\n",
       "3   barcodes_path               Merged: UGA_plate1, Columbia_plate1, Columbia_contemp, tuberculatus, beet\n",
       "4   sorted_fastq_path           Merged: UGA_plate1, Columbia_plate1, Columbia_contemp, tuberculatus, beet\n",
       "5   assembly_method             denovo                                       \n",
       "6   reference_sequence                                                       \n",
       "7   datatype                    pair3rad                                     \n",
       "8   restriction_overhang        ('ATCGG', 'TAGCTT')                          \n",
       "9   max_low_qual_bases          5                                            \n",
       "10  phred_Qscore_offset         43                                           \n",
       "11  mindepth_statistical        6                                            \n",
       "12  mindepth_majrule            3                                            \n",
       "13  maxdepth                    10000                                        \n",
       "14  clust_threshold             0.85                                         \n",
       "15  max_barcode_mismatch        1                                            \n",
       "16  filter_adapters             3                                            \n",
       "17  filter_min_trim_len         35                                           \n",
       "18  max_alleles_consens         2                                            \n",
       "19  max_Ns_consens              0.07                                         \n",
       "20  max_Hs_consens              0.07                                         \n",
       "21  min_samples_locus           10                                           \n",
       "22  max_SNPs_locus              0.2                                          \n",
       "23  max_Indels_locus            10                                           \n",
       "24  max_shared_Hs_locus         0.5                                          \n",
       "25  trim_reads                  (0, 0, 0, 0)                                 \n",
       "26  trim_loci                   (0, 0, 0, 0)                                 \n",
       "27  output_formats              ['p', 's', 'l']                              \n",
       "28  pop_assign_file                                                          \n",
       "29  reference_as_filter                                                      "
      ]
     },
     "execution_count": 2,
     "metadata": {},
     "output_type": "execute_result"
    }
   ],
   "source": [
    "denovo= ip.load_json(\"/moto/eaton/users/slh2181/tuberculatus_plate/ipyrad/229_samp_denovo.json\")\n",
    "denovo.params"
   ]
  },
  {
   "cell_type": "code",
   "execution_count": 3,
   "metadata": {},
   "outputs": [
    {
     "name": "stdout",
     "output_type": "stream",
     "text": [
      "Parallel connection | t103: 24 cores\n",
      "[####################] 100% 0:01:25 | concatenating inputs | s6 |\n",
      "[###########         ]  56% 2:56:26 | clustering across    | s6 |"
     ]
    },
    {
     "name": "stderr",
     "output_type": "stream",
     "text": [
      "IOPub message rate exceeded.\n",
      "The notebook server will temporarily stop sending output\n",
      "to the client in order to avoid crashing it.\n",
      "To change this limit, set the config variable\n",
      "`--NotebookApp.iopub_msg_rate_limit`.\n",
      "\n",
      "Current values:\n",
      "NotebookApp.iopub_msg_rate_limit=1000.0 (msgs/sec)\n",
      "NotebookApp.rate_limit_window=3.0 (secs)\n",
      "\n"
     ]
    },
    {
     "name": "stdout",
     "output_type": "stream",
     "text": [
      "[####################] 100% 5:27:21 | clustering across    | s6 |\n",
      "[####################] 100% 0:00:59 | building clusters    | s6 |\n",
      "[####################] 100% 0:20:43 | aligning clusters    | s6 |\n",
      "[####################] 100% 0:00:24 | applying filters     | s7 |\n",
      "[####################] 100% 0:05:12 | building arrays      | s7 |\n",
      "[####################] 100% 0:03:14 | writing conversions  | s7 |\n"
     ]
    }
   ],
   "source": [
    "denovo.run(\"67\", force=True, auto=True)"
   ]
  },
  {
   "cell_type": "markdown",
   "metadata": {},
   "source": [
    "### drop samples with the lowest # loci"
   ]
  },
  {
   "cell_type": "code",
   "execution_count": 14,
   "metadata": {},
   "outputs": [
    {
     "data": {
      "text/plain": [
       "reference                    False\n",
       "acanthochiton_SLH_AL_0001    False\n",
       "acanthochiton_SLH_AL_0002    False\n",
       "acutilobus_SLH_AL_0003       False\n",
       "acutilobus_SLH_AL_0004       False\n",
       "                             ...  \n",
       "viridis_SLH_AL_3047          False\n",
       "viridis_SLH_AL_3062          False\n",
       "watsonii_SLH_AL_3065         False\n",
       "wrightii_SLH_AL_3066         False\n",
       "wrightii_SLH_AL_3067         False\n",
       "Name: sample_coverage, Length: 231, dtype: bool"
      ]
     },
     "execution_count": 14,
     "metadata": {},
     "output_type": "execute_result"
    }
   ],
   "source": [
    "merged.stats_dfs.s7_samples.sample_coverage < 5000"
   ]
  },
  {
   "cell_type": "code",
   "execution_count": 19,
   "metadata": {},
   "outputs": [
    {
     "data": {
      "text/plain": [
       "['cannabinus_SLH_AL_0042',\n",
       " 'unknown_SLH_AL_0055-contemp',\n",
       " 'unknown_SLH_AL_0062-contemp']"
      ]
     },
     "execution_count": 19,
     "metadata": {},
     "output_type": "execute_result"
    }
   ],
   "source": [
    "mask = merged.stats_dfs.s7_samples.sample_coverage < 1000\n",
    "lose = merged.stats_dfs.s7_samples[mask].index.tolist()\n",
    "lose"
   ]
  },
  {
   "cell_type": "code",
   "execution_count": 20,
   "metadata": {},
   "outputs": [
    {
     "data": {
      "text/plain": [
       "['reference',\n",
       " 'acanthochiton_SLH_AL_0001',\n",
       " 'acanthochiton_SLH_AL_0002',\n",
       " 'acutilobus_SLH_AL_0003',\n",
       " 'acutilobus_SLH_AL_0004',\n",
       " 'albus_SLH_AL_0006',\n",
       " 'albus_SLH_AL_0009',\n",
       " 'albus_SLH_AL_0010',\n",
       " 'arenicola_SLH_AL_0012',\n",
       " 'arenicola_SLH_AL_0013',\n",
       " 'arenicola_SLH_AL_0015',\n",
       " 'arenicola_SLH_AL_0018',\n",
       " 'asplundii_SLH_AL_0019',\n",
       " 'australis_SLH_AL_0020',\n",
       " 'australis_SLH_AL_0021',\n",
       " 'beet',\n",
       " 'blitoides_SLH_AL_0023',\n",
       " 'blitoides_SLH_AL_0028',\n",
       " 'blitum-blitum_SLH_AL_0029',\n",
       " 'blitum-oleraceus_SLH_AL_0034',\n",
       " 'blitum-pseudogracilis_SLH_AL_0037',\n",
       " 'californicus_SLH_AL_0039',\n",
       " 'cannabinus_SLH_AL_0040',\n",
       " 'cannabinus_SLH_AL_0041',\n",
       " 'caudatus_SLH_AL_0102',\n",
       " 'caudatus_SLH_AL_0110',\n",
       " 'caudatus_SLH_AL_0116',\n",
       " 'caudatus_SLH_AL_0322',\n",
       " 'caudatus_SLH_AL_0540',\n",
       " 'crassipes_SLH_AL_0599',\n",
       " 'crassipes_SLH_AL_0600',\n",
       " 'cruentus_SLH_AL_0679',\n",
       " 'cruentus_SLH_AL_0699',\n",
       " 'cruentus_SLH_AL_0728',\n",
       " 'cruentus_SLH_AL_0804',\n",
       " 'cruentus_SLH_AL_0832',\n",
       " 'deflexus_SLH_AL_0951',\n",
       " 'deflexus_SLH_AL_0952',\n",
       " 'deflexus_SLH_AL_0953',\n",
       " 'deflexus_SLH_AL_0954',\n",
       " 'deflexus_SLH_AL_0955',\n",
       " 'dubius_SLH_AL_0965',\n",
       " 'dubius_SLH_AL_0979',\n",
       " 'dubius_SLH_AL_0992',\n",
       " 'fimbriatus_SLH_AL_0997',\n",
       " 'fimbriatus_SLH_AL_0998',\n",
       " 'floridanus_SLH_AL_1000',\n",
       " 'graecizans-aschersonianus_SLH_AL_1009',\n",
       " 'graecizans-silvestris_SLH_AL_1013',\n",
       " 'graecizans-thellungianus_SLH_AL_1014',\n",
       " 'greggii_SLH_AL_1015',\n",
       " 'greggii_SLH_AL_1016',\n",
       " 'hybridus_SLH_AL_0001-restricted',\n",
       " 'hybridus_SLH_AL_1060',\n",
       " 'hybridus_SLH_AL_1098',\n",
       " 'hybridus_SLH_AL_1099',\n",
       " 'hybridus_SLH_AL_1117',\n",
       " 'hypochondriacus_SLH_AL_1178',\n",
       " 'hypochondriacus_SLH_AL_1197',\n",
       " 'hypochondriacus_SLH_AL_1264',\n",
       " 'hypochondriacus_SLH_AL_1285',\n",
       " 'hypochondriacus_SLH_AL_2282',\n",
       " 'hypochondriacus_SLH_AL_2436',\n",
       " 'muricatus_SLH_AL_2634',\n",
       " 'palmeri-aff_SLH_AL_0017',\n",
       " 'palmeri_SLH_AL_159-contemp',\n",
       " 'palmeri_SLH_AL_163-contemp',\n",
       " 'palmeri_SLH_AL_173-contemp',\n",
       " 'palmeri_SLH_AL_174-contemp',\n",
       " 'palmeri_SLH_AL_235-contemp',\n",
       " 'palmeri_SLH_AL_2635',\n",
       " 'palmeri_SLH_AL_2636',\n",
       " 'palmeri_SLH_AL_2637',\n",
       " 'palmeri_SLH_AL_2638',\n",
       " 'palmeri_SLH_AL_2639',\n",
       " 'palmeri_SLH_AL_2640',\n",
       " 'palmeri_SLH_AL_2641',\n",
       " 'palmeri_SLH_AL_2642',\n",
       " 'palmeri_SLH_AL_2643',\n",
       " 'palmeri_SLH_AL_2644',\n",
       " 'palmeri_SLH_AL_2645',\n",
       " 'palmeri_SLH_AL_2646',\n",
       " 'palmeri_SLH_AL_2647',\n",
       " 'palmeri_SLH_AL_2649',\n",
       " 'palmeri_SLH_AL_2650',\n",
       " 'powellii-bouchonii_SLH_AL_2653',\n",
       " 'powellii-powellii_SLH_AL_2663',\n",
       " 'powellii-powellii_SLH_AL_2665',\n",
       " 'pumilus_SLH_AL_5-restricted',\n",
       " 'pumilus_SLH_AL_7-restricted',\n",
       " 'quinoa',\n",
       " 'quitensis_SLH_AL_2671',\n",
       " 'quitensis_SLH_AL_2675',\n",
       " 'quitensis_SLH_AL_2753',\n",
       " 'retroflexus_SLH_AL_2770',\n",
       " 'retroflexus_SLH_AL_2773',\n",
       " 'retroflexus_SLH_AL_2780',\n",
       " 'spinosus_SLH_AL_2792',\n",
       " 'spinosus_SLH_AL_2793',\n",
       " 'spinosus_SLH_AL_2806',\n",
       " 'spinosus_SLH_AL_2809',\n",
       " 'spinosus_SLH_AL_2811',\n",
       " 'standleyanus_SLH_AL_2815',\n",
       " 'standleyanus_SLH_AL_2816',\n",
       " 'tamaulipensis_SLH_AL_2817',\n",
       " 'torreyi_SLH_AL_2818',\n",
       " 'tricolor_SLH_AL_2869',\n",
       " 'tricolor_SLH_AL_2940',\n",
       " 'tricolor_SLH_AL_2953',\n",
       " 'tricolor_SLH_AL_2978',\n",
       " 'tuberculatus_SLH_AL_0009-restricted',\n",
       " 'tuberculatus_SLH_AL_154-contemp',\n",
       " 'tuberculatus_SLH_AL_155-contemp',\n",
       " 'tuberculatus_SLH_AL_156-contemp',\n",
       " 'tuberculatus_SLH_AL_157-contemp',\n",
       " 'tuberculatus_SLH_AL_160-contemp',\n",
       " 'tuberculatus_SLH_AL_165-contemp',\n",
       " 'tuberculatus_SLH_AL_169-contemp',\n",
       " 'tuberculatus_SLH_AL_175-contemp',\n",
       " 'tuberculatus_SLH_AL_176-contemp',\n",
       " 'tuberculatus_SLH_AL_202-contemp',\n",
       " 'tuberculatus_SLH_AL_206-contemp',\n",
       " 'tuberculatus_SLH_AL_208-contemp',\n",
       " 'tuberculatus_SLH_AL_236-contemp',\n",
       " 'tuberculatus_SLH_AL_237-contemp',\n",
       " 'tuberculatus_SLH_AL_2999',\n",
       " 'tuberculatus_SLH_AL_3000',\n",
       " 'tuberculatus_SLH_AL_3001',\n",
       " 'tuberculatus_SLH_AL_3002',\n",
       " 'tuberculatus_SLH_AL_3003',\n",
       " 'tuberculatus_SLH_AL_3004',\n",
       " 'tuberculatus_SLH_AL_3005',\n",
       " 'tuberculatus_SLH_AL_3006',\n",
       " 'tuberculatus_SLH_AL_3007',\n",
       " 'tuberculatus_SLH_AL_3008',\n",
       " 'tuberculatus_SLH_AL_3009',\n",
       " 'tuberculatus_SLH_AL_3010',\n",
       " 'tuberculatus_SLH_AL_3011',\n",
       " 'tuberculatus_SLH_AL_3012',\n",
       " 'tuberculatus_SLH_AL_3013',\n",
       " 'tuberculatus_SLH_AL_3014',\n",
       " 'tuberculatus_SLH_AL_3015',\n",
       " 'tuberculatus_SLH_AL_3016',\n",
       " 'tuberculatus_SLH_AL_3017',\n",
       " 'tuberculatus_SLH_AL_3018',\n",
       " 'tuberculatus_SLH_AL_3019',\n",
       " 'tuberculatus_SLH_AL_3020',\n",
       " 'tuberculatus_SLH_AL_3021',\n",
       " 'tuberculatus_SLH_AL_3022',\n",
       " 'tuberculatus_SLH_AL_3023',\n",
       " 'tuberculatus_SLH_AL_3024',\n",
       " 'tuberculatus_SLH_AL_3025',\n",
       " 'tuberculatus_SLH_AL_3026',\n",
       " 'tuberculatus_SLH_AL_3027',\n",
       " 'tuberculatus_SLH_AL_3028',\n",
       " 'tuberculatus_SLH_AL_3029',\n",
       " 'tuberculatus_SLH_AL_3030',\n",
       " 'tuberculatus_SLH_AL_3031',\n",
       " 'tuberculatus_SLH_AL_3032',\n",
       " 'tuberculatus_SLH_AL_3033',\n",
       " 'tuberculatus_SLH_AL_3034',\n",
       " 'tuberculatus_SLH_AL_3035',\n",
       " 'tuberculatus_SLH_AL_3036',\n",
       " 'tuberculatus_SLH_AL_3037',\n",
       " 'tuberculatus_SLH_AL_3038',\n",
       " 'tuberculatus_SLH_AL_3039',\n",
       " 'tuberculatus_SLH_AL_3041',\n",
       " 'tuberculatus_SLH_AL_3042',\n",
       " 'tuberculatus_SLH_AL_3043',\n",
       " 'tuberculatus_SLH_AL_3044',\n",
       " 'tuberculatus_SLH_AL_3045',\n",
       " 'tuberculatus_SLH_AL_3046',\n",
       " 'tucsonensis_SLH_AL_3068',\n",
       " 'unknown_SLH_AL_0002-contemp',\n",
       " 'unknown_SLH_AL_0007_contemp',\n",
       " 'unknown_SLH_AL_0008_contemp',\n",
       " 'unknown_SLH_AL_0009-contemp',\n",
       " 'unknown_SLH_AL_0010-contemp',\n",
       " 'unknown_SLH_AL_0012-contemp',\n",
       " 'unknown_SLH_AL_0013-contemp',\n",
       " 'unknown_SLH_AL_0014-contemp',\n",
       " 'unknown_SLH_AL_0018-contemp',\n",
       " 'unknown_SLH_AL_0024-contemp',\n",
       " 'unknown_SLH_AL_0025-contemp',\n",
       " 'unknown_SLH_AL_0026-contemp',\n",
       " 'unknown_SLH_AL_0027-contemp',\n",
       " 'unknown_SLH_AL_0028-contemp',\n",
       " 'unknown_SLH_AL_0030-contemp',\n",
       " 'unknown_SLH_AL_0032-contemp',\n",
       " 'unknown_SLH_AL_0034-contemp',\n",
       " 'unknown_SLH_AL_0036-contemp',\n",
       " 'unknown_SLH_AL_0042-contemp',\n",
       " 'unknown_SLH_AL_0048-contemp',\n",
       " 'unknown_SLH_AL_0063-contemp',\n",
       " 'unknown_SLH_AL_0064-contemp',\n",
       " 'unknown_SLH_AL_0067-contemp',\n",
       " 'unknown_SLH_AL_0069-contemp',\n",
       " 'unknown_SLH_AL_0072-contemp',\n",
       " 'unknown_SLH_AL_0077-contemp',\n",
       " 'unknown_SLH_AL_0078-contemp',\n",
       " 'unknown_SLH_AL_0079-contemp',\n",
       " 'unknown_SLH_AL_0080-contemp',\n",
       " 'unknown_SLH_AL_0083-contemp',\n",
       " 'unknown_SLH_AL_0084-contemp',\n",
       " 'unknown_SLH_AL_0086-contemp',\n",
       " 'unknown_SLH_AL_0087-contemp',\n",
       " 'unknown_SLH_AL_0088-contemp',\n",
       " 'unknown_SLH_AL_0090-contemp',\n",
       " 'unknown_SLH_AL_0092-contemp',\n",
       " 'unknown_SLH_AL_0095-contemp',\n",
       " 'unknown_SLH_AL_0096-contemp',\n",
       " 'unknown_SLH_AL_0098-contemp',\n",
       " 'unknown_SLH_AL_0100-contemp',\n",
       " 'unknown_SLH_AL_0101-contemp',\n",
       " 'unknown_SLH_AL_0104-contemp',\n",
       " 'unknown_SLH_AL_0105-contemp',\n",
       " 'unknown_SLH_AL_0106-contemp',\n",
       " 'unknown_SLH_AL_0108-contemp',\n",
       " 'unknown_SLH_AL_149-contemp',\n",
       " 'unknown_SLH_AL_150-contemp',\n",
       " 'unknown_SLH_AL_194-contemp',\n",
       " 'unknown_SLH_AL_212-contemp',\n",
       " 'unknown_SLH_AL_239-contemp',\n",
       " 'viridis_SLH_AL_3047',\n",
       " 'viridis_SLH_AL_3062',\n",
       " 'watsonii_SLH_AL_3065',\n",
       " 'wrightii_SLH_AL_3066',\n",
       " 'wrightii_SLH_AL_3067']"
      ]
     },
     "execution_count": 20,
     "metadata": {},
     "output_type": "execute_result"
    }
   ],
   "source": [
    "mask = merged.stats_dfs.s7_samples.sample_coverage > 1000\n",
    "keep = merged.stats_dfs.s7_samples[mask].index.tolist()\n",
    "keep"
   ]
  },
  {
   "cell_type": "code",
   "execution_count": 21,
   "metadata": {},
   "outputs": [
    {
     "data": {
      "text/plain": [
       "0   assembly_name               Good_samples_beet2                           \n",
       "1   project_dir                 ./ipyrad                                     \n",
       "2   raw_fastq_path              Merged: UGA_plate1, Columbia_plate1, Columbia_contemp, tuberculatus, quinoa, beet\n",
       "3   barcodes_path               Merged: UGA_plate1, Columbia_plate1, Columbia_contemp, tuberculatus, quinoa, beet\n",
       "4   sorted_fastq_path           Merged: UGA_plate1, Columbia_plate1, Columbia_contemp, tuberculatus, quinoa, beet\n",
       "5   assembly_method             reference                                    \n",
       "6   reference_sequence          /moto/eaton/users/slh2181/reference/Ahypochondriacus_459_v2.0.fa\n",
       "7   datatype                    pair3rad                                     \n",
       "8   restriction_overhang        ('ATCGG', 'TAGCTT')                          \n",
       "9   max_low_qual_bases          5                                            \n",
       "10  phred_Qscore_offset         43                                           \n",
       "11  mindepth_statistical        6                                            \n",
       "12  mindepth_majrule            3                                            \n",
       "13  maxdepth                    10000                                        \n",
       "14  clust_threshold             0.85                                         \n",
       "15  max_barcode_mismatch        1                                            \n",
       "16  filter_adapters             3                                            \n",
       "17  filter_min_trim_len         35                                           \n",
       "18  max_alleles_consens         2                                            \n",
       "19  max_Ns_consens              0.07                                         \n",
       "20  max_Hs_consens              0.07                                         \n",
       "21  min_samples_locus           10                                           \n",
       "22  max_SNPs_locus              0.2                                          \n",
       "23  max_Indels_locus            10                                           \n",
       "24  max_shared_Hs_locus         0.5                                          \n",
       "25  trim_reads                  (0, 0, 0, 0)                                 \n",
       "26  trim_loci                   (0, 0, 0, 0)                                 \n",
       "27  output_formats              ['p', 's', 'l']                              \n",
       "28  pop_assign_file                                                          \n",
       "29  reference_as_filter                                                      "
      ]
     },
     "execution_count": 21,
     "metadata": {},
     "output_type": "execute_result"
    }
   ],
   "source": [
    "new = merged.branch(\"Good_samples_beet2\", subsamples=keep)\n",
    "new.params"
   ]
  },
  {
   "cell_type": "code",
   "execution_count": 22,
   "metadata": {},
   "outputs": [
    {
     "name": "stdout",
     "output_type": "stream",
     "text": [
      "Parallel connection | t103: 24 cores\n",
      "[####################] 100% 0:00:35 | applying filters     | s7 |\n",
      "[####################] 100% 0:22:59 | building arrays      | s7 |\n",
      "[####################] 100% 0:09:26 | writing conversions  | s7 |\n"
     ]
    }
   ],
   "source": [
    "new.run(\"7\", force=True, ipyclient=ipyclient)"
   ]
  }
 ],
 "metadata": {
  "kernelspec": {
   "display_name": "Python 3",
   "language": "python",
   "name": "python3"
  },
  "language_info": {
   "codemirror_mode": {
    "name": "ipython",
    "version": 3
   },
   "file_extension": ".py",
   "mimetype": "text/x-python",
   "name": "python",
   "nbconvert_exporter": "python",
   "pygments_lexer": "ipython3",
   "version": "3.7.6"
  }
 },
 "nbformat": 4,
 "nbformat_minor": 2
}
